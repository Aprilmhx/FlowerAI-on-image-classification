{
 "cells": [
  {
   "cell_type": "markdown",
   "id": "5103e21d",
   "metadata": {},
   "source": [
    "# GPUs testing"
   ]
  },
  {
   "cell_type": "code",
   "execution_count": null,
   "id": "f9178257",
   "metadata": {},
   "outputs": [],
   "source": [
    "import torch\n",
    "print(torch.cuda.is_available())\n",
    "print(torch.cuda.device_count())\n",
    "device = torch.cuda.current_device()\n",
    "cuda = torch.device(\"cuda:0\")\n",
    "print(torch.cuda.nccl.version())"
   ]
  },
  {
   "cell_type": "markdown",
   "id": "aa6a5bab",
   "metadata": {},
   "source": [
    "# Federated learning"
   ]
  },
  {
   "cell_type": "code",
   "execution_count": 1,
   "id": "f83dcda1",
   "metadata": {},
   "outputs": [
    {
     "name": "stderr",
     "output_type": "stream",
     "text": [
      "2024-03-25 19:31:35.457087: W tensorflow/stream_executor/platform/default/dso_loader.cc:64] Could not load dynamic library 'libcudart.so.11.0'; dlerror: libcudart.so.11.0: cannot open shared object file: No such file or directory\n",
      "2024-03-25 19:31:35.457126: I tensorflow/stream_executor/cuda/cudart_stub.cc:29] Ignore above cudart dlerror if you do not have a GPU set up on your machine.\n",
      "INFO flwr 2024-03-25 19:31:38,624 | app.py:178 | Starting Flower simulation, config: ServerConfig(num_rounds=30, round_timeout=None)\n"
     ]
    },
    {
     "name": "stdout",
     "output_type": "stream",
     "text": [
      "path: isic2019\n",
      "json_path: FL_divide_4clients.json\n",
      "num_rounds: 30\n",
      "num_clients: 4\n",
      "batch_size: 16\n",
      "num_classes: 8\n",
      "num_clients_per_round_fit: 4\n",
      "num_clients_per_round_eval: 4\n",
      "config_fit:\n",
      "  lr: 0.0001\n",
      "  weight_decay: 0.0005\n",
      "  local_epochs: 1\n",
      "\n",
      "check_main 1\n",
      "[2024-03-25 19:31:38,624][flwr][INFO] - Starting Flower simulation, config: ServerConfig(num_rounds=30, round_timeout=None)\n"
     ]
    },
    {
     "name": "stderr",
     "output_type": "stream",
     "text": [
      "2024-03-25 19:31:40,363\tWARNING services.py:1832 -- WARNING: The object store is using /tmp instead of /dev/shm because /dev/shm has only 1073741824 bytes available. This will harm performance! You may be able to free up space by deleting files in /dev/shm. If you are inside a Docker container, you can increase /dev/shm size by passing '--shm-size=10.24gb' to 'docker run' (or add it to the run_options list in a Ray cluster config). Make sure to set this to more than 30% of available RAM.\n",
      "2024-03-25 19:31:40,419\tINFO worker.py:1621 -- Started a local Ray instance.\n",
      "INFO flwr 2024-03-25 19:31:46,901 | app.py:213 | Flower VCE: Ray initialized with resources: {'object_store_memory': 10000000000.0, 'accelerator_type:A100': 1.0, 'memory': 1049210439680.0, 'node:__internal_head__': 1.0, 'GPU': 8.0, 'node:172.17.0.2': 1.0, 'CPU': 256.0}\n"
     ]
    },
    {
     "name": "stdout",
     "output_type": "stream",
     "text": [
      "[2024-03-25 19:31:46,901][flwr][INFO] - Flower VCE: Ray initialized with resources: {'object_store_memory': 10000000000.0, 'accelerator_type:A100': 1.0, 'memory': 1049210439680.0, 'node:__internal_head__': 1.0, 'GPU': 8.0, 'node:172.17.0.2': 1.0, 'CPU': 256.0}\n"
     ]
    },
    {
     "name": "stderr",
     "output_type": "stream",
     "text": [
      "INFO flwr 2024-03-25 19:31:46,902 | app.py:219 | Optimize your simulation with Flower VCE: https://flower.dev/docs/framework/how-to-run-simulations.html\n"
     ]
    },
    {
     "name": "stdout",
     "output_type": "stream",
     "text": [
      "[2024-03-25 19:31:46,902][flwr][INFO] - Optimize your simulation with Flower VCE: https://flower.dev/docs/framework/how-to-run-simulations.html\n"
     ]
    },
    {
     "name": "stderr",
     "output_type": "stream",
     "text": [
      "INFO flwr 2024-03-25 19:31:46,903 | app.py:242 | Flower VCE: Resources for each Virtual Client: {'num_cpus': 128, 'num_gpus': 8}\n"
     ]
    },
    {
     "name": "stdout",
     "output_type": "stream",
     "text": [
      "[2024-03-25 19:31:46,903][flwr][INFO] - Flower VCE: Resources for each Virtual Client: {'num_cpus': 128, 'num_gpus': 8}\n"
     ]
    },
    {
     "name": "stderr",
     "output_type": "stream",
     "text": [
      "INFO flwr 2024-03-25 19:31:46,911 | app.py:288 | Flower VCE: Creating VirtualClientEngineActorPool with 1 actors\n"
     ]
    },
    {
     "name": "stdout",
     "output_type": "stream",
     "text": [
      "[2024-03-25 19:31:46,911][flwr][INFO] - Flower VCE: Creating VirtualClientEngineActorPool with 1 actors\n"
     ]
    },
    {
     "name": "stderr",
     "output_type": "stream",
     "text": [
      "INFO flwr 2024-03-25 19:31:46,912 | server.py:89 | Initializing global parameters\n"
     ]
    },
    {
     "name": "stdout",
     "output_type": "stream",
     "text": [
      "[2024-03-25 19:31:46,912][flwr][INFO] - Initializing global parameters\n"
     ]
    },
    {
     "name": "stderr",
     "output_type": "stream",
     "text": [
      "INFO flwr 2024-03-25 19:31:46,913 | server.py:276 | Requesting initial parameters from one random client\n"
     ]
    },
    {
     "name": "stdout",
     "output_type": "stream",
     "text": [
      "[2024-03-25 19:31:46,913][flwr][INFO] - Requesting initial parameters from one random client\n"
     ]
    },
    {
     "name": "stderr",
     "output_type": "stream",
     "text": [
      "\u001b[2m\u001b[36m(pid=1122112)\u001b[0m 2024-03-25 19:31:47.769644: W tensorflow/stream_executor/platform/default/dso_loader.cc:64] Could not load dynamic library 'libcudart.so.11.0'; dlerror: libcudart.so.11.0: cannot open shared object file: No such file or directory; LD_LIBRARY_PATH: /home/admin/.local/lib/python3.8/site-packages/cv2/../../lib64:\n",
      "\u001b[2m\u001b[36m(pid=1122112)\u001b[0m 2024-03-25 19:31:47.769699: I tensorflow/stream_executor/cuda/cudart_stub.cc:29] Ignore above cudart dlerror if you do not have a GPU set up on your machine.\n",
      "INFO flwr 2024-03-25 19:31:51,744 | server.py:280 | Received initial parameters from one random client\n"
     ]
    },
    {
     "name": "stdout",
     "output_type": "stream",
     "text": [
      "\u001b[2m\u001b[36m(DefaultActor pid=1122112)\u001b[0m client 1\n",
      "[2024-03-25 19:31:51,744][flwr][INFO] - Received initial parameters from one random client\n"
     ]
    },
    {
     "name": "stderr",
     "output_type": "stream",
     "text": [
      "INFO flwr 2024-03-25 19:31:51,746 | server.py:91 | Evaluating initial parameters\n"
     ]
    },
    {
     "name": "stdout",
     "output_type": "stream",
     "text": [
      "[2024-03-25 19:31:51,746][flwr][INFO] - Evaluating initial parameters\n",
      "!!!!!!!!!!!!!!!!!!\n",
      "model 2\n"
     ]
    },
    {
     "name": "stderr",
     "output_type": "stream",
     "text": [
      "INFO flwr 2024-03-25 19:32:27,815 | server.py:94 | initial parameters (loss, other metrics): 1.9979066848754883, {'accuracy': 0.03414923015647072}\n"
     ]
    },
    {
     "name": "stdout",
     "output_type": "stream",
     "text": [
      "*************Metrics******************\n",
      "Melanoma: 0.0, Melanocytic nevus: 0.0, Basal cell carcinoma: 0.0, Actinic keratosis: 0.9999999994219654, Benign keratosis: 0.0, Dermatofibroma: 0.0, Vascular lesion: 0.0, Squamous cell carcinoma: 0.0\n",
      "Accuracy: 0.03414923015647072\n",
      "loss 2.1184 - accuracy 0.0341\n",
      "[2024-03-25 19:32:27,815][flwr][INFO] - initial parameters (loss, other metrics): 1.9979066848754883, {'accuracy': 0.03414923015647072}\n"
     ]
    },
    {
     "name": "stderr",
     "output_type": "stream",
     "text": [
      "INFO flwr 2024-03-25 19:32:27,817 | server.py:104 | FL starting\n"
     ]
    },
    {
     "name": "stdout",
     "output_type": "stream",
     "text": [
      "[2024-03-25 19:32:27,817][flwr][INFO] - FL starting\n"
     ]
    },
    {
     "name": "stderr",
     "output_type": "stream",
     "text": [
      "DEBUG flwr 2024-03-25 19:32:27,818 | server.py:222 | fit_round 1: strategy sampled 4 clients (out of 4)\n"
     ]
    },
    {
     "name": "stdout",
     "output_type": "stream",
     "text": [
      "[2024-03-25 19:32:27,818][flwr][DEBUG] - fit_round 1: strategy sampled 4 clients (out of 4)\n",
      "\u001b[2m\u001b[36m(DefaultActor pid=1122112)\u001b[0m client 2\n",
      "\u001b[2m\u001b[36m(DefaultActor pid=1122112)\u001b[0m client 3\n",
      "\u001b[2m\u001b[36m(DefaultActor pid=1122112)\u001b[0m model 1\n",
      "\u001b[2m\u001b[36m(DefaultActor pid=1122112)\u001b[0m *************Metrics******************\n",
      "\u001b[2m\u001b[36m(DefaultActor pid=1122112)\u001b[0m Melanoma: 0.04582210242175903, Melanocytic nevus: 0.9478476820930506, Basal cell carcinoma: 0.0, Actinic keratosis: 0.0, Benign keratosis: 0.015590200441962094, Dermatofibroma: 0.0, Vascular lesion: 0.0, Squamous cell carcinoma: 0.0\n",
      "\u001b[2m\u001b[36m(DefaultActor pid=1122112)\u001b[0m Accuracy: 0.6227491530579072\n",
      "\u001b[2m\u001b[36m(DefaultActor pid=1122112)\u001b[0m Epoch [1/1] - loss 1.1255 -accuracy 0.6227\n",
      "\u001b[2m\u001b[36m(DefaultActor pid=1122112)\u001b[0m client 1\n",
      "\u001b[2m\u001b[36m(DefaultActor pid=1122112)\u001b[0m client 2\n",
      "\u001b[2m\u001b[36m(DefaultActor pid=1122112)\u001b[0m client 3\n",
      "\u001b[2m\u001b[36m(DefaultActor pid=1122112)\u001b[0m model 1\n",
      "\u001b[2m\u001b[36m(DefaultActor pid=1122112)\u001b[0m *************Metrics******************\n",
      "\u001b[2m\u001b[36m(DefaultActor pid=1122112)\u001b[0m Melanoma: 0.020348837206344648, Melanocytic nevus: 0.9428571428163266, Basal cell carcinoma: 0.0, Actinic keratosis: 0.005263157891966759, Benign keratosis: 0.05159332320916642, Dermatofibroma: 0.0, Vascular lesion: 0.0, Squamous cell carcinoma: 0.0\n",
      "\u001b[2m\u001b[36m(DefaultActor pid=1122112)\u001b[0m Accuracy: 0.5173054586727425\n",
      "\u001b[2m\u001b[36m(DefaultActor pid=1122112)\u001b[0m Epoch [1/1] - loss 1.4400 -accuracy 0.5173\n",
      "\u001b[2m\u001b[36m(DefaultActor pid=1122112)\u001b[0m client 1\n",
      "\u001b[2m\u001b[36m(DefaultActor pid=1122112)\u001b[0m client 2\n",
      "\u001b[2m\u001b[36m(DefaultActor pid=1122112)\u001b[0m client 3\n",
      "\u001b[2m\u001b[36m(DefaultActor pid=1122112)\u001b[0m model 1\n",
      "\u001b[2m\u001b[36m(DefaultActor pid=1122112)\u001b[0m *************Metrics******************\n",
      "\u001b[2m\u001b[36m(DefaultActor pid=1122112)\u001b[0m Melanoma: 0.11657032754175625, Melanocytic nevus: 0.7765726680706848, Basal cell carcinoma: 0.2635193132821014, Actinic keratosis: 0.0, Benign keratosis: 0.0028985507237975217, Dermatofibroma: 0.02040816322365681, Vascular lesion: 0.0, Squamous cell carcinoma: 0.0\n",
      "\u001b[2m\u001b[36m(DefaultActor pid=1122112)\u001b[0m Accuracy: 0.4013796076048495\n",
      "\u001b[2m\u001b[36m(DefaultActor pid=1122112)\u001b[0m Epoch [1/1] - loss 1.5186 -accuracy 0.4014\n",
      "\u001b[2m\u001b[36m(DefaultActor pid=1122112)\u001b[0m client 1\n",
      "\u001b[2m\u001b[36m(DefaultActor pid=1122112)\u001b[0m client 2\n",
      "\u001b[2m\u001b[36m(DefaultActor pid=1122112)\u001b[0m client 3\n",
      "\u001b[2m\u001b[36m(DefaultActor pid=1122112)\u001b[0m model 1\n"
     ]
    },
    {
     "name": "stderr",
     "output_type": "stream",
     "text": [
      "DEBUG flwr 2024-03-25 19:34:28,002 | server.py:236 | fit_round 1 received 4 results and 0 failures\n"
     ]
    },
    {
     "name": "stdout",
     "output_type": "stream",
     "text": [
      "\u001b[2m\u001b[36m(DefaultActor pid=1122112)\u001b[0m *************Metrics******************\n",
      "\u001b[2m\u001b[36m(DefaultActor pid=1122112)\u001b[0m Melanoma: 0.006134969323271482, Melanocytic nevus: 0.8672064776625745, Basal cell carcinoma: 0.13953488369929692, Actinic keratosis: 0.006289308172145089, Benign keratosis: 0.01822916666191949, Dermatofibroma: 0.03947368415858726, Vascular lesion: 0.0, Squamous cell carcinoma: 0.006779661014650963\n",
      "\u001b[2m\u001b[36m(DefaultActor pid=1122112)\u001b[0m Accuracy: 0.3698113206616828\n",
      "\u001b[2m\u001b[36m(DefaultActor pid=1122112)\u001b[0m Epoch [1/1] - loss 1.7845 -accuracy 0.3698\n",
      "\u001b[2m\u001b[36m(DefaultActor pid=1122112)\u001b[0m client 1\n",
      "[2024-03-25 19:34:28,002][flwr][DEBUG] - fit_round 1 received 4 results and 0 failures\n"
     ]
    },
    {
     "name": "stderr",
     "output_type": "stream",
     "text": [
      "WARNING flwr 2024-03-25 19:34:28,211 | fedavg.py:242 | No fit_metrics_aggregation_fn provided\n"
     ]
    },
    {
     "name": "stdout",
     "output_type": "stream",
     "text": [
      "[2024-03-25 19:34:28,211][flwr][WARNING] - No fit_metrics_aggregation_fn provided\n",
      "!!!!!!!!!!!!!!!!!!\n",
      "model 2\n"
     ]
    },
    {
     "name": "stderr",
     "output_type": "stream",
     "text": [
      "INFO flwr 2024-03-25 19:35:00,706 | server.py:125 | fit progress: (1, 4.513673305511475, {'accuracy': 0.5067114093159557}, 152.88850192911923)\n"
     ]
    },
    {
     "name": "stdout",
     "output_type": "stream",
     "text": [
      "*************Metrics******************\n",
      "Melanoma: 0.12154696131253626, Melanocytic nevus: 0.9448543688953455, Basal cell carcinoma: 0.02108433734622224, Actinic keratosis: 0.0, Benign keratosis: 0.01904761904399093, Dermatofibroma: 0.0, Vascular lesion: 0.0, Squamous cell carcinoma: 0.0\n",
      "Accuracy: 0.5067114093159557\n",
      "loss 1.3672 - accuracy 0.5067\n",
      "[2024-03-25 19:35:00,706][flwr][INFO] - fit progress: (1, 4.513673305511475, {'accuracy': 0.5067114093159557}, 152.88850192911923)\n"
     ]
    },
    {
     "name": "stderr",
     "output_type": "stream",
     "text": [
      "DEBUG flwr 2024-03-25 19:35:00,708 | server.py:173 | evaluate_round 1: strategy sampled 4 clients (out of 4)\n"
     ]
    },
    {
     "name": "stdout",
     "output_type": "stream",
     "text": [
      "[2024-03-25 19:35:00,708][flwr][DEBUG] - evaluate_round 1: strategy sampled 4 clients (out of 4)\n",
      "\u001b[2m\u001b[36m(DefaultActor pid=1122112)\u001b[0m client 4\n",
      "\u001b[2m\u001b[36m(DefaultActor pid=1122112)\u001b[0m client 3\n",
      "\u001b[2m\u001b[36m(DefaultActor pid=1122112)\u001b[0m model 2\n",
      "\u001b[2m\u001b[36m(DefaultActor pid=1122112)\u001b[0m *************Metrics******************\n",
      "\u001b[2m\u001b[36m(DefaultActor pid=1122112)\u001b[0m Melanoma: 0.09459459453067934, Melanocytic nevus: 0.9315589350070119, Basal cell carcinoma: 0.042168674673392366, Actinic keratosis: 0.0, Benign keratosis: 0.02040816322365681, Dermatofibroma: 0.0, Vascular lesion: 0.0, Squamous cell carcinoma: 0.0\n",
      "\u001b[2m\u001b[36m(DefaultActor pid=1122112)\u001b[0m Accuracy: 0.4039334337017449\n",
      "\u001b[2m\u001b[36m(DefaultActor pid=1122112)\u001b[0m loss 1.5128 - accuracy 0.4039\n",
      "\u001b[2m\u001b[36m(DefaultActor pid=1122112)\u001b[0m client 4\n",
      "\u001b[2m\u001b[36m(DefaultActor pid=1122112)\u001b[0m client 3\n",
      "\u001b[2m\u001b[36m(DefaultActor pid=1122112)\u001b[0m model 2\n",
      "\u001b[2m\u001b[36m(DefaultActor pid=1122112)\u001b[0m *************Metrics******************\n",
      "\u001b[2m\u001b[36m(DefaultActor pid=1122112)\u001b[0m Melanoma: 0.19148936129470348, Melanocytic nevus: 0.9431818176459195, Basal cell carcinoma: 0.01086956520557656, Actinic keratosis: 0.0, Benign keratosis: 0.018518518484224967, Dermatofibroma: 0.0, Vascular lesion: 0.0, Squamous cell carcinoma: 0.0\n",
      "\u001b[2m\u001b[36m(DefaultActor pid=1122112)\u001b[0m Accuracy: 0.38901098832701353\n",
      "\u001b[2m\u001b[36m(DefaultActor pid=1122112)\u001b[0m loss 1.8575 - accuracy 0.3890\n",
      "\u001b[2m\u001b[36m(DefaultActor pid=1122112)\u001b[0m client 4\n",
      "\u001b[2m\u001b[36m(DefaultActor pid=1122112)\u001b[0m client 3\n",
      "\u001b[2m\u001b[36m(DefaultActor pid=1122112)\u001b[0m model 2\n",
      "\u001b[2m\u001b[36m(DefaultActor pid=1122112)\u001b[0m *************Metrics******************\n",
      "\u001b[2m\u001b[36m(DefaultActor pid=1122112)\u001b[0m Melanoma: 0.17346938757809247, Melanocytic nevus: 0.9575757572855832, Basal cell carcinoma: 0.0, Actinic keratosis: 0.0, Benign keratosis: 0.010638297861023088, Dermatofibroma: 0.0, Vascular lesion: 0.0, Squamous cell carcinoma: 0.0\n",
      "\u001b[2m\u001b[36m(DefaultActor pid=1122112)\u001b[0m Accuracy: 0.5430894301878513\n",
      "\u001b[2m\u001b[36m(DefaultActor pid=1122112)\u001b[0m loss 1.3700 - accuracy 0.5431\n",
      "\u001b[2m\u001b[36m(DefaultActor pid=1122112)\u001b[0m client 4\n",
      "\u001b[2m\u001b[36m(DefaultActor pid=1122112)\u001b[0m client 3\n",
      "\u001b[2m\u001b[36m(DefaultActor pid=1122112)\u001b[0m model 2\n"
     ]
    },
    {
     "name": "stderr",
     "output_type": "stream",
     "text": [
      "DEBUG flwr 2024-03-25 19:35:18,742 | server.py:187 | evaluate_round 1 received 4 results and 0 failures\n"
     ]
    },
    {
     "name": "stdout",
     "output_type": "stream",
     "text": [
      "[2024-03-25 19:35:18,742][flwr][DEBUG] - evaluate_round 1 received 4 results and 0 failures\n"
     ]
    },
    {
     "name": "stderr",
     "output_type": "stream",
     "text": [
      "DEBUG flwr 2024-03-25 19:35:18,743 | server.py:222 | fit_round 2: strategy sampled 4 clients (out of 4)\n"
     ]
    },
    {
     "name": "stdout",
     "output_type": "stream",
     "text": [
      "\u001b[2m\u001b[36m(DefaultActor pid=1122112)\u001b[0m *************Metrics******************\n",
      "\u001b[2m\u001b[36m(DefaultActor pid=1122112)\u001b[0m Melanoma: 0.12578616344290178, Melanocytic nevus: 0.9671814669947527, Basal cell carcinoma: 0.03448275850178359, Actinic keratosis: 0.0, Benign keratosis: 0.015384615360946747, Dermatofibroma: 0.0, Vascular lesion: 0.0, Squamous cell carcinoma: 0.0\n",
      "\u001b[2m\u001b[36m(DefaultActor pid=1122112)\u001b[0m Accuracy: 0.6529338320569952\n",
      "\u001b[2m\u001b[36m(DefaultActor pid=1122112)\u001b[0m loss 1.1098 - accuracy 0.6529\n",
      "weighted [(51, {'accuracy': 0.6529338320569952}), (39, {'accuracy': 0.5430894301878513}), (42, {'accuracy': 0.4039334337017449}), (29, {'accuracy': 0.38901098832701353})]\n",
      "[2024-03-25 19:35:18,743][flwr][DEBUG] - fit_round 2: strategy sampled 4 clients (out of 4)\n",
      "\u001b[2m\u001b[36m(DefaultActor pid=1122112)\u001b[0m client 2\n",
      "\u001b[2m\u001b[36m(DefaultActor pid=1122112)\u001b[0m client 3\n",
      "\u001b[2m\u001b[36m(DefaultActor pid=1122112)\u001b[0m model 1\n",
      "\u001b[2m\u001b[36m(DefaultActor pid=1122112)\u001b[0m *************Metrics******************\n",
      "\u001b[2m\u001b[36m(DefaultActor pid=1122112)\u001b[0m Melanoma: 0.22543352598984265, Melanocytic nevus: 0.824837310150497, Basal cell carcinoma: 0.5278969956628415, Actinic keratosis: 0.0, Benign keratosis: 0.0028985507237975217, Dermatofibroma: 0.0, Vascular lesion: 0.0, Squamous cell carcinoma: 0.0\n",
      "\u001b[2m\u001b[36m(DefaultActor pid=1122112)\u001b[0m Accuracy: 0.5111015304141237\n",
      "\u001b[2m\u001b[36m(DefaultActor pid=1122112)\u001b[0m Epoch [1/1] - loss 1.3086 -accuracy 0.5111\n",
      "\u001b[2m\u001b[36m(DefaultActor pid=1122112)\u001b[0m client 1\n",
      "\u001b[2m\u001b[36m(DefaultActor pid=1122112)\u001b[0m client 2\n",
      "\u001b[2m\u001b[36m(DefaultActor pid=1122112)\u001b[0m client 3\n",
      "\u001b[2m\u001b[36m(DefaultActor pid=1122112)\u001b[0m model 1\n",
      "\u001b[2m\u001b[36m(DefaultActor pid=1122112)\u001b[0m *************Metrics******************\n",
      "\u001b[2m\u001b[36m(DefaultActor pid=1122112)\u001b[0m Melanoma: 0.021472392631450187, Melanocytic nevus: 0.9222672064030554, Basal cell carcinoma: 0.4434108526444325, Actinic keratosis: 0.0, Benign keratosis: 0.041666666655815976, Dermatofibroma: 0.0, Vascular lesion: 0.0, Squamous cell carcinoma: 0.010169491521976444\n",
      "\u001b[2m\u001b[36m(DefaultActor pid=1122112)\u001b[0m Accuracy: 0.456289308061311\n",
      "\u001b[2m\u001b[36m(DefaultActor pid=1122112)\u001b[0m Epoch [1/1] - loss 1.5823 -accuracy 0.4563\n",
      "\u001b[2m\u001b[36m(DefaultActor pid=1122112)\u001b[0m client 1\n",
      "\u001b[2m\u001b[36m(DefaultActor pid=1122112)\u001b[0m client 2\n",
      "\u001b[2m\u001b[36m(DefaultActor pid=1122112)\u001b[0m client 3\n",
      "\u001b[2m\u001b[36m(DefaultActor pid=1122112)\u001b[0m model 1\n",
      "\u001b[2m\u001b[36m(DefaultActor pid=1122112)\u001b[0m *************Metrics******************\n",
      "\u001b[2m\u001b[36m(DefaultActor pid=1122112)\u001b[0m Melanoma: 0.1662174303534396, Melanocytic nevus: 0.9713024282292687, Basal cell carcinoma: 0.0, Actinic keratosis: 0.0, Benign keratosis: 0.013363028950253224, Dermatofibroma: 0.0, Vascular lesion: 0.0, Squamous cell carcinoma: 0.0\n",
      "\u001b[2m\u001b[36m(DefaultActor pid=1122112)\u001b[0m Accuracy: 0.6616152610930127\n",
      "\u001b[2m\u001b[36m(DefaultActor pid=1122112)\u001b[0m Epoch [1/1] - loss 0.9613 -accuracy 0.6616\n",
      "\u001b[2m\u001b[36m(DefaultActor pid=1122112)\u001b[0m client 1\n",
      "\u001b[2m\u001b[36m(DefaultActor pid=1122112)\u001b[0m client 2\n",
      "\u001b[2m\u001b[36m(DefaultActor pid=1122112)\u001b[0m client 3\n",
      "\u001b[2m\u001b[36m(DefaultActor pid=1122112)\u001b[0m model 1\n"
     ]
    },
    {
     "name": "stderr",
     "output_type": "stream",
     "text": [
      "DEBUG flwr 2024-03-25 19:37:14,397 | server.py:236 | fit_round 2 received 4 results and 0 failures\n"
     ]
    },
    {
     "name": "stdout",
     "output_type": "stream",
     "text": [
      "\u001b[2m\u001b[36m(DefaultActor pid=1122112)\u001b[0m *************Metrics******************\n",
      "\u001b[2m\u001b[36m(DefaultActor pid=1122112)\u001b[0m Melanoma: 0.09593023254419619, Melanocytic nevus: 0.9645021644604113, Basal cell carcinoma: 0.003164556961023875, Actinic keratosis: 0.005263157891966759, Benign keratosis: 0.10318664641833283, Dermatofibroma: 0.0, Vascular lesion: 0.0, Squamous cell carcinoma: 0.0\n",
      "\u001b[2m\u001b[36m(DefaultActor pid=1122112)\u001b[0m Accuracy: 0.5491289197585825\n",
      "\u001b[2m\u001b[36m(DefaultActor pid=1122112)\u001b[0m Epoch [1/1] - loss 1.2514 -accuracy 0.5491\n",
      "\u001b[2m\u001b[36m(DefaultActor pid=1122112)\u001b[0m client 1\n",
      "[2024-03-25 19:37:14,397][flwr][DEBUG] - fit_round 2 received 4 results and 0 failures\n",
      "!!!!!!!!!!!!!!!!!!\n",
      "model 2\n"
     ]
    },
    {
     "name": "stderr",
     "output_type": "stream",
     "text": [
      "INFO flwr 2024-03-25 19:37:46,878 | server.py:125 | fit progress: (2, 4.43513298034668, {'accuracy': 0.5479668376552758}, 319.0605925931595)\n"
     ]
    },
    {
     "name": "stdout",
     "output_type": "stream",
     "text": [
      "*************Metrics******************\n",
      "Melanoma: 0.20883977898244865, Melanocytic nevus: 0.9596116504481704, Basal cell carcinoma: 0.1295180722696509, Actinic keratosis: 0.005780346817468008, Benign keratosis: 0.0552380952275737, Dermatofibroma: 0.0, Vascular lesion: 0.0, Squamous cell carcinoma: 0.0\n",
      "Accuracy: 0.5479668376552758\n",
      "loss 1.2530 - accuracy 0.5480\n",
      "[2024-03-25 19:37:46,878][flwr][INFO] - fit progress: (2, 4.43513298034668, {'accuracy': 0.5479668376552758}, 319.0605925931595)\n"
     ]
    },
    {
     "name": "stderr",
     "output_type": "stream",
     "text": [
      "DEBUG flwr 2024-03-25 19:37:46,880 | server.py:173 | evaluate_round 2: strategy sampled 4 clients (out of 4)\n"
     ]
    },
    {
     "name": "stdout",
     "output_type": "stream",
     "text": [
      "[2024-03-25 19:37:46,880][flwr][DEBUG] - evaluate_round 2: strategy sampled 4 clients (out of 4)\n",
      "\u001b[2m\u001b[36m(DefaultActor pid=1122112)\u001b[0m client 4\n",
      "\u001b[2m\u001b[36m(DefaultActor pid=1122112)\u001b[0m client 3\n",
      "\u001b[2m\u001b[36m(DefaultActor pid=1122112)\u001b[0m model 2\n",
      "\u001b[2m\u001b[36m(DefaultActor pid=1122112)\u001b[0m *************Metrics******************\n",
      "\u001b[2m\u001b[36m(DefaultActor pid=1122112)\u001b[0m Melanoma: 0.2142857140670554, Melanocytic nevus: 0.960606060314968, Basal cell carcinoma: 0.13333333303703704, Actinic keratosis: 0.0, Benign keratosis: 0.021276595722046175, Dermatofibroma: 0.0, Vascular lesion: 0.0, Squamous cell carcinoma: 0.0\n",
      "\u001b[2m\u001b[36m(DefaultActor pid=1122112)\u001b[0m Accuracy: 0.5626016252844208\n",
      "\u001b[2m\u001b[36m(DefaultActor pid=1122112)\u001b[0m loss 1.2588 - accuracy 0.5626\n",
      "\u001b[2m\u001b[36m(DefaultActor pid=1122112)\u001b[0m client 4\n",
      "\u001b[2m\u001b[36m(DefaultActor pid=1122112)\u001b[0m client 3\n",
      "\u001b[2m\u001b[36m(DefaultActor pid=1122112)\u001b[0m model 2\n",
      "\u001b[2m\u001b[36m(DefaultActor pid=1122112)\u001b[0m *************Metrics******************\n",
      "\u001b[2m\u001b[36m(DefaultActor pid=1122112)\u001b[0m Melanoma: 0.2704402514022388, Melanocytic nevus: 0.9652509650646234, Basal cell carcinoma: 0.10344827550535077, Actinic keratosis: 0.0, Benign keratosis: 0.030769230721893494, Dermatofibroma: 0.0, Vascular lesion: 0.0, Squamous cell carcinoma: 0.0\n",
      "\u001b[2m\u001b[36m(DefaultActor pid=1122112)\u001b[0m Accuracy: 0.6841448182929892\n",
      "\u001b[2m\u001b[36m(DefaultActor pid=1122112)\u001b[0m loss 0.9945 - accuracy 0.6841\n",
      "\u001b[2m\u001b[36m(DefaultActor pid=1122112)\u001b[0m client 4\n",
      "\u001b[2m\u001b[36m(DefaultActor pid=1122112)\u001b[0m client 3\n",
      "\u001b[2m\u001b[36m(DefaultActor pid=1122112)\u001b[0m model 2\n",
      "\u001b[2m\u001b[36m(DefaultActor pid=1122112)\u001b[0m *************Metrics******************\n",
      "\u001b[2m\u001b[36m(DefaultActor pid=1122112)\u001b[0m Melanoma: 0.16891891880478452, Melanocytic nevus: 0.9581749045786409, Basal cell carcinoma: 0.15060240954782989, Actinic keratosis: 0.0, Benign keratosis: 0.08163265289462723, Dermatofibroma: 0.0, Vascular lesion: 0.0, Squamous cell carcinoma: 0.0\n",
      "\u001b[2m\u001b[36m(DefaultActor pid=1122112)\u001b[0m Accuracy: 0.4629349464896402\n",
      "\u001b[2m\u001b[36m(DefaultActor pid=1122112)\u001b[0m loss 1.3912 - accuracy 0.4629\n",
      "\u001b[2m\u001b[36m(DefaultActor pid=1122112)\u001b[0m client 4\n",
      "\u001b[2m\u001b[36m(DefaultActor pid=1122112)\u001b[0m client 3\n",
      "\u001b[2m\u001b[36m(DefaultActor pid=1122112)\u001b[0m model 2\n"
     ]
    },
    {
     "name": "stderr",
     "output_type": "stream",
     "text": [
      "DEBUG flwr 2024-03-25 19:38:05,062 | server.py:187 | evaluate_round 2 received 4 results and 0 failures\n"
     ]
    },
    {
     "name": "stdout",
     "output_type": "stream",
     "text": [
      "[2024-03-25 19:38:05,062][flwr][DEBUG] - evaluate_round 2 received 4 results and 0 failures\n"
     ]
    },
    {
     "name": "stderr",
     "output_type": "stream",
     "text": [
      "DEBUG flwr 2024-03-25 19:38:05,064 | server.py:222 | fit_round 3: strategy sampled 4 clients (out of 4)\n"
     ]
    },
    {
     "name": "stdout",
     "output_type": "stream",
     "text": [
      "weighted [(51, {'accuracy': 0.6841448182929892}), (39, {'accuracy': 0.5626016252844208}), (29, {'accuracy': 0.43296703220577215}), (42, {'accuracy': 0.4629349464896402})]\n",
      "[2024-03-25 19:38:05,064][flwr][DEBUG] - fit_round 3: strategy sampled 4 clients (out of 4)\n",
      "\u001b[2m\u001b[36m(DefaultActor pid=1122112)\u001b[0m *************Metrics******************\n",
      "\u001b[2m\u001b[36m(DefaultActor pid=1122112)\u001b[0m Melanoma: 0.297872339791761, Melanocytic nevus: 0.9659090903602789, Basal cell carcinoma: 0.08695652164461248, Actinic keratosis: 0.0, Benign keratosis: 0.09259259242112483, Dermatofibroma: 0.0, Vascular lesion: 0.0, Squamous cell carcinoma: 0.0\n",
      "\u001b[2m\u001b[36m(DefaultActor pid=1122112)\u001b[0m Accuracy: 0.43296703220577215\n",
      "\u001b[2m\u001b[36m(DefaultActor pid=1122112)\u001b[0m loss 1.7205 - accuracy 0.4330\n",
      "\u001b[2m\u001b[36m(DefaultActor pid=1122112)\u001b[0m client 2\n",
      "\u001b[2m\u001b[36m(DefaultActor pid=1122112)\u001b[0m client 3\n",
      "\u001b[2m\u001b[36m(DefaultActor pid=1122112)\u001b[0m model 1\n",
      "\u001b[2m\u001b[36m(DefaultActor pid=1122112)\u001b[0m *************Metrics******************\n",
      "\u001b[2m\u001b[36m(DefaultActor pid=1122112)\u001b[0m Melanoma: 0.046012269924536116, Melanocytic nevus: 0.8955465586319397, Basal cell carcinoma: 0.5829457363437294, Actinic keratosis: 0.0, Benign keratosis: 0.08072916664564346, Dermatofibroma: 0.0, Vascular lesion: 0.0, Squamous cell carcinoma: 0.006779661014650963\n",
      "\u001b[2m\u001b[36m(DefaultActor pid=1122112)\u001b[0m Accuracy: 0.48113207535065877\n",
      "\u001b[2m\u001b[36m(DefaultActor pid=1122112)\u001b[0m Epoch [1/1] - loss 1.5050 -accuracy 0.4811\n",
      "\u001b[2m\u001b[36m(DefaultActor pid=1122112)\u001b[0m client 1\n",
      "\u001b[2m\u001b[36m(DefaultActor pid=1122112)\u001b[0m client 2\n",
      "\u001b[2m\u001b[36m(DefaultActor pid=1122112)\u001b[0m client 3\n",
      "\u001b[2m\u001b[36m(DefaultActor pid=1122112)\u001b[0m model 1\n",
      "\u001b[2m\u001b[36m(DefaultActor pid=1122112)\u001b[0m *************Metrics******************\n",
      "\u001b[2m\u001b[36m(DefaultActor pid=1122112)\u001b[0m Melanoma: 0.1947674418321559, Melanocytic nevus: 0.9493506493095519, Basal cell carcinoma: 0.028481012649214873, Actinic keratosis: 0.0, Benign keratosis: 0.17298937781896975, Dermatofibroma: 0.0, Vascular lesion: 0.0, Squamous cell carcinoma: 0.0\n",
      "\u001b[2m\u001b[36m(DefaultActor pid=1122112)\u001b[0m Accuracy: 0.5691056909511536\n",
      "\u001b[2m\u001b[36m(DefaultActor pid=1122112)\u001b[0m Epoch [1/1] - loss 1.1830 -accuracy 0.5691\n",
      "\u001b[2m\u001b[36m(DefaultActor pid=1122112)\u001b[0m client 1\n",
      "\u001b[2m\u001b[36m(DefaultActor pid=1122112)\u001b[0m client 2\n",
      "\u001b[2m\u001b[36m(DefaultActor pid=1122112)\u001b[0m client 3\n",
      "\u001b[2m\u001b[36m(DefaultActor pid=1122112)\u001b[0m model 1\n",
      "\u001b[2m\u001b[36m(DefaultActor pid=1122112)\u001b[0m *************Metrics******************\n",
      "\u001b[2m\u001b[36m(DefaultActor pid=1122112)\u001b[0m Melanoma: 0.3188824662505894, Melanocytic nevus: 0.820498915356806, Basal cell carcinoma: 0.5974248926525816, Actinic keratosis: 0.0, Benign keratosis: 0.0028985507237975217, Dermatofibroma: 0.0, Vascular lesion: 0.0, Squamous cell carcinoma: 0.0\n",
      "\u001b[2m\u001b[36m(DefaultActor pid=1122112)\u001b[0m Accuracy: 0.5477473592502269\n",
      "\u001b[2m\u001b[36m(DefaultActor pid=1122112)\u001b[0m Epoch [1/1] - loss 1.2412 -accuracy 0.5477\n",
      "\u001b[2m\u001b[36m(DefaultActor pid=1122112)\u001b[0m client 1\n",
      "\u001b[2m\u001b[36m(DefaultActor pid=1122112)\u001b[0m client 2\n",
      "\u001b[2m\u001b[36m(DefaultActor pid=1122112)\u001b[0m client 3\n",
      "\u001b[2m\u001b[36m(DefaultActor pid=1122112)\u001b[0m model 1\n"
     ]
    },
    {
     "name": "stderr",
     "output_type": "stream",
     "text": [
      "DEBUG flwr 2024-03-25 19:40:00,894 | server.py:236 | fit_round 3 received 4 results and 0 failures\n"
     ]
    },
    {
     "name": "stdout",
     "output_type": "stream",
     "text": [
      "\u001b[2m\u001b[36m(DefaultActor pid=1122112)\u001b[0m *************Metrics******************\n",
      "\u001b[2m\u001b[36m(DefaultActor pid=1122112)\u001b[0m Melanoma: 0.2785265049165745, Melanocytic nevus: 0.9602649006357543, Basal cell carcinoma: 0.0, Actinic keratosis: 0.0, Benign keratosis: 0.022271714917088705, Dermatofibroma: 0.0, Vascular lesion: 0.0, Squamous cell carcinoma: 0.0\n",
      "\u001b[2m\u001b[36m(DefaultActor pid=1122112)\u001b[0m Accuracy: 0.6774826171256935\n",
      "\u001b[2m\u001b[36m(DefaultActor pid=1122112)\u001b[0m Epoch [1/1] - loss 0.9111 -accuracy 0.6775\n",
      "\u001b[2m\u001b[36m(DefaultActor pid=1122112)\u001b[0m client 1\n",
      "[2024-03-25 19:40:00,894][flwr][DEBUG] - fit_round 3 received 4 results and 0 failures\n",
      "!!!!!!!!!!!!!!!!!!\n",
      "model 2\n"
     ]
    },
    {
     "name": "stderr",
     "output_type": "stream",
     "text": [
      "INFO flwr 2024-03-25 19:40:33,786 | server.py:125 | fit progress: (3, 4.353669166564941, {'accuracy': 0.5817212790238104}, 485.96811607293785)\n"
     ]
    },
    {
     "name": "stdout",
     "output_type": "stream",
     "text": [
      "*************Metrics******************\n",
      "Melanoma: 0.339226519299533, Melanocytic nevus: 0.9398058252062211, Basal cell carcinoma: 0.2831325300778415, Actinic keratosis: 0.005780346817468008, Benign keratosis: 0.05904761903637189, Dermatofibroma: 0.0, Vascular lesion: 0.0, Squamous cell carcinoma: 0.0\n",
      "Accuracy: 0.5817212790238104\n",
      "loss 1.1947 - accuracy 0.5817\n",
      "[2024-03-25 19:40:33,786][flwr][INFO] - fit progress: (3, 4.353669166564941, {'accuracy': 0.5817212790238104}, 485.96811607293785)\n"
     ]
    },
    {
     "name": "stderr",
     "output_type": "stream",
     "text": [
      "DEBUG flwr 2024-03-25 19:40:33,788 | server.py:173 | evaluate_round 3: strategy sampled 4 clients (out of 4)\n"
     ]
    },
    {
     "name": "stdout",
     "output_type": "stream",
     "text": [
      "[2024-03-25 19:40:33,788][flwr][DEBUG] - evaluate_round 3: strategy sampled 4 clients (out of 4)\n",
      "\u001b[2m\u001b[36m(DefaultActor pid=1122112)\u001b[0m client 4\n",
      "\u001b[2m\u001b[36m(DefaultActor pid=1122112)\u001b[0m client 3\n",
      "\u001b[2m\u001b[36m(DefaultActor pid=1122112)\u001b[0m model 2\n",
      "\u001b[2m\u001b[36m(DefaultActor pid=1122112)\u001b[0m *************Metrics******************\n",
      "\u001b[2m\u001b[36m(DefaultActor pid=1122112)\u001b[0m Melanoma: 0.44680850968764146, Melanocytic nevus: 0.9374999994673295, Basal cell carcinoma: 0.31521739096172025, Actinic keratosis: 0.0, Benign keratosis: 0.07407407393689987, Dermatofibroma: 0.0, Vascular lesion: 0.0, Squamous cell carcinoma: 0.0\n",
      "\u001b[2m\u001b[36m(DefaultActor pid=1122112)\u001b[0m Accuracy: 0.4813186804724066\n",
      "\u001b[2m\u001b[36m(DefaultActor pid=1122112)\u001b[0m loss 1.6463 - accuracy 0.4813\n",
      "\u001b[2m\u001b[36m(DefaultActor pid=1122112)\u001b[0m client 4\n",
      "\u001b[2m\u001b[36m(DefaultActor pid=1122112)\u001b[0m client 3\n",
      "\u001b[2m\u001b[36m(DefaultActor pid=1122112)\u001b[0m model 2\n",
      "\u001b[2m\u001b[36m(DefaultActor pid=1122112)\u001b[0m *************Metrics******************\n",
      "\u001b[2m\u001b[36m(DefaultActor pid=1122112)\u001b[0m Melanoma: 0.3163265302894627, Melanocytic nevus: 0.9454545451680442, Basal cell carcinoma: 0.2666666660740741, Actinic keratosis: 0.0, Benign keratosis: 0.021276595722046175, Dermatofibroma: 0.0, Vascular lesion: 0.0, Squamous cell carcinoma: 0.0\n",
      "\u001b[2m\u001b[36m(DefaultActor pid=1122112)\u001b[0m Accuracy: 0.5804878041229429\n",
      "\u001b[2m\u001b[36m(DefaultActor pid=1122112)\u001b[0m loss 1.2243 - accuracy 0.5805\n",
      "\u001b[2m\u001b[36m(DefaultActor pid=1122112)\u001b[0m client 4\n",
      "\u001b[2m\u001b[36m(DefaultActor pid=1122112)\u001b[0m client 3\n",
      "\u001b[2m\u001b[36m(DefaultActor pid=1122112)\u001b[0m model 2\n",
      "\u001b[2m\u001b[36m(DefaultActor pid=1122112)\u001b[0m *************Metrics******************\n",
      "\u001b[2m\u001b[36m(DefaultActor pid=1122112)\u001b[0m Melanoma: 0.37106918215656026, Melanocytic nevus: 0.9498069496235895, Basal cell carcinoma: 0.20689655101070153, Actinic keratosis: 0.0, Benign keratosis: 0.09230769216568048, Dermatofibroma: 0.0, Vascular lesion: 0.0, Squamous cell carcinoma: 0.0\n",
      "\u001b[2m\u001b[36m(DefaultActor pid=1122112)\u001b[0m Accuracy: 0.7028714100345856\n",
      "\u001b[2m\u001b[36m(DefaultActor pid=1122112)\u001b[0m loss 0.9526 - accuracy 0.7029\n",
      "\u001b[2m\u001b[36m(DefaultActor pid=1122112)\u001b[0m client 4\n",
      "\u001b[2m\u001b[36m(DefaultActor pid=1122112)\u001b[0m client 3\n",
      "\u001b[2m\u001b[36m(DefaultActor pid=1122112)\u001b[0m model 2\n"
     ]
    },
    {
     "name": "stderr",
     "output_type": "stream",
     "text": [
      "DEBUG flwr 2024-03-25 19:40:52,058 | server.py:187 | evaluate_round 3 received 4 results and 0 failures\n"
     ]
    },
    {
     "name": "stdout",
     "output_type": "stream",
     "text": [
      "[2024-03-25 19:40:52,058][flwr][DEBUG] - evaluate_round 3 received 4 results and 0 failures\n"
     ]
    },
    {
     "name": "stderr",
     "output_type": "stream",
     "text": [
      "DEBUG flwr 2024-03-25 19:40:52,059 | server.py:222 | fit_round 4: strategy sampled 4 clients (out of 4)\n"
     ]
    },
    {
     "name": "stdout",
     "output_type": "stream",
     "text": [
      "weighted [(39, {'accuracy': 0.5804878041229429}), (29, {'accuracy': 0.4813186804724066}), (51, {'accuracy': 0.7028714100345856}), (42, {'accuracy': 0.5219364592775355})]\n",
      "[2024-03-25 19:40:52,059][flwr][DEBUG] - fit_round 4: strategy sampled 4 clients (out of 4)\n",
      "\u001b[2m\u001b[36m(DefaultActor pid=1122112)\u001b[0m *************Metrics******************\n",
      "\u001b[2m\u001b[36m(DefaultActor pid=1122112)\u001b[0m Melanoma: 0.283783783592038, Melanocytic nevus: 0.9315589350070119, Basal cell carcinoma: 0.3192771082413993, Actinic keratosis: 0.0, Benign keratosis: 0.10204081611828404, Dermatofibroma: 0.0, Vascular lesion: 0.0, Squamous cell carcinoma: 0.0\n",
      "\u001b[2m\u001b[36m(DefaultActor pid=1122112)\u001b[0m Accuracy: 0.5219364592775355\n",
      "\u001b[2m\u001b[36m(DefaultActor pid=1122112)\u001b[0m loss 1.3008 - accuracy 0.5219\n",
      "\u001b[2m\u001b[36m(DefaultActor pid=1122112)\u001b[0m client 2\n",
      "\u001b[2m\u001b[36m(DefaultActor pid=1122112)\u001b[0m client 3\n",
      "\u001b[2m\u001b[36m(DefaultActor pid=1122112)\u001b[0m model 1\n",
      "\u001b[2m\u001b[36m(DefaultActor pid=1122112)\u001b[0m *************Metrics******************\n",
      "\u001b[2m\u001b[36m(DefaultActor pid=1122112)\u001b[0m Melanoma: 0.11349693248052242, Melanocytic nevus: 0.8963562752310644, Basal cell carcinoma: 0.6356589146301305, Actinic keratosis: 0.0, Benign keratosis: 0.10677083330552845, Dermatofibroma: 0.0, Vascular lesion: 0.0, Squamous cell carcinoma: 0.006779661014650963\n",
      "\u001b[2m\u001b[36m(DefaultActor pid=1122112)\u001b[0m Accuracy: 0.5022012577352954\n",
      "\u001b[2m\u001b[36m(DefaultActor pid=1122112)\u001b[0m Epoch [1/1] - loss 1.4637 -accuracy 0.5022\n",
      "\u001b[2m\u001b[36m(DefaultActor pid=1122112)\u001b[0m client 1\n",
      "\u001b[2m\u001b[36m(DefaultActor pid=1122112)\u001b[0m client 2\n",
      "\u001b[2m\u001b[36m(DefaultActor pid=1122112)\u001b[0m client 3\n",
      "\u001b[2m\u001b[36m(DefaultActor pid=1122112)\u001b[0m model 1\n",
      "\u001b[2m\u001b[36m(DefaultActor pid=1122112)\u001b[0m *************Metrics******************\n",
      "\u001b[2m\u001b[36m(DefaultActor pid=1122112)\u001b[0m Melanoma: 0.2470930232198993, Melanocytic nevus: 0.9350649350244561, Basal cell carcinoma: 0.06645569618150136, Actinic keratosis: 0.01578947367590028, Benign keratosis: 0.2215477996628911, Dermatofibroma: 0.0, Vascular lesion: 0.0, Squamous cell carcinoma: 0.0\n",
      "\u001b[2m\u001b[36m(DefaultActor pid=1122112)\u001b[0m Accuracy: 0.5807200928072995\n",
      "\u001b[2m\u001b[36m(DefaultActor pid=1122112)\u001b[0m Epoch [1/1] - loss 1.1448 -accuracy 0.5807\n",
      "\u001b[2m\u001b[36m(DefaultActor pid=1122112)\u001b[0m client 1\n",
      "\u001b[2m\u001b[36m(DefaultActor pid=1122112)\u001b[0m client 2\n",
      "\u001b[2m\u001b[36m(DefaultActor pid=1122112)\u001b[0m client 3\n",
      "\u001b[2m\u001b[36m(DefaultActor pid=1122112)\u001b[0m model 1\n",
      "\u001b[2m\u001b[36m(DefaultActor pid=1122112)\u001b[0m *************Metrics******************\n",
      "\u001b[2m\u001b[36m(DefaultActor pid=1122112)\u001b[0m Melanoma: 0.3566936208125163, Melanocytic nevus: 0.9503311258015913, Basal cell carcinoma: 0.0, Actinic keratosis: 0.012195121943783463, Benign keratosis: 0.040089086850759674, Dermatofibroma: 0.0, Vascular lesion: 0.0, Squamous cell carcinoma: 0.0\n",
      "\u001b[2m\u001b[36m(DefaultActor pid=1122112)\u001b[0m Accuracy: 0.6883579959795533\n",
      "\u001b[2m\u001b[36m(DefaultActor pid=1122112)\u001b[0m Epoch [1/1] - loss 0.8807 -accuracy 0.6884\n",
      "\u001b[2m\u001b[36m(DefaultActor pid=1122112)\u001b[0m client 1\n",
      "\u001b[2m\u001b[36m(DefaultActor pid=1122112)\u001b[0m client 2\n",
      "\u001b[2m\u001b[36m(DefaultActor pid=1122112)\u001b[0m client 3\n",
      "\u001b[2m\u001b[36m(DefaultActor pid=1122112)\u001b[0m model 1\n"
     ]
    },
    {
     "name": "stderr",
     "output_type": "stream",
     "text": [
      "DEBUG flwr 2024-03-25 19:42:48,485 | server.py:236 | fit_round 4 received 4 results and 0 failures\n"
     ]
    },
    {
     "name": "stdout",
     "output_type": "stream",
     "text": [
      "\u001b[2m\u001b[36m(DefaultActor pid=1122112)\u001b[0m *************Metrics******************\n",
      "\u001b[2m\u001b[36m(DefaultActor pid=1122112)\u001b[0m Melanoma: 0.3747591521796957, Melanocytic nevus: 0.820498915356806, Basal cell carcinoma: 0.651502145866824, Actinic keratosis: 0.0, Benign keratosis: 0.011594202895190087, Dermatofibroma: 0.0, Vascular lesion: 0.0, Squamous cell carcinoma: 0.0\n",
      "\u001b[2m\u001b[36m(DefaultActor pid=1122112)\u001b[0m Accuracy: 0.5744772579306788\n",
      "\u001b[2m\u001b[36m(DefaultActor pid=1122112)\u001b[0m Epoch [1/1] - loss 1.1885 -accuracy 0.5745\n",
      "\u001b[2m\u001b[36m(DefaultActor pid=1122112)\u001b[0m client 1\n",
      "[2024-03-25 19:42:48,485][flwr][DEBUG] - fit_round 4 received 4 results and 0 failures\n",
      "!!!!!!!!!!!!!!!!!!\n",
      "model 2\n"
     ]
    },
    {
     "name": "stderr",
     "output_type": "stream",
     "text": [
      "INFO flwr 2024-03-25 19:43:21,148 | server.py:125 | fit progress: (4, 4.18611478805542, {'accuracy': 0.5911962099342764}, 653.3306994310115)\n"
     ]
    },
    {
     "name": "stdout",
     "output_type": "stream",
     "text": [
      "*************Metrics******************\n",
      "Melanoma: 0.3701657458154513, Melanocytic nevus: 0.9417475727789613, Basal cell carcinoma: 0.28162650598168276, Actinic keratosis: 0.011560693634936016, Benign keratosis: 0.08761904760235828, Dermatofibroma: 0.0, Vascular lesion: 0.0, Squamous cell carcinoma: 0.0\n",
      "Accuracy: 0.5911962099342764\n",
      "loss 1.1602 - accuracy 0.5912\n",
      "[2024-03-25 19:43:21,148][flwr][INFO] - fit progress: (4, 4.18611478805542, {'accuracy': 0.5911962099342764}, 653.3306994310115)\n"
     ]
    },
    {
     "name": "stderr",
     "output_type": "stream",
     "text": [
      "DEBUG flwr 2024-03-25 19:43:21,150 | server.py:173 | evaluate_round 4: strategy sampled 4 clients (out of 4)\n"
     ]
    },
    {
     "name": "stdout",
     "output_type": "stream",
     "text": [
      "[2024-03-25 19:43:21,150][flwr][DEBUG] - evaluate_round 4: strategy sampled 4 clients (out of 4)\n",
      "\u001b[2m\u001b[36m(DefaultActor pid=1122112)\u001b[0m client 4\n",
      "\u001b[2m\u001b[36m(DefaultActor pid=1122112)\u001b[0m client 3\n",
      "\u001b[2m\u001b[36m(DefaultActor pid=1122112)\u001b[0m model 2\n",
      "\u001b[2m\u001b[36m(DefaultActor pid=1122112)\u001b[0m *************Metrics******************\n",
      "\u001b[2m\u001b[36m(DefaultActor pid=1122112)\u001b[0m Melanoma: 0.33783783760956904, Melanocytic nevus: 0.939163497741763, Basal cell carcinoma: 0.307228915477573, Actinic keratosis: 0.0, Benign keratosis: 0.14285714256559767, Dermatofibroma: 0.0, Vascular lesion: 0.0, Squamous cell carcinoma: 0.0\n",
      "\u001b[2m\u001b[36m(DefaultActor pid=1122112)\u001b[0m Accuracy: 0.5370650523000727\n",
      "\u001b[2m\u001b[36m(DefaultActor pid=1122112)\u001b[0m loss 1.2781 - accuracy 0.5371\n",
      "\u001b[2m\u001b[36m(DefaultActor pid=1122112)\u001b[0m client 4\n",
      "\u001b[2m\u001b[36m(DefaultActor pid=1122112)\u001b[0m client 3\n",
      "\u001b[2m\u001b[36m(DefaultActor pid=1122112)\u001b[0m model 2\n",
      "\u001b[2m\u001b[36m(DefaultActor pid=1122112)\u001b[0m *************Metrics******************\n",
      "\u001b[2m\u001b[36m(DefaultActor pid=1122112)\u001b[0m Melanoma: 0.306122448667222, Melanocytic nevus: 0.9363636360798899, Basal cell carcinoma: 0.24444444390123457, Actinic keratosis: 0.0, Benign keratosis: 0.06382978716613853, Dermatofibroma: 0.0, Vascular lesion: 0.0, Squamous cell carcinoma: 0.0\n",
      "\u001b[2m\u001b[36m(DefaultActor pid=1122112)\u001b[0m Accuracy: 0.5788617878648954\n",
      "\u001b[2m\u001b[36m(DefaultActor pid=1122112)\u001b[0m loss 1.1908 - accuracy 0.5789\n",
      "\u001b[2m\u001b[36m(DefaultActor pid=1122112)\u001b[0m client 4\n",
      "\u001b[2m\u001b[36m(DefaultActor pid=1122112)\u001b[0m client 3\n",
      "\u001b[2m\u001b[36m(DefaultActor pid=1122112)\u001b[0m model 2\n",
      "\u001b[2m\u001b[36m(DefaultActor pid=1122112)\u001b[0m *************Metrics******************\n",
      "\u001b[2m\u001b[36m(DefaultActor pid=1122112)\u001b[0m Melanoma: 0.4150943393615759, Melanocytic nevus: 0.9498069496235895, Basal cell carcinoma: 0.10344827550535077, Actinic keratosis: 0.0, Benign keratosis: 0.12307692288757398, Dermatofibroma: 0.0, Vascular lesion: 0.0, Squamous cell carcinoma: 0.0\n",
      "\u001b[2m\u001b[36m(DefaultActor pid=1122112)\u001b[0m Accuracy: 0.7103620467312242\n",
      "\u001b[2m\u001b[36m(DefaultActor pid=1122112)\u001b[0m loss 0.9120 - accuracy 0.7104\n",
      "\u001b[2m\u001b[36m(DefaultActor pid=1122112)\u001b[0m client 4\n",
      "\u001b[2m\u001b[36m(DefaultActor pid=1122112)\u001b[0m client 3\n",
      "\u001b[2m\u001b[36m(DefaultActor pid=1122112)\u001b[0m model 2\n"
     ]
    },
    {
     "name": "stderr",
     "output_type": "stream",
     "text": [
      "DEBUG flwr 2024-03-25 19:43:39,362 | server.py:187 | evaluate_round 4 received 4 results and 0 failures\n"
     ]
    },
    {
     "name": "stdout",
     "output_type": "stream",
     "text": [
      "[2024-03-25 19:43:39,362][flwr][DEBUG] - evaluate_round 4 received 4 results and 0 failures\n"
     ]
    },
    {
     "name": "stderr",
     "output_type": "stream",
     "text": [
      "DEBUG flwr 2024-03-25 19:43:39,364 | server.py:222 | fit_round 5: strategy sampled 4 clients (out of 4)\n"
     ]
    },
    {
     "name": "stdout",
     "output_type": "stream",
     "text": [
      "weighted [(42, {'accuracy': 0.5370650523000727}), (29, {'accuracy': 0.48571428486028245}), (39, {'accuracy': 0.5788617878648954}), (51, {'accuracy': 0.7103620467312242})]\n",
      "[2024-03-25 19:43:39,364][flwr][DEBUG] - fit_round 5: strategy sampled 4 clients (out of 4)\n",
      "\u001b[2m\u001b[36m(DefaultActor pid=1122112)\u001b[0m *************Metrics******************\n",
      "\u001b[2m\u001b[36m(DefaultActor pid=1122112)\u001b[0m Melanoma: 0.42553191398823, Melanocytic nevus: 0.9488636358245093, Basal cell carcinoma: 0.31521739096172025, Actinic keratosis: 0.0, Benign keratosis: 0.09259259242112483, Dermatofibroma: 0.0, Vascular lesion: 0.0, Squamous cell carcinoma: 0.0\n",
      "\u001b[2m\u001b[36m(DefaultActor pid=1122112)\u001b[0m Accuracy: 0.48571428486028245\n",
      "\u001b[2m\u001b[36m(DefaultActor pid=1122112)\u001b[0m loss 1.6017 - accuracy 0.4857\n",
      "\u001b[2m\u001b[36m(DefaultActor pid=1122112)\u001b[0m client 2\n",
      "\u001b[2m\u001b[36m(DefaultActor pid=1122112)\u001b[0m client 3\n",
      "\u001b[2m\u001b[36m(DefaultActor pid=1122112)\u001b[0m model 1\n",
      "\u001b[2m\u001b[36m(DefaultActor pid=1122112)\u001b[0m *************Metrics******************\n",
      "\u001b[2m\u001b[36m(DefaultActor pid=1122112)\u001b[0m Melanoma: 0.13190184045033687, Melanocytic nevus: 0.8955465586319397, Basal cell carcinoma: 0.6263565890501773, Actinic keratosis: 0.006289308172145089, Benign keratosis: 0.1536458332933214, Dermatofibroma: 0.0, Vascular lesion: 0.0, Squamous cell carcinoma: 0.02711864405860385\n",
      "\u001b[2m\u001b[36m(DefaultActor pid=1122112)\u001b[0m Accuracy: 0.5097484275447176\n",
      "\u001b[2m\u001b[36m(DefaultActor pid=1122112)\u001b[0m Epoch [1/1] - loss 1.4230 -accuracy 0.5097\n",
      "\u001b[2m\u001b[36m(DefaultActor pid=1122112)\u001b[0m client 1\n",
      "\u001b[2m\u001b[36m(DefaultActor pid=1122112)\u001b[0m client 2\n",
      "\u001b[2m\u001b[36m(DefaultActor pid=1122112)\u001b[0m client 3\n",
      "\u001b[2m\u001b[36m(DefaultActor pid=1122112)\u001b[0m model 1\n",
      "\u001b[2m\u001b[36m(DefaultActor pid=1122112)\u001b[0m *************Metrics******************\n",
      "\u001b[2m\u001b[36m(DefaultActor pid=1122112)\u001b[0m Melanoma: 0.4007707128708314, Melanocytic nevus: 0.8242950108012855, Basal cell carcinoma: 0.6789699570232645, Actinic keratosis: 0.0, Benign keratosis: 0.023188405790380173, Dermatofibroma: 0.0, Vascular lesion: 0.0, Squamous cell carcinoma: 0.0\n",
      "\u001b[2m\u001b[36m(DefaultActor pid=1122112)\u001b[0m Accuracy: 0.589566716863192\n",
      "\u001b[2m\u001b[36m(DefaultActor pid=1122112)\u001b[0m Epoch [1/1] - loss 1.1617 -accuracy 0.5896\n",
      "\u001b[2m\u001b[36m(DefaultActor pid=1122112)\u001b[0m client 1\n",
      "\u001b[2m\u001b[36m(DefaultActor pid=1122112)\u001b[0m client 2\n",
      "\u001b[2m\u001b[36m(DefaultActor pid=1122112)\u001b[0m client 3\n",
      "\u001b[2m\u001b[36m(DefaultActor pid=1122112)\u001b[0m model 1\n",
      "\u001b[2m\u001b[36m(DefaultActor pid=1122112)\u001b[0m *************Metrics******************\n",
      "\u001b[2m\u001b[36m(DefaultActor pid=1122112)\u001b[0m Melanoma: 0.30377906972328794, Melanocytic nevus: 0.9316017315614026, Basal cell carcinoma: 0.12341772147993112, Actinic keratosis: 0.047368421027700836, Benign keratosis: 0.2640364187763223, Dermatofibroma: 0.0, Vascular lesion: 0.0, Squamous cell carcinoma: 0.0\n",
      "\u001b[2m\u001b[36m(DefaultActor pid=1122112)\u001b[0m Accuracy: 0.599999999888502\n",
      "\u001b[2m\u001b[36m(DefaultActor pid=1122112)\u001b[0m Epoch [1/1] - loss 1.1023 -accuracy 0.6000\n",
      "\u001b[2m\u001b[36m(DefaultActor pid=1122112)\u001b[0m client 1\n",
      "\u001b[2m\u001b[36m(DefaultActor pid=1122112)\u001b[0m client 2\n",
      "\u001b[2m\u001b[36m(DefaultActor pid=1122112)\u001b[0m client 3\n",
      "\u001b[2m\u001b[36m(DefaultActor pid=1122112)\u001b[0m model 1\n"
     ]
    },
    {
     "name": "stderr",
     "output_type": "stream",
     "text": [
      "DEBUG flwr 2024-03-25 19:45:34,802 | server.py:236 | fit_round 5 received 4 results and 0 failures\n"
     ]
    },
    {
     "name": "stdout",
     "output_type": "stream",
     "text": [
      "\u001b[2m\u001b[36m(DefaultActor pid=1122112)\u001b[0m *************Metrics******************\n",
      "\u001b[2m\u001b[36m(DefaultActor pid=1122112)\u001b[0m Melanoma: 0.39892183284825505, Melanocytic nevus: 0.9472958057133749, Basal cell carcinoma: 0.019900497502537067, Actinic keratosis: 0.006097560971891731, Benign keratosis: 0.055679287292721764, Dermatofibroma: 0.0, Vascular lesion: 0.0, Squamous cell carcinoma: 0.0\n",
      "\u001b[2m\u001b[36m(DefaultActor pid=1122112)\u001b[0m Accuracy: 0.6965591013447591\n",
      "\u001b[2m\u001b[36m(DefaultActor pid=1122112)\u001b[0m Epoch [1/1] - loss 0.8576 -accuracy 0.6966\n",
      "\u001b[2m\u001b[36m(DefaultActor pid=1122112)\u001b[0m client 1\n",
      "[2024-03-25 19:45:34,802][flwr][DEBUG] - fit_round 5 received 4 results and 0 failures\n",
      "!!!!!!!!!!!!!!!!!!\n",
      "model 2\n"
     ]
    },
    {
     "name": "stderr",
     "output_type": "stream",
     "text": [
      "INFO flwr 2024-03-25 19:46:07,613 | server.py:125 | fit progress: (5, 4.234904766082764, {'accuracy': 0.6065929726637833}, 819.7955475361086)\n"
     ]
    },
    {
     "name": "stdout",
     "output_type": "stream",
     "text": [
      "*************Metrics******************\n",
      "Melanoma: 0.43314917122285646, Melanocytic nevus: 0.919999999964272, Basal cell carcinoma: 0.34939759030882567, Actinic keratosis: 0.011560693634936016, Benign keratosis: 0.14857142854312927, Dermatofibroma: 0.0, Vascular lesion: 0.0, Squamous cell carcinoma: 0.0\n",
      "Accuracy: 0.6065929726637833\n",
      "loss 1.1361 - accuracy 0.6066\n",
      "[2024-03-25 19:46:07,613][flwr][INFO] - fit progress: (5, 4.234904766082764, {'accuracy': 0.6065929726637833}, 819.7955475361086)\n"
     ]
    },
    {
     "name": "stderr",
     "output_type": "stream",
     "text": [
      "DEBUG flwr 2024-03-25 19:46:07,615 | server.py:173 | evaluate_round 5: strategy sampled 4 clients (out of 4)\n"
     ]
    },
    {
     "name": "stdout",
     "output_type": "stream",
     "text": [
      "[2024-03-25 19:46:07,615][flwr][DEBUG] - evaluate_round 5: strategy sampled 4 clients (out of 4)\n",
      "\u001b[2m\u001b[36m(DefaultActor pid=1122112)\u001b[0m client 4\n",
      "\u001b[2m\u001b[36m(DefaultActor pid=1122112)\u001b[0m client 3\n",
      "\u001b[2m\u001b[36m(DefaultActor pid=1122112)\u001b[0m model 2\n",
      "\u001b[2m\u001b[36m(DefaultActor pid=1122112)\u001b[0m *************Metrics******************\n",
      "\u001b[2m\u001b[36m(DefaultActor pid=1122112)\u001b[0m Melanoma: 0.46540880473873664, Melanocytic nevus: 0.915057914881263, Basal cell carcinoma: 0.20689655101070153, Actinic keratosis: 0.0, Benign keratosis: 0.21538461505325446, Dermatofibroma: 0.0, Vascular lesion: 0.0, Squamous cell carcinoma: 0.0\n",
      "\u001b[2m\u001b[36m(DefaultActor pid=1122112)\u001b[0m Accuracy: 0.7091136072817844\n",
      "\u001b[2m\u001b[36m(DefaultActor pid=1122112)\u001b[0m loss 0.9041 - accuracy 0.7091\n",
      "\u001b[2m\u001b[36m(DefaultActor pid=1122112)\u001b[0m client 4\n",
      "\u001b[2m\u001b[36m(DefaultActor pid=1122112)\u001b[0m client 3\n",
      "\u001b[2m\u001b[36m(DefaultActor pid=1122112)\u001b[0m model 2\n",
      "\u001b[2m\u001b[36m(DefaultActor pid=1122112)\u001b[0m *************Metrics******************\n",
      "\u001b[2m\u001b[36m(DefaultActor pid=1122112)\u001b[0m Melanoma: 0.46808510538705295, Melanocytic nevus: 0.9318181812887397, Basal cell carcinoma: 0.36956521698960304, Actinic keratosis: 0.0, Benign keratosis: 0.14814814787379973, Dermatofibroma: 0.0, Vascular lesion: 0.0, Squamous cell carcinoma: 0.0\n",
      "\u001b[2m\u001b[36m(DefaultActor pid=1122112)\u001b[0m Accuracy: 0.501098900217848\n",
      "\u001b[2m\u001b[36m(DefaultActor pid=1122112)\u001b[0m loss 1.5692 - accuracy 0.5011\n",
      "\u001b[2m\u001b[36m(DefaultActor pid=1122112)\u001b[0m client 4\n",
      "\u001b[2m\u001b[36m(DefaultActor pid=1122112)\u001b[0m client 3\n",
      "\u001b[2m\u001b[36m(DefaultActor pid=1122112)\u001b[0m model 2\n",
      "\u001b[2m\u001b[36m(DefaultActor pid=1122112)\u001b[0m *************Metrics******************\n",
      "\u001b[2m\u001b[36m(DefaultActor pid=1122112)\u001b[0m Melanoma: 0.38775510164514787, Melanocytic nevus: 0.9090909088154271, Basal cell carcinoma: 0.2666666660740741, Actinic keratosis: 0.0, Benign keratosis: 0.10638297861023088, Dermatofibroma: 0.0, Vascular lesion: 0.0, Squamous cell carcinoma: 0.0\n",
      "\u001b[2m\u001b[36m(DefaultActor pid=1122112)\u001b[0m Accuracy: 0.5853658528970852\n",
      "\u001b[2m\u001b[36m(DefaultActor pid=1122112)\u001b[0m loss 1.1708 - accuracy 0.5854\n",
      "\u001b[2m\u001b[36m(DefaultActor pid=1122112)\u001b[0m client 4\n",
      "\u001b[2m\u001b[36m(DefaultActor pid=1122112)\u001b[0m client 3\n",
      "\u001b[2m\u001b[36m(DefaultActor pid=1122112)\u001b[0m model 2\n"
     ]
    },
    {
     "name": "stderr",
     "output_type": "stream",
     "text": [
      "DEBUG flwr 2024-03-25 19:46:25,820 | server.py:187 | evaluate_round 5 received 4 results and 0 failures\n"
     ]
    },
    {
     "name": "stdout",
     "output_type": "stream",
     "text": [
      "[2024-03-25 19:46:25,820][flwr][DEBUG] - evaluate_round 5 received 4 results and 0 failures\n"
     ]
    },
    {
     "name": "stderr",
     "output_type": "stream",
     "text": [
      "DEBUG flwr 2024-03-25 19:46:25,821 | server.py:222 | fit_round 6: strategy sampled 4 clients (out of 4)\n"
     ]
    },
    {
     "name": "stdout",
     "output_type": "stream",
     "text": [
      "weighted [(39, {'accuracy': 0.5853658528970852}), (42, {'accuracy': 0.5446293488113414}), (51, {'accuracy': 0.7091136072817844}), (29, {'accuracy': 0.501098900217848})]\n",
      "[2024-03-25 19:46:25,821][flwr][DEBUG] - fit_round 6: strategy sampled 4 clients (out of 4)\n",
      "\u001b[2m\u001b[36m(DefaultActor pid=1122112)\u001b[0m *************Metrics******************\n",
      "\u001b[2m\u001b[36m(DefaultActor pid=1122112)\u001b[0m Melanoma: 0.37837837812271735, Melanocytic nevus: 0.9011406840680075, Basal cell carcinoma: 0.34939759015096533, Actinic keratosis: 0.0, Benign keratosis: 0.1836734690129113, Dermatofibroma: 0.0, Vascular lesion: 0.0, Squamous cell carcinoma: 0.0\n",
      "\u001b[2m\u001b[36m(DefaultActor pid=1122112)\u001b[0m Accuracy: 0.5446293488113414\n",
      "\u001b[2m\u001b[36m(DefaultActor pid=1122112)\u001b[0m loss 1.2434 - accuracy 0.5446\n",
      "\u001b[2m\u001b[36m(DefaultActor pid=1122112)\u001b[0m client 2\n",
      "\u001b[2m\u001b[36m(DefaultActor pid=1122112)\u001b[0m client 3\n",
      "\u001b[2m\u001b[36m(DefaultActor pid=1122112)\u001b[0m model 1\n",
      "\u001b[2m\u001b[36m(DefaultActor pid=1122112)\u001b[0m *************Metrics******************\n",
      "\u001b[2m\u001b[36m(DefaultActor pid=1122112)\u001b[0m Melanoma: 0.4195867025678719, Melanocytic nevus: 0.9434326710556449, Basal cell carcinoma: 0.0298507462538056, Actinic keratosis: 0.036585365831350386, Benign keratosis: 0.08908685966835482, Dermatofibroma: 0.0, Vascular lesion: 0.0, Squamous cell carcinoma: 0.0\n",
      "\u001b[2m\u001b[36m(DefaultActor pid=1122112)\u001b[0m Accuracy: 0.7020859332213107\n",
      "\u001b[2m\u001b[36m(DefaultActor pid=1122112)\u001b[0m Epoch [1/1] - loss 0.8477 -accuracy 0.7021\n",
      "\u001b[2m\u001b[36m(DefaultActor pid=1122112)\u001b[0m client 1\n",
      "\u001b[2m\u001b[36m(DefaultActor pid=1122112)\u001b[0m client 2\n",
      "\u001b[2m\u001b[36m(DefaultActor pid=1122112)\u001b[0m client 3\n",
      "\u001b[2m\u001b[36m(DefaultActor pid=1122112)\u001b[0m model 1\n",
      "\u001b[2m\u001b[36m(DefaultActor pid=1122112)\u001b[0m *************Metrics******************\n",
      "\u001b[2m\u001b[36m(DefaultActor pid=1122112)\u001b[0m Melanoma: 0.3270348836733961, Melanocytic nevus: 0.9194805194407152, Basal cell carcinoma: 0.17405063285631311, Actinic keratosis: 0.03684210524376731, Benign keratosis: 0.2670713201415673, Dermatofibroma: 0.0, Vascular lesion: 0.0, Squamous cell carcinoma: 0.0\n",
      "\u001b[2m\u001b[36m(DefaultActor pid=1122112)\u001b[0m Accuracy: 0.6009291520369936\n",
      "\u001b[2m\u001b[36m(DefaultActor pid=1122112)\u001b[0m Epoch [1/1] - loss 1.0927 -accuracy 0.6009\n",
      "\u001b[2m\u001b[36m(DefaultActor pid=1122112)\u001b[0m client 1\n",
      "\u001b[2m\u001b[36m(DefaultActor pid=1122112)\u001b[0m client 2\n",
      "\u001b[2m\u001b[36m(DefaultActor pid=1122112)\u001b[0m client 3\n",
      "\u001b[2m\u001b[36m(DefaultActor pid=1122112)\u001b[0m model 1\n",
      "\u001b[2m\u001b[36m(DefaultActor pid=1122112)\u001b[0m *************Metrics******************\n",
      "\u001b[2m\u001b[36m(DefaultActor pid=1122112)\u001b[0m Melanoma: 0.42870905583538454, Melanocytic nevus: 0.8156182212139036, Basal cell carcinoma: 0.6798283261219032, Actinic keratosis: 0.0, Benign keratosis: 0.046376811580760346, Dermatofibroma: 0.0, Vascular lesion: 0.0, Squamous cell carcinoma: 0.0\n",
      "\u001b[2m\u001b[36m(DefaultActor pid=1122112)\u001b[0m Accuracy: 0.5943091182419817\n",
      "\u001b[2m\u001b[36m(DefaultActor pid=1122112)\u001b[0m Epoch [1/1] - loss 1.1372 -accuracy 0.5943\n",
      "\u001b[2m\u001b[36m(DefaultActor pid=1122112)\u001b[0m client 1\n",
      "\u001b[2m\u001b[36m(DefaultActor pid=1122112)\u001b[0m client 2\n",
      "\u001b[2m\u001b[36m(DefaultActor pid=1122112)\u001b[0m client 3\n",
      "\u001b[2m\u001b[36m(DefaultActor pid=1122112)\u001b[0m model 1\n"
     ]
    },
    {
     "name": "stderr",
     "output_type": "stream",
     "text": [
      "DEBUG flwr 2024-03-25 19:48:21,672 | server.py:236 | fit_round 6 received 4 results and 0 failures\n"
     ]
    },
    {
     "name": "stdout",
     "output_type": "stream",
     "text": [
      "\u001b[2m\u001b[36m(DefaultActor pid=1122112)\u001b[0m *************Metrics******************\n",
      "\u001b[2m\u001b[36m(DefaultActor pid=1122112)\u001b[0m Melanoma: 0.15337423308178705, Melanocytic nevus: 0.8866396760415678, Basal cell carcinoma: 0.6775193797399195, Actinic keratosis: 0.018867924516435267, Benign keratosis: 0.1770833332872179, Dermatofibroma: 0.0, Vascular lesion: 0.0, Squamous cell carcinoma: 0.033898305073254816\n",
      "\u001b[2m\u001b[36m(DefaultActor pid=1122112)\u001b[0m Accuracy: 0.5229559747112063\n",
      "\u001b[2m\u001b[36m(DefaultActor pid=1122112)\u001b[0m Epoch [1/1] - loss 1.3980 -accuracy 0.5230\n",
      "\u001b[2m\u001b[36m(DefaultActor pid=1122112)\u001b[0m client 1\n",
      "[2024-03-25 19:48:21,672][flwr][DEBUG] - fit_round 6 received 4 results and 0 failures\n",
      "!!!!!!!!!!!!!!!!!!\n",
      "model 2\n"
     ]
    },
    {
     "name": "stderr",
     "output_type": "stream",
     "text": [
      "INFO flwr 2024-03-25 19:48:54,220 | server.py:125 | fit progress: (6, 4.112081050872803, {'accuracy': 0.6135017764526647}, 986.402400580002)\n"
     ]
    },
    {
     "name": "stdout",
     "output_type": "stream",
     "text": [
      "*************Metrics******************\n",
      "Melanoma: 0.3988950275802326, Melanocytic nevus: 0.9335922329734527, Basal cell carcinoma: 0.3915662650012702, Actinic keratosis: 0.011560693634936016, Benign keratosis: 0.15428571425632653, Dermatofibroma: 0.0, Vascular lesion: 0.0, Squamous cell carcinoma: 0.0\n",
      "Accuracy: 0.6135017764526647\n",
      "loss 1.1147 - accuracy 0.6135\n",
      "[2024-03-25 19:48:54,220][flwr][INFO] - fit progress: (6, 4.112081050872803, {'accuracy': 0.6135017764526647}, 986.402400580002)\n"
     ]
    },
    {
     "name": "stderr",
     "output_type": "stream",
     "text": [
      "DEBUG flwr 2024-03-25 19:48:54,222 | server.py:173 | evaluate_round 6: strategy sampled 4 clients (out of 4)\n"
     ]
    },
    {
     "name": "stdout",
     "output_type": "stream",
     "text": [
      "[2024-03-25 19:48:54,222][flwr][DEBUG] - evaluate_round 6: strategy sampled 4 clients (out of 4)\n",
      "\u001b[2m\u001b[36m(DefaultActor pid=1122112)\u001b[0m client 4\n",
      "\u001b[2m\u001b[36m(DefaultActor pid=1122112)\u001b[0m client 3\n",
      "\u001b[2m\u001b[36m(DefaultActor pid=1122112)\u001b[0m model 2\n",
      "\u001b[2m\u001b[36m(DefaultActor pid=1122112)\u001b[0m *************Metrics******************\n",
      "\u001b[2m\u001b[36m(DefaultActor pid=1122112)\u001b[0m Melanoma: 0.34693877515618493, Melanocytic nevus: 0.9272727269917357, Basal cell carcinoma: 0.33333333259259257, Actinic keratosis: 0.0, Benign keratosis: 0.12765957433227706, Dermatofibroma: 0.0, Vascular lesion: 0.0, Squamous cell carcinoma: 0.0\n",
      "\u001b[2m\u001b[36m(DefaultActor pid=1122112)\u001b[0m Accuracy: 0.5967479667034175\n",
      "\u001b[2m\u001b[36m(DefaultActor pid=1122112)\u001b[0m loss 1.1528 - accuracy 0.5967\n",
      "\u001b[2m\u001b[36m(DefaultActor pid=1122112)\u001b[0m client 4\n",
      "\u001b[2m\u001b[36m(DefaultActor pid=1122112)\u001b[0m client 3\n",
      "\u001b[2m\u001b[36m(DefaultActor pid=1122112)\u001b[0m model 2\n",
      "\u001b[2m\u001b[36m(DefaultActor pid=1122112)\u001b[0m *************Metrics******************\n",
      "\u001b[2m\u001b[36m(DefaultActor pid=1122112)\u001b[0m Melanoma: 0.44680850968764146, Melanocytic nevus: 0.9318181812887397, Basal cell carcinoma: 0.4565217386342155, Actinic keratosis: 0.0, Benign keratosis: 0.14814814787379973, Dermatofibroma: 0.0, Vascular lesion: 0.0, Squamous cell carcinoma: 0.0\n",
      "\u001b[2m\u001b[36m(DefaultActor pid=1122112)\u001b[0m Accuracy: 0.5164835155754135\n",
      "\u001b[2m\u001b[36m(DefaultActor pid=1122112)\u001b[0m loss 1.5309 - accuracy 0.5165\n",
      "\u001b[2m\u001b[36m(DefaultActor pid=1122112)\u001b[0m client 4\n",
      "\u001b[2m\u001b[36m(DefaultActor pid=1122112)\u001b[0m client 3\n",
      "\u001b[2m\u001b[36m(DefaultActor pid=1122112)\u001b[0m model 2\n",
      "\u001b[2m\u001b[36m(DefaultActor pid=1122112)\u001b[0m *************Metrics******************\n",
      "\u001b[2m\u001b[36m(DefaultActor pid=1122112)\u001b[0m Melanoma: 0.3513513511139518, Melanocytic nevus: 0.9201520909048853, Basal cell carcinoma: 0.42168674673392365, Actinic keratosis: 0.07142857091836735, Benign keratosis: 0.1836734690129113, Dermatofibroma: 0.0, Vascular lesion: 0.0, Squamous cell carcinoma: 0.0\n",
      "\u001b[2m\u001b[36m(DefaultActor pid=1122112)\u001b[0m Accuracy: 0.5658093790428935\n",
      "\u001b[2m\u001b[36m(DefaultActor pid=1122112)\u001b[0m loss 1.2172 - accuracy 0.5658\n",
      "\u001b[2m\u001b[36m(DefaultActor pid=1122112)\u001b[0m client 4\n",
      "\u001b[2m\u001b[36m(DefaultActor pid=1122112)\u001b[0m client 3\n",
      "\u001b[2m\u001b[36m(DefaultActor pid=1122112)\u001b[0m model 2\n"
     ]
    },
    {
     "name": "stderr",
     "output_type": "stream",
     "text": [
      "DEBUG flwr 2024-03-25 19:49:12,507 | server.py:187 | evaluate_round 6 received 4 results and 0 failures\n"
     ]
    },
    {
     "name": "stdout",
     "output_type": "stream",
     "text": [
      "[2024-03-25 19:49:12,507][flwr][DEBUG] - evaluate_round 6 received 4 results and 0 failures\n"
     ]
    },
    {
     "name": "stderr",
     "output_type": "stream",
     "text": [
      "DEBUG flwr 2024-03-25 19:49:12,508 | server.py:222 | fit_round 7: strategy sampled 4 clients (out of 4)\n"
     ]
    },
    {
     "name": "stdout",
     "output_type": "stream",
     "text": [
      "weighted [(29, {'accuracy': 0.5164835155754135}), (51, {'accuracy': 0.7116104861806639}), (42, {'accuracy': 0.5658093790428935}), (39, {'accuracy': 0.5967479667034175})]\n",
      "[2024-03-25 19:49:12,508][flwr][DEBUG] - fit_round 7: strategy sampled 4 clients (out of 4)\n",
      "\u001b[2m\u001b[36m(DefaultActor pid=1122112)\u001b[0m *************Metrics******************\n",
      "\u001b[2m\u001b[36m(DefaultActor pid=1122112)\u001b[0m Melanoma: 0.421383647533721, Melanocytic nevus: 0.930501930322297, Basal cell carcinoma: 0.20689655101070153, Actinic keratosis: 0.0, Benign keratosis: 0.2307692304142012, Dermatofibroma: 0.0, Vascular lesion: 0.0, Squamous cell carcinoma: 0.0\n",
      "\u001b[2m\u001b[36m(DefaultActor pid=1122112)\u001b[0m Accuracy: 0.7116104861806639\n",
      "\u001b[2m\u001b[36m(DefaultActor pid=1122112)\u001b[0m loss 0.8845 - accuracy 0.7116\n",
      "\u001b[2m\u001b[36m(DefaultActor pid=1122112)\u001b[0m client 2\n",
      "\u001b[2m\u001b[36m(DefaultActor pid=1122112)\u001b[0m client 3\n",
      "\u001b[2m\u001b[36m(DefaultActor pid=1122112)\u001b[0m model 1\n",
      "\u001b[2m\u001b[36m(DefaultActor pid=1122112)\u001b[0m *************Metrics******************\n",
      "\u001b[2m\u001b[36m(DefaultActor pid=1122112)\u001b[0m Melanoma: 0.3531976743672678, Melanocytic nevus: 0.922510822470887, Basal cell carcinoma: 0.202531645505528, Actinic keratosis: 0.06315789470360111, Benign keratosis: 0.2959028831113956, Dermatofibroma: 0.0, Vascular lesion: 0.0, Squamous cell carcinoma: 0.0\n",
      "\u001b[2m\u001b[36m(DefaultActor pid=1122112)\u001b[0m Accuracy: 0.6144018581901229\n",
      "\u001b[2m\u001b[36m(DefaultActor pid=1122112)\u001b[0m Epoch [1/1] - loss 1.0737 -accuracy 0.6144\n",
      "\u001b[2m\u001b[36m(DefaultActor pid=1122112)\u001b[0m client 1\n",
      "\u001b[2m\u001b[36m(DefaultActor pid=1122112)\u001b[0m client 2\n",
      "\u001b[2m\u001b[36m(DefaultActor pid=1122112)\u001b[0m client 3\n",
      "\u001b[2m\u001b[36m(DefaultActor pid=1122112)\u001b[0m model 1\n",
      "\u001b[2m\u001b[36m(DefaultActor pid=1122112)\u001b[0m *************Metrics******************\n",
      "\u001b[2m\u001b[36m(DefaultActor pid=1122112)\u001b[0m Melanoma: 0.15950920240505853, Melanocytic nevus: 0.8874493926406924, Basal cell carcinoma: 0.7054263564797789, Actinic keratosis: 0.018867924516435267, Benign keratosis: 0.22395833327501088, Dermatofibroma: 0.0, Vascular lesion: 0.0, Squamous cell carcinoma: 0.020338983043952888\n",
      "\u001b[2m\u001b[36m(DefaultActor pid=1122112)\u001b[0m Accuracy: 0.5339622640166135\n",
      "\u001b[2m\u001b[36m(DefaultActor pid=1122112)\u001b[0m Epoch [1/1] - loss 1.3678 -accuracy 0.5340\n",
      "\u001b[2m\u001b[36m(DefaultActor pid=1122112)\u001b[0m client 1\n",
      "\u001b[2m\u001b[36m(DefaultActor pid=1122112)\u001b[0m client 2\n",
      "\u001b[2m\u001b[36m(DefaultActor pid=1122112)\u001b[0m client 3\n",
      "\u001b[2m\u001b[36m(DefaultActor pid=1122112)\u001b[0m model 1\n",
      "\u001b[2m\u001b[36m(DefaultActor pid=1122112)\u001b[0m *************Metrics******************\n",
      "\u001b[2m\u001b[36m(DefaultActor pid=1122112)\u001b[0m Melanoma: 0.4474393530595293, Melanocytic nevus: 0.9381898454487255, Basal cell carcinoma: 0.0447761193807084, Actinic keratosis: 0.024390243887566925, Benign keratosis: 0.08463251668493708, Dermatofibroma: 0.0, Vascular lesion: 0.0, Squamous cell carcinoma: 0.0\n",
      "\u001b[2m\u001b[36m(DefaultActor pid=1122112)\u001b[0m Accuracy: 0.7040470671129904\n",
      "\u001b[2m\u001b[36m(DefaultActor pid=1122112)\u001b[0m Epoch [1/1] - loss 0.8317 -accuracy 0.7040\n",
      "\u001b[2m\u001b[36m(DefaultActor pid=1122112)\u001b[0m client 1\n",
      "\u001b[2m\u001b[36m(DefaultActor pid=1122112)\u001b[0m client 2\n",
      "\u001b[2m\u001b[36m(DefaultActor pid=1122112)\u001b[0m client 3\n",
      "\u001b[2m\u001b[36m(DefaultActor pid=1122112)\u001b[0m model 1\n"
     ]
    },
    {
     "name": "stderr",
     "output_type": "stream",
     "text": [
      "DEBUG flwr 2024-03-25 19:51:07,965 | server.py:236 | fit_round 7 received 4 results and 0 failures\n"
     ]
    },
    {
     "name": "stdout",
     "output_type": "stream",
     "text": [
      "\u001b[2m\u001b[36m(DefaultActor pid=1122112)\u001b[0m *************Metrics******************\n",
      "\u001b[2m\u001b[36m(DefaultActor pid=1122112)\u001b[0m Melanoma: 0.4402697494758893, Melanocytic nevus: 0.8063991322773103, Basal cell carcinoma: 0.7124463518701764, Actinic keratosis: 0.0, Benign keratosis: 0.066666666647343, Dermatofibroma: 0.0, Vascular lesion: 0.0, Squamous cell carcinoma: 0.0\n",
      "\u001b[2m\u001b[36m(DefaultActor pid=1122112)\u001b[0m Accuracy: 0.6029316662034179\n",
      "\u001b[2m\u001b[36m(DefaultActor pid=1122112)\u001b[0m Epoch [1/1] - loss 1.1181 -accuracy 0.6029\n",
      "\u001b[2m\u001b[36m(DefaultActor pid=1122112)\u001b[0m client 1\n",
      "[2024-03-25 19:51:07,965][flwr][DEBUG] - fit_round 7 received 4 results and 0 failures\n",
      "!!!!!!!!!!!!!!!!!!\n",
      "model 2\n"
     ]
    },
    {
     "name": "stderr",
     "output_type": "stream",
     "text": [
      "INFO flwr 2024-03-25 19:51:40,436 | server.py:125 | fit progress: (7, 4.016515731811523, {'accuracy': 0.6117252269069523}, 1152.617868338013)\n"
     ]
    },
    {
     "name": "stdout",
     "output_type": "stream",
     "text": [
      "*************Metrics******************\n",
      "Melanoma: 0.43425414359842496, Melanocytic nevus: 0.9126213591878595, Basal cell carcinoma: 0.3885542168089527, Actinic keratosis: 0.02312138726987203, Benign keratosis: 0.17904761901351476, Dermatofibroma: 0.0, Vascular lesion: 0.0, Squamous cell carcinoma: 0.0\n",
      "Accuracy: 0.6117252269069523\n",
      "loss 1.1029 - accuracy 0.6117\n",
      "[2024-03-25 19:51:40,436][flwr][INFO] - fit progress: (7, 4.016515731811523, {'accuracy': 0.6117252269069523}, 1152.617868338013)\n"
     ]
    },
    {
     "name": "stderr",
     "output_type": "stream",
     "text": [
      "DEBUG flwr 2024-03-25 19:51:40,437 | server.py:173 | evaluate_round 7: strategy sampled 4 clients (out of 4)\n"
     ]
    },
    {
     "name": "stdout",
     "output_type": "stream",
     "text": [
      "[2024-03-25 19:51:40,437][flwr][DEBUG] - evaluate_round 7: strategy sampled 4 clients (out of 4)\n",
      "\u001b[2m\u001b[36m(DefaultActor pid=1122112)\u001b[0m client 4\n",
      "\u001b[2m\u001b[36m(DefaultActor pid=1122112)\u001b[0m client 3\n",
      "\u001b[2m\u001b[36m(DefaultActor pid=1122112)\u001b[0m model 2\n",
      "\u001b[2m\u001b[36m(DefaultActor pid=1122112)\u001b[0m *************Metrics******************\n",
      "\u001b[2m\u001b[36m(DefaultActor pid=1122112)\u001b[0m Melanoma: 0.3918918916271001, Melanocytic nevus: 0.9087452468027586, Basal cell carcinoma: 0.3975903612062709, Actinic keratosis: 0.07142857091836735, Benign keratosis: 0.2653061219075385, Dermatofibroma: 0.0, Vascular lesion: 0.0, Squamous cell carcinoma: 0.0\n",
      "\u001b[2m\u001b[36m(DefaultActor pid=1122112)\u001b[0m Accuracy: 0.5703479569496548\n",
      "\u001b[2m\u001b[36m(DefaultActor pid=1122112)\u001b[0m loss 1.2088 - accuracy 0.5703\n",
      "\u001b[2m\u001b[36m(DefaultActor pid=1122112)\u001b[0m client 4\n",
      "\u001b[2m\u001b[36m(DefaultActor pid=1122112)\u001b[0m client 3\n",
      "\u001b[2m\u001b[36m(DefaultActor pid=1122112)\u001b[0m model 2\n",
      "\u001b[2m\u001b[36m(DefaultActor pid=1122112)\u001b[0m *************Metrics******************\n",
      "\u001b[2m\u001b[36m(DefaultActor pid=1122112)\u001b[0m Melanoma: 0.37755102002290714, Melanocytic nevus: 0.9030303027566576, Basal cell carcinoma: 0.33333333259259257, Actinic keratosis: 0.0, Benign keratosis: 0.13829787219330014, Dermatofibroma: 0.0, Vascular lesion: 0.0, Squamous cell carcinoma: 0.0\n",
      "\u001b[2m\u001b[36m(DefaultActor pid=1122112)\u001b[0m Accuracy: 0.5902439016712276\n",
      "\u001b[2m\u001b[36m(DefaultActor pid=1122112)\u001b[0m loss 1.1349 - accuracy 0.5902\n",
      "\u001b[2m\u001b[36m(DefaultActor pid=1122112)\u001b[0m client 4\n",
      "\u001b[2m\u001b[36m(DefaultActor pid=1122112)\u001b[0m client 3\n",
      "\u001b[2m\u001b[36m(DefaultActor pid=1122112)\u001b[0m model 2\n",
      "\u001b[2m\u001b[36m(DefaultActor pid=1122112)\u001b[0m *************Metrics******************\n",
      "\u001b[2m\u001b[36m(DefaultActor pid=1122112)\u001b[0m Melanoma: 0.4779874210830268, Melanocytic nevus: 0.9189189187415215, Basal cell carcinoma: 0.17241379250891795, Actinic keratosis: 0.0, Benign keratosis: 0.24615384577514796, Dermatofibroma: 0.0, Vascular lesion: 0.0, Squamous cell carcinoma: 0.0\n",
      "\u001b[2m\u001b[36m(DefaultActor pid=1122112)\u001b[0m Accuracy: 0.7153558045289832\n",
      "\u001b[2m\u001b[36m(DefaultActor pid=1122112)\u001b[0m loss 0.8757 - accuracy 0.7154\n",
      "\u001b[2m\u001b[36m(DefaultActor pid=1122112)\u001b[0m client 4\n",
      "\u001b[2m\u001b[36m(DefaultActor pid=1122112)\u001b[0m client 3\n",
      "\u001b[2m\u001b[36m(DefaultActor pid=1122112)\u001b[0m model 2\n"
     ]
    },
    {
     "name": "stderr",
     "output_type": "stream",
     "text": [
      "DEBUG flwr 2024-03-25 19:51:58,850 | server.py:187 | evaluate_round 7 received 4 results and 0 failures\n"
     ]
    },
    {
     "name": "stdout",
     "output_type": "stream",
     "text": [
      "[2024-03-25 19:51:58,850][flwr][DEBUG] - evaluate_round 7 received 4 results and 0 failures\n"
     ]
    },
    {
     "name": "stderr",
     "output_type": "stream",
     "text": [
      "DEBUG flwr 2024-03-25 19:51:58,851 | server.py:222 | fit_round 8: strategy sampled 4 clients (out of 4)\n"
     ]
    },
    {
     "name": "stdout",
     "output_type": "stream",
     "text": [
      "weighted [(39, {'accuracy': 0.5902439016712276}), (51, {'accuracy': 0.7153558045289832}), (42, {'accuracy': 0.5703479569496548}), (29, {'accuracy': 0.5076923067996617})]\n",
      "[2024-03-25 19:51:58,851][flwr][DEBUG] - fit_round 8: strategy sampled 4 clients (out of 4)\n",
      "\u001b[2m\u001b[36m(DefaultActor pid=1122112)\u001b[0m *************Metrics******************\n",
      "\u001b[2m\u001b[36m(DefaultActor pid=1122112)\u001b[0m Melanoma: 0.46808510538705295, Melanocytic nevus: 0.9147727267529701, Basal cell carcinoma: 0.4130434778119093, Actinic keratosis: 0.0, Benign keratosis: 0.18518518484224966, Dermatofibroma: 0.0, Vascular lesion: 0.0, Squamous cell carcinoma: 0.0\n",
      "\u001b[2m\u001b[36m(DefaultActor pid=1122112)\u001b[0m Accuracy: 0.5076923067996617\n",
      "\u001b[2m\u001b[36m(DefaultActor pid=1122112)\u001b[0m loss 1.5023 - accuracy 0.5077\n",
      "\u001b[2m\u001b[36m(DefaultActor pid=1122112)\u001b[0m client 2\n",
      "\u001b[2m\u001b[36m(DefaultActor pid=1122112)\u001b[0m client 3\n",
      "\u001b[2m\u001b[36m(DefaultActor pid=1122112)\u001b[0m model 1\n",
      "\u001b[2m\u001b[36m(DefaultActor pid=1122112)\u001b[0m *************Metrics******************\n",
      "\u001b[2m\u001b[36m(DefaultActor pid=1122112)\u001b[0m Melanoma: 0.21779141097613763, Melanocytic nevus: 0.8850202428433183, Basal cell carcinoma: 0.6852713177232138, Actinic keratosis: 0.044025157205015625, Benign keratosis: 0.23437499993896488, Dermatofibroma: 0.0, Vascular lesion: 0.0, Squamous cell carcinoma: 0.020338983043952888\n",
      "\u001b[2m\u001b[36m(DefaultActor pid=1122112)\u001b[0m Accuracy: 0.5374213835125986\n",
      "\u001b[2m\u001b[36m(DefaultActor pid=1122112)\u001b[0m Epoch [1/1] - loss 1.3560 -accuracy 0.5374\n",
      "\u001b[2m\u001b[36m(DefaultActor pid=1122112)\u001b[0m client 1\n",
      "\u001b[2m\u001b[36m(DefaultActor pid=1122112)\u001b[0m client 2\n",
      "\u001b[2m\u001b[36m(DefaultActor pid=1122112)\u001b[0m client 3\n",
      "\u001b[2m\u001b[36m(DefaultActor pid=1122112)\u001b[0m model 1\n",
      "\u001b[2m\u001b[36m(DefaultActor pid=1122112)\u001b[0m *************Metrics******************\n",
      "\u001b[2m\u001b[36m(DefaultActor pid=1122112)\u001b[0m Melanoma: 0.43755615449797347, Melanocytic nevus: 0.9340507726011575, Basal cell carcinoma: 0.0597014925076112, Actinic keratosis: 0.030487804859458657, Benign keratosis: 0.11804008906057015, Dermatofibroma: 0.0, Vascular lesion: 0.0, Squamous cell carcinoma: 0.0\n",
      "\u001b[2m\u001b[36m(DefaultActor pid=1122112)\u001b[0m Accuracy: 0.7027990728182851\n",
      "\u001b[2m\u001b[36m(DefaultActor pid=1122112)\u001b[0m Epoch [1/1] - loss 0.8327 -accuracy 0.7028\n",
      "\u001b[2m\u001b[36m(DefaultActor pid=1122112)\u001b[0m client 1\n",
      "\u001b[2m\u001b[36m(DefaultActor pid=1122112)\u001b[0m client 2\n",
      "\u001b[2m\u001b[36m(DefaultActor pid=1122112)\u001b[0m client 3\n",
      "\u001b[2m\u001b[36m(DefaultActor pid=1122112)\u001b[0m model 1\n",
      "\u001b[2m\u001b[36m(DefaultActor pid=1122112)\u001b[0m *************Metrics******************\n",
      "\u001b[2m\u001b[36m(DefaultActor pid=1122112)\u001b[0m Melanoma: 0.33139534878904137, Melanocytic nevus: 0.91558441554478, Basal cell carcinoma: 0.21835443031064736, Actinic keratosis: 0.07368421048753462, Benign keratosis: 0.33232169949433665, Dermatofibroma: 0.0, Vascular lesion: 0.0, Squamous cell carcinoma: 0.0\n",
      "\u001b[2m\u001b[36m(DefaultActor pid=1122112)\u001b[0m Accuracy: 0.6144018581901229\n",
      "\u001b[2m\u001b[36m(DefaultActor pid=1122112)\u001b[0m Epoch [1/1] - loss 1.0556 -accuracy 0.6144\n",
      "\u001b[2m\u001b[36m(DefaultActor pid=1122112)\u001b[0m client 1\n",
      "\u001b[2m\u001b[36m(DefaultActor pid=1122112)\u001b[0m client 2\n",
      "\u001b[2m\u001b[36m(DefaultActor pid=1122112)\u001b[0m client 3\n",
      "\u001b[2m\u001b[36m(DefaultActor pid=1122112)\u001b[0m model 1\n"
     ]
    },
    {
     "name": "stderr",
     "output_type": "stream",
     "text": [
      "DEBUG flwr 2024-03-25 19:53:54,374 | server.py:236 | fit_round 8 received 4 results and 0 failures\n"
     ]
    },
    {
     "name": "stdout",
     "output_type": "stream",
     "text": [
      "\u001b[2m\u001b[36m(DefaultActor pid=1122112)\u001b[0m *************Metrics******************\n",
      "\u001b[2m\u001b[36m(DefaultActor pid=1122112)\u001b[0m Melanoma: 0.46724470130373374, Melanocytic nevus: 0.8080260303249445, Basal cell carcinoma: 0.7133047209688151, Actinic keratosis: 0.0, Benign keratosis: 0.05507246375215291, Dermatofibroma: 0.0, Vascular lesion: 0.0, Squamous cell carcinoma: 0.0\n",
      "\u001b[2m\u001b[36m(DefaultActor pid=1122112)\u001b[0m Accuracy: 0.6089674497764231\n",
      "\u001b[2m\u001b[36m(DefaultActor pid=1122112)\u001b[0m Epoch [1/1] - loss 1.1034 -accuracy 0.6090\n",
      "\u001b[2m\u001b[36m(DefaultActor pid=1122112)\u001b[0m client 1\n",
      "[2024-03-25 19:53:54,374][flwr][DEBUG] - fit_round 8 received 4 results and 0 failures\n",
      "!!!!!!!!!!!!!!!!!!\n",
      "model 2\n"
     ]
    },
    {
     "name": "stderr",
     "output_type": "stream",
     "text": [
      "INFO flwr 2024-03-25 19:54:26,895 | server.py:125 | fit progress: (8, 4.0045671463012695, {'accuracy': 0.6194236082717058}, 1319.0772175600287)\n"
     ]
    },
    {
     "name": "stdout",
     "output_type": "stream",
     "text": [
      "*************Metrics******************\n",
      "Melanoma: 0.43093922647171945, Melanocytic nevus: 0.9172815533624358, Basal cell carcinoma: 0.42018072282828606, Actinic keratosis: 0.040462427722276054, Benign keratosis: 0.19047619043990932, Dermatofibroma: 0.0, Vascular lesion: 0.0, Squamous cell carcinoma: 0.0\n",
      "Accuracy: 0.6194236082717058\n",
      "loss 1.0854 - accuracy 0.6194\n",
      "[2024-03-25 19:54:26,895][flwr][INFO] - fit progress: (8, 4.0045671463012695, {'accuracy': 0.6194236082717058}, 1319.0772175600287)\n"
     ]
    },
    {
     "name": "stderr",
     "output_type": "stream",
     "text": [
      "DEBUG flwr 2024-03-25 19:54:26,896 | server.py:173 | evaluate_round 8: strategy sampled 4 clients (out of 4)\n"
     ]
    },
    {
     "name": "stdout",
     "output_type": "stream",
     "text": [
      "[2024-03-25 19:54:26,896][flwr][DEBUG] - evaluate_round 8: strategy sampled 4 clients (out of 4)\n",
      "\u001b[2m\u001b[36m(DefaultActor pid=1122112)\u001b[0m client 4\n",
      "\u001b[2m\u001b[36m(DefaultActor pid=1122112)\u001b[0m client 3\n",
      "\u001b[2m\u001b[36m(DefaultActor pid=1122112)\u001b[0m model 2\n",
      "\u001b[2m\u001b[36m(DefaultActor pid=1122112)\u001b[0m *************Metrics******************\n",
      "\u001b[2m\u001b[36m(DefaultActor pid=1122112)\u001b[0m Melanoma: 0.4716981129108817, Melanocytic nevus: 0.9208494206716508, Basal cell carcinoma: 0.20689655101070153, Actinic keratosis: 0.0, Benign keratosis: 0.2307692304142012, Dermatofibroma: 0.0, Vascular lesion: 0.0, Squamous cell carcinoma: 0.0\n",
      "\u001b[2m\u001b[36m(DefaultActor pid=1122112)\u001b[0m Accuracy: 0.7153558045289832\n",
      "\u001b[2m\u001b[36m(DefaultActor pid=1122112)\u001b[0m loss 0.8642 - accuracy 0.7154\n",
      "\u001b[2m\u001b[36m(DefaultActor pid=1122112)\u001b[0m client 4\n",
      "\u001b[2m\u001b[36m(DefaultActor pid=1122112)\u001b[0m client 3\n",
      "\u001b[2m\u001b[36m(DefaultActor pid=1122112)\u001b[0m model 2\n",
      "\u001b[2m\u001b[36m(DefaultActor pid=1122112)\u001b[0m *************Metrics******************\n",
      "\u001b[2m\u001b[36m(DefaultActor pid=1122112)\u001b[0m Melanoma: 0.46808510538705295, Melanocytic nevus: 0.9147727267529701, Basal cell carcinoma: 0.47826086904536863, Actinic keratosis: 0.0, Benign keratosis: 0.2037037033264746, Dermatofibroma: 0.0, Vascular lesion: 0.0, Squamous cell carcinoma: 0.0\n",
      "\u001b[2m\u001b[36m(DefaultActor pid=1122112)\u001b[0m Accuracy: 0.5230769221572272\n",
      "\u001b[2m\u001b[36m(DefaultActor pid=1122112)\u001b[0m loss 1.4919 - accuracy 0.5231\n",
      "\u001b[2m\u001b[36m(DefaultActor pid=1122112)\u001b[0m client 4\n",
      "\u001b[2m\u001b[36m(DefaultActor pid=1122112)\u001b[0m client 3\n",
      "\u001b[2m\u001b[36m(DefaultActor pid=1122112)\u001b[0m model 2\n",
      "\u001b[2m\u001b[36m(DefaultActor pid=1122112)\u001b[0m *************Metrics******************\n",
      "\u001b[2m\u001b[36m(DefaultActor pid=1122112)\u001b[0m Melanoma: 0.37837837812271735, Melanocytic nevus: 0.9163498095375097, Basal cell carcinoma: 0.43975903587966325, Actinic keratosis: 0.1428571418367347, Benign keratosis: 0.2244897954602249, Dermatofibroma: 0.0, Vascular lesion: 0.0, Squamous cell carcinoma: 0.0\n",
      "\u001b[2m\u001b[36m(DefaultActor pid=1122112)\u001b[0m Accuracy: 0.5794251127631771\n",
      "\u001b[2m\u001b[36m(DefaultActor pid=1122112)\u001b[0m loss 1.1834 - accuracy 0.5794\n",
      "\u001b[2m\u001b[36m(DefaultActor pid=1122112)\u001b[0m client 4\n",
      "\u001b[2m\u001b[36m(DefaultActor pid=1122112)\u001b[0m client 3\n",
      "\u001b[2m\u001b[36m(DefaultActor pid=1122112)\u001b[0m model 2\n"
     ]
    },
    {
     "name": "stderr",
     "output_type": "stream",
     "text": [
      "DEBUG flwr 2024-03-25 19:54:45,172 | server.py:187 | evaluate_round 8 received 4 results and 0 failures\n"
     ]
    },
    {
     "name": "stdout",
     "output_type": "stream",
     "text": [
      "[2024-03-25 19:54:45,172][flwr][DEBUG] - evaluate_round 8 received 4 results and 0 failures\n"
     ]
    },
    {
     "name": "stderr",
     "output_type": "stream",
     "text": [
      "DEBUG flwr 2024-03-25 19:54:45,173 | server.py:222 | fit_round 9: strategy sampled 4 clients (out of 4)\n"
     ]
    },
    {
     "name": "stdout",
     "output_type": "stream",
     "text": [
      "weighted [(51, {'accuracy': 0.7153558045289832}), (29, {'accuracy': 0.5230769221572272}), (42, {'accuracy': 0.5794251127631771}), (39, {'accuracy': 0.6065040642517022})]\n",
      "[2024-03-25 19:54:45,173][flwr][DEBUG] - fit_round 9: strategy sampled 4 clients (out of 4)\n",
      "\u001b[2m\u001b[36m(DefaultActor pid=1122112)\u001b[0m *************Metrics******************\n",
      "\u001b[2m\u001b[36m(DefaultActor pid=1122112)\u001b[0m Melanoma: 0.40816326488962934, Melanocytic nevus: 0.9090909088154271, Basal cell carcinoma: 0.3555555547654321, Actinic keratosis: 0.037037036899862825, Benign keratosis: 0.1702127657763694, Dermatofibroma: 0.0, Vascular lesion: 0.0, Squamous cell carcinoma: 0.0\n",
      "\u001b[2m\u001b[36m(DefaultActor pid=1122112)\u001b[0m Accuracy: 0.6065040642517022\n",
      "\u001b[2m\u001b[36m(DefaultActor pid=1122112)\u001b[0m loss 1.1294 - accuracy 0.6065\n",
      "\u001b[2m\u001b[36m(DefaultActor pid=1122112)\u001b[0m client 2\n",
      "\u001b[2m\u001b[36m(DefaultActor pid=1122112)\u001b[0m client 3\n",
      "\u001b[2m\u001b[36m(DefaultActor pid=1122112)\u001b[0m model 1\n",
      "\u001b[2m\u001b[36m(DefaultActor pid=1122112)\u001b[0m *************Metrics******************\n",
      "\u001b[2m\u001b[36m(DefaultActor pid=1122112)\u001b[0m Melanoma: 0.4483378256560344, Melanocytic nevus: 0.9326710816519683, Basal cell carcinoma: 0.12437810939085667, Actinic keratosis: 0.06707317069080905, Benign keratosis: 0.11581291756886128, Dermatofibroma: 0.0, Vascular lesion: 0.0, Squamous cell carcinoma: 0.0\n",
      "\u001b[2m\u001b[36m(DefaultActor pid=1122112)\u001b[0m Accuracy: 0.7072561952993752\n",
      "\u001b[2m\u001b[36m(DefaultActor pid=1122112)\u001b[0m Epoch [1/1] - loss 0.8145 -accuracy 0.7073\n",
      "\u001b[2m\u001b[36m(DefaultActor pid=1122112)\u001b[0m client 1\n",
      "\u001b[2m\u001b[36m(DefaultActor pid=1122112)\u001b[0m client 2\n",
      "\u001b[2m\u001b[36m(DefaultActor pid=1122112)\u001b[0m client 3\n",
      "\u001b[2m\u001b[36m(DefaultActor pid=1122112)\u001b[0m model 1\n",
      "\u001b[2m\u001b[36m(DefaultActor pid=1122112)\u001b[0m *************Metrics******************\n",
      "\u001b[2m\u001b[36m(DefaultActor pid=1122112)\u001b[0m Melanoma: 0.24233128826922357, Melanocytic nevus: 0.8882591092398172, Basal cell carcinoma: 0.6821705425298961, Actinic keratosis: 0.044025157205015625, Benign keratosis: 0.22395833327501088, Dermatofibroma: 0.0, Vascular lesion: 0.0, Squamous cell carcinoma: 0.04745762710255674\n",
      "\u001b[2m\u001b[36m(DefaultActor pid=1122112)\u001b[0m Accuracy: 0.5418238992347615\n",
      "\u001b[2m\u001b[36m(DefaultActor pid=1122112)\u001b[0m Epoch [1/1] - loss 1.3405 -accuracy 0.5418\n",
      "\u001b[2m\u001b[36m(DefaultActor pid=1122112)\u001b[0m client 1\n",
      "\u001b[2m\u001b[36m(DefaultActor pid=1122112)\u001b[0m client 2\n",
      "\u001b[2m\u001b[36m(DefaultActor pid=1122112)\u001b[0m client 3\n",
      "\u001b[2m\u001b[36m(DefaultActor pid=1122112)\u001b[0m model 1\n",
      "\u001b[2m\u001b[36m(DefaultActor pid=1122112)\u001b[0m *************Metrics******************\n",
      "\u001b[2m\u001b[36m(DefaultActor pid=1122112)\u001b[0m Melanoma: 0.44315992288601547, Melanocytic nevus: 0.8080260303249445, Basal cell carcinoma: 0.7072961372783437, Actinic keratosis: 0.0, Benign keratosis: 0.0405797101331653, Dermatofibroma: 0.0, Vascular lesion: 0.0, Squamous cell carcinoma: 0.0\n",
      "\u001b[2m\u001b[36m(DefaultActor pid=1122112)\u001b[0m Accuracy: 0.6009915929120947\n",
      "\u001b[2m\u001b[36m(DefaultActor pid=1122112)\u001b[0m Epoch [1/1] - loss 1.0904 -accuracy 0.6010\n",
      "\u001b[2m\u001b[36m(DefaultActor pid=1122112)\u001b[0m client 1\n",
      "\u001b[2m\u001b[36m(DefaultActor pid=1122112)\u001b[0m client 2\n",
      "\u001b[2m\u001b[36m(DefaultActor pid=1122112)\u001b[0m client 3\n",
      "\u001b[2m\u001b[36m(DefaultActor pid=1122112)\u001b[0m model 1\n"
     ]
    },
    {
     "name": "stderr",
     "output_type": "stream",
     "text": [
      "DEBUG flwr 2024-03-25 19:56:40,632 | server.py:236 | fit_round 9 received 4 results and 0 failures\n"
     ]
    },
    {
     "name": "stdout",
     "output_type": "stream",
     "text": [
      "\u001b[2m\u001b[36m(DefaultActor pid=1122112)\u001b[0m *************Metrics******************\n",
      "\u001b[2m\u001b[36m(DefaultActor pid=1122112)\u001b[0m Melanoma: 0.34883720925162254, Melanocytic nevus: 0.9060606060213827, Basal cell carcinoma: 0.278481012570101, Actinic keratosis: 0.06842105259556787, Benign keratosis: 0.31866464335073375, Dermatofibroma: 0.0, Vascular lesion: 0.0, Squamous cell carcinoma: 0.0\n",
      "\u001b[2m\u001b[36m(DefaultActor pid=1122112)\u001b[0m Accuracy: 0.614169570153\n",
      "\u001b[2m\u001b[36m(DefaultActor pid=1122112)\u001b[0m Epoch [1/1] - loss 1.0611 -accuracy 0.6142\n",
      "\u001b[2m\u001b[36m(DefaultActor pid=1122112)\u001b[0m client 1\n",
      "[2024-03-25 19:56:40,632][flwr][DEBUG] - fit_round 9 received 4 results and 0 failures\n",
      "!!!!!!!!!!!!!!!!!!\n",
      "model 2\n"
     ]
    },
    {
     "name": "stderr",
     "output_type": "stream",
     "text": [
      "INFO flwr 2024-03-25 19:57:13,515 | server.py:125 | fit progress: (9, 4.017265319824219, {'accuracy': 0.6267272008485233}, 1485.6970941200852)\n"
     ]
    },
    {
     "name": "stdout",
     "output_type": "stream",
     "text": [
      "*************Metrics******************\n",
      "Melanoma: 0.44198895022740453, Melanocytic nevus: 0.9091262135569272, Basal cell carcinoma: 0.47289156619384165, Actinic keratosis: 0.04624277453974406, Benign keratosis: 0.21333333329269843, Dermatofibroma: 0.0, Vascular lesion: 0.0, Squamous cell carcinoma: 0.0\n",
      "Accuracy: 0.6267272008485233\n",
      "loss 1.0761 - accuracy 0.6267\n",
      "[2024-03-25 19:57:13,515][flwr][INFO] - fit progress: (9, 4.017265319824219, {'accuracy': 0.6267272008485233}, 1485.6970941200852)\n"
     ]
    },
    {
     "name": "stderr",
     "output_type": "stream",
     "text": [
      "DEBUG flwr 2024-03-25 19:57:13,517 | server.py:173 | evaluate_round 9: strategy sampled 4 clients (out of 4)\n"
     ]
    },
    {
     "name": "stdout",
     "output_type": "stream",
     "text": [
      "[2024-03-25 19:57:13,517][flwr][DEBUG] - evaluate_round 9: strategy sampled 4 clients (out of 4)\n",
      "\u001b[2m\u001b[36m(DefaultActor pid=1122112)\u001b[0m client 4\n",
      "\u001b[2m\u001b[36m(DefaultActor pid=1122112)\u001b[0m client 3\n",
      "\u001b[2m\u001b[36m(DefaultActor pid=1122112)\u001b[0m model 2\n",
      "\u001b[2m\u001b[36m(DefaultActor pid=1122112)\u001b[0m *************Metrics******************\n",
      "\u001b[2m\u001b[36m(DefaultActor pid=1122112)\u001b[0m Melanoma: 0.5106382967858759, Melanocytic nevus: 0.9034090903957903, Basal cell carcinoma: 0.5108695646620983, Actinic keratosis: 0.0, Benign keratosis: 0.2037037033264746, Dermatofibroma: 0.0, Vascular lesion: 0.0, Squamous cell carcinoma: 0.0\n",
      "\u001b[2m\u001b[36m(DefaultActor pid=1122112)\u001b[0m Accuracy: 0.5296703287390411\n",
      "\u001b[2m\u001b[36m(DefaultActor pid=1122112)\u001b[0m loss 1.4764 - accuracy 0.5297\n",
      "\u001b[2m\u001b[36m(DefaultActor pid=1122112)\u001b[0m client 4\n",
      "\u001b[2m\u001b[36m(DefaultActor pid=1122112)\u001b[0m client 3\n",
      "\u001b[2m\u001b[36m(DefaultActor pid=1122112)\u001b[0m model 2\n",
      "\u001b[2m\u001b[36m(DefaultActor pid=1122112)\u001b[0m *************Metrics******************\n",
      "\u001b[2m\u001b[36m(DefaultActor pid=1122112)\u001b[0m Melanoma: 0.4054054051314829, Melanocytic nevus: 0.9011406840680075, Basal cell carcinoma: 0.4879518069349688, Actinic keratosis: 0.07142857091836735, Benign keratosis: 0.2244897954602249, Dermatofibroma: 0.0, Vascular lesion: 0.0, Squamous cell carcinoma: 0.0\n",
      "\u001b[2m\u001b[36m(DefaultActor pid=1122112)\u001b[0m Accuracy: 0.5900151278789532\n",
      "\u001b[2m\u001b[36m(DefaultActor pid=1122112)\u001b[0m loss 1.1628 - accuracy 0.5900\n",
      "\u001b[2m\u001b[36m(DefaultActor pid=1122112)\u001b[0m client 4\n",
      "\u001b[2m\u001b[36m(DefaultActor pid=1122112)\u001b[0m client 3\n",
      "\u001b[2m\u001b[36m(DefaultActor pid=1122112)\u001b[0m model 2\n",
      "\u001b[2m\u001b[36m(DefaultActor pid=1122112)\u001b[0m *************Metrics******************\n",
      "\u001b[2m\u001b[36m(DefaultActor pid=1122112)\u001b[0m Melanoma: 0.3979591832673886, Melanocytic nevus: 0.9030303027566576, Basal cell carcinoma: 0.3999999991111111, Actinic keratosis: 0.037037036899862825, Benign keratosis: 0.20212765935943866, Dermatofibroma: 0.0, Vascular lesion: 0.0, Squamous cell carcinoma: 0.0\n",
      "\u001b[2m\u001b[36m(DefaultActor pid=1122112)\u001b[0m Accuracy: 0.6097560967677971\n",
      "\u001b[2m\u001b[36m(DefaultActor pid=1122112)\u001b[0m loss 1.1240 - accuracy 0.6098\n",
      "\u001b[2m\u001b[36m(DefaultActor pid=1122112)\u001b[0m client 4\n",
      "\u001b[2m\u001b[36m(DefaultActor pid=1122112)\u001b[0m client 3\n",
      "\u001b[2m\u001b[36m(DefaultActor pid=1122112)\u001b[0m model 2\n"
     ]
    },
    {
     "name": "stderr",
     "output_type": "stream",
     "text": [
      "DEBUG flwr 2024-03-25 19:57:31,691 | server.py:187 | evaluate_round 9 received 4 results and 0 failures\n"
     ]
    },
    {
     "name": "stdout",
     "output_type": "stream",
     "text": [
      "[2024-03-25 19:57:31,691][flwr][DEBUG] - evaluate_round 9 received 4 results and 0 failures\n"
     ]
    },
    {
     "name": "stderr",
     "output_type": "stream",
     "text": [
      "DEBUG flwr 2024-03-25 19:57:31,692 | server.py:222 | fit_round 10: strategy sampled 4 clients (out of 4)\n"
     ]
    },
    {
     "name": "stdout",
     "output_type": "stream",
     "text": [
      "weighted [(29, {'accuracy': 0.5296703287390411}), (39, {'accuracy': 0.6097560967677971}), (51, {'accuracy': 0.7153558045289832}), (42, {'accuracy': 0.5900151278789532})]\n",
      "[2024-03-25 19:57:31,692][flwr][DEBUG] - fit_round 10: strategy sampled 4 clients (out of 4)\n",
      "\u001b[2m\u001b[36m(DefaultActor pid=1122112)\u001b[0m *************Metrics******************\n",
      "\u001b[2m\u001b[36m(DefaultActor pid=1122112)\u001b[0m Melanoma: 0.4842767292551719, Melanocytic nevus: 0.9131274129511338, Basal cell carcinoma: 0.31034482651605233, Actinic keratosis: 0.0, Benign keratosis: 0.21538461505325446, Dermatofibroma: 0.0, Vascular lesion: 0.0, Squamous cell carcinoma: 0.0\n",
      "\u001b[2m\u001b[36m(DefaultActor pid=1122112)\u001b[0m Accuracy: 0.7153558045289832\n",
      "\u001b[2m\u001b[36m(DefaultActor pid=1122112)\u001b[0m loss 0.8627 - accuracy 0.7154\n",
      "\u001b[2m\u001b[36m(DefaultActor pid=1122112)\u001b[0m client 2\n",
      "\u001b[2m\u001b[36m(DefaultActor pid=1122112)\u001b[0m client 3\n",
      "\u001b[2m\u001b[36m(DefaultActor pid=1122112)\u001b[0m model 1\n",
      "\u001b[2m\u001b[36m(DefaultActor pid=1122112)\u001b[0m *************Metrics******************\n",
      "\u001b[2m\u001b[36m(DefaultActor pid=1122112)\u001b[0m Melanoma: 0.44564240786651915, Melanocytic nevus: 0.9329470198418062, Basal cell carcinoma: 0.1194029850152224, Actinic keratosis: 0.07317073166270077, Benign keratosis: 0.13808463248595, Dermatofibroma: 0.0, Vascular lesion: 0.0, Squamous cell carcinoma: 0.0\n",
      "\u001b[2m\u001b[36m(DefaultActor pid=1122112)\u001b[0m Accuracy: 0.7086824744933241\n",
      "\u001b[2m\u001b[36m(DefaultActor pid=1122112)\u001b[0m Epoch [1/1] - loss 0.8079 -accuracy 0.7087\n",
      "\u001b[2m\u001b[36m(DefaultActor pid=1122112)\u001b[0m client 1\n",
      "\u001b[2m\u001b[36m(DefaultActor pid=1122112)\u001b[0m client 2\n",
      "\u001b[2m\u001b[36m(DefaultActor pid=1122112)\u001b[0m client 3\n",
      "\u001b[2m\u001b[36m(DefaultActor pid=1122112)\u001b[0m model 1\n",
      "\u001b[2m\u001b[36m(DefaultActor pid=1122112)\u001b[0m *************Metrics******************\n",
      "\u001b[2m\u001b[36m(DefaultActor pid=1122112)\u001b[0m Melanoma: 0.3706395348298489, Melanocytic nevus: 0.899999999961039, Basal cell carcinoma: 0.30379746825829196, Actinic keratosis: 0.06842105259556787, Benign keratosis: 0.32169954471597884, Dermatofibroma: 0.0, Vascular lesion: 0.0, Squamous cell carcinoma: 0.0\n",
      "\u001b[2m\u001b[36m(DefaultActor pid=1122112)\u001b[0m Accuracy: 0.6167247385613521\n",
      "\u001b[2m\u001b[36m(DefaultActor pid=1122112)\u001b[0m Epoch [1/1] - loss 1.0514 -accuracy 0.6167\n",
      "\u001b[2m\u001b[36m(DefaultActor pid=1122112)\u001b[0m client 1\n",
      "\u001b[2m\u001b[36m(DefaultActor pid=1122112)\u001b[0m client 2\n",
      "\u001b[2m\u001b[36m(DefaultActor pid=1122112)\u001b[0m client 3\n",
      "\u001b[2m\u001b[36m(DefaultActor pid=1122112)\u001b[0m model 1\n",
      "\u001b[2m\u001b[36m(DefaultActor pid=1122112)\u001b[0m *************Metrics******************\n",
      "\u001b[2m\u001b[36m(DefaultActor pid=1122112)\u001b[0m Melanoma: 0.23619631894595208, Melanocytic nevus: 0.8777327934511958, Basal cell carcinoma: 0.6806201549332372, Actinic keratosis: 0.037735849032870535, Benign keratosis: 0.22916666660698787, Dermatofibroma: 0.0, Vascular lesion: 0.01666666663888889, Squamous cell carcinoma: 0.04406779659523126\n",
      "\u001b[2m\u001b[36m(DefaultActor pid=1122112)\u001b[0m Accuracy: 0.5371069181038727\n",
      "\u001b[2m\u001b[36m(DefaultActor pid=1122112)\u001b[0m Epoch [1/1] - loss 1.3321 -accuracy 0.5371\n",
      "\u001b[2m\u001b[36m(DefaultActor pid=1122112)\u001b[0m client 1\n",
      "\u001b[2m\u001b[36m(DefaultActor pid=1122112)\u001b[0m client 2\n",
      "\u001b[2m\u001b[36m(DefaultActor pid=1122112)\u001b[0m client 3\n",
      "\u001b[2m\u001b[36m(DefaultActor pid=1122112)\u001b[0m model 1\n"
     ]
    },
    {
     "name": "stderr",
     "output_type": "stream",
     "text": [
      "DEBUG flwr 2024-03-25 19:59:27,355 | server.py:236 | fit_round 10 received 4 results and 0 failures\n"
     ]
    },
    {
     "name": "stdout",
     "output_type": "stream",
     "text": [
      "\u001b[2m\u001b[36m(DefaultActor pid=1122112)\u001b[0m *************Metrics******************\n",
      "\u001b[2m\u001b[36m(DefaultActor pid=1122112)\u001b[0m Melanoma: 0.430635838108802, Melanocytic nevus: 0.816160520563115, Basal cell carcinoma: 0.721030042856564, Actinic keratosis: 0.0, Benign keratosis: 0.08695652171392565, Dermatofibroma: 0.0, Vascular lesion: 0.0, Squamous cell carcinoma: 0.0\n",
      "\u001b[2m\u001b[36m(DefaultActor pid=1122112)\u001b[0m Accuracy: 0.6083207586793153\n",
      "\u001b[2m\u001b[36m(DefaultActor pid=1122112)\u001b[0m Epoch [1/1] - loss 1.0823 -accuracy 0.6083\n",
      "\u001b[2m\u001b[36m(DefaultActor pid=1122112)\u001b[0m client 1\n",
      "[2024-03-25 19:59:27,355][flwr][DEBUG] - fit_round 10 received 4 results and 0 failures\n",
      "!!!!!!!!!!!!!!!!!!\n",
      "model 2\n"
     ]
    },
    {
     "name": "stderr",
     "output_type": "stream",
     "text": [
      "INFO flwr 2024-03-25 20:00:00,017 | server.py:125 | fit progress: (10, 4.006399631500244, {'accuracy': 0.6269245952424913}, 1652.1994293960743)\n"
     ]
    },
    {
     "name": "stdout",
     "output_type": "stream",
     "text": [
      "*************Metrics******************\n",
      "Melanoma: 0.38453038669784195, Melanocytic nevus: 0.9421359222935093, Basal cell carcinoma: 0.46385542161688925, Actinic keratosis: 0.08092485544455211, Benign keratosis: 0.15238095235192745, Dermatofibroma: 0.0, Vascular lesion: 0.0, Squamous cell carcinoma: 0.0\n",
      "Accuracy: 0.6269245952424913\n",
      "loss 1.0730 - accuracy 0.6269\n",
      "[2024-03-25 20:00:00,017][flwr][INFO] - fit progress: (10, 4.006399631500244, {'accuracy': 0.6269245952424913}, 1652.1994293960743)\n"
     ]
    },
    {
     "name": "stderr",
     "output_type": "stream",
     "text": [
      "DEBUG flwr 2024-03-25 20:00:00,019 | server.py:173 | evaluate_round 10: strategy sampled 4 clients (out of 4)\n"
     ]
    },
    {
     "name": "stdout",
     "output_type": "stream",
     "text": [
      "[2024-03-25 20:00:00,019][flwr][DEBUG] - evaluate_round 10: strategy sampled 4 clients (out of 4)\n",
      "\u001b[2m\u001b[36m(DefaultActor pid=1122112)\u001b[0m client 4\n",
      "\u001b[2m\u001b[36m(DefaultActor pid=1122112)\u001b[0m client 3\n",
      "\u001b[2m\u001b[36m(DefaultActor pid=1122112)\u001b[0m model 2\n",
      "\u001b[2m\u001b[36m(DefaultActor pid=1122112)\u001b[0m *************Metrics******************\n",
      "\u001b[2m\u001b[36m(DefaultActor pid=1122112)\u001b[0m Melanoma: 0.4088050311894308, Melanocytic nevus: 0.9459459457633309, Basal cell carcinoma: 0.31034482651605233, Actinic keratosis: 0.0434782606805293, Benign keratosis: 0.19999999969230772, Dermatofibroma: 0.0, Vascular lesion: 0.0, Squamous cell carcinoma: 0.0\n",
      "\u001b[2m\u001b[36m(DefaultActor pid=1122112)\u001b[0m Accuracy: 0.721598001776182\n",
      "\u001b[2m\u001b[36m(DefaultActor pid=1122112)\u001b[0m loss 0.8473 - accuracy 0.7216\n",
      "\u001b[2m\u001b[36m(DefaultActor pid=1122112)\u001b[0m client 4\n",
      "\u001b[2m\u001b[36m(DefaultActor pid=1122112)\u001b[0m client 3\n",
      "\u001b[2m\u001b[36m(DefaultActor pid=1122112)\u001b[0m model 2\n",
      "\u001b[2m\u001b[36m(DefaultActor pid=1122112)\u001b[0m *************Metrics******************\n",
      "\u001b[2m\u001b[36m(DefaultActor pid=1122112)\u001b[0m Melanoma: 0.42553191398823, Melanocytic nevus: 0.9318181812887397, Basal cell carcinoma: 0.5108695646620983, Actinic keratosis: 0.0434782606805293, Benign keratosis: 0.14814814787379973, Dermatofibroma: 0.0, Vascular lesion: 0.0, Squamous cell carcinoma: 0.0\n",
      "\u001b[2m\u001b[36m(DefaultActor pid=1122112)\u001b[0m Accuracy: 0.5274725265451031\n",
      "\u001b[2m\u001b[36m(DefaultActor pid=1122112)\u001b[0m loss 1.4781 - accuracy 0.5275\n",
      "\u001b[2m\u001b[36m(DefaultActor pid=1122112)\u001b[0m client 4\n",
      "\u001b[2m\u001b[36m(DefaultActor pid=1122112)\u001b[0m client 3\n",
      "\u001b[2m\u001b[36m(DefaultActor pid=1122112)\u001b[0m model 2\n",
      "\u001b[2m\u001b[36m(DefaultActor pid=1122112)\u001b[0m *************Metrics******************\n",
      "\u001b[2m\u001b[36m(DefaultActor pid=1122112)\u001b[0m Melanoma: 0.34459459436176043, Melanocytic nevus: 0.9315589350070119, Basal cell carcinoma: 0.463855421407316, Actinic keratosis: 0.1428571418367347, Benign keratosis: 0.14285714256559767, Dermatofibroma: 0.0, Vascular lesion: 0.0, Squamous cell carcinoma: 0.0\n",
      "\u001b[2m\u001b[36m(DefaultActor pid=1122112)\u001b[0m Accuracy: 0.5779122534609233\n",
      "\u001b[2m\u001b[36m(DefaultActor pid=1122112)\u001b[0m loss 1.1758 - accuracy 0.5779\n",
      "\u001b[2m\u001b[36m(DefaultActor pid=1122112)\u001b[0m client 4\n",
      "\u001b[2m\u001b[36m(DefaultActor pid=1122112)\u001b[0m client 3\n",
      "\u001b[2m\u001b[36m(DefaultActor pid=1122112)\u001b[0m model 2\n"
     ]
    },
    {
     "name": "stderr",
     "output_type": "stream",
     "text": [
      "DEBUG flwr 2024-03-25 20:00:18,474 | server.py:187 | evaluate_round 10 received 4 results and 0 failures\n"
     ]
    },
    {
     "name": "stdout",
     "output_type": "stream",
     "text": [
      "[2024-03-25 20:00:18,474][flwr][DEBUG] - evaluate_round 10 received 4 results and 0 failures\n"
     ]
    },
    {
     "name": "stderr",
     "output_type": "stream",
     "text": [
      "DEBUG flwr 2024-03-25 20:00:18,476 | server.py:222 | fit_round 11: strategy sampled 4 clients (out of 4)\n"
     ]
    },
    {
     "name": "stdout",
     "output_type": "stream",
     "text": [
      "weighted [(51, {'accuracy': 0.721598001776182}), (39, {'accuracy': 0.6260162593482717}), (29, {'accuracy': 0.5274725265451031}), (42, {'accuracy': 0.5779122534609233})]\n",
      "[2024-03-25 20:00:18,476][flwr][DEBUG] - fit_round 11: strategy sampled 4 clients (out of 4)\n",
      "\u001b[2m\u001b[36m(DefaultActor pid=1122112)\u001b[0m *************Metrics******************\n",
      "\u001b[2m\u001b[36m(DefaultActor pid=1122112)\u001b[0m Melanoma: 0.35714285677842567, Melanocytic nevus: 0.9454545451680442, Basal cell carcinoma: 0.3999999991111111, Actinic keratosis: 0.18518518449931412, Benign keratosis: 0.15957446791534632, Dermatofibroma: 0.0, Vascular lesion: 0.0, Squamous cell carcinoma: 0.0\n",
      "\u001b[2m\u001b[36m(DefaultActor pid=1122112)\u001b[0m Accuracy: 0.6260162593482717\n",
      "\u001b[2m\u001b[36m(DefaultActor pid=1122112)\u001b[0m loss 1.1184 - accuracy 0.6260\n",
      "\u001b[2m\u001b[36m(DefaultActor pid=1122112)\u001b[0m client 2\n",
      "\u001b[2m\u001b[36m(DefaultActor pid=1122112)\u001b[0m client 3\n",
      "\u001b[2m\u001b[36m(DefaultActor pid=1122112)\u001b[0m model 1\n",
      "\u001b[2m\u001b[36m(DefaultActor pid=1122112)\u001b[0m *************Metrics******************\n",
      "\u001b[2m\u001b[36m(DefaultActor pid=1122112)\u001b[0m Melanoma: 0.35174418599538604, Melanocytic nevus: 0.9077922077529095, Basal cell carcinoma: 0.28164556953112485, Actinic keratosis: 0.11052631573130194, Benign keratosis: 0.3110773899376211, Dermatofibroma: 0.0, Vascular lesion: 0.0, Squamous cell carcinoma: 0.0\n",
      "\u001b[2m\u001b[36m(DefaultActor pid=1122112)\u001b[0m Accuracy: 0.6164924505242292\n",
      "\u001b[2m\u001b[36m(DefaultActor pid=1122112)\u001b[0m Epoch [1/1] - loss 1.0412 -accuracy 0.6165\n",
      "\u001b[2m\u001b[36m(DefaultActor pid=1122112)\u001b[0m client 1\n",
      "\u001b[2m\u001b[36m(DefaultActor pid=1122112)\u001b[0m client 2\n",
      "\u001b[2m\u001b[36m(DefaultActor pid=1122112)\u001b[0m client 3\n",
      "\u001b[2m\u001b[36m(DefaultActor pid=1122112)\u001b[0m model 1\n",
      "\u001b[2m\u001b[36m(DefaultActor pid=1122112)\u001b[0m *************Metrics******************\n",
      "\u001b[2m\u001b[36m(DefaultActor pid=1122112)\u001b[0m Melanoma: 0.4564240790245801, Melanocytic nevus: 0.9266004414755353, Basal cell carcinoma: 0.09452736313705107, Actinic keratosis: 0.09146341457837597, Benign keratosis: 0.13808463248595, Dermatofibroma: 0.0, Vascular lesion: 0.0, Squamous cell carcinoma: 0.0\n",
      "\u001b[2m\u001b[36m(DefaultActor pid=1122112)\u001b[0m Accuracy: 0.7063647708031573\n",
      "\u001b[2m\u001b[36m(DefaultActor pid=1122112)\u001b[0m Epoch [1/1] - loss 0.8071 -accuracy 0.7064\n",
      "\u001b[2m\u001b[36m(DefaultActor pid=1122112)\u001b[0m client 1\n",
      "\u001b[2m\u001b[36m(DefaultActor pid=1122112)\u001b[0m client 2\n",
      "\u001b[2m\u001b[36m(DefaultActor pid=1122112)\u001b[0m client 3\n",
      "\u001b[2m\u001b[36m(DefaultActor pid=1122112)\u001b[0m model 1\n",
      "\u001b[2m\u001b[36m(DefaultActor pid=1122112)\u001b[0m *************Metrics******************\n",
      "\u001b[2m\u001b[36m(DefaultActor pid=1122112)\u001b[0m Melanoma: 0.4605009633467726, Melanocytic nevus: 0.8129067244678467, Basal cell carcinoma: 0.7304721029415905, Actinic keratosis: 0.0, Benign keratosis: 0.07536231881873556, Dermatofibroma: 0.0, Vascular lesion: 0.0, Squamous cell carcinoma: 0.0\n",
      "\u001b[2m\u001b[36m(DefaultActor pid=1122112)\u001b[0m Accuracy: 0.6152187970484643\n",
      "\u001b[2m\u001b[36m(DefaultActor pid=1122112)\u001b[0m Epoch [1/1] - loss 1.0748 -accuracy 0.6152\n",
      "\u001b[2m\u001b[36m(DefaultActor pid=1122112)\u001b[0m client 1\n",
      "\u001b[2m\u001b[36m(DefaultActor pid=1122112)\u001b[0m client 2\n",
      "\u001b[2m\u001b[36m(DefaultActor pid=1122112)\u001b[0m client 3\n",
      "\u001b[2m\u001b[36m(DefaultActor pid=1122112)\u001b[0m model 1\n"
     ]
    },
    {
     "name": "stderr",
     "output_type": "stream",
     "text": [
      "DEBUG flwr 2024-03-25 20:02:14,106 | server.py:236 | fit_round 11 received 4 results and 0 failures\n"
     ]
    },
    {
     "name": "stdout",
     "output_type": "stream",
     "text": [
      "\u001b[2m\u001b[36m(DefaultActor pid=1122112)\u001b[0m *************Metrics******************\n",
      "\u001b[2m\u001b[36m(DefaultActor pid=1122112)\u001b[0m Melanoma: 0.23312883428431633, Melanocytic nevus: 0.8898785424380666, Basal cell carcinoma: 0.6992248060931435, Actinic keratosis: 0.07547169806574107, Benign keratosis: 0.26822916659681534, Dermatofibroma: 0.0, Vascular lesion: 0.0, Squamous cell carcinoma: 0.0372881355805803\n",
      "\u001b[2m\u001b[36m(DefaultActor pid=1122112)\u001b[0m Accuracy: 0.5509433960878132\n",
      "\u001b[2m\u001b[36m(DefaultActor pid=1122112)\u001b[0m Epoch [1/1] - loss 1.3143 -accuracy 0.5509\n",
      "\u001b[2m\u001b[36m(DefaultActor pid=1122112)\u001b[0m client 1\n",
      "[2024-03-25 20:02:14,106][flwr][DEBUG] - fit_round 11 received 4 results and 0 failures\n",
      "!!!!!!!!!!!!!!!!!!\n",
      "model 2\n"
     ]
    },
    {
     "name": "stderr",
     "output_type": "stream",
     "text": [
      "INFO flwr 2024-03-25 20:02:46,654 | server.py:125 | fit progress: (11, 3.9084255695343018, {'accuracy': 0.6320568494856603}, 1818.8361511391122)\n"
     ]
    },
    {
     "name": "stdout",
     "output_type": "stream",
     "text": [
      "*************Metrics******************\n",
      "Melanoma: 0.41215469608705474, Melanocytic nevus: 0.9285436892843284, Basal cell carcinoma: 0.4924698794439052, Actinic keratosis: 0.08092485544455211, Benign keratosis: 0.18476190472671203, Dermatofibroma: 0.0, Vascular lesion: 0.0, Squamous cell carcinoma: 0.0\n",
      "Accuracy: 0.6320568494856603\n",
      "loss 1.0632 - accuracy 0.6321\n",
      "[2024-03-25 20:02:46,654][flwr][INFO] - fit progress: (11, 3.9084255695343018, {'accuracy': 0.6320568494856603}, 1818.8361511391122)\n"
     ]
    },
    {
     "name": "stderr",
     "output_type": "stream",
     "text": [
      "DEBUG flwr 2024-03-25 20:02:46,656 | server.py:173 | evaluate_round 11: strategy sampled 4 clients (out of 4)\n"
     ]
    },
    {
     "name": "stdout",
     "output_type": "stream",
     "text": [
      "[2024-03-25 20:02:46,656][flwr][DEBUG] - evaluate_round 11: strategy sampled 4 clients (out of 4)\n",
      "\u001b[2m\u001b[36m(DefaultActor pid=1122112)\u001b[0m client 4\n",
      "\u001b[2m\u001b[36m(DefaultActor pid=1122112)\u001b[0m client 3\n",
      "\u001b[2m\u001b[36m(DefaultActor pid=1122112)\u001b[0m model 2\n",
      "\u001b[2m\u001b[36m(DefaultActor pid=1122112)\u001b[0m *************Metrics******************\n",
      "\u001b[2m\u001b[36m(DefaultActor pid=1122112)\u001b[0m Melanoma: 0.36486486461833456, Melanocytic nevus: 0.9201520909048853, Basal cell carcinoma: 0.4879518069349688, Actinic keratosis: 0.1428571418367347, Benign keratosis: 0.20408163223656808, Dermatofibroma: 0.0, Vascular lesion: 0.0, Squamous cell carcinoma: 0.0\n",
      "\u001b[2m\u001b[36m(DefaultActor pid=1122112)\u001b[0m Accuracy: 0.5885022685766995\n",
      "\u001b[2m\u001b[36m(DefaultActor pid=1122112)\u001b[0m loss 1.1559 - accuracy 0.5885\n",
      "\u001b[2m\u001b[36m(DefaultActor pid=1122112)\u001b[0m client 4\n",
      "\u001b[2m\u001b[36m(DefaultActor pid=1122112)\u001b[0m client 3\n",
      "\u001b[2m\u001b[36m(DefaultActor pid=1122112)\u001b[0m model 2\n",
      "\u001b[2m\u001b[36m(DefaultActor pid=1122112)\u001b[0m *************Metrics******************\n",
      "\u001b[2m\u001b[36m(DefaultActor pid=1122112)\u001b[0m Melanoma: 0.37755102002290714, Melanocytic nevus: 0.9303030300211204, Basal cell carcinoma: 0.4222222212839506, Actinic keratosis: 0.1481481475994513, Benign keratosis: 0.1808510636373925, Dermatofibroma: 0.0, Vascular lesion: 0.0, Squamous cell carcinoma: 0.0\n",
      "\u001b[2m\u001b[36m(DefaultActor pid=1122112)\u001b[0m Accuracy: 0.6243902430902243\n",
      "\u001b[2m\u001b[36m(DefaultActor pid=1122112)\u001b[0m loss 1.1110 - accuracy 0.6244\n",
      "\u001b[2m\u001b[36m(DefaultActor pid=1122112)\u001b[0m client 4\n",
      "\u001b[2m\u001b[36m(DefaultActor pid=1122112)\u001b[0m client 3\n",
      "\u001b[2m\u001b[36m(DefaultActor pid=1122112)\u001b[0m model 2\n",
      "\u001b[2m\u001b[36m(DefaultActor pid=1122112)\u001b[0m *************Metrics******************\n",
      "\u001b[2m\u001b[36m(DefaultActor pid=1122112)\u001b[0m Melanoma: 0.46808510538705295, Melanocytic nevus: 0.9147727267529701, Basal cell carcinoma: 0.5326086950732515, Actinic keratosis: 0.0434782606805293, Benign keratosis: 0.16666666635802468, Dermatofibroma: 0.0, Vascular lesion: 0.0, Squamous cell carcinoma: 0.0\n",
      "\u001b[2m\u001b[36m(DefaultActor pid=1122112)\u001b[0m Accuracy: 0.531868130932979\n",
      "\u001b[2m\u001b[36m(DefaultActor pid=1122112)\u001b[0m loss 1.4522 - accuracy 0.5319\n",
      "\u001b[2m\u001b[36m(DefaultActor pid=1122112)\u001b[0m client 4\n",
      "\u001b[2m\u001b[36m(DefaultActor pid=1122112)\u001b[0m client 3\n",
      "\u001b[2m\u001b[36m(DefaultActor pid=1122112)\u001b[0m model 2\n"
     ]
    },
    {
     "name": "stderr",
     "output_type": "stream",
     "text": [
      "DEBUG flwr 2024-03-25 20:03:05,394 | server.py:187 | evaluate_round 11 received 4 results and 0 failures\n"
     ]
    },
    {
     "name": "stdout",
     "output_type": "stream",
     "text": [
      "[2024-03-25 20:03:05,394][flwr][DEBUG] - evaluate_round 11 received 4 results and 0 failures\n"
     ]
    },
    {
     "name": "stderr",
     "output_type": "stream",
     "text": [
      "DEBUG flwr 2024-03-25 20:03:05,396 | server.py:222 | fit_round 12: strategy sampled 4 clients (out of 4)\n"
     ]
    },
    {
     "name": "stdout",
     "output_type": "stream",
     "text": [
      "weighted [(29, {'accuracy': 0.531868130932979}), (51, {'accuracy': 0.7265917595739411}), (39, {'accuracy': 0.6243902430902243}), (42, {'accuracy': 0.5885022685766995})]\n",
      "[2024-03-25 20:03:05,396][flwr][DEBUG] - fit_round 12: strategy sampled 4 clients (out of 4)\n",
      "\u001b[2m\u001b[36m(DefaultActor pid=1122112)\u001b[0m *************Metrics******************\n",
      "\u001b[2m\u001b[36m(DefaultActor pid=1122112)\u001b[0m Melanoma: 0.4465408802223014, Melanocytic nevus: 0.9420849419030725, Basal cell carcinoma: 0.31034482651605233, Actinic keratosis: 0.0, Benign keratosis: 0.21538461505325446, Dermatofibroma: 0.0, Vascular lesion: 0.0, Squamous cell carcinoma: 0.0\n",
      "\u001b[2m\u001b[36m(DefaultActor pid=1122112)\u001b[0m Accuracy: 0.7265917595739411\n",
      "\u001b[2m\u001b[36m(DefaultActor pid=1122112)\u001b[0m loss 0.8493 - accuracy 0.7266\n",
      "\u001b[2m\u001b[36m(DefaultActor pid=1122112)\u001b[0m client 2\n",
      "\u001b[2m\u001b[36m(DefaultActor pid=1122112)\u001b[0m client 3\n",
      "\u001b[2m\u001b[36m(DefaultActor pid=1122112)\u001b[0m model 1\n",
      "\u001b[2m\u001b[36m(DefaultActor pid=1122112)\u001b[0m *************Metrics******************\n",
      "\u001b[2m\u001b[36m(DefaultActor pid=1122112)\u001b[0m Melanoma: 0.23619631894595208, Melanocytic nevus: 0.88016194324857, Basal cell carcinoma: 0.7007751936898023, Actinic keratosis: 0.031446540860725444, Benign keratosis: 0.24739583326890735, Dermatofibroma: 0.0, Vascular lesion: 0.0, Squamous cell carcinoma: 0.07118644065383511\n",
      "\u001b[2m\u001b[36m(DefaultActor pid=1122112)\u001b[0m Accuracy: 0.5462264149569244\n",
      "\u001b[2m\u001b[36m(DefaultActor pid=1122112)\u001b[0m Epoch [1/1] - loss 1.3013 -accuracy 0.5462\n",
      "\u001b[2m\u001b[36m(DefaultActor pid=1122112)\u001b[0m client 1\n",
      "\u001b[2m\u001b[36m(DefaultActor pid=1122112)\u001b[0m client 2\n",
      "\u001b[2m\u001b[36m(DefaultActor pid=1122112)\u001b[0m client 3\n",
      "\u001b[2m\u001b[36m(DefaultActor pid=1122112)\u001b[0m model 1\n",
      "\u001b[2m\u001b[36m(DefaultActor pid=1122112)\u001b[0m *************Metrics******************\n",
      "\u001b[2m\u001b[36m(DefaultActor pid=1122112)\u001b[0m Melanoma: 0.45911949681409536, Melanocytic nevus: 0.931291390702779, Basal cell carcinoma: 0.12935323376649094, Actinic keratosis: 0.10365853652215944, Benign keratosis: 0.16481069038645643, Dermatofibroma: 0.0, Vascular lesion: 0.0, Squamous cell carcinoma: 0.0\n",
      "\u001b[2m\u001b[36m(DefaultActor pid=1122112)\u001b[0m Accuracy: 0.713674451672145\n",
      "\u001b[2m\u001b[36m(DefaultActor pid=1122112)\u001b[0m Epoch [1/1] - loss 0.7964 -accuracy 0.7137\n",
      "\u001b[2m\u001b[36m(DefaultActor pid=1122112)\u001b[0m client 1\n",
      "\u001b[2m\u001b[36m(DefaultActor pid=1122112)\u001b[0m client 2\n",
      "\u001b[2m\u001b[36m(DefaultActor pid=1122112)\u001b[0m client 3\n",
      "\u001b[2m\u001b[36m(DefaultActor pid=1122112)\u001b[0m model 1\n",
      "\u001b[2m\u001b[36m(DefaultActor pid=1122112)\u001b[0m *************Metrics******************\n",
      "\u001b[2m\u001b[36m(DefaultActor pid=1122112)\u001b[0m Melanoma: 0.45279383425310277, Melanocytic nevus: 0.8069414316265217, Basal cell carcinoma: 0.7253218883497579, Actinic keratosis: 0.0, Benign keratosis: 0.0811594202663306, Dermatofibroma: 0.0, Vascular lesion: 0.0, Squamous cell carcinoma: 0.0\n",
      "\u001b[2m\u001b[36m(DefaultActor pid=1122112)\u001b[0m Accuracy: 0.6102608319706385\n",
      "\u001b[2m\u001b[36m(DefaultActor pid=1122112)\u001b[0m Epoch [1/1] - loss 1.0641 -accuracy 0.6103\n",
      "\u001b[2m\u001b[36m(DefaultActor pid=1122112)\u001b[0m client 1\n",
      "\u001b[2m\u001b[36m(DefaultActor pid=1122112)\u001b[0m client 2\n",
      "\u001b[2m\u001b[36m(DefaultActor pid=1122112)\u001b[0m client 3\n",
      "\u001b[2m\u001b[36m(DefaultActor pid=1122112)\u001b[0m model 1\n"
     ]
    },
    {
     "name": "stderr",
     "output_type": "stream",
     "text": [
      "DEBUG flwr 2024-03-25 20:05:01,130 | server.py:236 | fit_round 12 received 4 results and 0 failures\n"
     ]
    },
    {
     "name": "stdout",
     "output_type": "stream",
     "text": [
      "\u001b[2m\u001b[36m(DefaultActor pid=1122112)\u001b[0m *************Metrics******************\n",
      "\u001b[2m\u001b[36m(DefaultActor pid=1122112)\u001b[0m Melanoma: 0.3430232557640955, Melanocytic nevus: 0.8961038960651038, Basal cell carcinoma: 0.28164556953112485, Actinic keratosis: 0.10526315783933518, Benign keratosis: 0.327769347446469, Dermatofibroma: 0.0, Vascular lesion: 0.0, Squamous cell carcinoma: 0.0\n",
      "\u001b[2m\u001b[36m(DefaultActor pid=1122112)\u001b[0m Accuracy: 0.6111498256704021\n",
      "\u001b[2m\u001b[36m(DefaultActor pid=1122112)\u001b[0m Epoch [1/1] - loss 1.0332 -accuracy 0.6111\n",
      "\u001b[2m\u001b[36m(DefaultActor pid=1122112)\u001b[0m client 1\n",
      "[2024-03-25 20:05:01,130][flwr][DEBUG] - fit_round 12 received 4 results and 0 failures\n",
      "!!!!!!!!!!!!!!!!!!\n",
      "model 2\n"
     ]
    },
    {
     "name": "stderr",
     "output_type": "stream",
     "text": [
      "INFO flwr 2024-03-25 20:05:33,625 | server.py:125 | fit progress: (12, 3.8905558586120605, {'accuracy': 0.6377812869107334}, 1985.8071543669794)\n"
     ]
    },
    {
     "name": "stdout",
     "output_type": "stream",
     "text": [
      "*************Metrics******************\n",
      "Melanoma: 0.40441988945807517, Melanocytic nevus: 0.9304854368570685, Basal cell carcinoma: 0.527108433655556, Actinic keratosis: 0.10404624271442414, Benign keratosis: 0.19047619043990932, Dermatofibroma: 0.0, Vascular lesion: 0.01960784309880815, Squamous cell carcinoma: 0.0\n",
      "Accuracy: 0.6377812869107334\n",
      "loss 1.0510 - accuracy 0.6378\n",
      "[2024-03-25 20:05:33,625][flwr][INFO] - fit progress: (12, 3.8905558586120605, {'accuracy': 0.6377812869107334}, 1985.8071543669794)\n"
     ]
    },
    {
     "name": "stderr",
     "output_type": "stream",
     "text": [
      "DEBUG flwr 2024-03-25 20:05:33,626 | server.py:173 | evaluate_round 12: strategy sampled 4 clients (out of 4)\n"
     ]
    },
    {
     "name": "stdout",
     "output_type": "stream",
     "text": [
      "[2024-03-25 20:05:33,626][flwr][DEBUG] - evaluate_round 12: strategy sampled 4 clients (out of 4)\n",
      "\u001b[2m\u001b[36m(DefaultActor pid=1122112)\u001b[0m client 4\n",
      "\u001b[2m\u001b[36m(DefaultActor pid=1122112)\u001b[0m client 3\n",
      "\u001b[2m\u001b[36m(DefaultActor pid=1122112)\u001b[0m model 2\n",
      "\u001b[2m\u001b[36m(DefaultActor pid=1122112)\u001b[0m *************Metrics******************\n",
      "\u001b[2m\u001b[36m(DefaultActor pid=1122112)\u001b[0m Melanoma: 0.46808510538705295, Melanocytic nevus: 0.9147727267529701, Basal cell carcinoma: 0.5652173906899811, Actinic keratosis: 0.0434782606805293, Benign keratosis: 0.14814814787379973, Dermatofibroma: 0.0, Vascular lesion: 0.0, Squamous cell carcinoma: 0.0\n",
      "\u001b[2m\u001b[36m(DefaultActor pid=1122112)\u001b[0m Accuracy: 0.5362637353208548\n",
      "\u001b[2m\u001b[36m(DefaultActor pid=1122112)\u001b[0m loss 1.4262 - accuracy 0.5363\n",
      "\u001b[2m\u001b[36m(DefaultActor pid=1122112)\u001b[0m client 4\n",
      "\u001b[2m\u001b[36m(DefaultActor pid=1122112)\u001b[0m client 3\n",
      "\u001b[2m\u001b[36m(DefaultActor pid=1122112)\u001b[0m model 2\n",
      "\u001b[2m\u001b[36m(DefaultActor pid=1122112)\u001b[0m *************Metrics******************\n",
      "\u001b[2m\u001b[36m(DefaultActor pid=1122112)\u001b[0m Melanoma: 0.4339622638780112, Melanocytic nevus: 0.938223938042814, Basal cell carcinoma: 0.3793103435196195, Actinic keratosis: 0.0869565213610586, Benign keratosis: 0.19999999969230772, Dermatofibroma: 0.0, Vascular lesion: 0.0, Squamous cell carcinoma: 0.0\n",
      "\u001b[2m\u001b[36m(DefaultActor pid=1122112)\u001b[0m Accuracy: 0.7253433201245013\n",
      "\u001b[2m\u001b[36m(DefaultActor pid=1122112)\u001b[0m loss 0.8369 - accuracy 0.7253\n",
      "\u001b[2m\u001b[36m(DefaultActor pid=1122112)\u001b[0m client 4\n",
      "\u001b[2m\u001b[36m(DefaultActor pid=1122112)\u001b[0m client 3\n",
      "\u001b[2m\u001b[36m(DefaultActor pid=1122112)\u001b[0m model 2\n",
      "\u001b[2m\u001b[36m(DefaultActor pid=1122112)\u001b[0m *************Metrics******************\n",
      "\u001b[2m\u001b[36m(DefaultActor pid=1122112)\u001b[0m Melanoma: 0.36486486461833456, Melanocytic nevus: 0.9163498095375097, Basal cell carcinoma: 0.5301204816083612, Actinic keratosis: 0.1428571418367347, Benign keratosis: 0.1836734690129113, Dermatofibroma: 0.0, Vascular lesion: 0.0, Squamous cell carcinoma: 0.0\n",
      "\u001b[2m\u001b[36m(DefaultActor pid=1122112)\u001b[0m Accuracy: 0.5960665650879681\n",
      "\u001b[2m\u001b[36m(DefaultActor pid=1122112)\u001b[0m loss 1.1392 - accuracy 0.5961\n",
      "\u001b[2m\u001b[36m(DefaultActor pid=1122112)\u001b[0m client 4\n",
      "\u001b[2m\u001b[36m(DefaultActor pid=1122112)\u001b[0m client 3\n",
      "\u001b[2m\u001b[36m(DefaultActor pid=1122112)\u001b[0m model 2\n"
     ]
    },
    {
     "name": "stderr",
     "output_type": "stream",
     "text": [
      "DEBUG flwr 2024-03-25 20:05:51,959 | server.py:187 | evaluate_round 12 received 4 results and 0 failures\n"
     ]
    },
    {
     "name": "stdout",
     "output_type": "stream",
     "text": [
      "[2024-03-25 20:05:51,959][flwr][DEBUG] - evaluate_round 12 received 4 results and 0 failures\n"
     ]
    },
    {
     "name": "stderr",
     "output_type": "stream",
     "text": [
      "DEBUG flwr 2024-03-25 20:05:51,961 | server.py:222 | fit_round 13: strategy sampled 4 clients (out of 4)\n"
     ]
    },
    {
     "name": "stdout",
     "output_type": "stream",
     "text": [
      "weighted [(51, {'accuracy': 0.7253433201245013}), (39, {'accuracy': 0.6276422756063191}), (29, {'accuracy': 0.5362637353208548}), (42, {'accuracy': 0.5960665650879681})]\n",
      "[2024-03-25 20:05:51,961][flwr][DEBUG] - fit_round 13: strategy sampled 4 clients (out of 4)\n",
      "\u001b[2m\u001b[36m(DefaultActor pid=1122112)\u001b[0m *************Metrics******************\n",
      "\u001b[2m\u001b[36m(DefaultActor pid=1122112)\u001b[0m Melanoma: 0.3673469384006664, Melanocytic nevus: 0.9242424239623509, Basal cell carcinoma: 0.4666666656296296, Actinic keratosis: 0.18518518449931412, Benign keratosis: 0.20212765935943866, Dermatofibroma: 0.0, Vascular lesion: 0.0, Squamous cell carcinoma: 0.0\n",
      "\u001b[2m\u001b[36m(DefaultActor pid=1122112)\u001b[0m Accuracy: 0.6276422756063191\n",
      "\u001b[2m\u001b[36m(DefaultActor pid=1122112)\u001b[0m loss 1.0977 - accuracy 0.6276\n",
      "\u001b[2m\u001b[36m(DefaultActor pid=1122112)\u001b[0m client 2\n",
      "\u001b[2m\u001b[36m(DefaultActor pid=1122112)\u001b[0m client 3\n",
      "\u001b[2m\u001b[36m(DefaultActor pid=1122112)\u001b[0m model 1\n",
      "\u001b[2m\u001b[36m(DefaultActor pid=1122112)\u001b[0m *************Metrics******************\n",
      "\u001b[2m\u001b[36m(DefaultActor pid=1122112)\u001b[0m Melanoma: 0.2453987729308593, Melanocytic nevus: 0.8777327934511958, Basal cell carcinoma: 0.7317829456229794, Actinic keratosis: 0.056603773549305805, Benign keratosis: 0.25781249993286137, Dermatofibroma: 0.0, Vascular lesion: 0.03333333327777778, Squamous cell carcinoma: 0.0542372881172077\n",
      "\u001b[2m\u001b[36m(DefaultActor pid=1122112)\u001b[0m Accuracy: 0.5540880501750723\n",
      "\u001b[2m\u001b[36m(DefaultActor pid=1122112)\u001b[0m Epoch [1/1] - loss 1.2967 -accuracy 0.5541\n",
      "\u001b[2m\u001b[36m(DefaultActor pid=1122112)\u001b[0m client 1\n",
      "\u001b[2m\u001b[36m(DefaultActor pid=1122112)\u001b[0m client 2\n",
      "\u001b[2m\u001b[36m(DefaultActor pid=1122112)\u001b[0m client 3\n",
      "\u001b[2m\u001b[36m(DefaultActor pid=1122112)\u001b[0m model 1\n",
      "\u001b[2m\u001b[36m(DefaultActor pid=1122112)\u001b[0m *************Metrics******************\n",
      "\u001b[2m\u001b[36m(DefaultActor pid=1122112)\u001b[0m Melanoma: 0.47398843926069484, Melanocytic nevus: 0.8096529283725785, Basal cell carcinoma: 0.7287553647443129, Actinic keratosis: 0.0, Benign keratosis: 0.08405797099012813, Dermatofibroma: 0.0, Vascular lesion: 0.0, Squamous cell carcinoma: 0.0\n",
      "\u001b[2m\u001b[36m(DefaultActor pid=1122112)\u001b[0m Accuracy: 0.6171588703397873\n",
      "\u001b[2m\u001b[36m(DefaultActor pid=1122112)\u001b[0m Epoch [1/1] - loss 1.0521 -accuracy 0.6172\n",
      "\u001b[2m\u001b[36m(DefaultActor pid=1122112)\u001b[0m client 1\n",
      "\u001b[2m\u001b[36m(DefaultActor pid=1122112)\u001b[0m client 2\n",
      "\u001b[2m\u001b[36m(DefaultActor pid=1122112)\u001b[0m client 3\n",
      "\u001b[2m\u001b[36m(DefaultActor pid=1122112)\u001b[0m model 1\n",
      "\u001b[2m\u001b[36m(DefaultActor pid=1122112)\u001b[0m *************Metrics******************\n",
      "\u001b[2m\u001b[36m(DefaultActor pid=1122112)\u001b[0m Melanoma: 0.4510332434455496, Melanocytic nevus: 0.9337748344113197, Basal cell carcinoma: 0.16915422877156505, Actinic keratosis: 0.10365853652215944, Benign keratosis: 0.13140311801082336, Dermatofibroma: 0.0, Vascular lesion: 0.0, Squamous cell carcinoma: 0.0\n",
      "\u001b[2m\u001b[36m(DefaultActor pid=1122112)\u001b[0m Accuracy: 0.7124264573774398\n",
      "\u001b[2m\u001b[36m(DefaultActor pid=1122112)\u001b[0m Epoch [1/1] - loss 0.8043 -accuracy 0.7124\n",
      "\u001b[2m\u001b[36m(DefaultActor pid=1122112)\u001b[0m client 1\n",
      "\u001b[2m\u001b[36m(DefaultActor pid=1122112)\u001b[0m client 2\n",
      "\u001b[2m\u001b[36m(DefaultActor pid=1122112)\u001b[0m client 3\n",
      "\u001b[2m\u001b[36m(DefaultActor pid=1122112)\u001b[0m model 1\n"
     ]
    },
    {
     "name": "stderr",
     "output_type": "stream",
     "text": [
      "DEBUG flwr 2024-03-25 20:07:47,689 | server.py:236 | fit_round 13 received 4 results and 0 failures\n"
     ]
    },
    {
     "name": "stdout",
     "output_type": "stream",
     "text": [
      "\u001b[2m\u001b[36m(DefaultActor pid=1122112)\u001b[0m *************Metrics******************\n",
      "\u001b[2m\u001b[36m(DefaultActor pid=1122112)\u001b[0m Melanoma: 0.37936046506113946, Melanocytic nevus: 0.904329004289856, Basal cell carcinoma: 0.34493670875160237, Actinic keratosis: 0.09473684205540167, Benign keratosis: 0.34446130495531696, Dermatofibroma: 0.0, Vascular lesion: 0.0, Squamous cell carcinoma: 0.0\n",
      "\u001b[2m\u001b[36m(DefaultActor pid=1122112)\u001b[0m Accuracy: 0.6281068523803752\n",
      "\u001b[2m\u001b[36m(DefaultActor pid=1122112)\u001b[0m Epoch [1/1] - loss 1.0226 -accuracy 0.6281\n",
      "\u001b[2m\u001b[36m(DefaultActor pid=1122112)\u001b[0m client 1\n",
      "[2024-03-25 20:07:47,689][flwr][DEBUG] - fit_round 13 received 4 results and 0 failures\n",
      "!!!!!!!!!!!!!!!!!!\n",
      "model 2\n"
     ]
    },
    {
     "name": "stderr",
     "output_type": "stream",
     "text": [
      "INFO flwr 2024-03-25 20:08:20,140 | server.py:125 | fit progress: (13, 3.7336974143981934, {'accuracy': 0.6298855111520119}, 2152.3224720270373)\n"
     ]
    },
    {
     "name": "stdout",
     "output_type": "stream",
     "text": [
      "*************Metrics******************\n",
      "Melanoma: 0.438674033100699, Melanocytic nevus: 0.9289320387988764, Basal cell carcinoma: 0.4277108433090797, Actinic keratosis: 0.08670520226202012, Benign keratosis: 0.1942857142487075, Dermatofibroma: 0.0, Vascular lesion: 0.01960784309880815, Squamous cell carcinoma: 0.0\n",
      "Accuracy: 0.6298855111520119\n",
      "loss 1.0504 - accuracy 0.6299\n",
      "[2024-03-25 20:08:20,140][flwr][INFO] - fit progress: (13, 3.7336974143981934, {'accuracy': 0.6298855111520119}, 2152.3224720270373)\n"
     ]
    },
    {
     "name": "stderr",
     "output_type": "stream",
     "text": [
      "DEBUG flwr 2024-03-25 20:08:20,142 | server.py:173 | evaluate_round 13: strategy sampled 4 clients (out of 4)\n"
     ]
    },
    {
     "name": "stdout",
     "output_type": "stream",
     "text": [
      "[2024-03-25 20:08:20,142][flwr][DEBUG] - evaluate_round 13: strategy sampled 4 clients (out of 4)\n",
      "\u001b[2m\u001b[36m(DefaultActor pid=1122112)\u001b[0m client 4\n",
      "\u001b[2m\u001b[36m(DefaultActor pid=1122112)\u001b[0m client 3\n",
      "\u001b[2m\u001b[36m(DefaultActor pid=1122112)\u001b[0m model 2\n",
      "\u001b[2m\u001b[36m(DefaultActor pid=1122112)\u001b[0m *************Metrics******************\n",
      "\u001b[2m\u001b[36m(DefaultActor pid=1122112)\u001b[0m Melanoma: 0.5106382967858759, Melanocytic nevus: 0.9147727267529701, Basal cell carcinoma: 0.4673913038397921, Actinic keratosis: 0.0434782606805293, Benign keratosis: 0.14814814787379973, Dermatofibroma: 0.0, Vascular lesion: 0.0, Squamous cell carcinoma: 0.0\n",
      "\u001b[2m\u001b[36m(DefaultActor pid=1122112)\u001b[0m Accuracy: 0.5208791199632893\n",
      "\u001b[2m\u001b[36m(DefaultActor pid=1122112)\u001b[0m loss 1.4390 - accuracy 0.5209\n",
      "\u001b[2m\u001b[36m(DefaultActor pid=1122112)\u001b[0m client 4\n",
      "\u001b[2m\u001b[36m(DefaultActor pid=1122112)\u001b[0m client 3\n",
      "\u001b[2m\u001b[36m(DefaultActor pid=1122112)\u001b[0m model 2\n",
      "\u001b[2m\u001b[36m(DefaultActor pid=1122112)\u001b[0m *************Metrics******************\n",
      "\u001b[2m\u001b[36m(DefaultActor pid=1122112)\u001b[0m Melanoma: 0.4591194965665915, Melanocytic nevus: 0.930501930322297, Basal cell carcinoma: 0.24137930951248512, Actinic keratosis: 0.0, Benign keratosis: 0.19999999969230772, Dermatofibroma: 0.0, Vascular lesion: 0.0, Squamous cell carcinoma: 0.0\n",
      "\u001b[2m\u001b[36m(DefaultActor pid=1122112)\u001b[0m Accuracy: 0.7178526834278627\n",
      "\u001b[2m\u001b[36m(DefaultActor pid=1122112)\u001b[0m loss 0.8301 - accuracy 0.7179\n",
      "\u001b[2m\u001b[36m(DefaultActor pid=1122112)\u001b[0m client 4\n",
      "\u001b[2m\u001b[36m(DefaultActor pid=1122112)\u001b[0m client 3\n",
      "\u001b[2m\u001b[36m(DefaultActor pid=1122112)\u001b[0m model 2\n",
      "\u001b[2m\u001b[36m(DefaultActor pid=1122112)\u001b[0m *************Metrics******************\n",
      "\u001b[2m\u001b[36m(DefaultActor pid=1122112)\u001b[0m Melanoma: 0.4189189186358656, Melanocytic nevus: 0.9277566536396363, Basal cell carcinoma: 0.45783132502540286, Actinic keratosis: 0.1428571418367347, Benign keratosis: 0.2244897954602249, Dermatofibroma: 0.0, Vascular lesion: 0.0, Squamous cell carcinoma: 0.0\n",
      "\u001b[2m\u001b[36m(DefaultActor pid=1122112)\u001b[0m Accuracy: 0.5975794243902218\n",
      "\u001b[2m\u001b[36m(DefaultActor pid=1122112)\u001b[0m loss 1.1525 - accuracy 0.5976\n",
      "\u001b[2m\u001b[36m(DefaultActor pid=1122112)\u001b[0m client 4\n",
      "\u001b[2m\u001b[36m(DefaultActor pid=1122112)\u001b[0m client 3\n",
      "\u001b[2m\u001b[36m(DefaultActor pid=1122112)\u001b[0m model 2\n"
     ]
    },
    {
     "name": "stderr",
     "output_type": "stream",
     "text": [
      "DEBUG flwr 2024-03-25 20:08:38,304 | server.py:187 | evaluate_round 13 received 4 results and 0 failures\n"
     ]
    },
    {
     "name": "stdout",
     "output_type": "stream",
     "text": [
      "[2024-03-25 20:08:38,304][flwr][DEBUG] - evaluate_round 13 received 4 results and 0 failures\n"
     ]
    },
    {
     "name": "stderr",
     "output_type": "stream",
     "text": [
      "DEBUG flwr 2024-03-25 20:08:38,305 | server.py:222 | fit_round 14: strategy sampled 4 clients (out of 4)\n"
     ]
    },
    {
     "name": "stdout",
     "output_type": "stream",
     "text": [
      "weighted [(39, {'accuracy': 0.6292682918643666}), (29, {'accuracy': 0.5208791199632893}), (51, {'accuracy': 0.7178526834278627}), (42, {'accuracy': 0.5975794243902218})]\n",
      "[2024-03-25 20:08:38,305][flwr][DEBUG] - fit_round 14: strategy sampled 4 clients (out of 4)\n",
      "\u001b[2m\u001b[36m(DefaultActor pid=1122112)\u001b[0m *************Metrics******************\n",
      "\u001b[2m\u001b[36m(DefaultActor pid=1122112)\u001b[0m Melanoma: 0.4183673465118701, Melanocytic nevus: 0.9272727269917357, Basal cell carcinoma: 0.3777777769382716, Actinic keratosis: 0.18518518449931412, Benign keratosis: 0.19148936149841558, Dermatofibroma: 0.0, Vascular lesion: 0.0, Squamous cell carcinoma: 0.0\n",
      "\u001b[2m\u001b[36m(DefaultActor pid=1122112)\u001b[0m Accuracy: 0.6292682918643666\n",
      "\u001b[2m\u001b[36m(DefaultActor pid=1122112)\u001b[0m loss 1.0965 - accuracy 0.6293\n",
      "\u001b[2m\u001b[36m(DefaultActor pid=1122112)\u001b[0m client 2\n",
      "\u001b[2m\u001b[36m(DefaultActor pid=1122112)\u001b[0m client 3\n",
      "\u001b[2m\u001b[36m(DefaultActor pid=1122112)\u001b[0m model 1\n",
      "\u001b[2m\u001b[36m(DefaultActor pid=1122112)\u001b[0m *************Metrics******************\n",
      "\u001b[2m\u001b[36m(DefaultActor pid=1122112)\u001b[0m Melanoma: 0.4600179694106004, Melanocytic nevus: 0.9307395143231032, Basal cell carcinoma: 0.13930348251775945, Actinic keratosis: 0.12804878040972636, Benign keratosis: 0.13585746099424112, Dermatofibroma: 0.0, Vascular lesion: 0.0, Squamous cell carcinoma: 0.0\n",
      "\u001b[2m\u001b[36m(DefaultActor pid=1122112)\u001b[0m Accuracy: 0.7122481724781962\n",
      "\u001b[2m\u001b[36m(DefaultActor pid=1122112)\u001b[0m Epoch [1/1] - loss 0.7863 -accuracy 0.7122\n",
      "\u001b[2m\u001b[36m(DefaultActor pid=1122112)\u001b[0m client 1\n",
      "\u001b[2m\u001b[36m(DefaultActor pid=1122112)\u001b[0m client 2\n",
      "\u001b[2m\u001b[36m(DefaultActor pid=1122112)\u001b[0m client 3\n",
      "\u001b[2m\u001b[36m(DefaultActor pid=1122112)\u001b[0m model 1\n",
      "\u001b[2m\u001b[36m(DefaultActor pid=1122112)\u001b[0m *************Metrics******************\n",
      "\u001b[2m\u001b[36m(DefaultActor pid=1122112)\u001b[0m Melanoma: 0.29447852751703113, Melanocytic nevus: 0.871255060658198, Basal cell carcinoma: 0.7007751936898023, Actinic keratosis: 0.06289308172145089, Benign keratosis: 0.24479166660291887, Dermatofibroma: 0.0, Vascular lesion: 0.0, Squamous cell carcinoma: 0.040677966087905776\n",
      "\u001b[2m\u001b[36m(DefaultActor pid=1122112)\u001b[0m Accuracy: 0.5471698111831022\n",
      "\u001b[2m\u001b[36m(DefaultActor pid=1122112)\u001b[0m Epoch [1/1] - loss 1.2885 -accuracy 0.5472\n",
      "\u001b[2m\u001b[36m(DefaultActor pid=1122112)\u001b[0m client 1\n",
      "\u001b[2m\u001b[36m(DefaultActor pid=1122112)\u001b[0m client 2\n",
      "\u001b[2m\u001b[36m(DefaultActor pid=1122112)\u001b[0m client 3\n",
      "\u001b[2m\u001b[36m(DefaultActor pid=1122112)\u001b[0m model 1\n",
      "\u001b[2m\u001b[36m(DefaultActor pid=1122112)\u001b[0m *************Metrics******************\n",
      "\u001b[2m\u001b[36m(DefaultActor pid=1122112)\u001b[0m Melanoma: 0.48554913290119955, Melanocytic nevus: 0.8036876355312534, Basal cell carcinoma: 0.7227467810538416, Actinic keratosis: 0.0, Benign keratosis: 0.07826086954253308, Dermatofibroma: 0.0, Vascular lesion: 0.013698630118221056, Squamous cell carcinoma: 0.0\n",
      "\u001b[2m\u001b[36m(DefaultActor pid=1122112)\u001b[0m Accuracy: 0.6156499244465361\n",
      "\u001b[2m\u001b[36m(DefaultActor pid=1122112)\u001b[0m Epoch [1/1] - loss 1.0519 -accuracy 0.6156\n",
      "\u001b[2m\u001b[36m(DefaultActor pid=1122112)\u001b[0m client 1\n",
      "\u001b[2m\u001b[36m(DefaultActor pid=1122112)\u001b[0m client 2\n",
      "\u001b[2m\u001b[36m(DefaultActor pid=1122112)\u001b[0m client 3\n",
      "\u001b[2m\u001b[36m(DefaultActor pid=1122112)\u001b[0m model 1\n"
     ]
    },
    {
     "name": "stderr",
     "output_type": "stream",
     "text": [
      "DEBUG flwr 2024-03-25 20:10:33,955 | server.py:236 | fit_round 14 received 4 results and 0 failures\n"
     ]
    },
    {
     "name": "stdout",
     "output_type": "stream",
     "text": [
      "\u001b[2m\u001b[36m(DefaultActor pid=1122112)\u001b[0m *************Metrics******************\n",
      "\u001b[2m\u001b[36m(DefaultActor pid=1122112)\u001b[0m Melanoma: 0.3677325580860854, Melanocytic nevus: 0.899999999961039, Basal cell carcinoma: 0.33544303786853075, Actinic keratosis: 0.12105263151523546, Benign keratosis: 0.3247344460812239, Dermatofibroma: 0.0, Vascular lesion: 0.02857142848979592, Squamous cell carcinoma: 0.0\n",
      "\u001b[2m\u001b[36m(DefaultActor pid=1122112)\u001b[0m Accuracy: 0.6216027873409334\n",
      "\u001b[2m\u001b[36m(DefaultActor pid=1122112)\u001b[0m Epoch [1/1] - loss 1.0149 -accuracy 0.6216\n",
      "\u001b[2m\u001b[36m(DefaultActor pid=1122112)\u001b[0m client 1\n",
      "[2024-03-25 20:10:33,955][flwr][DEBUG] - fit_round 14 received 4 results and 0 failures\n",
      "!!!!!!!!!!!!!!!!!!\n",
      "model 2\n"
     ]
    },
    {
     "name": "stderr",
     "output_type": "stream",
     "text": [
      "INFO flwr 2024-03-25 20:11:06,569 | server.py:125 | fit progress: (14, 3.7918174266815186, {'accuracy': 0.6344255822132768}, 2318.7514767409302)\n"
     ]
    },
    {
     "name": "stdout",
     "output_type": "stream",
     "text": [
      "*************Metrics******************\n",
      "Melanoma: 0.4375690607251305, Melanocytic nevus: 0.9106796116151193, Basal cell carcinoma: 0.5090361445016512, Actinic keratosis: 0.09248554907948812, Benign keratosis: 0.224761904719093, Dermatofibroma: 0.0, Vascular lesion: 0.01960784309880815, Squamous cell carcinoma: 0.0\n",
      "Accuracy: 0.6344255822132768\n",
      "loss 1.0429 - accuracy 0.6344\n",
      "[2024-03-25 20:11:06,569][flwr][INFO] - fit progress: (14, 3.7918174266815186, {'accuracy': 0.6344255822132768}, 2318.7514767409302)\n"
     ]
    },
    {
     "name": "stderr",
     "output_type": "stream",
     "text": [
      "DEBUG flwr 2024-03-25 20:11:06,571 | server.py:173 | evaluate_round 14: strategy sampled 4 clients (out of 4)\n"
     ]
    },
    {
     "name": "stdout",
     "output_type": "stream",
     "text": [
      "[2024-03-25 20:11:06,571][flwr][DEBUG] - evaluate_round 14: strategy sampled 4 clients (out of 4)\n",
      "\u001b[2m\u001b[36m(DefaultActor pid=1122112)\u001b[0m client 4\n",
      "\u001b[2m\u001b[36m(DefaultActor pid=1122112)\u001b[0m client 3\n",
      "\u001b[2m\u001b[36m(DefaultActor pid=1122112)\u001b[0m model 2\n",
      "\u001b[2m\u001b[36m(DefaultActor pid=1122112)\u001b[0m *************Metrics******************\n",
      "\u001b[2m\u001b[36m(DefaultActor pid=1122112)\u001b[0m Melanoma: 0.48936170108646443, Melanocytic nevus: 0.9034090903957903, Basal cell carcinoma: 0.5326086950732515, Actinic keratosis: 0.0434782606805293, Benign keratosis: 0.2222222218106996, Dermatofibroma: 0.0, Vascular lesion: 0.0, Squamous cell carcinoma: 0.0\n",
      "\u001b[2m\u001b[36m(DefaultActor pid=1122112)\u001b[0m Accuracy: 0.5362637353208548\n",
      "\u001b[2m\u001b[36m(DefaultActor pid=1122112)\u001b[0m loss 1.4034 - accuracy 0.5363\n",
      "\u001b[2m\u001b[36m(DefaultActor pid=1122112)\u001b[0m client 4\n",
      "\u001b[2m\u001b[36m(DefaultActor pid=1122112)\u001b[0m client 3\n",
      "\u001b[2m\u001b[36m(DefaultActor pid=1122112)\u001b[0m model 2\n",
      "\u001b[2m\u001b[36m(DefaultActor pid=1122112)\u001b[0m *************Metrics******************\n",
      "\u001b[2m\u001b[36m(DefaultActor pid=1122112)\u001b[0m Melanoma: 0.3979591832673886, Melanocytic nevus: 0.9121212118448119, Basal cell carcinoma: 0.44444444345679013, Actinic keratosis: 0.18518518449931412, Benign keratosis: 0.19148936149841558, Dermatofibroma: 0.0, Vascular lesion: 0.0, Squamous cell carcinoma: 0.0\n",
      "\u001b[2m\u001b[36m(DefaultActor pid=1122112)\u001b[0m Accuracy: 0.6227642268321768\n",
      "\u001b[2m\u001b[36m(DefaultActor pid=1122112)\u001b[0m loss 1.0932 - accuracy 0.6228\n",
      "\u001b[2m\u001b[36m(DefaultActor pid=1122112)\u001b[0m client 4\n",
      "\u001b[2m\u001b[36m(DefaultActor pid=1122112)\u001b[0m client 3\n",
      "\u001b[2m\u001b[36m(DefaultActor pid=1122112)\u001b[0m model 2\n",
      "\u001b[2m\u001b[36m(DefaultActor pid=1122112)\u001b[0m *************Metrics******************\n",
      "\u001b[2m\u001b[36m(DefaultActor pid=1122112)\u001b[0m Melanoma: 0.4324324321402484, Melanocytic nevus: 0.9011406840680075, Basal cell carcinoma: 0.5060240960807084, Actinic keratosis: 0.1428571418367347, Benign keratosis: 0.2448979586838817, Dermatofibroma: 0.0, Vascular lesion: 0.0, Squamous cell carcinoma: 0.0\n",
      "\u001b[2m\u001b[36m(DefaultActor pid=1122112)\u001b[0m Accuracy: 0.6036308615992367\n",
      "\u001b[2m\u001b[36m(DefaultActor pid=1122112)\u001b[0m loss 1.1323 - accuracy 0.6036\n",
      "\u001b[2m\u001b[36m(DefaultActor pid=1122112)\u001b[0m client 4\n",
      "\u001b[2m\u001b[36m(DefaultActor pid=1122112)\u001b[0m client 3\n",
      "\u001b[2m\u001b[36m(DefaultActor pid=1122112)\u001b[0m model 2\n"
     ]
    },
    {
     "name": "stderr",
     "output_type": "stream",
     "text": [
      "DEBUG flwr 2024-03-25 20:11:24,750 | server.py:187 | evaluate_round 14 received 4 results and 0 failures\n"
     ]
    },
    {
     "name": "stdout",
     "output_type": "stream",
     "text": [
      "[2024-03-25 20:11:24,750][flwr][DEBUG] - evaluate_round 14 received 4 results and 0 failures\n"
     ]
    },
    {
     "name": "stderr",
     "output_type": "stream",
     "text": [
      "DEBUG flwr 2024-03-25 20:11:24,751 | server.py:222 | fit_round 15: strategy sampled 4 clients (out of 4)\n"
     ]
    },
    {
     "name": "stdout",
     "output_type": "stream",
     "text": [
      "weighted [(39, {'accuracy': 0.6227642268321768}), (42, {'accuracy': 0.6036308615992367}), (51, {'accuracy': 0.721598001776182}), (29, {'accuracy': 0.5362637353208548})]\n",
      "[2024-03-25 20:11:24,751][flwr][DEBUG] - fit_round 15: strategy sampled 4 clients (out of 4)\n",
      "\u001b[2m\u001b[36m(DefaultActor pid=1122112)\u001b[0m *************Metrics******************\n",
      "\u001b[2m\u001b[36m(DefaultActor pid=1122112)\u001b[0m Melanoma: 0.4716981129108817, Melanocytic nevus: 0.9266409264620384, Basal cell carcinoma: 0.2758620680142687, Actinic keratosis: 0.0, Benign keratosis: 0.2307692304142012, Dermatofibroma: 0.0, Vascular lesion: 0.0, Squamous cell carcinoma: 0.0\n",
      "\u001b[2m\u001b[36m(DefaultActor pid=1122112)\u001b[0m Accuracy: 0.721598001776182\n",
      "\u001b[2m\u001b[36m(DefaultActor pid=1122112)\u001b[0m loss 0.8391 - accuracy 0.7216\n",
      "\u001b[2m\u001b[36m(DefaultActor pid=1122112)\u001b[0m client 2\n",
      "\u001b[2m\u001b[36m(DefaultActor pid=1122112)\u001b[0m client 3\n",
      "\u001b[2m\u001b[36m(DefaultActor pid=1122112)\u001b[0m model 1\n",
      "\u001b[2m\u001b[36m(DefaultActor pid=1122112)\u001b[0m *************Metrics******************\n",
      "\u001b[2m\u001b[36m(DefaultActor pid=1122112)\u001b[0m Melanoma: 0.4730250481239861, Melanocytic nevus: 0.8139913231662695, Basal cell carcinoma: 0.7527896995061985, Actinic keratosis: 0.0, Benign keratosis: 0.11884057967569839, Dermatofibroma: 0.0, Vascular lesion: 0.027397260236442112, Squamous cell carcinoma: 0.0\n",
      "\u001b[2m\u001b[36m(DefaultActor pid=1122112)\u001b[0m Accuracy: 0.6277214915925465\n",
      "\u001b[2m\u001b[36m(DefaultActor pid=1122112)\u001b[0m Epoch [1/1] - loss 1.0382 -accuracy 0.6277\n",
      "\u001b[2m\u001b[36m(DefaultActor pid=1122112)\u001b[0m client 1\n",
      "\u001b[2m\u001b[36m(DefaultActor pid=1122112)\u001b[0m client 2\n",
      "\u001b[2m\u001b[36m(DefaultActor pid=1122112)\u001b[0m client 3\n",
      "\u001b[2m\u001b[36m(DefaultActor pid=1122112)\u001b[0m model 1\n",
      "\u001b[2m\u001b[36m(DefaultActor pid=1122112)\u001b[0m *************Metrics******************\n",
      "\u001b[2m\u001b[36m(DefaultActor pid=1122112)\u001b[0m Melanoma: 0.45462713383156994, Melanocytic nevus: 0.9290838851840761, Basal cell carcinoma: 0.17412935314719932, Actinic keratosis: 0.1402439023535098, Benign keratosis: 0.1737193763532919, Dermatofibroma: 0.0, Vascular lesion: 0.0, Squamous cell carcinoma: 0.0\n",
      "\u001b[2m\u001b[36m(DefaultActor pid=1122112)\u001b[0m Accuracy: 0.7147441610676066\n",
      "\u001b[2m\u001b[36m(DefaultActor pid=1122112)\u001b[0m Epoch [1/1] - loss 0.7861 -accuracy 0.7147\n",
      "\u001b[2m\u001b[36m(DefaultActor pid=1122112)\u001b[0m client 1\n",
      "\u001b[2m\u001b[36m(DefaultActor pid=1122112)\u001b[0m client 2\n",
      "\u001b[2m\u001b[36m(DefaultActor pid=1122112)\u001b[0m client 3\n",
      "\u001b[2m\u001b[36m(DefaultActor pid=1122112)\u001b[0m model 1\n",
      "\u001b[2m\u001b[36m(DefaultActor pid=1122112)\u001b[0m *************Metrics******************\n",
      "\u001b[2m\u001b[36m(DefaultActor pid=1122112)\u001b[0m Melanoma: 0.3648255813423219, Melanocytic nevus: 0.8987012986623939, Basal cell carcinoma: 0.34177215179057846, Actinic keratosis: 0.15789473675900279, Benign keratosis: 0.34446130495531696, Dermatofibroma: 0.0, Vascular lesion: 0.02857142848979592, Squamous cell carcinoma: 0.010416666655815972\n",
      "\u001b[2m\u001b[36m(DefaultActor pid=1122112)\u001b[0m Accuracy: 0.625783972009146\n",
      "\u001b[2m\u001b[36m(DefaultActor pid=1122112)\u001b[0m Epoch [1/1] - loss 1.0113 -accuracy 0.6258\n",
      "\u001b[2m\u001b[36m(DefaultActor pid=1122112)\u001b[0m client 1\n",
      "\u001b[2m\u001b[36m(DefaultActor pid=1122112)\u001b[0m client 2\n",
      "\u001b[2m\u001b[36m(DefaultActor pid=1122112)\u001b[0m client 3\n",
      "\u001b[2m\u001b[36m(DefaultActor pid=1122112)\u001b[0m model 1\n"
     ]
    },
    {
     "name": "stderr",
     "output_type": "stream",
     "text": [
      "DEBUG flwr 2024-03-25 20:13:20,343 | server.py:236 | fit_round 15 received 4 results and 0 failures\n"
     ]
    },
    {
     "name": "stdout",
     "output_type": "stream",
     "text": [
      "\u001b[2m\u001b[36m(DefaultActor pid=1122112)\u001b[0m *************Metrics******************\n",
      "\u001b[2m\u001b[36m(DefaultActor pid=1122112)\u001b[0m Melanoma: 0.27300613488558095, Melanocytic nevus: 0.8785425100503206, Basal cell carcinoma: 0.6961240308998258, Actinic keratosis: 0.08805031441003125, Benign keratosis: 0.23958333327094186, Dermatofibroma: 0.0, Vascular lesion: 0.03333333327777778, Squamous cell carcinoma: 0.1084745762344154\n",
      "\u001b[2m\u001b[36m(DefaultActor pid=1122112)\u001b[0m Accuracy: 0.5544025155837983\n",
      "\u001b[2m\u001b[36m(DefaultActor pid=1122112)\u001b[0m Epoch [1/1] - loss 1.2973 -accuracy 0.5544\n",
      "\u001b[2m\u001b[36m(DefaultActor pid=1122112)\u001b[0m client 1\n",
      "[2024-03-25 20:13:20,343][flwr][DEBUG] - fit_round 15 received 4 results and 0 failures\n",
      "!!!!!!!!!!!!!!!!!!\n",
      "model 2\n"
     ]
    },
    {
     "name": "stderr",
     "output_type": "stream",
     "text": [
      "INFO flwr 2024-03-25 20:13:52,716 | server.py:125 | fit progress: (15, 3.901406764984131, {'accuracy': 0.6373864981227974}, 2484.8983994040173)\n"
     ]
    },
    {
     "name": "stdout",
     "output_type": "stream",
     "text": [
      "*************Metrics******************\n",
      "Melanoma: 0.3977900552046641, Melanocytic nevus: 0.9242718446243001, Basal cell carcinoma: 0.5150602408862861, Actinic keratosis: 0.11560693634936016, Benign keratosis: 0.23809523804988664, Dermatofibroma: 0.0, Vascular lesion: 0.0392156861976163, Squamous cell carcinoma: 0.0\n",
      "Accuracy: 0.6373864981227974\n",
      "loss 1.0376 - accuracy 0.6374\n",
      "[2024-03-25 20:13:52,716][flwr][INFO] - fit progress: (15, 3.901406764984131, {'accuracy': 0.6373864981227974}, 2484.8983994040173)\n"
     ]
    },
    {
     "name": "stderr",
     "output_type": "stream",
     "text": [
      "DEBUG flwr 2024-03-25 20:13:52,718 | server.py:173 | evaluate_round 15: strategy sampled 4 clients (out of 4)\n"
     ]
    },
    {
     "name": "stdout",
     "output_type": "stream",
     "text": [
      "[2024-03-25 20:13:52,718][flwr][DEBUG] - evaluate_round 15: strategy sampled 4 clients (out of 4)\n",
      "\u001b[2m\u001b[36m(DefaultActor pid=1122112)\u001b[0m client 4\n",
      "\u001b[2m\u001b[36m(DefaultActor pid=1122112)\u001b[0m client 3\n",
      "\u001b[2m\u001b[36m(DefaultActor pid=1122112)\u001b[0m model 2\n",
      "\u001b[2m\u001b[36m(DefaultActor pid=1122112)\u001b[0m *************Metrics******************\n",
      "\u001b[2m\u001b[36m(DefaultActor pid=1122112)\u001b[0m Melanoma: 0.37755102002290714, Melanocytic nevus: 0.9242424239623509, Basal cell carcinoma: 0.4666666656296296, Actinic keratosis: 0.18518518449931412, Benign keratosis: 0.22340425508148484, Dermatofibroma: 0.0, Vascular lesion: 0.0, Squamous cell carcinoma: 0.0\n",
      "\u001b[2m\u001b[36m(DefaultActor pid=1122112)\u001b[0m Accuracy: 0.6325203243804616\n",
      "\u001b[2m\u001b[36m(DefaultActor pid=1122112)\u001b[0m loss 1.0911 - accuracy 0.6325\n",
      "\u001b[2m\u001b[36m(DefaultActor pid=1122112)\u001b[0m client 4\n",
      "\u001b[2m\u001b[36m(DefaultActor pid=1122112)\u001b[0m client 3\n",
      "\u001b[2m\u001b[36m(DefaultActor pid=1122112)\u001b[0m model 2\n",
      "\u001b[2m\u001b[36m(DefaultActor pid=1122112)\u001b[0m *************Metrics******************\n",
      "\u001b[2m\u001b[36m(DefaultActor pid=1122112)\u001b[0m Melanoma: 0.3851351348749087, Melanocytic nevus: 0.9163498095375097, Basal cell carcinoma: 0.5180722888445348, Actinic keratosis: 0.1428571418367347, Benign keratosis: 0.28571428513119534, Dermatofibroma: 0.0, Vascular lesion: 0.0, Squamous cell carcinoma: 0.0\n",
      "\u001b[2m\u001b[36m(DefaultActor pid=1122112)\u001b[0m Accuracy: 0.6051437209014905\n",
      "\u001b[2m\u001b[36m(DefaultActor pid=1122112)\u001b[0m loss 1.1315 - accuracy 0.6051\n",
      "\u001b[2m\u001b[36m(DefaultActor pid=1122112)\u001b[0m client 4\n",
      "\u001b[2m\u001b[36m(DefaultActor pid=1122112)\u001b[0m client 3\n",
      "\u001b[2m\u001b[36m(DefaultActor pid=1122112)\u001b[0m model 2\n",
      "\u001b[2m\u001b[36m(DefaultActor pid=1122112)\u001b[0m *************Metrics******************\n",
      "\u001b[2m\u001b[36m(DefaultActor pid=1122112)\u001b[0m Melanoma: 0.4339622638780112, Melanocytic nevus: 0.9420849419030725, Basal cell carcinoma: 0.31034482651605233, Actinic keratosis: 0.0434782606805293, Benign keratosis: 0.2923076918579882, Dermatofibroma: 0.0, Vascular lesion: 0.0, Squamous cell carcinoma: 0.0\n",
      "\u001b[2m\u001b[36m(DefaultActor pid=1122112)\u001b[0m Accuracy: 0.7315855173717001\n",
      "\u001b[2m\u001b[36m(DefaultActor pid=1122112)\u001b[0m loss 0.8318 - accuracy 0.7316\n",
      "\u001b[2m\u001b[36m(DefaultActor pid=1122112)\u001b[0m client 4\n",
      "\u001b[2m\u001b[36m(DefaultActor pid=1122112)\u001b[0m client 3\n",
      "\u001b[2m\u001b[36m(DefaultActor pid=1122112)\u001b[0m model 2\n"
     ]
    },
    {
     "name": "stderr",
     "output_type": "stream",
     "text": [
      "DEBUG flwr 2024-03-25 20:14:11,088 | server.py:187 | evaluate_round 15 received 4 results and 0 failures\n"
     ]
    },
    {
     "name": "stdout",
     "output_type": "stream",
     "text": [
      "[2024-03-25 20:14:11,088][flwr][DEBUG] - evaluate_round 15 received 4 results and 0 failures\n"
     ]
    },
    {
     "name": "stderr",
     "output_type": "stream",
     "text": [
      "DEBUG flwr 2024-03-25 20:14:11,089 | server.py:222 | fit_round 16: strategy sampled 4 clients (out of 4)\n"
     ]
    },
    {
     "name": "stdout",
     "output_type": "stream",
     "text": [
      "weighted [(39, {'accuracy': 0.6325203243804616}), (29, {'accuracy': 0.5384615375147928}), (51, {'accuracy': 0.7315855173717001}), (42, {'accuracy': 0.6051437209014905})]\n",
      "[2024-03-25 20:14:11,089][flwr][DEBUG] - fit_round 16: strategy sampled 4 clients (out of 4)\n",
      "\u001b[2m\u001b[36m(DefaultActor pid=1122112)\u001b[0m *************Metrics******************\n",
      "\u001b[2m\u001b[36m(DefaultActor pid=1122112)\u001b[0m Melanoma: 0.42553191398823, Melanocytic nevus: 0.9261363631101498, Basal cell carcinoma: 0.5326086950732515, Actinic keratosis: 0.0434782606805293, Benign keratosis: 0.2222222218106996, Dermatofibroma: 0.0, Vascular lesion: 0.0, Squamous cell carcinoma: 0.0\n",
      "\u001b[2m\u001b[36m(DefaultActor pid=1122112)\u001b[0m Accuracy: 0.5384615375147928\n",
      "\u001b[2m\u001b[36m(DefaultActor pid=1122112)\u001b[0m loss 1.4245 - accuracy 0.5385\n",
      "\u001b[2m\u001b[36m(DefaultActor pid=1122112)\u001b[0m client 2\n",
      "\u001b[2m\u001b[36m(DefaultActor pid=1122112)\u001b[0m client 3\n",
      "\u001b[2m\u001b[36m(DefaultActor pid=1122112)\u001b[0m model 1\n",
      "\u001b[2m\u001b[36m(DefaultActor pid=1122112)\u001b[0m *************Metrics******************\n",
      "\u001b[2m\u001b[36m(DefaultActor pid=1122112)\u001b[0m Melanoma: 0.45552560642807505, Melanocytic nevus: 0.929359823373914, Basal cell carcinoma: 0.16915422877156505, Actinic keratosis: 0.12195121943783463, Benign keratosis: 0.17594654784500077, Dermatofibroma: 0.0, Vascular lesion: 0.0, Squamous cell carcinoma: 0.0\n",
      "\u001b[2m\u001b[36m(DefaultActor pid=1122112)\u001b[0m Accuracy: 0.714565876168363\n",
      "\u001b[2m\u001b[36m(DefaultActor pid=1122112)\u001b[0m Epoch [1/1] - loss 0.7866 -accuracy 0.7146\n",
      "\u001b[2m\u001b[36m(DefaultActor pid=1122112)\u001b[0m client 1\n",
      "\u001b[2m\u001b[36m(DefaultActor pid=1122112)\u001b[0m client 2\n",
      "\u001b[2m\u001b[36m(DefaultActor pid=1122112)\u001b[0m client 3\n",
      "\u001b[2m\u001b[36m(DefaultActor pid=1122112)\u001b[0m model 1\n",
      "\u001b[2m\u001b[36m(DefaultActor pid=1122112)\u001b[0m *************Metrics******************\n",
      "\u001b[2m\u001b[36m(DefaultActor pid=1122112)\u001b[0m Melanoma: 0.46917148357715116, Melanocytic nevus: 0.8085683296741558, Basal cell carcinoma: 0.721030042856564, Actinic keratosis: 0.010638297861023088, Benign keratosis: 0.08695652171392565, Dermatofibroma: 0.0, Vascular lesion: 0.0, Squamous cell carcinoma: 0.0\n",
      "\u001b[2m\u001b[36m(DefaultActor pid=1122112)\u001b[0m Accuracy: 0.6141409785532848\n",
      "\u001b[2m\u001b[36m(DefaultActor pid=1122112)\u001b[0m Epoch [1/1] - loss 1.0496 -accuracy 0.6141\n",
      "\u001b[2m\u001b[36m(DefaultActor pid=1122112)\u001b[0m client 1\n",
      "\u001b[2m\u001b[36m(DefaultActor pid=1122112)\u001b[0m client 2\n",
      "\u001b[2m\u001b[36m(DefaultActor pid=1122112)\u001b[0m client 3\n",
      "\u001b[2m\u001b[36m(DefaultActor pid=1122112)\u001b[0m model 1\n",
      "\u001b[2m\u001b[36m(DefaultActor pid=1122112)\u001b[0m *************Metrics******************\n",
      "\u001b[2m\u001b[36m(DefaultActor pid=1122112)\u001b[0m Melanoma: 0.2515337422541308, Melanocytic nevus: 0.8728744938564476, Basal cell carcinoma: 0.7023255812864612, Actinic keratosis: 0.06289308172145089, Benign keratosis: 0.27864583326076936, Dermatofibroma: 0.0, Vascular lesion: 0.04999999991666666, Squamous cell carcinoma: 0.10508474572708992\n",
      "\u001b[2m\u001b[36m(DefaultActor pid=1122112)\u001b[0m Accuracy: 0.5547169809925242\n",
      "\u001b[2m\u001b[36m(DefaultActor pid=1122112)\u001b[0m Epoch [1/1] - loss 1.2728 -accuracy 0.5547\n",
      "\u001b[2m\u001b[36m(DefaultActor pid=1122112)\u001b[0m client 1\n",
      "\u001b[2m\u001b[36m(DefaultActor pid=1122112)\u001b[0m client 2\n",
      "\u001b[2m\u001b[36m(DefaultActor pid=1122112)\u001b[0m client 3\n",
      "\u001b[2m\u001b[36m(DefaultActor pid=1122112)\u001b[0m model 1\n"
     ]
    },
    {
     "name": "stderr",
     "output_type": "stream",
     "text": [
      "DEBUG flwr 2024-03-25 20:16:07,138 | server.py:236 | fit_round 16 received 4 results and 0 failures\n"
     ]
    },
    {
     "name": "stdout",
     "output_type": "stream",
     "text": [
      "\u001b[2m\u001b[36m(DefaultActor pid=1122112)\u001b[0m *************Metrics******************\n",
      "\u001b[2m\u001b[36m(DefaultActor pid=1122112)\u001b[0m Melanoma: 0.3749999999454942, Melanocytic nevus: 0.9034632034240926, Basal cell carcinoma: 0.35443037963467394, Actinic keratosis: 0.15789473675900279, Benign keratosis: 0.3520485583684297, Dermatofibroma: 0.0, Vascular lesion: 0.0, Squamous cell carcinoma: 0.0\n",
      "\u001b[2m\u001b[36m(DefaultActor pid=1122112)\u001b[0m Accuracy: 0.631591172937219\n",
      "\u001b[2m\u001b[36m(DefaultActor pid=1122112)\u001b[0m Epoch [1/1] - loss 0.9992 -accuracy 0.6316\n",
      "\u001b[2m\u001b[36m(DefaultActor pid=1122112)\u001b[0m client 1\n",
      "[2024-03-25 20:16:07,138][flwr][DEBUG] - fit_round 16 received 4 results and 0 failures\n",
      "!!!!!!!!!!!!!!!!!!\n",
      "model 2\n"
     ]
    },
    {
     "name": "stderr",
     "output_type": "stream",
     "text": [
      "INFO flwr 2024-03-25 20:16:39,969 | server.py:125 | fit progress: (16, 3.742762804031372, {'accuracy': 0.6371891037288293}, 2652.151033109054)\n"
     ]
    },
    {
     "name": "stdout",
     "output_type": "stream",
     "text": [
      "*************Metrics******************\n",
      "Melanoma: 0.43093922647171945, Melanocytic nevus: 0.921165048507916, Basal cell carcinoma: 0.49096385534774645, Actinic keratosis: 0.09826589589695613, Benign keratosis: 0.23047619043229026, Dermatofibroma: 0.0, Vascular lesion: 0.0392156861976163, Squamous cell carcinoma: 0.0\n",
      "Accuracy: 0.6371891037288293\n",
      "loss 1.0311 - accuracy 0.6372\n",
      "[2024-03-25 20:16:39,969][flwr][INFO] - fit progress: (16, 3.742762804031372, {'accuracy': 0.6371891037288293}, 2652.151033109054)\n"
     ]
    },
    {
     "name": "stderr",
     "output_type": "stream",
     "text": [
      "DEBUG flwr 2024-03-25 20:16:39,970 | server.py:173 | evaluate_round 16: strategy sampled 4 clients (out of 4)\n"
     ]
    },
    {
     "name": "stdout",
     "output_type": "stream",
     "text": [
      "[2024-03-25 20:16:39,970][flwr][DEBUG] - evaluate_round 16: strategy sampled 4 clients (out of 4)\n",
      "\u001b[2m\u001b[36m(DefaultActor pid=1122112)\u001b[0m client 4\n",
      "\u001b[2m\u001b[36m(DefaultActor pid=1122112)\u001b[0m client 3\n",
      "\u001b[2m\u001b[36m(DefaultActor pid=1122112)\u001b[0m model 2\n",
      "\u001b[2m\u001b[36m(DefaultActor pid=1122112)\u001b[0m *************Metrics******************\n",
      "\u001b[2m\u001b[36m(DefaultActor pid=1122112)\u001b[0m Melanoma: 0.3979591832673886, Melanocytic nevus: 0.9303030300211204, Basal cell carcinoma: 0.4666666656296296, Actinic keratosis: 0.18518518449931412, Benign keratosis: 0.21276595722046177, Dermatofibroma: 0.0, Vascular lesion: 0.0, Squamous cell carcinoma: 0.0\n",
      "\u001b[2m\u001b[36m(DefaultActor pid=1122112)\u001b[0m Accuracy: 0.6373983731546039\n",
      "\u001b[2m\u001b[36m(DefaultActor pid=1122112)\u001b[0m loss 1.0838 - accuracy 0.6374\n",
      "\u001b[2m\u001b[36m(DefaultActor pid=1122112)\u001b[0m client 4\n",
      "\u001b[2m\u001b[36m(DefaultActor pid=1122112)\u001b[0m client 3\n",
      "\u001b[2m\u001b[36m(DefaultActor pid=1122112)\u001b[0m model 2\n",
      "\u001b[2m\u001b[36m(DefaultActor pid=1122112)\u001b[0m *************Metrics******************\n",
      "\u001b[2m\u001b[36m(DefaultActor pid=1122112)\u001b[0m Melanoma: 0.44025157205015625, Melanocytic nevus: 0.9266409264620384, Basal cell carcinoma: 0.2758620680142687, Actinic keratosis: 0.0434782606805293, Benign keratosis: 0.2307692304142012, Dermatofibroma: 0.0, Vascular lesion: 0.0, Squamous cell carcinoma: 0.0\n",
      "\u001b[2m\u001b[36m(DefaultActor pid=1122112)\u001b[0m Accuracy: 0.7166042439784229\n",
      "\u001b[2m\u001b[36m(DefaultActor pid=1122112)\u001b[0m loss 0.8254 - accuracy 0.7166\n",
      "\u001b[2m\u001b[36m(DefaultActor pid=1122112)\u001b[0m client 4\n",
      "\u001b[2m\u001b[36m(DefaultActor pid=1122112)\u001b[0m client 3\n",
      "\u001b[2m\u001b[36m(DefaultActor pid=1122112)\u001b[0m model 2\n",
      "\u001b[2m\u001b[36m(DefaultActor pid=1122112)\u001b[0m *************Metrics******************\n",
      "\u001b[2m\u001b[36m(DefaultActor pid=1122112)\u001b[0m Melanoma: 0.44680850968764146, Melanocytic nevus: 0.9147727267529701, Basal cell carcinoma: 0.5217391298676749, Actinic keratosis: 0.0434782606805293, Benign keratosis: 0.2037037033264746, Dermatofibroma: 0.0, Vascular lesion: 0.0, Squamous cell carcinoma: 0.0\n",
      "\u001b[2m\u001b[36m(DefaultActor pid=1122112)\u001b[0m Accuracy: 0.531868130932979\n",
      "\u001b[2m\u001b[36m(DefaultActor pid=1122112)\u001b[0m loss 1.4088 - accuracy 0.5319\n",
      "\u001b[2m\u001b[36m(DefaultActor pid=1122112)\u001b[0m client 4\n",
      "\u001b[2m\u001b[36m(DefaultActor pid=1122112)\u001b[0m client 3\n",
      "\u001b[2m\u001b[36m(DefaultActor pid=1122112)\u001b[0m model 2\n"
     ]
    },
    {
     "name": "stderr",
     "output_type": "stream",
     "text": [
      "DEBUG flwr 2024-03-25 20:16:58,195 | server.py:187 | evaluate_round 16 received 4 results and 0 failures\n"
     ]
    },
    {
     "name": "stdout",
     "output_type": "stream",
     "text": [
      "[2024-03-25 20:16:58,195][flwr][DEBUG] - evaluate_round 16 received 4 results and 0 failures\n"
     ]
    },
    {
     "name": "stderr",
     "output_type": "stream",
     "text": [
      "DEBUG flwr 2024-03-25 20:16:58,196 | server.py:222 | fit_round 17: strategy sampled 4 clients (out of 4)\n"
     ]
    },
    {
     "name": "stdout",
     "output_type": "stream",
     "text": [
      "weighted [(42, {'accuracy': 0.6066565802037441}), (29, {'accuracy': 0.531868130932979}), (51, {'accuracy': 0.7166042439784229}), (39, {'accuracy': 0.6373983731546039})]\n",
      "[2024-03-25 20:16:58,196][flwr][DEBUG] - fit_round 17: strategy sampled 4 clients (out of 4)\n",
      "\u001b[2m\u001b[36m(DefaultActor pid=1122112)\u001b[0m *************Metrics******************\n",
      "\u001b[2m\u001b[36m(DefaultActor pid=1122112)\u001b[0m Melanoma: 0.4189189186358656, Melanocytic nevus: 0.9125475281701342, Basal cell carcinoma: 0.5120481924626216, Actinic keratosis: 0.1428571418367347, Benign keratosis: 0.2448979586838817, Dermatofibroma: 0.0, Vascular lesion: 0.0, Squamous cell carcinoma: 0.0\n",
      "\u001b[2m\u001b[36m(DefaultActor pid=1122112)\u001b[0m Accuracy: 0.6066565802037441\n",
      "\u001b[2m\u001b[36m(DefaultActor pid=1122112)\u001b[0m loss 1.1235 - accuracy 0.6067\n",
      "\u001b[2m\u001b[36m(DefaultActor pid=1122112)\u001b[0m client 2\n",
      "\u001b[2m\u001b[36m(DefaultActor pid=1122112)\u001b[0m client 3\n",
      "\u001b[2m\u001b[36m(DefaultActor pid=1122112)\u001b[0m model 1\n",
      "\u001b[2m\u001b[36m(DefaultActor pid=1122112)\u001b[0m *************Metrics******************\n",
      "\u001b[2m\u001b[36m(DefaultActor pid=1122112)\u001b[0m Melanoma: 0.37645348831737596, Melanocytic nevus: 0.8922077921691686, Basal cell carcinoma: 0.37974683532286496, Actinic keratosis: 0.16315789465096953, Benign keratosis: 0.34142640359007187, Dermatofibroma: 0.0, Vascular lesion: 0.05714285697959184, Squamous cell carcinoma: 0.0\n",
      "\u001b[2m\u001b[36m(DefaultActor pid=1122112)\u001b[0m Accuracy: 0.6267131241576377\n",
      "\u001b[2m\u001b[36m(DefaultActor pid=1122112)\u001b[0m Epoch [1/1] - loss 0.9983 -accuracy 0.6267\n",
      "\u001b[2m\u001b[36m(DefaultActor pid=1122112)\u001b[0m client 1\n",
      "\u001b[2m\u001b[36m(DefaultActor pid=1122112)\u001b[0m client 2\n",
      "\u001b[2m\u001b[36m(DefaultActor pid=1122112)\u001b[0m client 3\n",
      "\u001b[2m\u001b[36m(DefaultActor pid=1122112)\u001b[0m model 1\n",
      "\u001b[2m\u001b[36m(DefaultActor pid=1122112)\u001b[0m *************Metrics******************\n",
      "\u001b[2m\u001b[36m(DefaultActor pid=1122112)\u001b[0m Melanoma: 0.47079964056866136, Melanocytic nevus: 0.9310154525129412, Basal cell carcinoma: 0.18407960189846787, Actinic keratosis: 0.15853658526918502, Benign keratosis: 0.16481069038645643, Dermatofibroma: 0.0, Vascular lesion: 0.0, Squamous cell carcinoma: 0.0\n",
      "\u001b[2m\u001b[36m(DefaultActor pid=1122112)\u001b[0m Accuracy: 0.7193795684479403\n",
      "\u001b[2m\u001b[36m(DefaultActor pid=1122112)\u001b[0m Epoch [1/1] - loss 0.7774 -accuracy 0.7194\n",
      "\u001b[2m\u001b[36m(DefaultActor pid=1122112)\u001b[0m client 1\n",
      "\u001b[2m\u001b[36m(DefaultActor pid=1122112)\u001b[0m client 2\n",
      "\u001b[2m\u001b[36m(DefaultActor pid=1122112)\u001b[0m client 3\n",
      "\u001b[2m\u001b[36m(DefaultActor pid=1122112)\u001b[0m model 1\n",
      "\u001b[2m\u001b[36m(DefaultActor pid=1122112)\u001b[0m *************Metrics******************\n",
      "\u001b[2m\u001b[36m(DefaultActor pid=1122112)\u001b[0m Melanoma: 0.24233128826922357, Melanocytic nevus: 0.874493927054697, Basal cell carcinoma: 0.7054263564797789, Actinic keratosis: 0.056603773549305805, Benign keratosis: 0.29166666659071183, Dermatofibroma: 0.0, Vascular lesion: 0.04999999991666666, Squamous cell carcinoma: 0.08135593217581155\n",
      "\u001b[2m\u001b[36m(DefaultActor pid=1122112)\u001b[0m Accuracy: 0.5540880501750723\n",
      "\u001b[2m\u001b[36m(DefaultActor pid=1122112)\u001b[0m Epoch [1/1] - loss 1.2725 -accuracy 0.5541\n",
      "\u001b[2m\u001b[36m(DefaultActor pid=1122112)\u001b[0m client 1\n",
      "\u001b[2m\u001b[36m(DefaultActor pid=1122112)\u001b[0m client 2\n",
      "\u001b[2m\u001b[36m(DefaultActor pid=1122112)\u001b[0m client 3\n",
      "\u001b[2m\u001b[36m(DefaultActor pid=1122112)\u001b[0m model 1\n"
     ]
    },
    {
     "name": "stderr",
     "output_type": "stream",
     "text": [
      "DEBUG flwr 2024-03-25 20:18:53,640 | server.py:236 | fit_round 17 received 4 results and 0 failures\n"
     ]
    },
    {
     "name": "stdout",
     "output_type": "stream",
     "text": [
      "\u001b[2m\u001b[36m(DefaultActor pid=1122112)\u001b[0m *************Metrics******************\n",
      "\u001b[2m\u001b[36m(DefaultActor pid=1122112)\u001b[0m Melanoma: 0.47206165698727737, Melanocytic nevus: 0.8145336225154809, Basal cell carcinoma: 0.7587982831966698, Actinic keratosis: 0.0, Benign keratosis: 0.1478260869136736, Dermatofibroma: 0.0, Vascular lesion: 0.013698630118221056, Squamous cell carcinoma: 0.0\n",
      "\u001b[2m\u001b[36m(DefaultActor pid=1122112)\u001b[0m Accuracy: 0.631170510777121\n",
      "\u001b[2m\u001b[36m(DefaultActor pid=1122112)\u001b[0m Epoch [1/1] - loss 1.0283 -accuracy 0.6312\n",
      "\u001b[2m\u001b[36m(DefaultActor pid=1122112)\u001b[0m client 1\n",
      "[2024-03-25 20:18:53,640][flwr][DEBUG] - fit_round 17 received 4 results and 0 failures\n",
      "!!!!!!!!!!!!!!!!!!\n",
      "model 2\n"
     ]
    },
    {
     "name": "stderr",
     "output_type": "stream",
     "text": [
      "INFO flwr 2024-03-25 20:19:26,559 | server.py:125 | fit progress: (17, 3.688689708709717, {'accuracy': 0.6407422028202541}, 2818.741109248018)\n"
     ]
    },
    {
     "name": "stdout",
     "output_type": "stream",
     "text": [
      "*************Metrics******************\n",
      "Melanoma: 0.43204419884728795, Melanocytic nevus: 0.9262135921970402, Basal cell carcinoma: 0.5030120481170163, Actinic keratosis: 0.1560693640716362, Benign keratosis: 0.20380952377070297, Dermatofibroma: 0.0, Vascular lesion: 0.0392156861976163, Squamous cell carcinoma: 0.0\n",
      "Accuracy: 0.6407422028202541\n",
      "loss 1.0265 - accuracy 0.6407\n",
      "[2024-03-25 20:19:26,559][flwr][INFO] - fit progress: (17, 3.688689708709717, {'accuracy': 0.6407422028202541}, 2818.741109248018)\n"
     ]
    },
    {
     "name": "stderr",
     "output_type": "stream",
     "text": [
      "DEBUG flwr 2024-03-25 20:19:26,560 | server.py:173 | evaluate_round 17: strategy sampled 4 clients (out of 4)\n"
     ]
    },
    {
     "name": "stdout",
     "output_type": "stream",
     "text": [
      "[2024-03-25 20:19:26,560][flwr][DEBUG] - evaluate_round 17: strategy sampled 4 clients (out of 4)\n",
      "\u001b[2m\u001b[36m(DefaultActor pid=1122112)\u001b[0m client 4\n",
      "\u001b[2m\u001b[36m(DefaultActor pid=1122112)\u001b[0m client 3\n",
      "\u001b[2m\u001b[36m(DefaultActor pid=1122112)\u001b[0m model 2\n",
      "\u001b[2m\u001b[36m(DefaultActor pid=1122112)\u001b[0m *************Metrics******************\n",
      "\u001b[2m\u001b[36m(DefaultActor pid=1122112)\u001b[0m Melanoma: 0.425675675388057, Melanocytic nevus: 0.9125475281701342, Basal cell carcinoma: 0.5060240960807084, Actinic keratosis: 0.21428571275510203, Benign keratosis: 0.2244897954602249, Dermatofibroma: 0.0, Vascular lesion: 0.0, Squamous cell carcinoma: 0.0\n",
      "\u001b[2m\u001b[36m(DefaultActor pid=1122112)\u001b[0m Accuracy: 0.6066565802037441\n",
      "\u001b[2m\u001b[36m(DefaultActor pid=1122112)\u001b[0m loss 1.1234 - accuracy 0.6067\n",
      "\u001b[2m\u001b[36m(DefaultActor pid=1122112)\u001b[0m client 4\n",
      "\u001b[2m\u001b[36m(DefaultActor pid=1122112)\u001b[0m client 3\n",
      "\u001b[2m\u001b[36m(DefaultActor pid=1122112)\u001b[0m model 2\n",
      "\u001b[2m\u001b[36m(DefaultActor pid=1122112)\u001b[0m *************Metrics******************\n",
      "\u001b[2m\u001b[36m(DefaultActor pid=1122112)\u001b[0m Melanoma: 0.45283018839444644, Melanocytic nevus: 0.930501930322297, Basal cell carcinoma: 0.31034482651605233, Actinic keratosis: 0.0434782606805293, Benign keratosis: 0.21538461505325446, Dermatofibroma: 0.0, Vascular lesion: 0.0, Squamous cell carcinoma: 0.0\n",
      "\u001b[2m\u001b[36m(DefaultActor pid=1122112)\u001b[0m Accuracy: 0.721598001776182\n",
      "\u001b[2m\u001b[36m(DefaultActor pid=1122112)\u001b[0m loss 0.8240 - accuracy 0.7216\n",
      "\u001b[2m\u001b[36m(DefaultActor pid=1122112)\u001b[0m client 4\n",
      "\u001b[2m\u001b[36m(DefaultActor pid=1122112)\u001b[0m client 3\n",
      "\u001b[2m\u001b[36m(DefaultActor pid=1122112)\u001b[0m model 2\n",
      "\u001b[2m\u001b[36m(DefaultActor pid=1122112)\u001b[0m *************Metrics******************\n",
      "\u001b[2m\u001b[36m(DefaultActor pid=1122112)\u001b[0m Melanoma: 0.44680850968764146, Melanocytic nevus: 0.9147727267529701, Basal cell carcinoma: 0.5326086950732515, Actinic keratosis: 0.0869565213610586, Benign keratosis: 0.18518518484224966, Dermatofibroma: 0.0, Vascular lesion: 0.11111110987654321, Squamous cell carcinoma: 0.0\n",
      "\u001b[2m\u001b[36m(DefaultActor pid=1122112)\u001b[0m Accuracy: 0.5362637353208548\n",
      "\u001b[2m\u001b[36m(DefaultActor pid=1122112)\u001b[0m loss 1.3980 - accuracy 0.5363\n",
      "\u001b[2m\u001b[36m(DefaultActor pid=1122112)\u001b[0m client 4\n",
      "\u001b[2m\u001b[36m(DefaultActor pid=1122112)\u001b[0m client 3\n",
      "\u001b[2m\u001b[36m(DefaultActor pid=1122112)\u001b[0m model 2\n"
     ]
    },
    {
     "name": "stderr",
     "output_type": "stream",
     "text": [
      "DEBUG flwr 2024-03-25 20:19:44,884 | server.py:187 | evaluate_round 17 received 4 results and 0 failures\n"
     ]
    },
    {
     "name": "stdout",
     "output_type": "stream",
     "text": [
      "\u001b[2m\u001b[36m(DefaultActor pid=1122112)\u001b[0m *************Metrics******************\n",
      "\u001b[2m\u001b[36m(DefaultActor pid=1122112)\u001b[0m Melanoma: 0.4285714281341108, Melanocytic nevus: 0.9303030300211204, Basal cell carcinoma: 0.4666666656296296, Actinic keratosis: 0.18518518449931412, Benign keratosis: 0.19148936149841558, Dermatofibroma: 0.0, Vascular lesion: 0.0, Squamous cell carcinoma: 0.0\n",
      "\u001b[2m\u001b[36m(DefaultActor pid=1122112)\u001b[0m Accuracy: 0.6390243894126514\n",
      "\u001b[2m\u001b[36m(DefaultActor pid=1122112)\u001b[0m loss 1.0827 - accuracy 0.6390\n",
      "[2024-03-25 20:19:44,884][flwr][DEBUG] - evaluate_round 17 received 4 results and 0 failures\n"
     ]
    },
    {
     "name": "stderr",
     "output_type": "stream",
     "text": [
      "DEBUG flwr 2024-03-25 20:19:44,885 | server.py:222 | fit_round 18: strategy sampled 4 clients (out of 4)\n"
     ]
    },
    {
     "name": "stdout",
     "output_type": "stream",
     "text": [
      "weighted [(42, {'accuracy': 0.6066565802037441}), (39, {'accuracy': 0.6390243894126514}), (51, {'accuracy': 0.721598001776182}), (29, {'accuracy': 0.5362637353208548})]\n",
      "[2024-03-25 20:19:44,885][flwr][DEBUG] - fit_round 18: strategy sampled 4 clients (out of 4)\n",
      "\u001b[2m\u001b[36m(DefaultActor pid=1122112)\u001b[0m client 2\n",
      "\u001b[2m\u001b[36m(DefaultActor pid=1122112)\u001b[0m client 3\n",
      "\u001b[2m\u001b[36m(DefaultActor pid=1122112)\u001b[0m model 1\n",
      "\u001b[2m\u001b[36m(DefaultActor pid=1122112)\u001b[0m *************Metrics******************\n",
      "\u001b[2m\u001b[36m(DefaultActor pid=1122112)\u001b[0m Melanoma: 0.487475915174617, Melanocytic nevus: 0.8042299348804648, Basal cell carcinoma: 0.7270386265470354, Actinic keratosis: 0.010638297861023088, Benign keratosis: 0.11594202895190087, Dermatofibroma: 0.0, Vascular lesion: 0.04109589035466317, Squamous cell carcinoma: 0.0\n",
      "\u001b[2m\u001b[36m(DefaultActor pid=1122112)\u001b[0m Accuracy: 0.6208234532233977\n",
      "\u001b[2m\u001b[36m(DefaultActor pid=1122112)\u001b[0m Epoch [1/1] - loss 1.0271 -accuracy 0.6208\n",
      "\u001b[2m\u001b[36m(DefaultActor pid=1122112)\u001b[0m client 1\n",
      "\u001b[2m\u001b[36m(DefaultActor pid=1122112)\u001b[0m client 2\n",
      "\u001b[2m\u001b[36m(DefaultActor pid=1122112)\u001b[0m client 3\n",
      "\u001b[2m\u001b[36m(DefaultActor pid=1122112)\u001b[0m model 1\n",
      "\u001b[2m\u001b[36m(DefaultActor pid=1122112)\u001b[0m *************Metrics******************\n",
      "\u001b[2m\u001b[36m(DefaultActor pid=1122112)\u001b[0m Melanoma: 0.2883435581937597, Melanocytic nevus: 0.8793522266494452, Basal cell carcinoma: 0.6852713177232138, Actinic keratosis: 0.08176100623788617, Benign keratosis: 0.27864583326076936, Dermatofibroma: 0.0, Vascular lesion: 0.04999999991666666, Squamous cell carcinoma: 0.1084745762344154\n",
      "\u001b[2m\u001b[36m(DefaultActor pid=1122112)\u001b[0m Accuracy: 0.5588050313059612\n",
      "\u001b[2m\u001b[36m(DefaultActor pid=1122112)\u001b[0m Epoch [1/1] - loss 1.2653 -accuracy 0.5588\n",
      "\u001b[2m\u001b[36m(DefaultActor pid=1122112)\u001b[0m client 1\n",
      "\u001b[2m\u001b[36m(DefaultActor pid=1122112)\u001b[0m client 2\n",
      "\u001b[2m\u001b[36m(DefaultActor pid=1122112)\u001b[0m client 3\n",
      "\u001b[2m\u001b[36m(DefaultActor pid=1122112)\u001b[0m model 1\n",
      "\u001b[2m\u001b[36m(DefaultActor pid=1122112)\u001b[0m *************Metrics******************\n",
      "\u001b[2m\u001b[36m(DefaultActor pid=1122112)\u001b[0m Melanoma: 0.3648255813423219, Melanocytic nevus: 0.9060606060213827, Basal cell carcinoma: 0.3670886074787695, Actinic keratosis: 0.13684210519113574, Benign keratosis: 0.3823975720208805, Dermatofibroma: 0.0, Vascular lesion: 0.05714285697959184, Squamous cell carcinoma: 0.0\n",
      "\u001b[2m\u001b[36m(DefaultActor pid=1122112)\u001b[0m Accuracy: 0.6364692217168003\n",
      "\u001b[2m\u001b[36m(DefaultActor pid=1122112)\u001b[0m Epoch [1/1] - loss 0.9960 -accuracy 0.6365\n",
      "\u001b[2m\u001b[36m(DefaultActor pid=1122112)\u001b[0m client 1\n",
      "\u001b[2m\u001b[36m(DefaultActor pid=1122112)\u001b[0m client 2\n",
      "\u001b[2m\u001b[36m(DefaultActor pid=1122112)\u001b[0m client 3\n",
      "\u001b[2m\u001b[36m(DefaultActor pid=1122112)\u001b[0m model 1\n"
     ]
    },
    {
     "name": "stderr",
     "output_type": "stream",
     "text": [
      "DEBUG flwr 2024-03-25 20:21:40,920 | server.py:236 | fit_round 18 received 4 results and 0 failures\n"
     ]
    },
    {
     "name": "stdout",
     "output_type": "stream",
     "text": [
      "\u001b[2m\u001b[36m(DefaultActor pid=1122112)\u001b[0m *************Metrics******************\n",
      "\u001b[2m\u001b[36m(DefaultActor pid=1122112)\u001b[0m Melanoma: 0.4609164420071055, Melanocytic nevus: 0.9277041942348868, Basal cell carcinoma: 0.1791044775228336, Actinic keratosis: 0.12195121943783463, Benign keratosis: 0.189309576795254, Dermatofibroma: 0.0, Vascular lesion: 0.0, Squamous cell carcinoma: 0.0\n",
      "\u001b[2m\u001b[36m(DefaultActor pid=1122112)\u001b[0m Accuracy: 0.7159921553623119\n",
      "\u001b[2m\u001b[36m(DefaultActor pid=1122112)\u001b[0m Epoch [1/1] - loss 0.7761 -accuracy 0.7160\n",
      "\u001b[2m\u001b[36m(DefaultActor pid=1122112)\u001b[0m client 1\n",
      "[2024-03-25 20:21:40,920][flwr][DEBUG] - fit_round 18 received 4 results and 0 failures\n",
      "!!!!!!!!!!!!!!!!!!\n",
      "model 2\n"
     ]
    },
    {
     "name": "stderr",
     "output_type": "stream",
     "text": [
      "INFO flwr 2024-03-25 20:22:13,647 | server.py:125 | fit progress: (18, 3.686884641647339, {'accuracy': 0.6411369916081902}, 2985.8288390140515)\n"
     ]
    },
    {
     "name": "stdout",
     "output_type": "stream",
     "text": [
      "*************Metrics******************\n",
      "Melanoma: 0.46298342536320625, Melanocytic nevus: 0.9161165048187917, Basal cell carcinoma: 0.49698795173238136, Actinic keratosis: 0.16184971088910421, Benign keratosis: 0.20952380948390023, Dermatofibroma: 0.0, Vascular lesion: 0.0392156861976163, Squamous cell carcinoma: 0.0\n",
      "Accuracy: 0.6411369916081902\n",
      "loss 1.0253 - accuracy 0.6411\n",
      "[2024-03-25 20:22:13,647][flwr][INFO] - fit progress: (18, 3.686884641647339, {'accuracy': 0.6411369916081902}, 2985.8288390140515)\n"
     ]
    },
    {
     "name": "stderr",
     "output_type": "stream",
     "text": [
      "DEBUG flwr 2024-03-25 20:22:13,648 | server.py:173 | evaluate_round 18: strategy sampled 4 clients (out of 4)\n"
     ]
    },
    {
     "name": "stdout",
     "output_type": "stream",
     "text": [
      "[2024-03-25 20:22:13,648][flwr][DEBUG] - evaluate_round 18: strategy sampled 4 clients (out of 4)\n",
      "\u001b[2m\u001b[36m(DefaultActor pid=1122112)\u001b[0m client 4\n",
      "\u001b[2m\u001b[36m(DefaultActor pid=1122112)\u001b[0m client 3\n",
      "\u001b[2m\u001b[36m(DefaultActor pid=1122112)\u001b[0m model 2\n",
      "\u001b[2m\u001b[36m(DefaultActor pid=1122112)\u001b[0m *************Metrics******************\n",
      "\u001b[2m\u001b[36m(DefaultActor pid=1122112)\u001b[0m Melanoma: 0.4285714281341108, Melanocytic nevus: 0.9151515148741967, Basal cell carcinoma: 0.48888888780246914, Actinic keratosis: 0.22222222139917694, Benign keratosis: 0.1808510636373925, Dermatofibroma: 0.0, Vascular lesion: 0.0, Squamous cell carcinoma: 0.0\n",
      "\u001b[2m\u001b[36m(DefaultActor pid=1122112)\u001b[0m Accuracy: 0.6325203243804616\n",
      "\u001b[2m\u001b[36m(DefaultActor pid=1122112)\u001b[0m loss 1.0860 - accuracy 0.6325\n",
      "\u001b[2m\u001b[36m(DefaultActor pid=1122112)\u001b[0m client 4\n",
      "\u001b[2m\u001b[36m(DefaultActor pid=1122112)\u001b[0m client 3\n",
      "\u001b[2m\u001b[36m(DefaultActor pid=1122112)\u001b[0m model 2\n",
      "\u001b[2m\u001b[36m(DefaultActor pid=1122112)\u001b[0m *************Metrics******************\n",
      "\u001b[2m\u001b[36m(DefaultActor pid=1122112)\u001b[0m Melanoma: 0.44594594564463114, Melanocytic nevus: 0.904942965435383, Basal cell carcinoma: 0.5060240960807084, Actinic keratosis: 0.21428571275510203, Benign keratosis: 0.2244897954602249, Dermatofibroma: 0.0, Vascular lesion: 0.0, Squamous cell carcinoma: 0.0\n",
      "\u001b[2m\u001b[36m(DefaultActor pid=1122112)\u001b[0m Accuracy: 0.6081694395059979\n",
      "\u001b[2m\u001b[36m(DefaultActor pid=1122112)\u001b[0m loss 1.1171 - accuracy 0.6082\n",
      "\u001b[2m\u001b[36m(DefaultActor pid=1122112)\u001b[0m client 4\n",
      "\u001b[2m\u001b[36m(DefaultActor pid=1122112)\u001b[0m client 3\n",
      "\u001b[2m\u001b[36m(DefaultActor pid=1122112)\u001b[0m model 2\n",
      "\u001b[2m\u001b[36m(DefaultActor pid=1122112)\u001b[0m *************Metrics******************\n",
      "\u001b[2m\u001b[36m(DefaultActor pid=1122112)\u001b[0m Melanoma: 0.5319148924852874, Melanocytic nevus: 0.9090909085743802, Basal cell carcinoma: 0.5217391298676749, Actinic keratosis: 0.0869565213610586, Benign keratosis: 0.18518518484224966, Dermatofibroma: 0.0, Vascular lesion: 0.11111110987654321, Squamous cell carcinoma: 0.0\n",
      "\u001b[2m\u001b[36m(DefaultActor pid=1122112)\u001b[0m Accuracy: 0.5406593397087307\n",
      "\u001b[2m\u001b[36m(DefaultActor pid=1122112)\u001b[0m loss 1.3942 - accuracy 0.5407\n",
      "\u001b[2m\u001b[36m(DefaultActor pid=1122112)\u001b[0m client 4\n",
      "\u001b[2m\u001b[36m(DefaultActor pid=1122112)\u001b[0m client 3\n",
      "\u001b[2m\u001b[36m(DefaultActor pid=1122112)\u001b[0m model 2\n"
     ]
    },
    {
     "name": "stderr",
     "output_type": "stream",
     "text": [
      "DEBUG flwr 2024-03-25 20:22:31,936 | server.py:187 | evaluate_round 18 received 4 results and 0 failures\n"
     ]
    },
    {
     "name": "stdout",
     "output_type": "stream",
     "text": [
      "[2024-03-25 20:22:31,936][flwr][DEBUG] - evaluate_round 18 received 4 results and 0 failures\n"
     ]
    },
    {
     "name": "stderr",
     "output_type": "stream",
     "text": [
      "DEBUG flwr 2024-03-25 20:22:31,938 | server.py:222 | fit_round 19: strategy sampled 4 clients (out of 4)\n"
     ]
    },
    {
     "name": "stdout",
     "output_type": "stream",
     "text": [
      "weighted [(42, {'accuracy': 0.6081694395059979}), (29, {'accuracy': 0.5406593397087307}), (39, {'accuracy': 0.6325203243804616}), (51, {'accuracy': 0.7166042439784229})]\n",
      "[2024-03-25 20:22:31,938][flwr][DEBUG] - fit_round 19: strategy sampled 4 clients (out of 4)\n",
      "\u001b[2m\u001b[36m(DefaultActor pid=1122112)\u001b[0m *************Metrics******************\n",
      "\u001b[2m\u001b[36m(DefaultActor pid=1122112)\u001b[0m Melanoma: 0.4716981129108817, Melanocytic nevus: 0.9208494206716508, Basal cell carcinoma: 0.2758620680142687, Actinic keratosis: 0.0869565213610586, Benign keratosis: 0.18461538433136096, Dermatofibroma: 0.0, Vascular lesion: 0.0, Squamous cell carcinoma: 0.0\n",
      "\u001b[2m\u001b[36m(DefaultActor pid=1122112)\u001b[0m Accuracy: 0.7166042439784229\n",
      "\u001b[2m\u001b[36m(DefaultActor pid=1122112)\u001b[0m loss 0.8257 - accuracy 0.7166\n",
      "\u001b[2m\u001b[36m(DefaultActor pid=1122112)\u001b[0m client 2\n",
      "\u001b[2m\u001b[36m(DefaultActor pid=1122112)\u001b[0m client 3\n",
      "\u001b[2m\u001b[36m(DefaultActor pid=1122112)\u001b[0m model 1\n",
      "\u001b[2m\u001b[36m(DefaultActor pid=1122112)\u001b[0m *************Metrics******************\n",
      "\u001b[2m\u001b[36m(DefaultActor pid=1122112)\u001b[0m Melanoma: 0.4653179190303163, Melanocytic nevus: 0.7988069413883511, Basal cell carcinoma: 0.7270386265470354, Actinic keratosis: 0.010638297861023088, Benign keratosis: 0.13913043474228104, Dermatofibroma: 0.0, Vascular lesion: 0.054794520472884224, Squamous cell carcinoma: 0.0\n",
      "\u001b[2m\u001b[36m(DefaultActor pid=1122112)\u001b[0m Accuracy: 0.6156499244465361\n",
      "\u001b[2m\u001b[36m(DefaultActor pid=1122112)\u001b[0m Epoch [1/1] - loss 1.0298 -accuracy 0.6156\n",
      "\u001b[2m\u001b[36m(DefaultActor pid=1122112)\u001b[0m client 1\n",
      "\u001b[2m\u001b[36m(DefaultActor pid=1122112)\u001b[0m client 2\n",
      "\u001b[2m\u001b[36m(DefaultActor pid=1122112)\u001b[0m client 3\n",
      "\u001b[2m\u001b[36m(DefaultActor pid=1122112)\u001b[0m model 1\n",
      "\u001b[2m\u001b[36m(DefaultActor pid=1122112)\u001b[0m *************Metrics******************\n",
      "\u001b[2m\u001b[36m(DefaultActor pid=1122112)\u001b[0m Melanoma: 0.4860736747092477, Melanocytic nevus: 0.927152317855211, Basal cell carcinoma: 0.19900497502537068, Actinic keratosis: 0.15243902429729328, Benign keratosis: 0.1826280623201274, Dermatofibroma: 0.0, Vascular lesion: 0.0, Squamous cell carcinoma: 0.0\n",
      "\u001b[2m\u001b[36m(DefaultActor pid=1122112)\u001b[0m Accuracy: 0.7216972721381072\n",
      "\u001b[2m\u001b[36m(DefaultActor pid=1122112)\u001b[0m Epoch [1/1] - loss 0.7760 -accuracy 0.7217\n",
      "\u001b[2m\u001b[36m(DefaultActor pid=1122112)\u001b[0m client 1\n",
      "\u001b[2m\u001b[36m(DefaultActor pid=1122112)\u001b[0m client 2\n",
      "\u001b[2m\u001b[36m(DefaultActor pid=1122112)\u001b[0m client 3\n",
      "\u001b[2m\u001b[36m(DefaultActor pid=1122112)\u001b[0m model 1\n",
      "\u001b[2m\u001b[36m(DefaultActor pid=1122112)\u001b[0m *************Metrics******************\n",
      "\u001b[2m\u001b[36m(DefaultActor pid=1122112)\u001b[0m Melanoma: 0.2668711655623095, Melanocytic nevus: 0.8761133602529464, Basal cell carcinoma: 0.6852713177232138, Actinic keratosis: 0.08176100623788617, Benign keratosis: 0.29166666659071183, Dermatofibroma: 0.0, Vascular lesion: 0.06666666655555556, Squamous cell carcinoma: 0.10508474572708992\n",
      "\u001b[2m\u001b[36m(DefaultActor pid=1122112)\u001b[0m Accuracy: 0.5569182388536057\n",
      "\u001b[2m\u001b[36m(DefaultActor pid=1122112)\u001b[0m Epoch [1/1] - loss 1.2494 -accuracy 0.5569\n",
      "\u001b[2m\u001b[36m(DefaultActor pid=1122112)\u001b[0m client 1\n",
      "\u001b[2m\u001b[36m(DefaultActor pid=1122112)\u001b[0m client 2\n",
      "\u001b[2m\u001b[36m(DefaultActor pid=1122112)\u001b[0m client 3\n",
      "\u001b[2m\u001b[36m(DefaultActor pid=1122112)\u001b[0m model 1\n"
     ]
    },
    {
     "name": "stderr",
     "output_type": "stream",
     "text": [
      "DEBUG flwr 2024-03-25 20:24:27,618 | server.py:236 | fit_round 19 received 4 results and 0 failures\n"
     ]
    },
    {
     "name": "stdout",
     "output_type": "stream",
     "text": [
      "\u001b[2m\u001b[36m(DefaultActor pid=1122112)\u001b[0m *************Metrics******************\n",
      "\u001b[2m\u001b[36m(DefaultActor pid=1122112)\u001b[0m Melanoma: 0.38372093017678477, Melanocytic nevus: 0.9017316016925658, Basal cell carcinoma: 0.37025316443979334, Actinic keratosis: 0.20526315778670362, Benign keratosis: 0.3748103186077678, Dermatofibroma: 0.0, Vascular lesion: 0.02857142848979592, Squamous cell carcinoma: 0.010416666655815972\n",
      "\u001b[2m\u001b[36m(DefaultActor pid=1122112)\u001b[0m Accuracy: 0.6392566781622754\n",
      "\u001b[2m\u001b[36m(DefaultActor pid=1122112)\u001b[0m Epoch [1/1] - loss 0.9907 -accuracy 0.6393\n",
      "\u001b[2m\u001b[36m(DefaultActor pid=1122112)\u001b[0m client 1\n",
      "[2024-03-25 20:24:27,618][flwr][DEBUG] - fit_round 19 received 4 results and 0 failures\n",
      "!!!!!!!!!!!!!!!!!!\n",
      "model 2\n"
     ]
    },
    {
     "name": "stderr",
     "output_type": "stream",
     "text": [
      "INFO flwr 2024-03-25 20:25:00,493 | server.py:125 | fit progress: (19, 3.6999309062957764, {'accuracy': 0.6442953019116787}, 3152.6752118661534)\n"
     ]
    },
    {
     "name": "stdout",
     "output_type": "stream",
     "text": [
      "*************Metrics******************\n",
      "Melanoma: 0.43425414359842496, Melanocytic nevus: 0.9320388349152606, Basal cell carcinoma: 0.504518072213175, Actinic keratosis: 0.1560693640716362, Benign keratosis: 0.20380952377070297, Dermatofibroma: 0.0, Vascular lesion: 0.0392156861976163, Squamous cell carcinoma: 0.0\n",
      "Accuracy: 0.6442953019116787\n",
      "loss 1.0209 - accuracy 0.6443\n",
      "[2024-03-25 20:25:00,493][flwr][INFO] - fit progress: (19, 3.6999309062957764, {'accuracy': 0.6442953019116787}, 3152.6752118661534)\n"
     ]
    },
    {
     "name": "stderr",
     "output_type": "stream",
     "text": [
      "DEBUG flwr 2024-03-25 20:25:00,495 | server.py:173 | evaluate_round 19: strategy sampled 4 clients (out of 4)\n"
     ]
    },
    {
     "name": "stdout",
     "output_type": "stream",
     "text": [
      "[2024-03-25 20:25:00,495][flwr][DEBUG] - evaluate_round 19: strategy sampled 4 clients (out of 4)\n",
      "\u001b[2m\u001b[36m(DefaultActor pid=1122112)\u001b[0m client 4\n",
      "\u001b[2m\u001b[36m(DefaultActor pid=1122112)\u001b[0m client 3\n",
      "\u001b[2m\u001b[36m(DefaultActor pid=1122112)\u001b[0m model 2\n",
      "\u001b[2m\u001b[36m(DefaultActor pid=1122112)\u001b[0m *************Metrics******************\n",
      "\u001b[2m\u001b[36m(DefaultActor pid=1122112)\u001b[0m Melanoma: 0.4183673465118701, Melanocytic nevus: 0.9272727269917357, Basal cell carcinoma: 0.4666666656296296, Actinic keratosis: 0.18518518449931412, Benign keratosis: 0.19148936149841558, Dermatofibroma: 0.0, Vascular lesion: 0.0, Squamous cell carcinoma: 0.0\n",
      "\u001b[2m\u001b[36m(DefaultActor pid=1122112)\u001b[0m Accuracy: 0.6357723568965564\n",
      "\u001b[2m\u001b[36m(DefaultActor pid=1122112)\u001b[0m loss 1.0774 - accuracy 0.6358\n",
      "\u001b[2m\u001b[36m(DefaultActor pid=1122112)\u001b[0m client 4\n",
      "\u001b[2m\u001b[36m(DefaultActor pid=1122112)\u001b[0m client 3\n",
      "\u001b[2m\u001b[36m(DefaultActor pid=1122112)\u001b[0m model 2\n",
      "\u001b[2m\u001b[36m(DefaultActor pid=1122112)\u001b[0m *************Metrics******************\n",
      "\u001b[2m\u001b[36m(DefaultActor pid=1122112)\u001b[0m Melanoma: 0.4465408802223014, Melanocytic nevus: 0.9362934361126847, Basal cell carcinoma: 0.31034482651605233, Actinic keratosis: 0.1739130427221172, Benign keratosis: 0.19999999969230772, Dermatofibroma: 0.0, Vascular lesion: 0.0, Squamous cell carcinoma: 0.0\n",
      "\u001b[2m\u001b[36m(DefaultActor pid=1122112)\u001b[0m Accuracy: 0.7265917595739411\n",
      "\u001b[2m\u001b[36m(DefaultActor pid=1122112)\u001b[0m loss 0.8121 - accuracy 0.7266\n",
      "\u001b[2m\u001b[36m(DefaultActor pid=1122112)\u001b[0m client 4\n",
      "\u001b[2m\u001b[36m(DefaultActor pid=1122112)\u001b[0m client 3\n",
      "\u001b[2m\u001b[36m(DefaultActor pid=1122112)\u001b[0m model 2\n",
      "\u001b[2m\u001b[36m(DefaultActor pid=1122112)\u001b[0m *************Metrics******************\n",
      "\u001b[2m\u001b[36m(DefaultActor pid=1122112)\u001b[0m Melanoma: 0.4189189186358656, Melanocytic nevus: 0.9239543722722608, Basal cell carcinoma: 0.5060240960807084, Actinic keratosis: 0.1428571418367347, Benign keratosis: 0.1836734690129113, Dermatofibroma: 0.0, Vascular lesion: 0.0, Squamous cell carcinoma: 0.0\n",
      "\u001b[2m\u001b[36m(DefaultActor pid=1122112)\u001b[0m Accuracy: 0.6051437209014905\n",
      "\u001b[2m\u001b[36m(DefaultActor pid=1122112)\u001b[0m loss 1.1180 - accuracy 0.6051\n",
      "\u001b[2m\u001b[36m(DefaultActor pid=1122112)\u001b[0m client 4\n",
      "\u001b[2m\u001b[36m(DefaultActor pid=1122112)\u001b[0m client 3\n",
      "\u001b[2m\u001b[36m(DefaultActor pid=1122112)\u001b[0m model 2\n"
     ]
    },
    {
     "name": "stderr",
     "output_type": "stream",
     "text": [
      "DEBUG flwr 2024-03-25 20:25:18,891 | server.py:187 | evaluate_round 19 received 4 results and 0 failures\n"
     ]
    },
    {
     "name": "stdout",
     "output_type": "stream",
     "text": [
      "[2024-03-25 20:25:18,891][flwr][DEBUG] - evaluate_round 19 received 4 results and 0 failures\n"
     ]
    },
    {
     "name": "stderr",
     "output_type": "stream",
     "text": [
      "DEBUG flwr 2024-03-25 20:25:18,892 | server.py:222 | fit_round 20: strategy sampled 4 clients (out of 4)\n"
     ]
    },
    {
     "name": "stdout",
     "output_type": "stream",
     "text": [
      "weighted [(39, {'accuracy': 0.6357723568965564}), (29, {'accuracy': 0.5362637353208548}), (51, {'accuracy': 0.7265917595739411}), (42, {'accuracy': 0.6051437209014905})]\n",
      "[2024-03-25 20:25:18,892][flwr][DEBUG] - fit_round 20: strategy sampled 4 clients (out of 4)\n",
      "\u001b[2m\u001b[36m(DefaultActor pid=1122112)\u001b[0m *************Metrics******************\n",
      "\u001b[2m\u001b[36m(DefaultActor pid=1122112)\u001b[0m Melanoma: 0.46808510538705295, Melanocytic nevus: 0.92045454493156, Basal cell carcinoma: 0.5108695646620983, Actinic keratosis: 0.0869565213610586, Benign keratosis: 0.18518518484224966, Dermatofibroma: 0.0, Vascular lesion: 0.11111110987654321, Squamous cell carcinoma: 0.0\n",
      "\u001b[2m\u001b[36m(DefaultActor pid=1122112)\u001b[0m Accuracy: 0.5362637353208548\n",
      "\u001b[2m\u001b[36m(DefaultActor pid=1122112)\u001b[0m loss 1.3930 - accuracy 0.5363\n",
      "\u001b[2m\u001b[36m(DefaultActor pid=1122112)\u001b[0m client 2\n",
      "\u001b[2m\u001b[36m(DefaultActor pid=1122112)\u001b[0m client 3\n",
      "\u001b[2m\u001b[36m(DefaultActor pid=1122112)\u001b[0m model 1\n",
      "\u001b[2m\u001b[36m(DefaultActor pid=1122112)\u001b[0m *************Metrics******************\n",
      "\u001b[2m\u001b[36m(DefaultActor pid=1122112)\u001b[0m Melanoma: 0.382267441804903, Melanocytic nevus: 0.9103896103501996, Basal cell carcinoma: 0.37974683532286496, Actinic keratosis: 0.17368421043490306, Benign keratosis: 0.35811836109891987, Dermatofibroma: 0.0, Vascular lesion: 0.05714285697959184, Squamous cell carcinoma: 0.010416666655815972\n",
      "\u001b[2m\u001b[36m(DefaultActor pid=1122112)\u001b[0m Accuracy: 0.6406504063850129\n",
      "\u001b[2m\u001b[36m(DefaultActor pid=1122112)\u001b[0m Epoch [1/1] - loss 0.9939 -accuracy 0.6407\n",
      "\u001b[2m\u001b[36m(DefaultActor pid=1122112)\u001b[0m client 1\n",
      "\u001b[2m\u001b[36m(DefaultActor pid=1122112)\u001b[0m client 2\n",
      "\u001b[2m\u001b[36m(DefaultActor pid=1122112)\u001b[0m client 3\n",
      "\u001b[2m\u001b[36m(DefaultActor pid=1122112)\u001b[0m model 1\n",
      "\u001b[2m\u001b[36m(DefaultActor pid=1122112)\u001b[0m *************Metrics******************\n",
      "\u001b[2m\u001b[36m(DefaultActor pid=1122112)\u001b[0m Melanoma: 0.48554913290119955, Melanocytic nevus: 0.8150759218646922, Basal cell carcinoma: 0.7373390557307006, Actinic keratosis: 0.0, Benign keratosis: 0.133333333294686, Dermatofibroma: 0.0, Vascular lesion: 0.08219178070932634, Squamous cell carcinoma: 0.0\n",
      "\u001b[2m\u001b[36m(DefaultActor pid=1122112)\u001b[0m Accuracy: 0.629014873786762\n",
      "\u001b[2m\u001b[36m(DefaultActor pid=1122112)\u001b[0m Epoch [1/1] - loss 1.0207 -accuracy 0.6290\n",
      "\u001b[2m\u001b[36m(DefaultActor pid=1122112)\u001b[0m client 1\n",
      "\u001b[2m\u001b[36m(DefaultActor pid=1122112)\u001b[0m client 2\n",
      "\u001b[2m\u001b[36m(DefaultActor pid=1122112)\u001b[0m client 3\n",
      "\u001b[2m\u001b[36m(DefaultActor pid=1122112)\u001b[0m model 1\n",
      "\u001b[2m\u001b[36m(DefaultActor pid=1122112)\u001b[0m *************Metrics******************\n",
      "\u001b[2m\u001b[36m(DefaultActor pid=1122112)\u001b[0m Melanoma: 0.4654088049896309, Melanocytic nevus: 0.9334988962214819, Basal cell carcinoma: 0.21393034815227346, Actinic keratosis: 0.1341463413816181, Benign keratosis: 0.17817371933670964, Dermatofibroma: 0.0, Vascular lesion: 0.11111110987654321, Squamous cell carcinoma: 0.0\n",
      "\u001b[2m\u001b[36m(DefaultActor pid=1122112)\u001b[0m Accuracy: 0.7215189872388635\n",
      "\u001b[2m\u001b[36m(DefaultActor pid=1122112)\u001b[0m Epoch [1/1] - loss 0.7700 -accuracy 0.7215\n",
      "\u001b[2m\u001b[36m(DefaultActor pid=1122112)\u001b[0m client 1\n",
      "\u001b[2m\u001b[36m(DefaultActor pid=1122112)\u001b[0m client 2\n",
      "\u001b[2m\u001b[36m(DefaultActor pid=1122112)\u001b[0m client 3\n",
      "\u001b[2m\u001b[36m(DefaultActor pid=1122112)\u001b[0m model 1\n"
     ]
    },
    {
     "name": "stderr",
     "output_type": "stream",
     "text": [
      "DEBUG flwr 2024-03-25 20:27:14,553 | server.py:236 | fit_round 20 received 4 results and 0 failures\n"
     ]
    },
    {
     "name": "stdout",
     "output_type": "stream",
     "text": [
      "\u001b[2m\u001b[36m(DefaultActor pid=1122112)\u001b[0m *************Metrics******************\n",
      "\u001b[2m\u001b[36m(DefaultActor pid=1122112)\u001b[0m Melanoma: 0.2576687115774023, Melanocytic nevus: 0.8777327934511958, Basal cell carcinoma: 0.6914728681098492, Actinic keratosis: 0.08805031441003125, Benign keratosis: 0.2838541665927463, Dermatofibroma: 0.0, Vascular lesion: 0.09999999983333333, Squamous cell carcinoma: 0.1084745762344154\n",
      "\u001b[2m\u001b[36m(DefaultActor pid=1122112)\u001b[0m Accuracy: 0.5581761004885094\n",
      "\u001b[2m\u001b[36m(DefaultActor pid=1122112)\u001b[0m Epoch [1/1] - loss 1.2605 -accuracy 0.5582\n",
      "\u001b[2m\u001b[36m(DefaultActor pid=1122112)\u001b[0m client 1\n",
      "[2024-03-25 20:27:14,553][flwr][DEBUG] - fit_round 20 received 4 results and 0 failures\n",
      "!!!!!!!!!!!!!!!!!!\n",
      "model 2\n"
     ]
    },
    {
     "name": "stderr",
     "output_type": "stream",
     "text": [
      "INFO flwr 2024-03-25 20:27:47,089 | server.py:125 | fit progress: (20, 3.707777738571167, {'accuracy': 0.6431109355478705}, 3319.271223276155)\n"
     ]
    },
    {
     "name": "stdout",
     "output_type": "stream",
     "text": [
      "*************Metrics******************\n",
      "Melanoma: 0.40331491708250666, Melanocytic nevus: 0.9184466019060799, Basal cell carcinoma: 0.5075301204054925, Actinic keratosis: 0.19653179179391225, Benign keratosis: 0.29333333327746036, Dermatofibroma: 0.0, Vascular lesion: 0.058823529296424454, Squamous cell carcinoma: 0.0\n",
      "Accuracy: 0.6431109355478705\n",
      "loss 1.0171 - accuracy 0.6431\n",
      "[2024-03-25 20:27:47,089][flwr][INFO] - fit progress: (20, 3.707777738571167, {'accuracy': 0.6431109355478705}, 3319.271223276155)\n"
     ]
    },
    {
     "name": "stderr",
     "output_type": "stream",
     "text": [
      "DEBUG flwr 2024-03-25 20:27:47,091 | server.py:173 | evaluate_round 20: strategy sampled 4 clients (out of 4)\n"
     ]
    },
    {
     "name": "stdout",
     "output_type": "stream",
     "text": [
      "[2024-03-25 20:27:47,091][flwr][DEBUG] - evaluate_round 20: strategy sampled 4 clients (out of 4)\n",
      "\u001b[2m\u001b[36m(DefaultActor pid=1122112)\u001b[0m client 4\n",
      "\u001b[2m\u001b[36m(DefaultActor pid=1122112)\u001b[0m client 3\n",
      "\u001b[2m\u001b[36m(DefaultActor pid=1122112)\u001b[0m model 2\n",
      "\u001b[2m\u001b[36m(DefaultActor pid=1122112)\u001b[0m *************Metrics******************\n",
      "\u001b[2m\u001b[36m(DefaultActor pid=1122112)\u001b[0m Melanoma: 0.38775510164514787, Melanocytic nevus: 0.9181818179035813, Basal cell carcinoma: 0.48888888780246914, Actinic keratosis: 0.3333333320987654, Benign keratosis: 0.25531914866455413, Dermatofibroma: 0.0, Vascular lesion: 0.19999999600000007, Squamous cell carcinoma: 0.0\n",
      "\u001b[2m\u001b[36m(DefaultActor pid=1122112)\u001b[0m Accuracy: 0.6455284544448412\n",
      "\u001b[2m\u001b[36m(DefaultActor pid=1122112)\u001b[0m loss 1.0636 - accuracy 0.6455\n",
      "\u001b[2m\u001b[36m(DefaultActor pid=1122112)\u001b[0m client 4\n",
      "\u001b[2m\u001b[36m(DefaultActor pid=1122112)\u001b[0m client 3\n",
      "\u001b[2m\u001b[36m(DefaultActor pid=1122112)\u001b[0m model 2\n",
      "\u001b[2m\u001b[36m(DefaultActor pid=1122112)\u001b[0m *************Metrics******************\n",
      "\u001b[2m\u001b[36m(DefaultActor pid=1122112)\u001b[0m Melanoma: 0.4339622638780112, Melanocytic nevus: 0.9208494206716508, Basal cell carcinoma: 0.3448275850178359, Actinic keratosis: 0.2608695640831758, Benign keratosis: 0.35384615330177516, Dermatofibroma: 0.0, Vascular lesion: 0.0, Squamous cell carcinoma: 0.0\n",
      "\u001b[2m\u001b[36m(DefaultActor pid=1122112)\u001b[0m Accuracy: 0.7303370779222603\n",
      "\u001b[2m\u001b[36m(DefaultActor pid=1122112)\u001b[0m loss 0.8209 - accuracy 0.7303\n",
      "\u001b[2m\u001b[36m(DefaultActor pid=1122112)\u001b[0m client 4\n",
      "\u001b[2m\u001b[36m(DefaultActor pid=1122112)\u001b[0m client 3\n",
      "\u001b[2m\u001b[36m(DefaultActor pid=1122112)\u001b[0m model 2\n",
      "\u001b[2m\u001b[36m(DefaultActor pid=1122112)\u001b[0m *************Metrics******************\n",
      "\u001b[2m\u001b[36m(DefaultActor pid=1122112)\u001b[0m Melanoma: 0.4054054051314829, Melanocytic nevus: 0.9239543722722608, Basal cell carcinoma: 0.5421686743721875, Actinic keratosis: 0.21428571275510203, Benign keratosis: 0.32653061157850893, Dermatofibroma: 0.0, Vascular lesion: 0.0, Squamous cell carcinoma: 0.0\n",
      "\u001b[2m\u001b[36m(DefaultActor pid=1122112)\u001b[0m Accuracy: 0.6232980325285352\n",
      "\u001b[2m\u001b[36m(DefaultActor pid=1122112)\u001b[0m loss 1.1093 - accuracy 0.6233\n",
      "\u001b[2m\u001b[36m(DefaultActor pid=1122112)\u001b[0m client 4\n",
      "\u001b[2m\u001b[36m(DefaultActor pid=1122112)\u001b[0m client 3\n",
      "\u001b[2m\u001b[36m(DefaultActor pid=1122112)\u001b[0m model 2\n"
     ]
    },
    {
     "name": "stderr",
     "output_type": "stream",
     "text": [
      "DEBUG flwr 2024-03-25 20:28:05,393 | server.py:187 | evaluate_round 20 received 4 results and 0 failures\n"
     ]
    },
    {
     "name": "stdout",
     "output_type": "stream",
     "text": [
      "[2024-03-25 20:28:05,393][flwr][DEBUG] - evaluate_round 20 received 4 results and 0 failures\n"
     ]
    },
    {
     "name": "stderr",
     "output_type": "stream",
     "text": [
      "DEBUG flwr 2024-03-25 20:28:05,394 | server.py:222 | fit_round 21: strategy sampled 4 clients (out of 4)\n"
     ]
    },
    {
     "name": "stdout",
     "output_type": "stream",
     "text": [
      "weighted [(29, {'accuracy': 0.5472527462905444}), (42, {'accuracy': 0.6232980325285352}), (51, {'accuracy': 0.7303370779222603}), (39, {'accuracy': 0.6455284544448412})]\n",
      "[2024-03-25 20:28:05,394][flwr][DEBUG] - fit_round 21: strategy sampled 4 clients (out of 4)\n",
      "\u001b[2m\u001b[36m(DefaultActor pid=1122112)\u001b[0m *************Metrics******************\n",
      "\u001b[2m\u001b[36m(DefaultActor pid=1122112)\u001b[0m Melanoma: 0.44680850968764146, Melanocytic nevus: 0.9034090903957903, Basal cell carcinoma: 0.5217391298676749, Actinic keratosis: 0.1739130427221172, Benign keratosis: 0.29629629574759947, Dermatofibroma: 0.0, Vascular lesion: 0.11111110987654321, Squamous cell carcinoma: 0.0\n",
      "\u001b[2m\u001b[36m(DefaultActor pid=1122112)\u001b[0m Accuracy: 0.5472527462905444\n",
      "\u001b[2m\u001b[36m(DefaultActor pid=1122112)\u001b[0m loss 1.3706 - accuracy 0.5473\n",
      "\u001b[2m\u001b[36m(DefaultActor pid=1122112)\u001b[0m client 2\n",
      "\u001b[2m\u001b[36m(DefaultActor pid=1122112)\u001b[0m client 3\n",
      "\u001b[2m\u001b[36m(DefaultActor pid=1122112)\u001b[0m model 1\n",
      "\u001b[2m\u001b[36m(DefaultActor pid=1122112)\u001b[0m *************Metrics******************\n",
      "\u001b[2m\u001b[36m(DefaultActor pid=1122112)\u001b[0m Melanoma: 0.2760736195472167, Melanocytic nevus: 0.874493927054697, Basal cell carcinoma: 0.694573643303167, Actinic keratosis: 0.13207547161504687, Benign keratosis: 0.30208333325466585, Dermatofibroma: 0.0, Vascular lesion: 0.09999999983333333, Squamous cell carcinoma: 0.11525423724906637\n",
      "\u001b[2m\u001b[36m(DefaultActor pid=1122112)\u001b[0m Accuracy: 0.5644654086630277\n",
      "\u001b[2m\u001b[36m(DefaultActor pid=1122112)\u001b[0m Epoch [1/1] - loss 1.2514 -accuracy 0.5645\n",
      "\u001b[2m\u001b[36m(DefaultActor pid=1122112)\u001b[0m client 1\n",
      "\u001b[2m\u001b[36m(DefaultActor pid=1122112)\u001b[0m client 2\n",
      "\u001b[2m\u001b[36m(DefaultActor pid=1122112)\u001b[0m client 3\n",
      "\u001b[2m\u001b[36m(DefaultActor pid=1122112)\u001b[0m model 1\n",
      "\u001b[2m\u001b[36m(DefaultActor pid=1122112)\u001b[0m *************Metrics******************\n",
      "\u001b[2m\u001b[36m(DefaultActor pid=1122112)\u001b[0m Melanoma: 0.48843930631132576, Melanocytic nevus: 0.8015184381344079, Basal cell carcinoma: 0.7356223175334231, Actinic keratosis: 0.010638297861023088, Benign keratosis: 0.13043478257088847, Dermatofibroma: 0.0, Vascular lesion: 0.08219178070932634, Squamous cell carcinoma: 0.0\n",
      "\u001b[2m\u001b[36m(DefaultActor pid=1122112)\u001b[0m Accuracy: 0.6238413450099003\n",
      "\u001b[2m\u001b[36m(DefaultActor pid=1122112)\u001b[0m Epoch [1/1] - loss 1.0212 -accuracy 0.6238\n",
      "\u001b[2m\u001b[36m(DefaultActor pid=1122112)\u001b[0m client 1\n",
      "\u001b[2m\u001b[36m(DefaultActor pid=1122112)\u001b[0m client 2\n",
      "\u001b[2m\u001b[36m(DefaultActor pid=1122112)\u001b[0m client 3\n",
      "\u001b[2m\u001b[36m(DefaultActor pid=1122112)\u001b[0m model 1\n",
      "\u001b[2m\u001b[36m(DefaultActor pid=1122112)\u001b[0m *************Metrics******************\n",
      "\u001b[2m\u001b[36m(DefaultActor pid=1122112)\u001b[0m Melanoma: 0.45911949681409536, Melanocytic nevus: 0.9279801324247247, Basal cell carcinoma: 0.2089552237766392, Actinic keratosis: 0.18292682915675193, Benign keratosis: 0.16481069038645643, Dermatofibroma: 0.0, Vascular lesion: 0.0, Squamous cell carcinoma: 0.0\n",
      "\u001b[2m\u001b[36m(DefaultActor pid=1122112)\u001b[0m Accuracy: 0.7167052949592863\n",
      "\u001b[2m\u001b[36m(DefaultActor pid=1122112)\u001b[0m Epoch [1/1] - loss 0.7694 -accuracy 0.7167\n",
      "\u001b[2m\u001b[36m(DefaultActor pid=1122112)\u001b[0m client 1\n",
      "\u001b[2m\u001b[36m(DefaultActor pid=1122112)\u001b[0m client 2\n",
      "\u001b[2m\u001b[36m(DefaultActor pid=1122112)\u001b[0m client 3\n",
      "\u001b[2m\u001b[36m(DefaultActor pid=1122112)\u001b[0m model 1\n"
     ]
    },
    {
     "name": "stderr",
     "output_type": "stream",
     "text": [
      "DEBUG flwr 2024-03-25 20:30:01,700 | server.py:236 | fit_round 21 received 4 results and 0 failures\n"
     ]
    },
    {
     "name": "stdout",
     "output_type": "stream",
     "text": [
      "\u001b[2m\u001b[36m(DefaultActor pid=1122112)\u001b[0m *************Metrics******************\n",
      "\u001b[2m\u001b[36m(DefaultActor pid=1122112)\u001b[0m Melanoma: 0.3779069766892577, Melanocytic nevus: 0.8969696969308671, Basal cell carcinoma: 0.4145569618941276, Actinic keratosis: 0.19999999989473685, Benign keratosis: 0.3566009104162973, Dermatofibroma: 0.0, Vascular lesion: 0.05714285697959184, Squamous cell carcinoma: 0.020833333311631945\n",
      "\u001b[2m\u001b[36m(DefaultActor pid=1122112)\u001b[0m Accuracy: 0.6364692217168003\n",
      "\u001b[2m\u001b[36m(DefaultActor pid=1122112)\u001b[0m Epoch [1/1] - loss 1.0008 -accuracy 0.6365\n",
      "\u001b[2m\u001b[36m(DefaultActor pid=1122112)\u001b[0m client 1\n",
      "[2024-03-25 20:30:01,700][flwr][DEBUG] - fit_round 21 received 4 results and 0 failures\n",
      "!!!!!!!!!!!!!!!!!!\n",
      "model 2\n"
     ]
    },
    {
     "name": "stderr",
     "output_type": "stream",
     "text": [
      "INFO flwr 2024-03-25 20:30:34,591 | server.py:125 | fit progress: (21, 3.6332154273986816, {'accuracy': 0.6440979075177107}, 3486.7735341670923)\n"
     ]
    },
    {
     "name": "stdout",
     "output_type": "stream",
     "text": [
      "*************Metrics******************\n",
      "Melanoma: 0.4198895027160343, Melanocytic nevus: 0.9281553397697804, Basal cell carcinoma: 0.5346385541363496, Actinic keratosis: 0.11560693634936016, Benign keratosis: 0.2171428571014966, Dermatofibroma: 0.0, Vascular lesion: 0.0784313723952326, Squamous cell carcinoma: 0.0\n",
      "Accuracy: 0.6440979075177107\n",
      "loss 1.0141 - accuracy 0.6441\n",
      "[2024-03-25 20:30:34,591][flwr][INFO] - fit progress: (21, 3.6332154273986816, {'accuracy': 0.6440979075177107}, 3486.7735341670923)\n"
     ]
    },
    {
     "name": "stderr",
     "output_type": "stream",
     "text": [
      "DEBUG flwr 2024-03-25 20:30:34,593 | server.py:173 | evaluate_round 21: strategy sampled 4 clients (out of 4)\n"
     ]
    },
    {
     "name": "stdout",
     "output_type": "stream",
     "text": [
      "[2024-03-25 20:30:34,593][flwr][DEBUG] - evaluate_round 21: strategy sampled 4 clients (out of 4)\n",
      "\u001b[2m\u001b[36m(DefaultActor pid=1122112)\u001b[0m client 4\n",
      "\u001b[2m\u001b[36m(DefaultActor pid=1122112)\u001b[0m client 3\n",
      "\u001b[2m\u001b[36m(DefaultActor pid=1122112)\u001b[0m model 2\n",
      "\u001b[2m\u001b[36m(DefaultActor pid=1122112)\u001b[0m *************Metrics******************\n",
      "\u001b[2m\u001b[36m(DefaultActor pid=1122112)\u001b[0m Melanoma: 0.3979591832673886, Melanocytic nevus: 0.9333333330505051, Basal cell carcinoma: 0.5333333321481482, Actinic keratosis: 0.18518518449931412, Benign keratosis: 0.21276595722046177, Dermatofibroma: 0.0, Vascular lesion: 0.19999999600000007, Squamous cell carcinoma: 0.0\n",
      "\u001b[2m\u001b[36m(DefaultActor pid=1122112)\u001b[0m Accuracy: 0.6455284544448412\n",
      "\u001b[2m\u001b[36m(DefaultActor pid=1122112)\u001b[0m loss 1.0745 - accuracy 0.6455\n",
      "\u001b[2m\u001b[36m(DefaultActor pid=1122112)\u001b[0m client 4\n",
      "\u001b[2m\u001b[36m(DefaultActor pid=1122112)\u001b[0m client 3\n",
      "\u001b[2m\u001b[36m(DefaultActor pid=1122112)\u001b[0m model 2\n",
      "\u001b[2m\u001b[36m(DefaultActor pid=1122112)\u001b[0m *************Metrics******************\n",
      "\u001b[2m\u001b[36m(DefaultActor pid=1122112)\u001b[0m Melanoma: 0.4324324321402484, Melanocytic nevus: 0.9201520909048853, Basal cell carcinoma: 0.5361445779902744, Actinic keratosis: 0.1428571418367347, Benign keratosis: 0.20408163223656808, Dermatofibroma: 0.0, Vascular lesion: 0.0, Squamous cell carcinoma: 0.0\n",
      "\u001b[2m\u001b[36m(DefaultActor pid=1122112)\u001b[0m Accuracy: 0.6157337360172666\n",
      "\u001b[2m\u001b[36m(DefaultActor pid=1122112)\u001b[0m loss 1.0961 - accuracy 0.6157\n",
      "\u001b[2m\u001b[36m(DefaultActor pid=1122112)\u001b[0m client 4\n",
      "\u001b[2m\u001b[36m(DefaultActor pid=1122112)\u001b[0m client 3\n",
      "\u001b[2m\u001b[36m(DefaultActor pid=1122112)\u001b[0m model 2\n",
      "\u001b[2m\u001b[36m(DefaultActor pid=1122112)\u001b[0m *************Metrics******************\n",
      "\u001b[2m\u001b[36m(DefaultActor pid=1122112)\u001b[0m Melanoma: 0.46808510538705295, Melanocytic nevus: 0.9147727267529701, Basal cell carcinoma: 0.5434782602788281, Actinic keratosis: 0.0434782606805293, Benign keratosis: 0.18518518484224966, Dermatofibroma: 0.0, Vascular lesion: 0.11111110987654321, Squamous cell carcinoma: 0.0\n",
      "\u001b[2m\u001b[36m(DefaultActor pid=1122112)\u001b[0m Accuracy: 0.5384615375147928\n",
      "\u001b[2m\u001b[36m(DefaultActor pid=1122112)\u001b[0m loss 1.3822 - accuracy 0.5385\n",
      "\u001b[2m\u001b[36m(DefaultActor pid=1122112)\u001b[0m client 4\n",
      "\u001b[2m\u001b[36m(DefaultActor pid=1122112)\u001b[0m client 3\n",
      "\u001b[2m\u001b[36m(DefaultActor pid=1122112)\u001b[0m model 2\n"
     ]
    },
    {
     "name": "stderr",
     "output_type": "stream",
     "text": [
      "DEBUG flwr 2024-03-25 20:30:52,957 | server.py:187 | evaluate_round 21 received 4 results and 0 failures\n"
     ]
    },
    {
     "name": "stdout",
     "output_type": "stream",
     "text": [
      "[2024-03-25 20:30:52,957][flwr][DEBUG] - evaluate_round 21 received 4 results and 0 failures\n"
     ]
    },
    {
     "name": "stderr",
     "output_type": "stream",
     "text": [
      "DEBUG flwr 2024-03-25 20:30:52,958 | server.py:222 | fit_round 22: strategy sampled 4 clients (out of 4)\n"
     ]
    },
    {
     "name": "stdout",
     "output_type": "stream",
     "text": [
      "weighted [(29, {'accuracy': 0.5384615375147928}), (39, {'accuracy': 0.6455284544448412}), (51, {'accuracy': 0.7265917595739411}), (42, {'accuracy': 0.6157337360172666})]\n",
      "[2024-03-25 20:30:52,958][flwr][DEBUG] - fit_round 22: strategy sampled 4 clients (out of 4)\n",
      "\u001b[2m\u001b[36m(DefaultActor pid=1122112)\u001b[0m *************Metrics******************\n",
      "\u001b[2m\u001b[36m(DefaultActor pid=1122112)\u001b[0m Melanoma: 0.45283018839444644, Melanocytic nevus: 0.9362934361126847, Basal cell carcinoma: 0.31034482651605233, Actinic keratosis: 0.0434782606805293, Benign keratosis: 0.2307692304142012, Dermatofibroma: 0.0, Vascular lesion: 0.0, Squamous cell carcinoma: 0.0\n",
      "\u001b[2m\u001b[36m(DefaultActor pid=1122112)\u001b[0m Accuracy: 0.7265917595739411\n",
      "\u001b[2m\u001b[36m(DefaultActor pid=1122112)\u001b[0m loss 0.8155 - accuracy 0.7266\n",
      "\u001b[2m\u001b[36m(DefaultActor pid=1122112)\u001b[0m client 2\n",
      "\u001b[2m\u001b[36m(DefaultActor pid=1122112)\u001b[0m client 3\n",
      "\u001b[2m\u001b[36m(DefaultActor pid=1122112)\u001b[0m model 1\n",
      "\u001b[2m\u001b[36m(DefaultActor pid=1122112)\u001b[0m *************Metrics******************\n",
      "\u001b[2m\u001b[36m(DefaultActor pid=1122112)\u001b[0m Melanoma: 0.49036608858474323, Melanocytic nevus: 0.8047722342296761, Basal cell carcinoma: 0.7407725321252556, Actinic keratosis: 0.0, Benign keratosis: 0.13043478257088847, Dermatofibroma: 0.0, Vascular lesion: 0.13698630118221056, Squamous cell carcinoma: 0.0\n",
      "\u001b[2m\u001b[36m(DefaultActor pid=1122112)\u001b[0m Accuracy: 0.6275059278935107\n",
      "\u001b[2m\u001b[36m(DefaultActor pid=1122112)\u001b[0m Epoch [1/1] - loss 1.0171 -accuracy 0.6275\n",
      "\u001b[2m\u001b[36m(DefaultActor pid=1122112)\u001b[0m client 1\n",
      "\u001b[2m\u001b[36m(DefaultActor pid=1122112)\u001b[0m client 2\n",
      "\u001b[2m\u001b[36m(DefaultActor pid=1122112)\u001b[0m client 3\n",
      "\u001b[2m\u001b[36m(DefaultActor pid=1122112)\u001b[0m model 1\n",
      "\u001b[2m\u001b[36m(DefaultActor pid=1122112)\u001b[0m *************Metrics******************\n",
      "\u001b[2m\u001b[36m(DefaultActor pid=1122112)\u001b[0m Melanoma: 0.29447852751703113, Melanocytic nevus: 0.8842105262441936, Basal cell carcinoma: 0.6697674417566253, Actinic keratosis: 0.12578616344290178, Benign keratosis: 0.3072916665866428, Dermatofibroma: 0.0, Vascular lesion: 0.06666666655555556, Squamous cell carcinoma: 0.13559322029301926\n",
      "\u001b[2m\u001b[36m(DefaultActor pid=1122112)\u001b[0m Accuracy: 0.5666666665241092\n",
      "\u001b[2m\u001b[36m(DefaultActor pid=1122112)\u001b[0m Epoch [1/1] - loss 1.2445 -accuracy 0.5667\n",
      "\u001b[2m\u001b[36m(DefaultActor pid=1122112)\u001b[0m client 1\n",
      "\u001b[2m\u001b[36m(DefaultActor pid=1122112)\u001b[0m client 2\n",
      "\u001b[2m\u001b[36m(DefaultActor pid=1122112)\u001b[0m client 3\n",
      "\u001b[2m\u001b[36m(DefaultActor pid=1122112)\u001b[0m model 1\n",
      "\u001b[2m\u001b[36m(DefaultActor pid=1122112)\u001b[0m *************Metrics******************\n",
      "\u001b[2m\u001b[36m(DefaultActor pid=1122112)\u001b[0m Melanoma: 0.38372093017678477, Melanocytic nevus: 0.8961038960651038, Basal cell carcinoma: 0.40822784797207984, Actinic keratosis: 0.16315789465096953, Benign keratosis: 0.3672230651946551, Dermatofibroma: 0.0, Vascular lesion: 0.02857142848979592, Squamous cell carcinoma: 0.010416666655815972\n",
      "\u001b[2m\u001b[36m(DefaultActor pid=1122112)\u001b[0m Accuracy: 0.6360046456425544\n",
      "\u001b[2m\u001b[36m(DefaultActor pid=1122112)\u001b[0m Epoch [1/1] - loss 0.9865 -accuracy 0.6360\n",
      "\u001b[2m\u001b[36m(DefaultActor pid=1122112)\u001b[0m client 1\n",
      "\u001b[2m\u001b[36m(DefaultActor pid=1122112)\u001b[0m client 2\n",
      "\u001b[2m\u001b[36m(DefaultActor pid=1122112)\u001b[0m client 3\n",
      "\u001b[2m\u001b[36m(DefaultActor pid=1122112)\u001b[0m model 1\n"
     ]
    },
    {
     "name": "stderr",
     "output_type": "stream",
     "text": [
      "DEBUG flwr 2024-03-25 20:32:48,945 | server.py:236 | fit_round 22 received 4 results and 0 failures\n"
     ]
    },
    {
     "name": "stdout",
     "output_type": "stream",
     "text": [
      "\u001b[2m\u001b[36m(DefaultActor pid=1122112)\u001b[0m *************Metrics******************\n",
      "\u001b[2m\u001b[36m(DefaultActor pid=1122112)\u001b[0m Melanoma: 0.477987421340702, Melanocytic nevus: 0.939017660018239, Basal cell carcinoma: 0.223880596903542, Actinic keratosis: 0.14634146332540154, Benign keratosis: 0.1826280623201274, Dermatofibroma: 0.0, Vascular lesion: 0.0, Squamous cell carcinoma: 0.0\n",
      "\u001b[2m\u001b[36m(DefaultActor pid=1122112)\u001b[0m Accuracy: 0.7284720983093641\n",
      "\u001b[2m\u001b[36m(DefaultActor pid=1122112)\u001b[0m Epoch [1/1] - loss 0.7653 -accuracy 0.7285\n",
      "\u001b[2m\u001b[36m(DefaultActor pid=1122112)\u001b[0m client 1\n",
      "[2024-03-25 20:32:48,945][flwr][DEBUG] - fit_round 22 received 4 results and 0 failures\n",
      "!!!!!!!!!!!!!!!!!!\n",
      "model 2\n"
     ]
    },
    {
     "name": "stderr",
     "output_type": "stream",
     "text": [
      "INFO flwr 2024-03-25 20:33:21,432 | server.py:125 | fit progress: (22, 3.5720221996307373, {'accuracy': 0.640544808426286}, 3653.614174342947)\n"
     ]
    },
    {
     "name": "stdout",
     "output_type": "stream",
     "text": [
      "*************Metrics******************\n",
      "Melanoma: 0.40220994470693816, Melanocytic nevus: 0.9285436892843284, Basal cell carcinoma: 0.4743975902900004, Actinic keratosis: 0.17341040452404025, Benign keratosis: 0.2647619047114739, Dermatofibroma: 0.0, Vascular lesion: 0.11764705859284891, Squamous cell carcinoma: 0.0\n",
      "Accuracy: 0.640544808426286\n",
      "loss 1.0159 - accuracy 0.6405\n",
      "[2024-03-25 20:33:21,432][flwr][INFO] - fit progress: (22, 3.5720221996307373, {'accuracy': 0.640544808426286}, 3653.614174342947)\n"
     ]
    },
    {
     "name": "stderr",
     "output_type": "stream",
     "text": [
      "DEBUG flwr 2024-03-25 20:33:21,433 | server.py:173 | evaluate_round 22: strategy sampled 4 clients (out of 4)\n"
     ]
    },
    {
     "name": "stdout",
     "output_type": "stream",
     "text": [
      "[2024-03-25 20:33:21,433][flwr][DEBUG] - evaluate_round 22: strategy sampled 4 clients (out of 4)\n",
      "\u001b[2m\u001b[36m(DefaultActor pid=1122112)\u001b[0m client 4\n",
      "\u001b[2m\u001b[36m(DefaultActor pid=1122112)\u001b[0m client 3\n",
      "\u001b[2m\u001b[36m(DefaultActor pid=1122112)\u001b[0m model 2\n",
      "\u001b[2m\u001b[36m(DefaultActor pid=1122112)\u001b[0m *************Metrics******************\n",
      "\u001b[2m\u001b[36m(DefaultActor pid=1122112)\u001b[0m Melanoma: 0.44680850968764146, Melanocytic nevus: 0.9318181812887397, Basal cell carcinoma: 0.5108695646620983, Actinic keratosis: 0.1304347820415879, Benign keratosis: 0.2592592587791495, Dermatofibroma: 0.0, Vascular lesion: 0.11111110987654321, Squamous cell carcinoma: 0.0\n",
      "\u001b[2m\u001b[36m(DefaultActor pid=1122112)\u001b[0m Accuracy: 0.5494505484844824\n",
      "\u001b[2m\u001b[36m(DefaultActor pid=1122112)\u001b[0m loss 1.3719 - accuracy 0.5495\n",
      "\u001b[2m\u001b[36m(DefaultActor pid=1122112)\u001b[0m client 4\n",
      "\u001b[2m\u001b[36m(DefaultActor pid=1122112)\u001b[0m client 3\n",
      "\u001b[2m\u001b[36m(DefaultActor pid=1122112)\u001b[0m model 2\n",
      "\u001b[2m\u001b[36m(DefaultActor pid=1122112)\u001b[0m *************Metrics******************\n",
      "\u001b[2m\u001b[36m(DefaultActor pid=1122112)\u001b[0m Melanoma: 0.4054054051314829, Melanocytic nevus: 0.9277566536396363, Basal cell carcinoma: 0.4999999996987952, Actinic keratosis: 0.2857142836734694, Benign keratosis: 0.30612244835485214, Dermatofibroma: 0.0, Vascular lesion: 0.0, Squamous cell carcinoma: 0.0\n",
      "\u001b[2m\u001b[36m(DefaultActor pid=1122112)\u001b[0m Accuracy: 0.6142208767150128\n",
      "\u001b[2m\u001b[36m(DefaultActor pid=1122112)\u001b[0m loss 1.1208 - accuracy 0.6142\n",
      "\u001b[2m\u001b[36m(DefaultActor pid=1122112)\u001b[0m client 4\n",
      "\u001b[2m\u001b[36m(DefaultActor pid=1122112)\u001b[0m client 3\n",
      "\u001b[2m\u001b[36m(DefaultActor pid=1122112)\u001b[0m model 2\n",
      "\u001b[2m\u001b[36m(DefaultActor pid=1122112)\u001b[0m *************Metrics******************\n",
      "\u001b[2m\u001b[36m(DefaultActor pid=1122112)\u001b[0m Melanoma: 0.38775510164514787, Melanocytic nevus: 0.9212121209329661, Basal cell carcinoma: 0.48888888780246914, Actinic keratosis: 0.2592592582990398, Benign keratosis: 0.22340425508148484, Dermatofibroma: 0.0, Vascular lesion: 0.19999999600000007, Squamous cell carcinoma: 0.0\n",
      "\u001b[2m\u001b[36m(DefaultActor pid=1122112)\u001b[0m Accuracy: 0.6390243894126514\n",
      "\u001b[2m\u001b[36m(DefaultActor pid=1122112)\u001b[0m loss 1.0621 - accuracy 0.6390\n",
      "\u001b[2m\u001b[36m(DefaultActor pid=1122112)\u001b[0m client 4\n",
      "\u001b[2m\u001b[36m(DefaultActor pid=1122112)\u001b[0m client 3\n",
      "\u001b[2m\u001b[36m(DefaultActor pid=1122112)\u001b[0m model 2\n"
     ]
    },
    {
     "name": "stderr",
     "output_type": "stream",
     "text": [
      "DEBUG flwr 2024-03-25 20:33:39,866 | server.py:187 | evaluate_round 22 received 4 results and 0 failures\n"
     ]
    },
    {
     "name": "stdout",
     "output_type": "stream",
     "text": [
      "[2024-03-25 20:33:39,866][flwr][DEBUG] - evaluate_round 22 received 4 results and 0 failures\n"
     ]
    },
    {
     "name": "stderr",
     "output_type": "stream",
     "text": [
      "DEBUG flwr 2024-03-25 20:33:39,868 | server.py:222 | fit_round 23: strategy sampled 4 clients (out of 4)\n"
     ]
    },
    {
     "name": "stdout",
     "output_type": "stream",
     "text": [
      "weighted [(39, {'accuracy': 0.6390243894126514}), (29, {'accuracy': 0.5494505484844824}), (42, {'accuracy': 0.6142208767150128}), (51, {'accuracy': 0.7278401990233808})]\n",
      "[2024-03-25 20:33:39,868][flwr][DEBUG] - fit_round 23: strategy sampled 4 clients (out of 4)\n",
      "\u001b[2m\u001b[36m(DefaultActor pid=1122112)\u001b[0m *************Metrics******************\n",
      "\u001b[2m\u001b[36m(DefaultActor pid=1122112)\u001b[0m Melanoma: 0.4150943393615759, Melanocytic nevus: 0.9324324322524262, Basal cell carcinoma: 0.2758620680142687, Actinic keratosis: 0.2608695640831758, Benign keratosis: 0.3076923072189349, Dermatofibroma: 0.0, Vascular lesion: 0.0, Squamous cell carcinoma: 0.0\n",
      "\u001b[2m\u001b[36m(DefaultActor pid=1122112)\u001b[0m Accuracy: 0.7278401990233808\n",
      "\u001b[2m\u001b[36m(DefaultActor pid=1122112)\u001b[0m loss 0.8149 - accuracy 0.7278\n",
      "\u001b[2m\u001b[36m(DefaultActor pid=1122112)\u001b[0m client 2\n",
      "\u001b[2m\u001b[36m(DefaultActor pid=1122112)\u001b[0m client 3\n",
      "\u001b[2m\u001b[36m(DefaultActor pid=1122112)\u001b[0m model 1\n",
      "\u001b[2m\u001b[36m(DefaultActor pid=1122112)\u001b[0m *************Metrics******************\n",
      "\u001b[2m\u001b[36m(DefaultActor pid=1122112)\u001b[0m Melanoma: 0.4788858939372071, Melanocytic nevus: 0.935154525360509, Basal cell carcinoma: 0.2089552237766392, Actinic keratosis: 0.1402439023535098, Benign keratosis: 0.1603563474030387, Dermatofibroma: 0.0, Vascular lesion: 0.0, Squamous cell carcinoma: 0.0\n",
      "\u001b[2m\u001b[36m(DefaultActor pid=1122112)\u001b[0m Accuracy: 0.7236584060297868\n",
      "\u001b[2m\u001b[36m(DefaultActor pid=1122112)\u001b[0m Epoch [1/1] - loss 0.7655 -accuracy 0.7237\n",
      "\u001b[2m\u001b[36m(DefaultActor pid=1122112)\u001b[0m client 1\n",
      "\u001b[2m\u001b[36m(DefaultActor pid=1122112)\u001b[0m client 2\n",
      "\u001b[2m\u001b[36m(DefaultActor pid=1122112)\u001b[0m client 3\n",
      "\u001b[2m\u001b[36m(DefaultActor pid=1122112)\u001b[0m model 1\n",
      "\u001b[2m\u001b[36m(DefaultActor pid=1122112)\u001b[0m *************Metrics******************\n",
      "\u001b[2m\u001b[36m(DefaultActor pid=1122112)\u001b[0m Melanoma: 0.2668711655623095, Melanocytic nevus: 0.8890688258389419, Basal cell carcinoma: 0.694573643303167, Actinic keratosis: 0.06918238989359599, Benign keratosis: 0.27864583326076936, Dermatofibroma: 0.0, Vascular lesion: 0.11666666647222222, Squamous cell carcinoma: 0.09830508471243897\n",
      "\u001b[2m\u001b[36m(DefaultActor pid=1122112)\u001b[0m Accuracy: 0.5619496853932204\n",
      "\u001b[2m\u001b[36m(DefaultActor pid=1122112)\u001b[0m Epoch [1/1] - loss 1.2354 -accuracy 0.5619\n",
      "\u001b[2m\u001b[36m(DefaultActor pid=1122112)\u001b[0m client 1\n",
      "\u001b[2m\u001b[36m(DefaultActor pid=1122112)\u001b[0m client 2\n",
      "\u001b[2m\u001b[36m(DefaultActor pid=1122112)\u001b[0m client 3\n",
      "\u001b[2m\u001b[36m(DefaultActor pid=1122112)\u001b[0m model 1\n",
      "\u001b[2m\u001b[36m(DefaultActor pid=1122112)\u001b[0m *************Metrics******************\n",
      "\u001b[2m\u001b[36m(DefaultActor pid=1122112)\u001b[0m Melanoma: 0.3677325580860854, Melanocytic nevus: 0.9064935064542644, Basal cell carcinoma: 0.41772151885515146, Actinic keratosis: 0.26315789459833794, Benign keratosis: 0.35963581178154236, Dermatofibroma: 0.0, Vascular lesion: 0.11428571395918367, Squamous cell carcinoma: 0.010416666655815972\n",
      "\u001b[2m\u001b[36m(DefaultActor pid=1122112)\u001b[0m Accuracy: 0.6436701508676108\n",
      "\u001b[2m\u001b[36m(DefaultActor pid=1122112)\u001b[0m Epoch [1/1] - loss 0.9801 -accuracy 0.6437\n",
      "\u001b[2m\u001b[36m(DefaultActor pid=1122112)\u001b[0m client 1\n",
      "\u001b[2m\u001b[36m(DefaultActor pid=1122112)\u001b[0m client 2\n",
      "\u001b[2m\u001b[36m(DefaultActor pid=1122112)\u001b[0m client 3\n",
      "\u001b[2m\u001b[36m(DefaultActor pid=1122112)\u001b[0m model 1\n"
     ]
    },
    {
     "name": "stderr",
     "output_type": "stream",
     "text": [
      "DEBUG flwr 2024-03-25 20:35:35,445 | server.py:236 | fit_round 23 received 4 results and 0 failures\n"
     ]
    },
    {
     "name": "stdout",
     "output_type": "stream",
     "text": [
      "\u001b[2m\u001b[36m(DefaultActor pid=1122112)\u001b[0m *************Metrics******************\n",
      "\u001b[2m\u001b[36m(DefaultActor pid=1122112)\u001b[0m Melanoma: 0.49036608858474323, Melanocytic nevus: 0.820498915356806, Basal cell carcinoma: 0.746781115815727, Actinic keratosis: 0.010638297861023088, Benign keratosis: 0.13623188401848352, Dermatofibroma: 0.0, Vascular lesion: 0.13698630118221056, Squamous cell carcinoma: 0.0\n",
      "\u001b[2m\u001b[36m(DefaultActor pid=1122112)\u001b[0m Accuracy: 0.6359129121559108\n",
      "\u001b[2m\u001b[36m(DefaultActor pid=1122112)\u001b[0m Epoch [1/1] - loss 1.0070 -accuracy 0.6359\n",
      "\u001b[2m\u001b[36m(DefaultActor pid=1122112)\u001b[0m client 1\n",
      "[2024-03-25 20:35:35,445][flwr][DEBUG] - fit_round 23 received 4 results and 0 failures\n",
      "!!!!!!!!!!!!!!!!!!\n",
      "model 2\n"
     ]
    },
    {
     "name": "stderr",
     "output_type": "stream",
     "text": [
      "INFO flwr 2024-03-25 20:36:08,060 | server.py:125 | fit progress: (23, 3.720076084136963, {'accuracy': 0.645479668275487}, 3820.2424643849954)\n"
     ]
    },
    {
     "name": "stdout",
     "output_type": "stream",
     "text": [
      "*************Metrics******************\n",
      "Melanoma: 0.4430939226029731, Melanocytic nevus: 0.9064077669550911, Basal cell carcinoma: 0.5180722890786036, Actinic keratosis: 0.17341040452404025, Benign keratosis: 0.29714285708625854, Dermatofibroma: 0.0, Vascular lesion: 0.09803921549404075, Squamous cell carcinoma: 0.0\n",
      "Accuracy: 0.645479668275487\n",
      "loss 1.0130 - accuracy 0.6455\n",
      "[2024-03-25 20:36:08,060][flwr][INFO] - fit progress: (23, 3.720076084136963, {'accuracy': 0.645479668275487}, 3820.2424643849954)\n"
     ]
    },
    {
     "name": "stderr",
     "output_type": "stream",
     "text": [
      "DEBUG flwr 2024-03-25 20:36:08,062 | server.py:173 | evaluate_round 23: strategy sampled 4 clients (out of 4)\n"
     ]
    },
    {
     "name": "stdout",
     "output_type": "stream",
     "text": [
      "[2024-03-25 20:36:08,062][flwr][DEBUG] - evaluate_round 23: strategy sampled 4 clients (out of 4)\n",
      "\u001b[2m\u001b[36m(DefaultActor pid=1122112)\u001b[0m client 4\n",
      "\u001b[2m\u001b[36m(DefaultActor pid=1122112)\u001b[0m client 3\n",
      "\u001b[2m\u001b[36m(DefaultActor pid=1122112)\u001b[0m model 2\n",
      "\u001b[2m\u001b[36m(DefaultActor pid=1122112)\u001b[0m *************Metrics******************\n",
      "\u001b[2m\u001b[36m(DefaultActor pid=1122112)\u001b[0m Melanoma: 0.4465408802223014, Melanocytic nevus: 0.907335907160746, Basal cell carcinoma: 0.3448275850178359, Actinic keratosis: 0.2173913034026465, Benign keratosis: 0.35384615330177516, Dermatofibroma: 0.0, Vascular lesion: 0.0, Squamous cell carcinoma: 0.0\n",
      "\u001b[2m\u001b[36m(DefaultActor pid=1122112)\u001b[0m Accuracy: 0.7228464412256218\n",
      "\u001b[2m\u001b[36m(DefaultActor pid=1122112)\u001b[0m loss 0.8230 - accuracy 0.7228\n",
      "\u001b[2m\u001b[36m(DefaultActor pid=1122112)\u001b[0m client 4\n",
      "\u001b[2m\u001b[36m(DefaultActor pid=1122112)\u001b[0m client 3\n",
      "\u001b[2m\u001b[36m(DefaultActor pid=1122112)\u001b[0m model 2\n",
      "\u001b[2m\u001b[36m(DefaultActor pid=1122112)\u001b[0m *************Metrics******************\n",
      "\u001b[2m\u001b[36m(DefaultActor pid=1122112)\u001b[0m Melanoma: 0.44680850968764146, Melanocytic nevus: 0.9090909085743802, Basal cell carcinoma: 0.5326086950732515, Actinic keratosis: 0.1304347820415879, Benign keratosis: 0.29629629574759947, Dermatofibroma: 0.0, Vascular lesion: 0.11111110987654321, Squamous cell carcinoma: 0.0\n",
      "\u001b[2m\u001b[36m(DefaultActor pid=1122112)\u001b[0m Accuracy: 0.5494505484844824\n",
      "\u001b[2m\u001b[36m(DefaultActor pid=1122112)\u001b[0m loss 1.3738 - accuracy 0.5495\n",
      "\u001b[2m\u001b[36m(DefaultActor pid=1122112)\u001b[0m client 4\n",
      "\u001b[2m\u001b[36m(DefaultActor pid=1122112)\u001b[0m client 3\n",
      "\u001b[2m\u001b[36m(DefaultActor pid=1122112)\u001b[0m model 2\n",
      "\u001b[2m\u001b[36m(DefaultActor pid=1122112)\u001b[0m *************Metrics******************\n",
      "\u001b[2m\u001b[36m(DefaultActor pid=1122112)\u001b[0m Melanoma: 0.45270270239682253, Melanocytic nevus: 0.904942965435383, Basal cell carcinoma: 0.5301204816083612, Actinic keratosis: 0.1428571418367347, Benign keratosis: 0.3469387748021658, Dermatofibroma: 0.0, Vascular lesion: 0.0, Squamous cell carcinoma: 0.0\n",
      "\u001b[2m\u001b[36m(DefaultActor pid=1122112)\u001b[0m Accuracy: 0.6232980325285352\n",
      "\u001b[2m\u001b[36m(DefaultActor pid=1122112)\u001b[0m loss 1.1001 - accuracy 0.6233\n",
      "\u001b[2m\u001b[36m(DefaultActor pid=1122112)\u001b[0m client 4\n",
      "\u001b[2m\u001b[36m(DefaultActor pid=1122112)\u001b[0m client 3\n",
      "\u001b[2m\u001b[36m(DefaultActor pid=1122112)\u001b[0m model 2\n"
     ]
    },
    {
     "name": "stderr",
     "output_type": "stream",
     "text": [
      "DEBUG flwr 2024-03-25 20:36:26,388 | server.py:187 | evaluate_round 23 received 4 results and 0 failures\n"
     ]
    },
    {
     "name": "stdout",
     "output_type": "stream",
     "text": [
      "[2024-03-25 20:36:26,388][flwr][DEBUG] - evaluate_round 23 received 4 results and 0 failures\n"
     ]
    },
    {
     "name": "stderr",
     "output_type": "stream",
     "text": [
      "DEBUG flwr 2024-03-25 20:36:26,390 | server.py:222 | fit_round 24: strategy sampled 4 clients (out of 4)\n"
     ]
    },
    {
     "name": "stdout",
     "output_type": "stream",
     "text": [
      "weighted [(29, {'accuracy': 0.5494505484844824}), (51, {'accuracy': 0.7228464412256218}), (42, {'accuracy': 0.6232980325285352}), (39, {'accuracy': 0.6390243894126514})]\n",
      "[2024-03-25 20:36:26,390][flwr][DEBUG] - fit_round 24: strategy sampled 4 clients (out of 4)\n",
      "\u001b[2m\u001b[36m(DefaultActor pid=1122112)\u001b[0m *************Metrics******************\n",
      "\u001b[2m\u001b[36m(DefaultActor pid=1122112)\u001b[0m Melanoma: 0.4183673465118701, Melanocytic nevus: 0.9090909088154271, Basal cell carcinoma: 0.48888888780246914, Actinic keratosis: 0.18518518449931412, Benign keratosis: 0.24468085080353102, Dermatofibroma: 0.0, Vascular lesion: 0.39999999200000014, Squamous cell carcinoma: 0.0\n",
      "\u001b[2m\u001b[36m(DefaultActor pid=1122112)\u001b[0m Accuracy: 0.6390243894126514\n",
      "\u001b[2m\u001b[36m(DefaultActor pid=1122112)\u001b[0m loss 1.0646 - accuracy 0.6390\n",
      "\u001b[2m\u001b[36m(DefaultActor pid=1122112)\u001b[0m client 2\n",
      "\u001b[2m\u001b[36m(DefaultActor pid=1122112)\u001b[0m client 3\n",
      "\u001b[2m\u001b[36m(DefaultActor pid=1122112)\u001b[0m model 1\n",
      "\u001b[2m\u001b[36m(DefaultActor pid=1122112)\u001b[0m *************Metrics******************\n",
      "\u001b[2m\u001b[36m(DefaultActor pid=1122112)\u001b[0m Melanoma: 0.4725965857616715, Melanocytic nevus: 0.9282560706145625, Basal cell carcinoma: 0.22885572127917628, Actinic keratosis: 0.22560975595999405, Benign keratosis: 0.18485523381183627, Dermatofibroma: 0.0, Vascular lesion: 0.0, Squamous cell carcinoma: 0.0\n",
      "\u001b[2m\u001b[36m(DefaultActor pid=1122112)\u001b[0m Accuracy: 0.723123551332056\n",
      "\u001b[2m\u001b[36m(DefaultActor pid=1122112)\u001b[0m Epoch [1/1] - loss 0.7683 -accuracy 0.7231\n",
      "\u001b[2m\u001b[36m(DefaultActor pid=1122112)\u001b[0m client 1\n",
      "\u001b[2m\u001b[36m(DefaultActor pid=1122112)\u001b[0m client 2\n",
      "\u001b[2m\u001b[36m(DefaultActor pid=1122112)\u001b[0m client 3\n",
      "\u001b[2m\u001b[36m(DefaultActor pid=1122112)\u001b[0m model 1\n",
      "\u001b[2m\u001b[36m(DefaultActor pid=1122112)\u001b[0m *************Metrics******************\n",
      "\u001b[2m\u001b[36m(DefaultActor pid=1122112)\u001b[0m Melanoma: 0.3880813952924301, Melanocytic nevus: 0.8982683982295122, Basal cell carcinoma: 0.39556962012798436, Actinic keratosis: 0.19999999989473685, Benign keratosis: 0.3778452199730129, Dermatofibroma: 0.0, Vascular lesion: 0.08571428546938775, Squamous cell carcinoma: 0.020833333311631945\n",
      "\u001b[2m\u001b[36m(DefaultActor pid=1122112)\u001b[0m Accuracy: 0.6408826944221357\n",
      "\u001b[2m\u001b[36m(DefaultActor pid=1122112)\u001b[0m Epoch [1/1] - loss 0.9799 -accuracy 0.6409\n",
      "\u001b[2m\u001b[36m(DefaultActor pid=1122112)\u001b[0m client 1\n",
      "\u001b[2m\u001b[36m(DefaultActor pid=1122112)\u001b[0m client 2\n",
      "\u001b[2m\u001b[36m(DefaultActor pid=1122112)\u001b[0m client 3\n",
      "\u001b[2m\u001b[36m(DefaultActor pid=1122112)\u001b[0m model 1\n",
      "\u001b[2m\u001b[36m(DefaultActor pid=1122112)\u001b[0m *************Metrics******************\n",
      "\u001b[2m\u001b[36m(DefaultActor pid=1122112)\u001b[0m Melanoma: 0.2883435581937597, Melanocytic nevus: 0.871255060658198, Basal cell carcinoma: 0.6992248060931435, Actinic keratosis: 0.10062893075432143, Benign keratosis: 0.3151041665846083, Dermatofibroma: 0.0, Vascular lesion: 0.09999999983333333, Squamous cell carcinoma: 0.15593220333697216\n",
      "\u001b[2m\u001b[36m(DefaultActor pid=1122112)\u001b[0m Accuracy: 0.5691823897939166\n",
      "\u001b[2m\u001b[36m(DefaultActor pid=1122112)\u001b[0m Epoch [1/1] - loss 1.2365 -accuracy 0.5692\n",
      "\u001b[2m\u001b[36m(DefaultActor pid=1122112)\u001b[0m client 1\n",
      "\u001b[2m\u001b[36m(DefaultActor pid=1122112)\u001b[0m client 2\n",
      "\u001b[2m\u001b[36m(DefaultActor pid=1122112)\u001b[0m client 3\n",
      "\u001b[2m\u001b[36m(DefaultActor pid=1122112)\u001b[0m model 1\n"
     ]
    },
    {
     "name": "stderr",
     "output_type": "stream",
     "text": [
      "DEBUG flwr 2024-03-25 20:38:22,426 | server.py:236 | fit_round 24 received 4 results and 0 failures\n"
     ]
    },
    {
     "name": "stdout",
     "output_type": "stream",
     "text": [
      "\u001b[2m\u001b[36m(DefaultActor pid=1122112)\u001b[0m *************Metrics******************\n",
      "\u001b[2m\u001b[36m(DefaultActor pid=1122112)\u001b[0m Melanoma: 0.48843930631132576, Melanocytic nevus: 0.8112798264202127, Basal cell carcinoma: 0.7287553647443129, Actinic keratosis: 0.0, Benign keratosis: 0.12753623184709095, Dermatofibroma: 0.0, Vascular lesion: 0.10958904094576845, Squamous cell carcinoma: 0.0\n",
      "\u001b[2m\u001b[36m(DefaultActor pid=1122112)\u001b[0m Accuracy: 0.6259969820002593\n",
      "\u001b[2m\u001b[36m(DefaultActor pid=1122112)\u001b[0m Epoch [1/1] - loss 1.0187 -accuracy 0.6260\n",
      "\u001b[2m\u001b[36m(DefaultActor pid=1122112)\u001b[0m client 1\n",
      "[2024-03-25 20:38:22,426][flwr][DEBUG] - fit_round 24 received 4 results and 0 failures\n",
      "!!!!!!!!!!!!!!!!!!\n",
      "model 2\n"
     ]
    },
    {
     "name": "stderr",
     "output_type": "stream",
     "text": [
      "INFO flwr 2024-03-25 20:38:55,182 | server.py:125 | fit progress: (24, 3.614856243133545, {'accuracy': 0.6442953019116787}, 3987.364072997123)\n"
     ]
    },
    {
     "name": "stdout",
     "output_type": "stream",
     "text": [
      "*************Metrics******************\n",
      "Melanoma: 0.4464088397296786, Melanocytic nevus: 0.9099029125860233, Basal cell carcinoma: 0.5240963854632386, Actinic keratosis: 0.1560693640716362, Benign keratosis: 0.25904761899827666, Dermatofibroma: 0.0, Vascular lesion: 0.11764705859284891, Squamous cell carcinoma: 0.0\n",
      "Accuracy: 0.6442953019116787\n",
      "loss 1.0066 - accuracy 0.6443\n",
      "[2024-03-25 20:38:55,182][flwr][INFO] - fit progress: (24, 3.614856243133545, {'accuracy': 0.6442953019116787}, 3987.364072997123)\n"
     ]
    },
    {
     "name": "stderr",
     "output_type": "stream",
     "text": [
      "DEBUG flwr 2024-03-25 20:38:55,183 | server.py:173 | evaluate_round 24: strategy sampled 4 clients (out of 4)\n"
     ]
    },
    {
     "name": "stdout",
     "output_type": "stream",
     "text": [
      "[2024-03-25 20:38:55,183][flwr][DEBUG] - evaluate_round 24: strategy sampled 4 clients (out of 4)\n",
      "\u001b[2m\u001b[36m(DefaultActor pid=1122112)\u001b[0m client 4\n",
      "\u001b[2m\u001b[36m(DefaultActor pid=1122112)\u001b[0m client 3\n",
      "\u001b[2m\u001b[36m(DefaultActor pid=1122112)\u001b[0m model 2\n",
      "\u001b[2m\u001b[36m(DefaultActor pid=1122112)\u001b[0m *************Metrics******************\n",
      "\u001b[2m\u001b[36m(DefaultActor pid=1122112)\u001b[0m Melanoma: 0.4183673465118701, Melanocytic nevus: 0.9151515148741967, Basal cell carcinoma: 0.5111111099753086, Actinic keratosis: 0.18518518449931412, Benign keratosis: 0.24468085080353102, Dermatofibroma: 0.0, Vascular lesion: 0.39999999200000014, Squamous cell carcinoma: 0.0\n",
      "\u001b[2m\u001b[36m(DefaultActor pid=1122112)\u001b[0m Accuracy: 0.6439024381867937\n",
      "\u001b[2m\u001b[36m(DefaultActor pid=1122112)\u001b[0m loss 1.0666 - accuracy 0.6439\n",
      "\u001b[2m\u001b[36m(DefaultActor pid=1122112)\u001b[0m client 4\n",
      "\u001b[2m\u001b[36m(DefaultActor pid=1122112)\u001b[0m client 3\n",
      "\u001b[2m\u001b[36m(DefaultActor pid=1122112)\u001b[0m model 2\n",
      "\u001b[2m\u001b[36m(DefaultActor pid=1122112)\u001b[0m *************Metrics******************\n",
      "\u001b[2m\u001b[36m(DefaultActor pid=1122112)\u001b[0m Melanoma: 0.44594594564463114, Melanocytic nevus: 0.904942965435383, Basal cell carcinoma: 0.5421686743721875, Actinic keratosis: 0.2857142836734694, Benign keratosis: 0.28571428513119534, Dermatofibroma: 0.0, Vascular lesion: 0.0, Squamous cell carcinoma: 0.0\n",
      "\u001b[2m\u001b[36m(DefaultActor pid=1122112)\u001b[0m Accuracy: 0.6232980325285352\n",
      "\u001b[2m\u001b[36m(DefaultActor pid=1122112)\u001b[0m loss 1.0888 - accuracy 0.6233\n",
      "\u001b[2m\u001b[36m(DefaultActor pid=1122112)\u001b[0m client 4\n",
      "\u001b[2m\u001b[36m(DefaultActor pid=1122112)\u001b[0m client 3\n",
      "\u001b[2m\u001b[36m(DefaultActor pid=1122112)\u001b[0m model 2\n",
      "\u001b[2m\u001b[36m(DefaultActor pid=1122112)\u001b[0m *************Metrics******************\n",
      "\u001b[2m\u001b[36m(DefaultActor pid=1122112)\u001b[0m Melanoma: 0.48936170108646443, Melanocytic nevus: 0.9147727267529701, Basal cell carcinoma: 0.5326086950732515, Actinic keratosis: 0.1304347820415879, Benign keratosis: 0.2777777772633745, Dermatofibroma: 0.0, Vascular lesion: 0.11111110987654321, Squamous cell carcinoma: 0.0\n",
      "\u001b[2m\u001b[36m(DefaultActor pid=1122112)\u001b[0m Accuracy: 0.5538461528723583\n",
      "\u001b[2m\u001b[36m(DefaultActor pid=1122112)\u001b[0m loss 1.3634 - accuracy 0.5538\n",
      "\u001b[2m\u001b[36m(DefaultActor pid=1122112)\u001b[0m client 4\n",
      "\u001b[2m\u001b[36m(DefaultActor pid=1122112)\u001b[0m client 3\n",
      "\u001b[2m\u001b[36m(DefaultActor pid=1122112)\u001b[0m model 2\n"
     ]
    },
    {
     "name": "stderr",
     "output_type": "stream",
     "text": [
      "DEBUG flwr 2024-03-25 20:39:13,952 | server.py:187 | evaluate_round 24 received 4 results and 0 failures\n"
     ]
    },
    {
     "name": "stdout",
     "output_type": "stream",
     "text": [
      "[2024-03-25 20:39:13,952][flwr][DEBUG] - evaluate_round 24 received 4 results and 0 failures\n"
     ]
    },
    {
     "name": "stderr",
     "output_type": "stream",
     "text": [
      "DEBUG flwr 2024-03-25 20:39:13,954 | server.py:222 | fit_round 25: strategy sampled 4 clients (out of 4)\n"
     ]
    },
    {
     "name": "stdout",
     "output_type": "stream",
     "text": [
      "weighted [(29, {'accuracy': 0.5538461528723583}), (42, {'accuracy': 0.6232980325285352}), (51, {'accuracy': 0.7240948806750616}), (39, {'accuracy': 0.6439024381867937})]\n",
      "[2024-03-25 20:39:13,954][flwr][DEBUG] - fit_round 25: strategy sampled 4 clients (out of 4)\n",
      "\u001b[2m\u001b[36m(DefaultActor pid=1122112)\u001b[0m *************Metrics******************\n",
      "\u001b[2m\u001b[36m(DefaultActor pid=1122112)\u001b[0m Melanoma: 0.45283018839444644, Melanocytic nevus: 0.92277992260178, Basal cell carcinoma: 0.3448275850178359, Actinic keratosis: 0.1304347820415879, Benign keratosis: 0.2615384611360947, Dermatofibroma: 0.0, Vascular lesion: 0.0, Squamous cell carcinoma: 0.0\n",
      "\u001b[2m\u001b[36m(DefaultActor pid=1122112)\u001b[0m Accuracy: 0.7240948806750616\n",
      "\u001b[2m\u001b[36m(DefaultActor pid=1122112)\u001b[0m loss 0.8202 - accuracy 0.7241\n",
      "\u001b[2m\u001b[36m(DefaultActor pid=1122112)\u001b[0m client 2\n",
      "\u001b[2m\u001b[36m(DefaultActor pid=1122112)\u001b[0m client 3\n",
      "\u001b[2m\u001b[36m(DefaultActor pid=1122112)\u001b[0m model 1\n",
      "\u001b[2m\u001b[36m(DefaultActor pid=1122112)\u001b[0m *************Metrics******************\n",
      "\u001b[2m\u001b[36m(DefaultActor pid=1122112)\u001b[0m Melanoma: 0.3895348836643118, Melanocytic nevus: 0.9069264068871461, Basal cell carcinoma: 0.4430379745433425, Actinic keratosis: 0.21578947357063713, Benign keratosis: 0.380880121338258, Dermatofibroma: 0.0, Vascular lesion: 0.05714285697959184, Squamous cell carcinoma: 0.010416666655815972\n",
      "\u001b[2m\u001b[36m(DefaultActor pid=1122112)\u001b[0m Accuracy: 0.6499419278699297\n",
      "\u001b[2m\u001b[36m(DefaultActor pid=1122112)\u001b[0m Epoch [1/1] - loss 0.9654 -accuracy 0.6499\n",
      "\u001b[2m\u001b[36m(DefaultActor pid=1122112)\u001b[0m client 1\n",
      "\u001b[2m\u001b[36m(DefaultActor pid=1122112)\u001b[0m client 2\n",
      "\u001b[2m\u001b[36m(DefaultActor pid=1122112)\u001b[0m client 3\n",
      "\u001b[2m\u001b[36m(DefaultActor pid=1122112)\u001b[0m model 1\n",
      "\u001b[2m\u001b[36m(DefaultActor pid=1122112)\u001b[0m *************Metrics******************\n",
      "\u001b[2m\u001b[36m(DefaultActor pid=1122112)\u001b[0m Melanoma: 0.2822085888704882, Melanocytic nevus: 0.8769230768520712, Basal cell carcinoma: 0.6899224805131904, Actinic keratosis: 0.10062893075432143, Benign keratosis: 0.29166666659071183, Dermatofibroma: 0.0, Vascular lesion: 0.08333333319444444, Squamous cell carcinoma: 0.1288135592783683\n",
      "\u001b[2m\u001b[36m(DefaultActor pid=1122112)\u001b[0m Accuracy: 0.5632075470281241\n",
      "\u001b[2m\u001b[36m(DefaultActor pid=1122112)\u001b[0m Epoch [1/1] - loss 1.2399 -accuracy 0.5632\n",
      "\u001b[2m\u001b[36m(DefaultActor pid=1122112)\u001b[0m client 1\n",
      "\u001b[2m\u001b[36m(DefaultActor pid=1122112)\u001b[0m client 2\n",
      "\u001b[2m\u001b[36m(DefaultActor pid=1122112)\u001b[0m client 3\n",
      "\u001b[2m\u001b[36m(DefaultActor pid=1122112)\u001b[0m model 1\n",
      "\u001b[2m\u001b[36m(DefaultActor pid=1122112)\u001b[0m *************Metrics******************\n",
      "\u001b[2m\u001b[36m(DefaultActor pid=1122112)\u001b[0m Melanoma: 0.47708894874419694, Melanocytic nevus: 0.931291390702779, Basal cell carcinoma: 0.21393034815227346, Actinic keratosis: 0.17682926818486022, Benign keratosis: 0.1959910912703806, Dermatofibroma: 0.0, Vascular lesion: 0.0, Squamous cell carcinoma: 0.0\n",
      "\u001b[2m\u001b[36m(DefaultActor pid=1122112)\u001b[0m Accuracy: 0.724906400324492\n",
      "\u001b[2m\u001b[36m(DefaultActor pid=1122112)\u001b[0m Epoch [1/1] - loss 0.7578 -accuracy 0.7249\n",
      "\u001b[2m\u001b[36m(DefaultActor pid=1122112)\u001b[0m client 1\n",
      "\u001b[2m\u001b[36m(DefaultActor pid=1122112)\u001b[0m client 2\n",
      "\u001b[2m\u001b[36m(DefaultActor pid=1122112)\u001b[0m client 3\n",
      "\u001b[2m\u001b[36m(DefaultActor pid=1122112)\u001b[0m model 1\n"
     ]
    },
    {
     "name": "stderr",
     "output_type": "stream",
     "text": [
      "DEBUG flwr 2024-03-25 20:41:09,963 | server.py:236 | fit_round 25 received 4 results and 0 failures\n"
     ]
    },
    {
     "name": "stdout",
     "output_type": "stream",
     "text": [
      "\u001b[2m\u001b[36m(DefaultActor pid=1122112)\u001b[0m *************Metrics******************\n",
      "\u001b[2m\u001b[36m(DefaultActor pid=1122112)\u001b[0m Melanoma: 0.4932562619948694, Melanocytic nevus: 0.8063991322773103, Basal cell carcinoma: 0.7519313304075597, Actinic keratosis: 0.0, Benign keratosis: 0.13043478257088847, Dermatofibroma: 0.0, Vascular lesion: 0.13698630118221056, Squamous cell carcinoma: 0.0\n",
      "\u001b[2m\u001b[36m(DefaultActor pid=1122112)\u001b[0m Accuracy: 0.6316016381751928\n",
      "\u001b[2m\u001b[36m(DefaultActor pid=1122112)\u001b[0m Epoch [1/1] - loss 1.0071 -accuracy 0.6316\n",
      "\u001b[2m\u001b[36m(DefaultActor pid=1122112)\u001b[0m client 1\n",
      "[2024-03-25 20:41:09,963][flwr][DEBUG] - fit_round 25 received 4 results and 0 failures\n",
      "!!!!!!!!!!!!!!!!!!\n",
      "model 2\n"
     ]
    },
    {
     "name": "stderr",
     "output_type": "stream",
     "text": [
      "INFO flwr 2024-03-25 20:41:42,562 | server.py:125 | fit progress: (25, 3.6215126514434814, {'accuracy': 0.6496249505488157}, 4154.744698859053)\n"
     ]
    },
    {
     "name": "stdout",
     "output_type": "stream",
     "text": [
      "*************Metrics******************\n",
      "Melanoma: 0.45303867398308967, Melanocytic nevus: 0.9168932038478877, Basal cell carcinoma: 0.5512048191940957, Actinic keratosis: 0.13872832361923218, Benign keratosis: 0.23428571424108846, Dermatofibroma: 0.0, Vascular lesion: 0.13725490169165705, Squamous cell carcinoma: 0.0\n",
      "Accuracy: 0.6496249505488157\n",
      "loss 1.0031 - accuracy 0.6496\n",
      "[2024-03-25 20:41:42,562][flwr][INFO] - fit progress: (25, 3.6215126514434814, {'accuracy': 0.6496249505488157}, 4154.744698859053)\n"
     ]
    },
    {
     "name": "stderr",
     "output_type": "stream",
     "text": [
      "DEBUG flwr 2024-03-25 20:41:42,564 | server.py:173 | evaluate_round 25: strategy sampled 4 clients (out of 4)\n"
     ]
    },
    {
     "name": "stdout",
     "output_type": "stream",
     "text": [
      "[2024-03-25 20:41:42,564][flwr][DEBUG] - evaluate_round 25: strategy sampled 4 clients (out of 4)\n",
      "\u001b[2m\u001b[36m(DefaultActor pid=1122112)\u001b[0m client 4\n",
      "\u001b[2m\u001b[36m(DefaultActor pid=1122112)\u001b[0m client 3\n",
      "\u001b[2m\u001b[36m(DefaultActor pid=1122112)\u001b[0m model 2\n",
      "\u001b[2m\u001b[36m(DefaultActor pid=1122112)\u001b[0m *************Metrics******************\n",
      "\u001b[2m\u001b[36m(DefaultActor pid=1122112)\u001b[0m Melanoma: 0.44680850968764146, Melanocytic nevus: 0.9034090903957903, Basal cell carcinoma: 0.5652173906899811, Actinic keratosis: 0.1304347820415879, Benign keratosis: 0.2222222218106996, Dermatofibroma: 0.0, Vascular lesion: 0.11111110987654321, Squamous cell carcinoma: 0.0\n",
      "\u001b[2m\u001b[36m(DefaultActor pid=1122112)\u001b[0m Accuracy: 0.5450549440966066\n",
      "\u001b[2m\u001b[36m(DefaultActor pid=1122112)\u001b[0m loss 1.3690 - accuracy 0.5451\n",
      "\u001b[2m\u001b[36m(DefaultActor pid=1122112)\u001b[0m client 4\n",
      "\u001b[2m\u001b[36m(DefaultActor pid=1122112)\u001b[0m client 3\n",
      "\u001b[2m\u001b[36m(DefaultActor pid=1122112)\u001b[0m model 2\n",
      "\u001b[2m\u001b[36m(DefaultActor pid=1122112)\u001b[0m *************Metrics******************\n",
      "\u001b[2m\u001b[36m(DefaultActor pid=1122112)\u001b[0m Melanoma: 0.45283018839444644, Melanocytic nevus: 0.92277992260178, Basal cell carcinoma: 0.3448275850178359, Actinic keratosis: 0.2173913034026465, Benign keratosis: 0.2307692304142012, Dermatofibroma: 0.0, Vascular lesion: 0.0, Squamous cell carcinoma: 0.0\n",
      "\u001b[2m\u001b[36m(DefaultActor pid=1122112)\u001b[0m Accuracy: 0.7240948806750616\n",
      "\u001b[2m\u001b[36m(DefaultActor pid=1122112)\u001b[0m loss 0.8138 - accuracy 0.7241\n",
      "\u001b[2m\u001b[36m(DefaultActor pid=1122112)\u001b[0m client 4\n",
      "\u001b[2m\u001b[36m(DefaultActor pid=1122112)\u001b[0m client 3\n",
      "\u001b[2m\u001b[36m(DefaultActor pid=1122112)\u001b[0m model 2\n",
      "\u001b[2m\u001b[36m(DefaultActor pid=1122112)\u001b[0m *************Metrics******************\n",
      "\u001b[2m\u001b[36m(DefaultActor pid=1122112)\u001b[0m Melanoma: 0.44594594564463114, Melanocytic nevus: 0.9125475281701342, Basal cell carcinoma: 0.5361445779902744, Actinic keratosis: 0.21428571275510203, Benign keratosis: 0.2653061219075385, Dermatofibroma: 0.0, Vascular lesion: 0.0, Squamous cell carcinoma: 0.0\n",
      "\u001b[2m\u001b[36m(DefaultActor pid=1122112)\u001b[0m Accuracy: 0.6217851732262815\n",
      "\u001b[2m\u001b[36m(DefaultActor pid=1122112)\u001b[0m loss 1.0822 - accuracy 0.6218\n",
      "\u001b[2m\u001b[36m(DefaultActor pid=1122112)\u001b[0m client 4\n",
      "\u001b[2m\u001b[36m(DefaultActor pid=1122112)\u001b[0m client 3\n",
      "\u001b[2m\u001b[36m(DefaultActor pid=1122112)\u001b[0m model 2\n"
     ]
    },
    {
     "name": "stderr",
     "output_type": "stream",
     "text": [
      "DEBUG flwr 2024-03-25 20:42:00,931 | server.py:187 | evaluate_round 25 received 4 results and 0 failures\n"
     ]
    },
    {
     "name": "stdout",
     "output_type": "stream",
     "text": [
      "[2024-03-25 20:42:00,931][flwr][DEBUG] - evaluate_round 25 received 4 results and 0 failures\n"
     ]
    },
    {
     "name": "stderr",
     "output_type": "stream",
     "text": [
      "DEBUG flwr 2024-03-25 20:42:00,932 | server.py:222 | fit_round 26: strategy sampled 4 clients (out of 4)\n"
     ]
    },
    {
     "name": "stdout",
     "output_type": "stream",
     "text": [
      "weighted [(51, {'accuracy': 0.7240948806750616}), (29, {'accuracy': 0.5450549440966066}), (42, {'accuracy': 0.6217851732262815}), (39, {'accuracy': 0.6406504056706989})]\n",
      "[2024-03-25 20:42:00,932][flwr][DEBUG] - fit_round 26: strategy sampled 4 clients (out of 4)\n",
      "\u001b[2m\u001b[36m(DefaultActor pid=1122112)\u001b[0m *************Metrics******************\n",
      "\u001b[2m\u001b[36m(DefaultActor pid=1122112)\u001b[0m Melanoma: 0.4183673465118701, Melanocytic nevus: 0.9181818179035813, Basal cell carcinoma: 0.5111111099753086, Actinic keratosis: 0.18518518449931412, Benign keratosis: 0.21276595722046177, Dermatofibroma: 0.0, Vascular lesion: 0.39999999200000014, Squamous cell carcinoma: 0.0\n",
      "\u001b[2m\u001b[36m(DefaultActor pid=1122112)\u001b[0m Accuracy: 0.6406504056706989\n",
      "\u001b[2m\u001b[36m(DefaultActor pid=1122112)\u001b[0m loss 1.0687 - accuracy 0.6407\n",
      "\u001b[2m\u001b[36m(DefaultActor pid=1122112)\u001b[0m client 2\n",
      "\u001b[2m\u001b[36m(DefaultActor pid=1122112)\u001b[0m client 3\n",
      "\u001b[2m\u001b[36m(DefaultActor pid=1122112)\u001b[0m model 1\n",
      "\u001b[2m\u001b[36m(DefaultActor pid=1122112)\u001b[0m *************Metrics******************\n",
      "\u001b[2m\u001b[36m(DefaultActor pid=1122112)\u001b[0m Melanoma: 0.4788858939372071, Melanocytic nevus: 0.9348785871706712, Basal cell carcinoma: 0.21393034815227346, Actinic keratosis: 0.18902439012864367, Benign keratosis: 0.1737193763532919, Dermatofibroma: 0.0, Vascular lesion: 0.0, Squamous cell carcinoma: 0.0\n",
      "\u001b[2m\u001b[36m(DefaultActor pid=1122112)\u001b[0m Accuracy: 0.7261543946191973\n",
      "\u001b[2m\u001b[36m(DefaultActor pid=1122112)\u001b[0m Epoch [1/1] - loss 0.7596 -accuracy 0.7262\n",
      "\u001b[2m\u001b[36m(DefaultActor pid=1122112)\u001b[0m client 1\n",
      "\u001b[2m\u001b[36m(DefaultActor pid=1122112)\u001b[0m client 2\n",
      "\u001b[2m\u001b[36m(DefaultActor pid=1122112)\u001b[0m client 3\n",
      "\u001b[2m\u001b[36m(DefaultActor pid=1122112)\u001b[0m model 1\n",
      "\u001b[2m\u001b[36m(DefaultActor pid=1122112)\u001b[0m *************Metrics******************\n",
      "\u001b[2m\u001b[36m(DefaultActor pid=1122112)\u001b[0m Melanoma: 0.3895348836643118, Melanocytic nevus: 0.9017316016925658, Basal cell carcinoma: 0.4493670884653902, Actinic keratosis: 0.20526315778670362, Benign keratosis: 0.3702579665599002, Dermatofibroma: 0.0, Vascular lesion: 0.11428571395918367, Squamous cell carcinoma: 0.020833333311631945\n",
      "\u001b[2m\u001b[36m(DefaultActor pid=1122112)\u001b[0m Accuracy: 0.6462253192759629\n",
      "\u001b[2m\u001b[36m(DefaultActor pid=1122112)\u001b[0m Epoch [1/1] - loss 0.9711 -accuracy 0.6462\n",
      "\u001b[2m\u001b[36m(DefaultActor pid=1122112)\u001b[0m client 1\n",
      "\u001b[2m\u001b[36m(DefaultActor pid=1122112)\u001b[0m client 2\n",
      "\u001b[2m\u001b[36m(DefaultActor pid=1122112)\u001b[0m client 3\n",
      "\u001b[2m\u001b[36m(DefaultActor pid=1122112)\u001b[0m model 1\n",
      "\u001b[2m\u001b[36m(DefaultActor pid=1122112)\u001b[0m *************Metrics******************\n",
      "\u001b[2m\u001b[36m(DefaultActor pid=1122112)\u001b[0m Melanoma: 0.49036608858474323, Melanocytic nevus: 0.8259219088489197, Basal cell carcinoma: 0.7596566522953085, Actinic keratosis: 0.010638297861023088, Benign keratosis: 0.11014492750430582, Dermatofibroma: 0.0, Vascular lesion: 0.15068493130043162, Squamous cell carcinoma: 0.0\n",
      "\u001b[2m\u001b[36m(DefaultActor pid=1122112)\u001b[0m Accuracy: 0.6395774950395212\n",
      "\u001b[2m\u001b[36m(DefaultActor pid=1122112)\u001b[0m Epoch [1/1] - loss 0.9987 -accuracy 0.6396\n",
      "\u001b[2m\u001b[36m(DefaultActor pid=1122112)\u001b[0m client 1\n",
      "\u001b[2m\u001b[36m(DefaultActor pid=1122112)\u001b[0m client 2\n",
      "\u001b[2m\u001b[36m(DefaultActor pid=1122112)\u001b[0m client 3\n",
      "\u001b[2m\u001b[36m(DefaultActor pid=1122112)\u001b[0m model 1\n"
     ]
    },
    {
     "name": "stderr",
     "output_type": "stream",
     "text": [
      "DEBUG flwr 2024-03-25 20:43:56,728 | server.py:236 | fit_round 26 received 4 results and 0 failures\n"
     ]
    },
    {
     "name": "stdout",
     "output_type": "stream",
     "text": [
      "\u001b[2m\u001b[36m(DefaultActor pid=1122112)\u001b[0m *************Metrics******************\n",
      "\u001b[2m\u001b[36m(DefaultActor pid=1122112)\u001b[0m Melanoma: 0.30981595082520985, Melanocytic nevus: 0.868825910860824, Basal cell carcinoma: 0.6883720929165315, Actinic keratosis: 0.12578616344290178, Benign keratosis: 0.2864583332587348, Dermatofibroma: 0.0, Vascular lesion: 0.06666666655555556, Squamous cell carcinoma: 0.14237288130767023\n",
      "\u001b[2m\u001b[36m(DefaultActor pid=1122112)\u001b[0m Accuracy: 0.5641509432543018\n",
      "\u001b[2m\u001b[36m(DefaultActor pid=1122112)\u001b[0m Epoch [1/1] - loss 1.2399 -accuracy 0.5642\n",
      "\u001b[2m\u001b[36m(DefaultActor pid=1122112)\u001b[0m client 1\n",
      "[2024-03-25 20:43:56,728][flwr][DEBUG] - fit_round 26 received 4 results and 0 failures\n",
      "!!!!!!!!!!!!!!!!!!\n",
      "model 2\n"
     ]
    },
    {
     "name": "stderr",
     "output_type": "stream",
     "text": [
      "INFO flwr 2024-03-25 20:44:29,297 | server.py:125 | fit progress: (26, 3.5670700073242188, {'accuracy': 0.6433083299418385}, 4321.478916156106)\n"
     ]
    },
    {
     "name": "stdout",
     "output_type": "stream",
     "text": [
      "*************Metrics******************\n",
      "Melanoma: 0.41215469608705474, Melanocytic nevus: 0.9273786407406843, Basal cell carcinoma: 0.49698795173238136, Actinic keratosis: 0.16184971088910421, Benign keratosis: 0.2533333332850794, Dermatofibroma: 0.0, Vascular lesion: 0.13725490169165705, Squamous cell carcinoma: 0.0\n",
      "Accuracy: 0.6433083299418385\n",
      "loss 1.0064 - accuracy 0.6433\n",
      "[2024-03-25 20:44:29,297][flwr][INFO] - fit progress: (26, 3.5670700073242188, {'accuracy': 0.6433083299418385}, 4321.478916156106)\n"
     ]
    },
    {
     "name": "stderr",
     "output_type": "stream",
     "text": [
      "DEBUG flwr 2024-03-25 20:44:29,298 | server.py:173 | evaluate_round 26: strategy sampled 4 clients (out of 4)\n"
     ]
    },
    {
     "name": "stdout",
     "output_type": "stream",
     "text": [
      "[2024-03-25 20:44:29,298][flwr][DEBUG] - evaluate_round 26: strategy sampled 4 clients (out of 4)\n",
      "\u001b[2m\u001b[36m(DefaultActor pid=1122112)\u001b[0m client 4\n",
      "\u001b[2m\u001b[36m(DefaultActor pid=1122112)\u001b[0m client 3\n",
      "\u001b[2m\u001b[36m(DefaultActor pid=1122112)\u001b[0m model 2\n",
      "\u001b[2m\u001b[36m(DefaultActor pid=1122112)\u001b[0m *************Metrics******************\n",
      "\u001b[2m\u001b[36m(DefaultActor pid=1122112)\u001b[0m Melanoma: 0.421383647533721, Melanocytic nevus: 0.9362934361126847, Basal cell carcinoma: 0.31034482651605233, Actinic keratosis: 0.0869565213610586, Benign keratosis: 0.3230769225798817, Dermatofibroma: 0.0, Vascular lesion: 0.0, Squamous cell carcinoma: 0.0\n",
      "\u001b[2m\u001b[36m(DefaultActor pid=1122112)\u001b[0m Accuracy: 0.7290886384728206\n",
      "\u001b[2m\u001b[36m(DefaultActor pid=1122112)\u001b[0m loss 0.8113 - accuracy 0.7291\n",
      "\u001b[2m\u001b[36m(DefaultActor pid=1122112)\u001b[0m client 4\n",
      "\u001b[2m\u001b[36m(DefaultActor pid=1122112)\u001b[0m client 3\n",
      "\u001b[2m\u001b[36m(DefaultActor pid=1122112)\u001b[0m model 2\n",
      "\u001b[2m\u001b[36m(DefaultActor pid=1122112)\u001b[0m *************Metrics******************\n",
      "\u001b[2m\u001b[36m(DefaultActor pid=1122112)\u001b[0m Melanoma: 0.48936170108646443, Melanocytic nevus: 0.9318181812887397, Basal cell carcinoma: 0.5217391298676749, Actinic keratosis: 0.1304347820415879, Benign keratosis: 0.24074074029492454, Dermatofibroma: 0.0, Vascular lesion: 0.22222221975308643, Squamous cell carcinoma: 0.0\n",
      "\u001b[2m\u001b[36m(DefaultActor pid=1122112)\u001b[0m Accuracy: 0.5560439550662962\n",
      "\u001b[2m\u001b[36m(DefaultActor pid=1122112)\u001b[0m loss 1.3708 - accuracy 0.5560\n",
      "\u001b[2m\u001b[36m(DefaultActor pid=1122112)\u001b[0m client 4\n",
      "\u001b[2m\u001b[36m(DefaultActor pid=1122112)\u001b[0m client 3\n",
      "\u001b[2m\u001b[36m(DefaultActor pid=1122112)\u001b[0m model 2\n",
      "\u001b[2m\u001b[36m(DefaultActor pid=1122112)\u001b[0m *************Metrics******************\n",
      "\u001b[2m\u001b[36m(DefaultActor pid=1122112)\u001b[0m Melanoma: 0.3979591832673886, Melanocytic nevus: 0.9272727269917357, Basal cell carcinoma: 0.48888888780246914, Actinic keratosis: 0.18518518449931412, Benign keratosis: 0.23404255294250795, Dermatofibroma: 0.0, Vascular lesion: 0.39999999200000014, Squamous cell carcinoma: 0.0\n",
      "\u001b[2m\u001b[36m(DefaultActor pid=1122112)\u001b[0m Accuracy: 0.6439024381867937\n",
      "\u001b[2m\u001b[36m(DefaultActor pid=1122112)\u001b[0m loss 1.0610 - accuracy 0.6439\n",
      "\u001b[2m\u001b[36m(DefaultActor pid=1122112)\u001b[0m client 4\n",
      "\u001b[2m\u001b[36m(DefaultActor pid=1122112)\u001b[0m client 3\n",
      "\u001b[2m\u001b[36m(DefaultActor pid=1122112)\u001b[0m model 2\n"
     ]
    },
    {
     "name": "stderr",
     "output_type": "stream",
     "text": [
      "DEBUG flwr 2024-03-25 20:44:48,009 | server.py:187 | evaluate_round 26 received 4 results and 0 failures\n"
     ]
    },
    {
     "name": "stdout",
     "output_type": "stream",
     "text": [
      "[2024-03-25 20:44:48,009][flwr][DEBUG] - evaluate_round 26 received 4 results and 0 failures\n"
     ]
    },
    {
     "name": "stderr",
     "output_type": "stream",
     "text": [
      "DEBUG flwr 2024-03-25 20:44:48,011 | server.py:222 | fit_round 27: strategy sampled 4 clients (out of 4)\n"
     ]
    },
    {
     "name": "stdout",
     "output_type": "stream",
     "text": [
      "weighted [(51, {'accuracy': 0.7290886384728206}), (29, {'accuracy': 0.5560439550662962}), (42, {'accuracy': 0.6217851732262815}), (39, {'accuracy': 0.6439024381867937})]\n",
      "[2024-03-25 20:44:48,011][flwr][DEBUG] - fit_round 27: strategy sampled 4 clients (out of 4)\n",
      "\u001b[2m\u001b[36m(DefaultActor pid=1122112)\u001b[0m *************Metrics******************\n",
      "\u001b[2m\u001b[36m(DefaultActor pid=1122112)\u001b[0m Melanoma: 0.44594594564463114, Melanocytic nevus: 0.9201520909048853, Basal cell carcinoma: 0.524096385226448, Actinic keratosis: 0.21428571275510203, Benign keratosis: 0.2653061219075385, Dermatofibroma: 0.0, Vascular lesion: 0.0, Squamous cell carcinoma: 0.0\n",
      "\u001b[2m\u001b[36m(DefaultActor pid=1122112)\u001b[0m Accuracy: 0.6217851732262815\n",
      "\u001b[2m\u001b[36m(DefaultActor pid=1122112)\u001b[0m loss 1.0991 - accuracy 0.6218\n",
      "\u001b[2m\u001b[36m(DefaultActor pid=1122112)\u001b[0m client 2\n",
      "\u001b[2m\u001b[36m(DefaultActor pid=1122112)\u001b[0m client 3\n",
      "\u001b[2m\u001b[36m(DefaultActor pid=1122112)\u001b[0m model 1\n",
      "\u001b[2m\u001b[36m(DefaultActor pid=1122112)\u001b[0m *************Metrics******************\n",
      "\u001b[2m\u001b[36m(DefaultActor pid=1122112)\u001b[0m Melanoma: 0.4699011679721563, Melanocytic nevus: 0.9279801324247247, Basal cell carcinoma: 0.2388059700304448, Actinic keratosis: 0.2317073169318858, Benign keratosis: 0.18040089082841854, Dermatofibroma: 0.0, Vascular lesion: 0.11111110987654321, Squamous cell carcinoma: 0.0\n",
      "\u001b[2m\u001b[36m(DefaultActor pid=1122112)\u001b[0m Accuracy: 0.7227669815335688\n",
      "\u001b[2m\u001b[36m(DefaultActor pid=1122112)\u001b[0m Epoch [1/1] - loss 0.7631 -accuracy 0.7228\n",
      "\u001b[2m\u001b[36m(DefaultActor pid=1122112)\u001b[0m client 1\n",
      "\u001b[2m\u001b[36m(DefaultActor pid=1122112)\u001b[0m client 2\n",
      "\u001b[2m\u001b[36m(DefaultActor pid=1122112)\u001b[0m client 3\n",
      "\u001b[2m\u001b[36m(DefaultActor pid=1122112)\u001b[0m model 1\n",
      "\u001b[2m\u001b[36m(DefaultActor pid=1122112)\u001b[0m *************Metrics******************\n",
      "\u001b[2m\u001b[36m(DefaultActor pid=1122112)\u001b[0m Melanoma: 0.29447852751703113, Melanocytic nevus: 0.874493927054697, Basal cell carcinoma: 0.6806201549332372, Actinic keratosis: 0.1194968552707567, Benign keratosis: 0.29947916658867735, Dermatofibroma: 0.0, Vascular lesion: 0.09999999983333333, Squamous cell carcinoma: 0.1491525423223212\n",
      "\u001b[2m\u001b[36m(DefaultActor pid=1122112)\u001b[0m Accuracy: 0.5657232702979315\n",
      "\u001b[2m\u001b[36m(DefaultActor pid=1122112)\u001b[0m Epoch [1/1] - loss 1.2459 -accuracy 0.5657\n",
      "\u001b[2m\u001b[36m(DefaultActor pid=1122112)\u001b[0m client 1\n",
      "\u001b[2m\u001b[36m(DefaultActor pid=1122112)\u001b[0m client 2\n",
      "\u001b[2m\u001b[36m(DefaultActor pid=1122112)\u001b[0m client 3\n",
      "\u001b[2m\u001b[36m(DefaultActor pid=1122112)\u001b[0m model 1\n",
      "\u001b[2m\u001b[36m(DefaultActor pid=1122112)\u001b[0m *************Metrics******************\n",
      "\u001b[2m\u001b[36m(DefaultActor pid=1122112)\u001b[0m Melanoma: 0.39534883715183883, Melanocytic nevus: 0.8978354977966305, Basal cell carcinoma: 0.40189873405003207, Actinic keratosis: 0.2315789472465374, Benign keratosis: 0.3702579665599002, Dermatofibroma: 0.0, Vascular lesion: 0.08571428546938775, Squamous cell carcinoma: 0.020833333311631945\n",
      "\u001b[2m\u001b[36m(DefaultActor pid=1122112)\u001b[0m Accuracy: 0.6425087106819962\n",
      "\u001b[2m\u001b[36m(DefaultActor pid=1122112)\u001b[0m Epoch [1/1] - loss 0.9652 -accuracy 0.6425\n",
      "\u001b[2m\u001b[36m(DefaultActor pid=1122112)\u001b[0m client 1\n",
      "\u001b[2m\u001b[36m(DefaultActor pid=1122112)\u001b[0m client 2\n",
      "\u001b[2m\u001b[36m(DefaultActor pid=1122112)\u001b[0m client 3\n",
      "\u001b[2m\u001b[36m(DefaultActor pid=1122112)\u001b[0m model 1\n"
     ]
    },
    {
     "name": "stderr",
     "output_type": "stream",
     "text": [
      "DEBUG flwr 2024-03-25 20:46:43,279 | server.py:236 | fit_round 27 received 4 results and 0 failures\n"
     ]
    },
    {
     "name": "stdout",
     "output_type": "stream",
     "text": [
      "\u001b[2m\u001b[36m(DefaultActor pid=1122112)\u001b[0m *************Metrics******************\n",
      "\u001b[2m\u001b[36m(DefaultActor pid=1122112)\u001b[0m Melanoma: 0.4922928708581607, Melanocytic nevus: 0.805856832928099, Basal cell carcinoma: 0.7459227467170882, Actinic keratosis: 0.010638297861023088, Benign keratosis: 0.12463768112329345, Dermatofibroma: 0.0, Vascular lesion: 0.15068493130043162, Squamous cell carcinoma: 0.0\n",
      "\u001b[2m\u001b[36m(DefaultActor pid=1122112)\u001b[0m Accuracy: 0.6296615648838697\n",
      "\u001b[2m\u001b[36m(DefaultActor pid=1122112)\u001b[0m Epoch [1/1] - loss 1.0099 -accuracy 0.6297\n",
      "\u001b[2m\u001b[36m(DefaultActor pid=1122112)\u001b[0m client 1\n",
      "[2024-03-25 20:46:43,279][flwr][DEBUG] - fit_round 27 received 4 results and 0 failures\n",
      "!!!!!!!!!!!!!!!!!!\n",
      "model 2\n"
     ]
    },
    {
     "name": "stderr",
     "output_type": "stream",
     "text": [
      "INFO flwr 2024-03-25 20:47:16,229 | server.py:125 | fit progress: (27, 3.558999538421631, {'accuracy': 0.6474536122151674}, 4488.4114426141605)\n"
     ]
    },
    {
     "name": "stdout",
     "output_type": "stream",
     "text": [
      "*************Metrics******************\n",
      "Melanoma: 0.4165745855893288, Melanocytic nevus: 0.9258252426824922, Basal cell carcinoma: 0.5346385541363496, Actinic keratosis: 0.14450867043670018, Benign keratosis: 0.2514285713806803, Dermatofibroma: 0.0, Vascular lesion: 0.13725490169165705, Squamous cell carcinoma: 0.0\n",
      "Accuracy: 0.6474536122151674\n",
      "loss 1.0013 - accuracy 0.6475\n",
      "[2024-03-25 20:47:16,229][flwr][INFO] - fit progress: (27, 3.558999538421631, {'accuracy': 0.6474536122151674}, 4488.4114426141605)\n"
     ]
    },
    {
     "name": "stderr",
     "output_type": "stream",
     "text": [
      "DEBUG flwr 2024-03-25 20:47:16,231 | server.py:173 | evaluate_round 27: strategy sampled 4 clients (out of 4)\n"
     ]
    },
    {
     "name": "stdout",
     "output_type": "stream",
     "text": [
      "[2024-03-25 20:47:16,231][flwr][DEBUG] - evaluate_round 27: strategy sampled 4 clients (out of 4)\n",
      "\u001b[2m\u001b[36m(DefaultActor pid=1122112)\u001b[0m client 4\n",
      "\u001b[2m\u001b[36m(DefaultActor pid=1122112)\u001b[0m client 3\n",
      "\u001b[2m\u001b[36m(DefaultActor pid=1122112)\u001b[0m model 2\n",
      "\u001b[2m\u001b[36m(DefaultActor pid=1122112)\u001b[0m *************Metrics******************\n",
      "\u001b[2m\u001b[36m(DefaultActor pid=1122112)\u001b[0m Melanoma: 0.4025157230172857, Melanocytic nevus: 0.9285714283921678, Basal cell carcinoma: 0.31034482651605233, Actinic keratosis: 0.0869565213610586, Benign keratosis: 0.33846153794082845, Dermatofibroma: 0.0, Vascular lesion: 0.0, Squamous cell carcinoma: 0.0\n",
      "\u001b[2m\u001b[36m(DefaultActor pid=1122112)\u001b[0m Accuracy: 0.721598001776182\n",
      "\u001b[2m\u001b[36m(DefaultActor pid=1122112)\u001b[0m loss 0.8130 - accuracy 0.7216\n",
      "\u001b[2m\u001b[36m(DefaultActor pid=1122112)\u001b[0m client 4\n",
      "\u001b[2m\u001b[36m(DefaultActor pid=1122112)\u001b[0m client 3\n",
      "\u001b[2m\u001b[36m(DefaultActor pid=1122112)\u001b[0m model 2\n",
      "\u001b[2m\u001b[36m(DefaultActor pid=1122112)\u001b[0m *************Metrics******************\n",
      "\u001b[2m\u001b[36m(DefaultActor pid=1122112)\u001b[0m Melanoma: 0.40816326488962934, Melanocytic nevus: 0.9242424239623509, Basal cell carcinoma: 0.5333333321481482, Actinic keratosis: 0.18518518449931412, Benign keratosis: 0.24468085080353102, Dermatofibroma: 0.0, Vascular lesion: 0.39999999200000014, Squamous cell carcinoma: 0.0\n",
      "\u001b[2m\u001b[36m(DefaultActor pid=1122112)\u001b[0m Accuracy: 0.6487804869609362\n",
      "\u001b[2m\u001b[36m(DefaultActor pid=1122112)\u001b[0m loss 1.0638 - accuracy 0.6488\n",
      "\u001b[2m\u001b[36m(DefaultActor pid=1122112)\u001b[0m client 4\n",
      "\u001b[2m\u001b[36m(DefaultActor pid=1122112)\u001b[0m client 3\n",
      "\u001b[2m\u001b[36m(DefaultActor pid=1122112)\u001b[0m model 2\n",
      "\u001b[2m\u001b[36m(DefaultActor pid=1122112)\u001b[0m *************Metrics******************\n",
      "\u001b[2m\u001b[36m(DefaultActor pid=1122112)\u001b[0m Melanoma: 0.46808510538705295, Melanocytic nevus: 0.9261363631101498, Basal cell carcinoma: 0.5543478254844045, Actinic keratosis: 0.1304347820415879, Benign keratosis: 0.2037037033264746, Dermatofibroma: 0.0, Vascular lesion: 0.11111110987654321, Squamous cell carcinoma: 0.0\n",
      "\u001b[2m\u001b[36m(DefaultActor pid=1122112)\u001b[0m Accuracy: 0.5516483506784203\n",
      "\u001b[2m\u001b[36m(DefaultActor pid=1122112)\u001b[0m loss 1.3607 - accuracy 0.5516\n",
      "\u001b[2m\u001b[36m(DefaultActor pid=1122112)\u001b[0m client 4\n",
      "\u001b[2m\u001b[36m(DefaultActor pid=1122112)\u001b[0m client 3\n",
      "\u001b[2m\u001b[36m(DefaultActor pid=1122112)\u001b[0m model 2\n"
     ]
    },
    {
     "name": "stderr",
     "output_type": "stream",
     "text": [
      "DEBUG flwr 2024-03-25 20:47:34,597 | server.py:187 | evaluate_round 27 received 4 results and 0 failures\n"
     ]
    },
    {
     "name": "stdout",
     "output_type": "stream",
     "text": [
      "[2024-03-25 20:47:34,597][flwr][DEBUG] - evaluate_round 27 received 4 results and 0 failures\n"
     ]
    },
    {
     "name": "stderr",
     "output_type": "stream",
     "text": [
      "DEBUG flwr 2024-03-25 20:47:34,599 | server.py:222 | fit_round 28: strategy sampled 4 clients (out of 4)\n"
     ]
    },
    {
     "name": "stdout",
     "output_type": "stream",
     "text": [
      "weighted [(42, {'accuracy': 0.6202723139240277}), (39, {'accuracy': 0.6487804869609362}), (51, {'accuracy': 0.721598001776182}), (29, {'accuracy': 0.5516483506784203})]\n",
      "[2024-03-25 20:47:34,599][flwr][DEBUG] - fit_round 28: strategy sampled 4 clients (out of 4)\n",
      "\u001b[2m\u001b[36m(DefaultActor pid=1122112)\u001b[0m *************Metrics******************\n",
      "\u001b[2m\u001b[36m(DefaultActor pid=1122112)\u001b[0m Melanoma: 0.425675675388057, Melanocytic nevus: 0.9201520909048853, Basal cell carcinoma: 0.5361445779902744, Actinic keratosis: 0.21428571275510203, Benign keratosis: 0.2653061219075385, Dermatofibroma: 0.0, Vascular lesion: 0.0, Squamous cell carcinoma: 0.0\n",
      "\u001b[2m\u001b[36m(DefaultActor pid=1122112)\u001b[0m Accuracy: 0.6202723139240277\n",
      "\u001b[2m\u001b[36m(DefaultActor pid=1122112)\u001b[0m loss 1.0896 - accuracy 0.6203\n",
      "\u001b[2m\u001b[36m(DefaultActor pid=1122112)\u001b[0m client 2\n",
      "\u001b[2m\u001b[36m(DefaultActor pid=1122112)\u001b[0m client 3\n",
      "\u001b[2m\u001b[36m(DefaultActor pid=1122112)\u001b[0m model 1\n",
      "\u001b[2m\u001b[36m(DefaultActor pid=1122112)\u001b[0m *************Metrics******************\n",
      "\u001b[2m\u001b[36m(DefaultActor pid=1122112)\u001b[0m Melanoma: 0.49132947972145197, Melanocytic nevus: 0.807483730975733, Basal cell carcinoma: 0.7587982831966698, Actinic keratosis: 0.010638297861023088, Benign keratosis: 0.12753623184709095, Dermatofibroma: 0.0, Vascular lesion: 0.1780821915368737, Squamous cell carcinoma: 0.0\n",
      "\u001b[2m\u001b[36m(DefaultActor pid=1122112)\u001b[0m Accuracy: 0.6339728388645878\n",
      "\u001b[2m\u001b[36m(DefaultActor pid=1122112)\u001b[0m Epoch [1/1] - loss 0.9961 -accuracy 0.6340\n",
      "\u001b[2m\u001b[36m(DefaultActor pid=1122112)\u001b[0m client 1\n",
      "\u001b[2m\u001b[36m(DefaultActor pid=1122112)\u001b[0m client 2\n",
      "\u001b[2m\u001b[36m(DefaultActor pid=1122112)\u001b[0m client 3\n",
      "\u001b[2m\u001b[36m(DefaultActor pid=1122112)\u001b[0m model 1\n",
      "\u001b[2m\u001b[36m(DefaultActor pid=1122112)\u001b[0m *************Metrics******************\n",
      "\u001b[2m\u001b[36m(DefaultActor pid=1122112)\u001b[0m Melanoma: 0.38372093017678477, Melanocytic nevus: 0.8991341990952756, Basal cell carcinoma: 0.40189873405003207, Actinic keratosis: 0.22631578935457064, Benign keratosis: 0.37329286792514527, Dermatofibroma: 0.0, Vascular lesion: 0.1714285709387755, Squamous cell carcinoma: 0.0\n",
      "\u001b[2m\u001b[36m(DefaultActor pid=1122112)\u001b[0m Accuracy: 0.6418118465706275\n",
      "\u001b[2m\u001b[36m(DefaultActor pid=1122112)\u001b[0m Epoch [1/1] - loss 0.9747 -accuracy 0.6418\n",
      "\u001b[2m\u001b[36m(DefaultActor pid=1122112)\u001b[0m client 1\n",
      "\u001b[2m\u001b[36m(DefaultActor pid=1122112)\u001b[0m client 2\n",
      "\u001b[2m\u001b[36m(DefaultActor pid=1122112)\u001b[0m client 3\n",
      "\u001b[2m\u001b[36m(DefaultActor pid=1122112)\u001b[0m model 1\n",
      "\u001b[2m\u001b[36m(DefaultActor pid=1122112)\u001b[0m *************Metrics******************\n",
      "\u001b[2m\u001b[36m(DefaultActor pid=1122112)\u001b[0m Melanoma: 0.4743935309546817, Melanocytic nevus: 0.9277041942348868, Basal cell carcinoma: 0.2636815919086161, Actinic keratosis: 0.15243902429729328, Benign keratosis: 0.18485523381183627, Dermatofibroma: 0.0, Vascular lesion: 0.0, Squamous cell carcinoma: 0.0\n",
      "\u001b[2m\u001b[36m(DefaultActor pid=1122112)\u001b[0m Accuracy: 0.7222321268358379\n",
      "\u001b[2m\u001b[36m(DefaultActor pid=1122112)\u001b[0m Epoch [1/1] - loss 0.7605 -accuracy 0.7222\n",
      "\u001b[2m\u001b[36m(DefaultActor pid=1122112)\u001b[0m client 1\n",
      "\u001b[2m\u001b[36m(DefaultActor pid=1122112)\u001b[0m client 2\n",
      "\u001b[2m\u001b[36m(DefaultActor pid=1122112)\u001b[0m client 3\n",
      "\u001b[2m\u001b[36m(DefaultActor pid=1122112)\u001b[0m model 1\n"
     ]
    },
    {
     "name": "stderr",
     "output_type": "stream",
     "text": [
      "DEBUG flwr 2024-03-25 20:49:30,407 | server.py:236 | fit_round 28 received 4 results and 0 failures\n"
     ]
    },
    {
     "name": "stdout",
     "output_type": "stream",
     "text": [
      "\u001b[2m\u001b[36m(DefaultActor pid=1122112)\u001b[0m *************Metrics******************\n",
      "\u001b[2m\u001b[36m(DefaultActor pid=1122112)\u001b[0m Melanoma: 0.29141104285539543, Melanocytic nevus: 0.871255060658198, Basal cell carcinoma: 0.6868217053198726, Actinic keratosis: 0.08176100623788617, Benign keratosis: 0.2890624999247233, Dermatofibroma: 0.026315789439058174, Vascular lesion: 0.11666666647222222, Squamous cell carcinoma: 0.11864406775639186\n",
      "\u001b[2m\u001b[36m(DefaultActor pid=1122112)\u001b[0m Accuracy: 0.5603773583495908\n",
      "\u001b[2m\u001b[36m(DefaultActor pid=1122112)\u001b[0m Epoch [1/1] - loss 1.2209 -accuracy 0.5604\n",
      "\u001b[2m\u001b[36m(DefaultActor pid=1122112)\u001b[0m client 1\n",
      "[2024-03-25 20:49:30,407][flwr][DEBUG] - fit_round 28 received 4 results and 0 failures\n",
      "!!!!!!!!!!!!!!!!!!\n",
      "model 2\n"
     ]
    },
    {
     "name": "stderr",
     "output_type": "stream",
     "text": [
      "INFO flwr 2024-03-25 20:50:03,152 | server.py:125 | fit progress: (28, 3.575679063796997, {'accuracy': 0.6492301617608797}, 4655.334643152077)\n"
     ]
    },
    {
     "name": "stdout",
     "output_type": "stream",
     "text": [
      "*************Metrics******************\n",
      "Melanoma: 0.43314917122285646, Melanocytic nevus: 0.9172815533624358, Basal cell carcinoma: 0.5512048191940957, Actinic keratosis: 0.17919075134150825, Benign keratosis: 0.2495238094762812, Dermatofibroma: 0.0, Vascular lesion: 0.13725490169165705, Squamous cell carcinoma: 0.0\n",
      "Accuracy: 0.6492301617608797\n",
      "loss 0.9968 - accuracy 0.6492\n",
      "[2024-03-25 20:50:03,152][flwr][INFO] - fit progress: (28, 3.575679063796997, {'accuracy': 0.6492301617608797}, 4655.334643152077)\n"
     ]
    },
    {
     "name": "stderr",
     "output_type": "stream",
     "text": [
      "DEBUG flwr 2024-03-25 20:50:03,154 | server.py:173 | evaluate_round 28: strategy sampled 4 clients (out of 4)\n"
     ]
    },
    {
     "name": "stdout",
     "output_type": "stream",
     "text": [
      "[2024-03-25 20:50:03,154][flwr][DEBUG] - evaluate_round 28: strategy sampled 4 clients (out of 4)\n",
      "\u001b[2m\u001b[36m(DefaultActor pid=1122112)\u001b[0m client 4\n",
      "\u001b[2m\u001b[36m(DefaultActor pid=1122112)\u001b[0m client 3\n",
      "\u001b[2m\u001b[36m(DefaultActor pid=1122112)\u001b[0m model 2\n",
      "\u001b[2m\u001b[36m(DefaultActor pid=1122112)\u001b[0m *************Metrics******************\n",
      "\u001b[2m\u001b[36m(DefaultActor pid=1122112)\u001b[0m Melanoma: 0.4276729557058661, Melanocytic nevus: 0.9247104245319092, Basal cell carcinoma: 0.3448275850178359, Actinic keratosis: 0.2173913034026465, Benign keratosis: 0.24615384577514796, Dermatofibroma: 0.0, Vascular lesion: 0.0, Squamous cell carcinoma: 0.0\n",
      "\u001b[2m\u001b[36m(DefaultActor pid=1122112)\u001b[0m Accuracy: 0.721598001776182\n",
      "\u001b[2m\u001b[36m(DefaultActor pid=1122112)\u001b[0m loss 0.8116 - accuracy 0.7216\n",
      "\u001b[2m\u001b[36m(DefaultActor pid=1122112)\u001b[0m client 4\n",
      "\u001b[2m\u001b[36m(DefaultActor pid=1122112)\u001b[0m client 3\n",
      "\u001b[2m\u001b[36m(DefaultActor pid=1122112)\u001b[0m model 2\n",
      "\u001b[2m\u001b[36m(DefaultActor pid=1122112)\u001b[0m *************Metrics******************\n",
      "\u001b[2m\u001b[36m(DefaultActor pid=1122112)\u001b[0m Melanoma: 0.45270270239682253, Melanocytic nevus: 0.9163498095375097, Basal cell carcinoma: 0.5602409635179272, Actinic keratosis: 0.21428571275510203, Benign keratosis: 0.2448979586838817, Dermatofibroma: 0.0, Vascular lesion: 0.0, Squamous cell carcinoma: 0.0\n",
      "\u001b[2m\u001b[36m(DefaultActor pid=1122112)\u001b[0m Accuracy: 0.6293494697375501\n",
      "\u001b[2m\u001b[36m(DefaultActor pid=1122112)\u001b[0m loss 1.0773 - accuracy 0.6293\n",
      "\u001b[2m\u001b[36m(DefaultActor pid=1122112)\u001b[0m client 4\n",
      "\u001b[2m\u001b[36m(DefaultActor pid=1122112)\u001b[0m client 3\n",
      "\u001b[2m\u001b[36m(DefaultActor pid=1122112)\u001b[0m model 2\n",
      "\u001b[2m\u001b[36m(DefaultActor pid=1122112)\u001b[0m *************Metrics******************\n",
      "\u001b[2m\u001b[36m(DefaultActor pid=1122112)\u001b[0m Melanoma: 0.40816326488962934, Melanocytic nevus: 0.9212121209329661, Basal cell carcinoma: 0.5111111099753086, Actinic keratosis: 0.22222222139917694, Benign keratosis: 0.23404255294250795, Dermatofibroma: 0.0, Vascular lesion: 0.39999999200000014, Squamous cell carcinoma: 0.0\n",
      "\u001b[2m\u001b[36m(DefaultActor pid=1122112)\u001b[0m Accuracy: 0.6455284544448412\n",
      "\u001b[2m\u001b[36m(DefaultActor pid=1122112)\u001b[0m loss 1.0598 - accuracy 0.6455\n",
      "\u001b[2m\u001b[36m(DefaultActor pid=1122112)\u001b[0m client 4\n",
      "\u001b[2m\u001b[36m(DefaultActor pid=1122112)\u001b[0m client 3\n",
      "\u001b[2m\u001b[36m(DefaultActor pid=1122112)\u001b[0m model 2\n"
     ]
    },
    {
     "name": "stderr",
     "output_type": "stream",
     "text": [
      "DEBUG flwr 2024-03-25 20:50:21,578 | server.py:187 | evaluate_round 28 received 4 results and 0 failures\n"
     ]
    },
    {
     "name": "stdout",
     "output_type": "stream",
     "text": [
      "[2024-03-25 20:50:21,578][flwr][DEBUG] - evaluate_round 28 received 4 results and 0 failures\n"
     ]
    },
    {
     "name": "stderr",
     "output_type": "stream",
     "text": [
      "DEBUG flwr 2024-03-25 20:50:21,579 | server.py:222 | fit_round 29: strategy sampled 4 clients (out of 4)\n"
     ]
    },
    {
     "name": "stdout",
     "output_type": "stream",
     "text": [
      "weighted [(42, {'accuracy': 0.6293494697375501}), (51, {'accuracy': 0.721598001776182}), (39, {'accuracy': 0.6455284544448412}), (29, {'accuracy': 0.5670329660359859})]\n",
      "[2024-03-25 20:50:21,579][flwr][DEBUG] - fit_round 29: strategy sampled 4 clients (out of 4)\n",
      "\u001b[2m\u001b[36m(DefaultActor pid=1122112)\u001b[0m *************Metrics******************\n",
      "\u001b[2m\u001b[36m(DefaultActor pid=1122112)\u001b[0m Melanoma: 0.5319148924852874, Melanocytic nevus: 0.92045454493156, Basal cell carcinoma: 0.5652173906899811, Actinic keratosis: 0.1304347820415879, Benign keratosis: 0.2592592587791495, Dermatofibroma: 0.0, Vascular lesion: 0.22222221975308643, Squamous cell carcinoma: 0.0\n",
      "\u001b[2m\u001b[36m(DefaultActor pid=1122112)\u001b[0m Accuracy: 0.5670329660359859\n",
      "\u001b[2m\u001b[36m(DefaultActor pid=1122112)\u001b[0m loss 1.3511 - accuracy 0.5670\n",
      "\u001b[2m\u001b[36m(DefaultActor pid=1122112)\u001b[0m client 2\n",
      "\u001b[2m\u001b[36m(DefaultActor pid=1122112)\u001b[0m client 3\n",
      "\u001b[2m\u001b[36m(DefaultActor pid=1122112)\u001b[0m model 1\n",
      "\u001b[2m\u001b[36m(DefaultActor pid=1122112)\u001b[0m *************Metrics******************\n",
      "\u001b[2m\u001b[36m(DefaultActor pid=1122112)\u001b[0m Melanoma: 0.4961464354049956, Melanocytic nevus: 0.8053145335788876, Basal cell carcinoma: 0.743347639421172, Actinic keratosis: 0.021276595722046175, Benign keratosis: 0.16521739125645873, Dermatofibroma: 0.0, Vascular lesion: 0.13698630118221056, Squamous cell carcinoma: 0.0\n",
      "\u001b[2m\u001b[36m(DefaultActor pid=1122112)\u001b[0m Accuracy: 0.6326794566703723\n",
      "\u001b[2m\u001b[36m(DefaultActor pid=1122112)\u001b[0m Epoch [1/1] - loss 0.9942 -accuracy 0.6327\n",
      "\u001b[2m\u001b[36m(DefaultActor pid=1122112)\u001b[0m client 1\n",
      "\u001b[2m\u001b[36m(DefaultActor pid=1122112)\u001b[0m client 2\n",
      "\u001b[2m\u001b[36m(DefaultActor pid=1122112)\u001b[0m client 3\n",
      "\u001b[2m\u001b[36m(DefaultActor pid=1122112)\u001b[0m model 1\n",
      "\u001b[2m\u001b[36m(DefaultActor pid=1122112)\u001b[0m *************Metrics******************\n",
      "\u001b[2m\u001b[36m(DefaultActor pid=1122112)\u001b[0m Melanoma: 0.3706395348298489, Melanocytic nevus: 0.9060606060213827, Basal cell carcinoma: 0.4208860758161753, Actinic keratosis: 0.2315789472465374, Benign keratosis: 0.3930197267992383, Dermatofibroma: 0.0, Vascular lesion: 0.1428571424489796, Squamous cell carcinoma: 0.020833333311631945\n",
      "\u001b[2m\u001b[36m(DefaultActor pid=1122112)\u001b[0m Accuracy: 0.6483159116100692\n",
      "\u001b[2m\u001b[36m(DefaultActor pid=1122112)\u001b[0m Epoch [1/1] - loss 0.9667 -accuracy 0.6483\n",
      "\u001b[2m\u001b[36m(DefaultActor pid=1122112)\u001b[0m client 1\n",
      "\u001b[2m\u001b[36m(DefaultActor pid=1122112)\u001b[0m client 2\n",
      "\u001b[2m\u001b[36m(DefaultActor pid=1122112)\u001b[0m client 3\n",
      "\u001b[2m\u001b[36m(DefaultActor pid=1122112)\u001b[0m model 1\n",
      "\u001b[2m\u001b[36m(DefaultActor pid=1122112)\u001b[0m *************Metrics******************\n",
      "\u001b[2m\u001b[36m(DefaultActor pid=1122112)\u001b[0m Melanoma: 0.4699011679721563, Melanocytic nevus: 0.9268763796653732, Basal cell carcinoma: 0.23383084565481052, Actinic keratosis: 0.1951219511005354, Benign keratosis: 0.17817371933670964, Dermatofibroma: 0.0, Vascular lesion: 0.0, Squamous cell carcinoma: 0.0\n",
      "\u001b[2m\u001b[36m(DefaultActor pid=1122112)\u001b[0m Accuracy: 0.720449277843402\n",
      "\u001b[2m\u001b[36m(DefaultActor pid=1122112)\u001b[0m Epoch [1/1] - loss 0.7622 -accuracy 0.7204\n",
      "\u001b[2m\u001b[36m(DefaultActor pid=1122112)\u001b[0m client 1\n",
      "\u001b[2m\u001b[36m(DefaultActor pid=1122112)\u001b[0m client 2\n",
      "\u001b[2m\u001b[36m(DefaultActor pid=1122112)\u001b[0m client 3\n",
      "\u001b[2m\u001b[36m(DefaultActor pid=1122112)\u001b[0m model 1\n"
     ]
    },
    {
     "name": "stderr",
     "output_type": "stream",
     "text": [
      "DEBUG flwr 2024-03-25 20:52:16,806 | server.py:236 | fit_round 29 received 4 results and 0 failures\n"
     ]
    },
    {
     "name": "stdout",
     "output_type": "stream",
     "text": [
      "\u001b[2m\u001b[36m(DefaultActor pid=1122112)\u001b[0m *************Metrics******************\n",
      "\u001b[2m\u001b[36m(DefaultActor pid=1122112)\u001b[0m Melanoma: 0.2576687115774023, Melanocytic nevus: 0.8631578946669509, Basal cell carcinoma: 0.6868217053198726, Actinic keratosis: 0.13207547161504687, Benign keratosis: 0.3046874999206543, Dermatofibroma: 0.013157894719529087, Vascular lesion: 0.14999999975, Squamous cell carcinoma: 0.10169491521976445\n",
      "\u001b[2m\u001b[36m(DefaultActor pid=1122112)\u001b[0m Accuracy: 0.5569182388536057\n",
      "\u001b[2m\u001b[36m(DefaultActor pid=1122112)\u001b[0m Epoch [1/1] - loss 1.2396 -accuracy 0.5569\n",
      "\u001b[2m\u001b[36m(DefaultActor pid=1122112)\u001b[0m client 1\n",
      "[2024-03-25 20:52:16,806][flwr][DEBUG] - fit_round 29 received 4 results and 0 failures\n",
      "!!!!!!!!!!!!!!!!!!\n",
      "model 2\n"
     ]
    },
    {
     "name": "stderr",
     "output_type": "stream",
     "text": [
      "INFO flwr 2024-03-25 20:52:49,406 | server.py:125 | fit progress: (29, 3.616400957107544, {'accuracy': 0.6437031187297746}, 4821.588382187067)\n"
     ]
    },
    {
     "name": "stdout",
     "output_type": "stream",
     "text": [
      "*************Metrics******************\n",
      "Melanoma: 0.4397790054762675, Melanocytic nevus: 0.9215533980224639, Basal cell carcinoma: 0.5030120481170163, Actinic keratosis: 0.19075144497644425, Benign keratosis: 0.2209523809102948, Dermatofibroma: 0.0, Vascular lesion: 0.13725490169165705, Squamous cell carcinoma: 0.0\n",
      "Accuracy: 0.6437031187297746\n",
      "loss 1.0040 - accuracy 0.6437\n",
      "[2024-03-25 20:52:49,406][flwr][INFO] - fit progress: (29, 3.616400957107544, {'accuracy': 0.6437031187297746}, 4821.588382187067)\n"
     ]
    },
    {
     "name": "stderr",
     "output_type": "stream",
     "text": [
      "DEBUG flwr 2024-03-25 20:52:49,407 | server.py:173 | evaluate_round 29: strategy sampled 4 clients (out of 4)\n"
     ]
    },
    {
     "name": "stdout",
     "output_type": "stream",
     "text": [
      "[2024-03-25 20:52:49,407][flwr][DEBUG] - evaluate_round 29: strategy sampled 4 clients (out of 4)\n",
      "\u001b[2m\u001b[36m(DefaultActor pid=1122112)\u001b[0m client 4\n",
      "\u001b[2m\u001b[36m(DefaultActor pid=1122112)\u001b[0m client 3\n",
      "\u001b[2m\u001b[36m(DefaultActor pid=1122112)\u001b[0m model 2\n",
      "\u001b[2m\u001b[36m(DefaultActor pid=1122112)\u001b[0m *************Metrics******************\n",
      "\u001b[2m\u001b[36m(DefaultActor pid=1122112)\u001b[0m Melanoma: 0.44594594564463114, Melanocytic nevus: 0.9125475281701342, Basal cell carcinoma: 0.5481927707541008, Actinic keratosis: 0.21428571275510203, Benign keratosis: 0.20408163223656808, Dermatofibroma: 0.0, Vascular lesion: 0.0, Squamous cell carcinoma: 0.0\n",
      "\u001b[2m\u001b[36m(DefaultActor pid=1122112)\u001b[0m Accuracy: 0.6202723139240277\n",
      "\u001b[2m\u001b[36m(DefaultActor pid=1122112)\u001b[0m loss 1.0921 - accuracy 0.6203\n",
      "\u001b[2m\u001b[36m(DefaultActor pid=1122112)\u001b[0m client 4\n",
      "\u001b[2m\u001b[36m(DefaultActor pid=1122112)\u001b[0m client 3\n",
      "\u001b[2m\u001b[36m(DefaultActor pid=1122112)\u001b[0m model 2\n",
      "\u001b[2m\u001b[36m(DefaultActor pid=1122112)\u001b[0m *************Metrics******************\n",
      "\u001b[2m\u001b[36m(DefaultActor pid=1122112)\u001b[0m Melanoma: 0.5319148924852874, Melanocytic nevus: 0.9147727267529701, Basal cell carcinoma: 0.5434782602788281, Actinic keratosis: 0.1304347820415879, Benign keratosis: 0.18518518484224966, Dermatofibroma: 0.0, Vascular lesion: 0.11111110987654321, Squamous cell carcinoma: 0.0\n",
      "\u001b[2m\u001b[36m(DefaultActor pid=1122112)\u001b[0m Accuracy: 0.5494505484844824\n",
      "\u001b[2m\u001b[36m(DefaultActor pid=1122112)\u001b[0m loss 1.3616 - accuracy 0.5495\n",
      "\u001b[2m\u001b[36m(DefaultActor pid=1122112)\u001b[0m client 4\n",
      "\u001b[2m\u001b[36m(DefaultActor pid=1122112)\u001b[0m client 3\n",
      "\u001b[2m\u001b[36m(DefaultActor pid=1122112)\u001b[0m model 2\n",
      "\u001b[2m\u001b[36m(DefaultActor pid=1122112)\u001b[0m *************Metrics******************\n",
      "\u001b[2m\u001b[36m(DefaultActor pid=1122112)\u001b[0m Melanoma: 0.45283018839444644, Melanocytic nevus: 0.9324324322524262, Basal cell carcinoma: 0.3448275850178359, Actinic keratosis: 0.2173913034026465, Benign keratosis: 0.24615384577514796, Dermatofibroma: 0.0, Vascular lesion: 0.0, Squamous cell carcinoma: 0.0\n",
      "\u001b[2m\u001b[36m(DefaultActor pid=1122112)\u001b[0m Accuracy: 0.7315855173717001\n",
      "\u001b[2m\u001b[36m(DefaultActor pid=1122112)\u001b[0m loss 0.8059 - accuracy 0.7316\n",
      "\u001b[2m\u001b[36m(DefaultActor pid=1122112)\u001b[0m client 4\n",
      "\u001b[2m\u001b[36m(DefaultActor pid=1122112)\u001b[0m client 3\n",
      "\u001b[2m\u001b[36m(DefaultActor pid=1122112)\u001b[0m model 2\n"
     ]
    },
    {
     "name": "stderr",
     "output_type": "stream",
     "text": [
      "DEBUG flwr 2024-03-25 20:53:07,681 | server.py:187 | evaluate_round 29 received 4 results and 0 failures\n"
     ]
    },
    {
     "name": "stdout",
     "output_type": "stream",
     "text": [
      "[2024-03-25 20:53:07,681][flwr][DEBUG] - evaluate_round 29 received 4 results and 0 failures\n"
     ]
    },
    {
     "name": "stderr",
     "output_type": "stream",
     "text": [
      "DEBUG flwr 2024-03-25 20:53:07,683 | server.py:222 | fit_round 30: strategy sampled 4 clients (out of 4)\n"
     ]
    },
    {
     "name": "stdout",
     "output_type": "stream",
     "text": [
      "weighted [(39, {'accuracy': 0.6439024381867937}), (29, {'accuracy': 0.5494505484844824}), (42, {'accuracy': 0.6202723139240277}), (51, {'accuracy': 0.7315855173717001})]\n",
      "[2024-03-25 20:53:07,683][flwr][DEBUG] - fit_round 30: strategy sampled 4 clients (out of 4)\n",
      "\u001b[2m\u001b[36m(DefaultActor pid=1122112)\u001b[0m *************Metrics******************\n",
      "\u001b[2m\u001b[36m(DefaultActor pid=1122112)\u001b[0m Melanoma: 0.40816326488962934, Melanocytic nevus: 0.9242424239623509, Basal cell carcinoma: 0.5111111099753086, Actinic keratosis: 0.2592592582990398, Benign keratosis: 0.20212765935943866, Dermatofibroma: 0.0, Vascular lesion: 0.39999999200000014, Squamous cell carcinoma: 0.0\n",
      "\u001b[2m\u001b[36m(DefaultActor pid=1122112)\u001b[0m Accuracy: 0.6439024381867937\n",
      "\u001b[2m\u001b[36m(DefaultActor pid=1122112)\u001b[0m loss 1.0585 - accuracy 0.6439\n",
      "\u001b[2m\u001b[36m(DefaultActor pid=1122112)\u001b[0m client 2\n",
      "\u001b[2m\u001b[36m(DefaultActor pid=1122112)\u001b[0m client 3\n",
      "\u001b[2m\u001b[36m(DefaultActor pid=1122112)\u001b[0m model 1\n",
      "\u001b[2m\u001b[36m(DefaultActor pid=1122112)\u001b[0m *************Metrics******************\n",
      "\u001b[2m\u001b[36m(DefaultActor pid=1122112)\u001b[0m Melanoma: 0.29141104285539543, Melanocytic nevus: 0.8631578946669509, Basal cell carcinoma: 0.6821705425298961, Actinic keratosis: 0.15723270430362724, Benign keratosis: 0.32031249991658534, Dermatofibroma: 0.0, Vascular lesion: 0.14999999975, Squamous cell carcinoma: 0.15593220333697216\n",
      "\u001b[2m\u001b[36m(DefaultActor pid=1122112)\u001b[0m Accuracy: 0.5672955973415611\n",
      "\u001b[2m\u001b[36m(DefaultActor pid=1122112)\u001b[0m Epoch [1/1] - loss 1.2292 -accuracy 0.5673\n",
      "\u001b[2m\u001b[36m(DefaultActor pid=1122112)\u001b[0m client 1\n",
      "\u001b[2m\u001b[36m(DefaultActor pid=1122112)\u001b[0m client 2\n",
      "\u001b[2m\u001b[36m(DefaultActor pid=1122112)\u001b[0m client 3\n",
      "\u001b[2m\u001b[36m(DefaultActor pid=1122112)\u001b[0m model 1\n",
      "\u001b[2m\u001b[36m(DefaultActor pid=1122112)\u001b[0m *************Metrics******************\n",
      "\u001b[2m\u001b[36m(DefaultActor pid=1122112)\u001b[0m Melanoma: 0.3924418604080753, Melanocytic nevus: 0.8982683982295122, Basal cell carcinoma: 0.41772151885515146, Actinic keratosis: 0.21052631567867036, Benign keratosis: 0.3550834597336748, Dermatofibroma: 0.0, Vascular lesion: 0.08571428546938775, Squamous cell carcinoma: 0.0\n",
      "\u001b[2m\u001b[36m(DefaultActor pid=1122112)\u001b[0m Accuracy: 0.6397212542365212\n",
      "\u001b[2m\u001b[36m(DefaultActor pid=1122112)\u001b[0m Epoch [1/1] - loss 0.9708 -accuracy 0.6397\n",
      "\u001b[2m\u001b[36m(DefaultActor pid=1122112)\u001b[0m client 1\n",
      "\u001b[2m\u001b[36m(DefaultActor pid=1122112)\u001b[0m client 2\n",
      "\u001b[2m\u001b[36m(DefaultActor pid=1122112)\u001b[0m client 3\n",
      "\u001b[2m\u001b[36m(DefaultActor pid=1122112)\u001b[0m model 1\n",
      "\u001b[2m\u001b[36m(DefaultActor pid=1122112)\u001b[0m *************Metrics******************\n",
      "\u001b[2m\u001b[36m(DefaultActor pid=1122112)\u001b[0m Melanoma: 0.4752920035511868, Melanocytic nevus: 0.927428256045049, Basal cell carcinoma: 0.21393034815227346, Actinic keratosis: 0.1951219511005354, Benign keratosis: 0.17817371933670964, Dermatofibroma: 0.0, Vascular lesion: 0.22222221975308643, Squamous cell carcinoma: 0.0\n",
      "\u001b[2m\u001b[36m(DefaultActor pid=1122112)\u001b[0m Accuracy: 0.7215189872388635\n",
      "\u001b[2m\u001b[36m(DefaultActor pid=1122112)\u001b[0m Epoch [1/1] - loss 0.7594 -accuracy 0.7215\n",
      "\u001b[2m\u001b[36m(DefaultActor pid=1122112)\u001b[0m client 1\n",
      "\u001b[2m\u001b[36m(DefaultActor pid=1122112)\u001b[0m client 2\n",
      "\u001b[2m\u001b[36m(DefaultActor pid=1122112)\u001b[0m client 3\n",
      "\u001b[2m\u001b[36m(DefaultActor pid=1122112)\u001b[0m model 1\n"
     ]
    },
    {
     "name": "stderr",
     "output_type": "stream",
     "text": [
      "DEBUG flwr 2024-03-25 20:55:02,907 | server.py:236 | fit_round 30 received 4 results and 0 failures\n"
     ]
    },
    {
     "name": "stdout",
     "output_type": "stream",
     "text": [
      "\u001b[2m\u001b[36m(DefaultActor pid=1122112)\u001b[0m *************Metrics******************\n",
      "\u001b[2m\u001b[36m(DefaultActor pid=1122112)\u001b[0m Melanoma: 0.4990366088151218, Melanocytic nevus: 0.8188720173091719, Basal cell carcinoma: 0.7536480686048371, Actinic keratosis: 0.010638297861023088, Benign keratosis: 0.14492753618987608, Dermatofibroma: 0.0, Vascular lesion: 0.16438356141865268, Squamous cell carcinoma: 0.0\n",
      "\u001b[2m\u001b[36m(DefaultActor pid=1122112)\u001b[0m Accuracy: 0.6400086224375929\n",
      "\u001b[2m\u001b[36m(DefaultActor pid=1122112)\u001b[0m Epoch [1/1] - loss 0.9916 -accuracy 0.6400\n",
      "\u001b[2m\u001b[36m(DefaultActor pid=1122112)\u001b[0m client 1\n",
      "[2024-03-25 20:55:02,907][flwr][DEBUG] - fit_round 30 received 4 results and 0 failures\n",
      "!!!!!!!!!!!!!!!!!!\n",
      "model 2\n"
     ]
    },
    {
     "name": "stderr",
     "output_type": "stream",
     "text": [
      "INFO flwr 2024-03-25 20:55:35,509 | server.py:125 | fit progress: (30, 3.618927001953125, {'accuracy': 0.6490327673669116}, 4987.691485445015)\n"
     ]
    },
    {
     "name": "stdout",
     "output_type": "stream",
     "text": [
      "*************Metrics******************\n",
      "Melanoma: 0.46187845298763774, Melanocytic nevus: 0.9001941747223227, Basal cell carcinoma: 0.5843373493095878, Actinic keratosis: 0.16184971088910421, Benign keratosis: 0.24571428566748302, Dermatofibroma: 0.0, Vascular lesion: 0.13725490169165705, Squamous cell carcinoma: 0.0\n",
      "Accuracy: 0.6490327673669116\n",
      "loss 0.9943 - accuracy 0.6490\n",
      "[2024-03-25 20:55:35,509][flwr][INFO] - fit progress: (30, 3.618927001953125, {'accuracy': 0.6490327673669116}, 4987.691485445015)\n"
     ]
    },
    {
     "name": "stderr",
     "output_type": "stream",
     "text": [
      "DEBUG flwr 2024-03-25 20:55:35,511 | server.py:173 | evaluate_round 30: strategy sampled 4 clients (out of 4)\n"
     ]
    },
    {
     "name": "stdout",
     "output_type": "stream",
     "text": [
      "[2024-03-25 20:55:35,511][flwr][DEBUG] - evaluate_round 30: strategy sampled 4 clients (out of 4)\n",
      "\u001b[2m\u001b[36m(DefaultActor pid=1122112)\u001b[0m client 4\n",
      "\u001b[2m\u001b[36m(DefaultActor pid=1122112)\u001b[0m client 3\n",
      "\u001b[2m\u001b[36m(DefaultActor pid=1122112)\u001b[0m model 2\n",
      "\u001b[2m\u001b[36m(DefaultActor pid=1122112)\u001b[0m *************Metrics******************\n",
      "\u001b[2m\u001b[36m(DefaultActor pid=1122112)\u001b[0m Melanoma: 0.4591194965665915, Melanocytic nevus: 0.915057914881263, Basal cell carcinoma: 0.3793103435196195, Actinic keratosis: 0.1739130427221172, Benign keratosis: 0.2615384611360947, Dermatofibroma: 0.0, Vascular lesion: 0.0, Squamous cell carcinoma: 0.0\n",
      "\u001b[2m\u001b[36m(DefaultActor pid=1122112)\u001b[0m Accuracy: 0.7228464412256218\n",
      "\u001b[2m\u001b[36m(DefaultActor pid=1122112)\u001b[0m loss 0.8170 - accuracy 0.7228\n",
      "\u001b[2m\u001b[36m(DefaultActor pid=1122112)\u001b[0m client 4\n",
      "\u001b[2m\u001b[36m(DefaultActor pid=1122112)\u001b[0m client 3\n",
      "\u001b[2m\u001b[36m(DefaultActor pid=1122112)\u001b[0m model 2\n",
      "\u001b[2m\u001b[36m(DefaultActor pid=1122112)\u001b[0m *************Metrics******************\n",
      "\u001b[2m\u001b[36m(DefaultActor pid=1122112)\u001b[0m Melanoma: 0.4183673465118701, Melanocytic nevus: 0.9090909088154271, Basal cell carcinoma: 0.5555555543209877, Actinic keratosis: 0.18518518449931412, Benign keratosis: 0.25531914866455413, Dermatofibroma: 0.0, Vascular lesion: 0.39999999200000014, Squamous cell carcinoma: 0.0\n",
      "\u001b[2m\u001b[36m(DefaultActor pid=1122112)\u001b[0m Accuracy: 0.6455284544448412\n",
      "\u001b[2m\u001b[36m(DefaultActor pid=1122112)\u001b[0m loss 1.0630 - accuracy 0.6455\n",
      "\u001b[2m\u001b[36m(DefaultActor pid=1122112)\u001b[0m client 4\n",
      "\u001b[2m\u001b[36m(DefaultActor pid=1122112)\u001b[0m client 3\n",
      "\u001b[2m\u001b[36m(DefaultActor pid=1122112)\u001b[0m model 2\n",
      "\u001b[2m\u001b[36m(DefaultActor pid=1122112)\u001b[0m *************Metrics******************\n",
      "\u001b[2m\u001b[36m(DefaultActor pid=1122112)\u001b[0m Melanoma: 0.553191488184699, Melanocytic nevus: 0.9034090903957903, Basal cell carcinoma: 0.6195652167178639, Actinic keratosis: 0.1304347820415879, Benign keratosis: 0.2777777772633745, Dermatofibroma: 0.0, Vascular lesion: 0.11111110987654321, Squamous cell carcinoma: 0.0\n",
      "\u001b[2m\u001b[36m(DefaultActor pid=1122112)\u001b[0m Accuracy: 0.5736263726177996\n",
      "\u001b[2m\u001b[36m(DefaultActor pid=1122112)\u001b[0m loss 1.3543 - accuracy 0.5736\n",
      "\u001b[2m\u001b[36m(DefaultActor pid=1122112)\u001b[0m client 4\n",
      "\u001b[2m\u001b[36m(DefaultActor pid=1122112)\u001b[0m client 3\n",
      "\u001b[2m\u001b[36m(DefaultActor pid=1122112)\u001b[0m model 2\n"
     ]
    },
    {
     "name": "stderr",
     "output_type": "stream",
     "text": [
      "DEBUG flwr 2024-03-25 20:55:53,802 | server.py:187 | evaluate_round 30 received 4 results and 0 failures\n"
     ]
    },
    {
     "name": "stdout",
     "output_type": "stream",
     "text": [
      "[2024-03-25 20:55:53,802][flwr][DEBUG] - evaluate_round 30 received 4 results and 0 failures\n"
     ]
    },
    {
     "name": "stderr",
     "output_type": "stream",
     "text": [
      "INFO flwr 2024-03-25 20:55:53,804 | server.py:153 | FL finished in 5005.985959663056\n"
     ]
    },
    {
     "name": "stdout",
     "output_type": "stream",
     "text": [
      "weighted [(51, {'accuracy': 0.7228464412256218}), (29, {'accuracy': 0.5736263726177996}), (39, {'accuracy': 0.6455284544448412}), (42, {'accuracy': 0.6248108918307889})]\n",
      "[2024-03-25 20:55:53,804][flwr][INFO] - FL finished in 5005.985959663056\n"
     ]
    },
    {
     "name": "stderr",
     "output_type": "stream",
     "text": [
      "INFO flwr 2024-03-25 20:55:53,813 | app.py:226 | app_fit: losses_distributed [(1, 4.308810154103345), (2, 4.1109101550179235), (3, 4.053476348426772), (4, 3.833048271096271), (5, 3.895476606321631), (6, 3.7676874391780877), (7, 3.5980391265442653), (8, 3.7121242751245913), (9, 3.731051298402111), (10, 3.7340694036543), (11, 3.69187207103516), (12, 3.568640670420961), (13, 3.503570214561794), (14, 3.4679396744840636), (15, 3.7359501604708085), (16, 3.54280774489693), (17, 3.4840627930919577), (18, 3.5300167761974452), (19, 3.4393796254389035), (20, 3.5490236400817494), (21, 3.539844424087809), (22, 3.4533432240811934), (23, 3.6446979312422854), (24, 3.5041484862380887), (25, 3.5903963420702065), (26, 3.5347664222954225), (27, 3.541641824734137), (28, 3.5779513083629726), (29, 3.5586939435567917), (30, 3.639260523067498)]\n"
     ]
    },
    {
     "name": "stdout",
     "output_type": "stream",
     "text": [
      "[2024-03-25 20:55:53,813][flwr][INFO] - app_fit: losses_distributed [(1, 4.308810154103345), (2, 4.1109101550179235), (3, 4.053476348426772), (4, 3.833048271096271), (5, 3.895476606321631), (6, 3.7676874391780877), (7, 3.5980391265442653), (8, 3.7121242751245913), (9, 3.731051298402111), (10, 3.7340694036543), (11, 3.69187207103516), (12, 3.568640670420961), (13, 3.503570214561794), (14, 3.4679396744840636), (15, 3.7359501604708085), (16, 3.54280774489693), (17, 3.4840627930919577), (18, 3.5300167761974452), (19, 3.4393796254389035), (20, 3.5490236400817494), (21, 3.539844424087809), (22, 3.4533432240811934), (23, 3.6446979312422854), (24, 3.5041484862380887), (25, 3.5903963420702065), (26, 3.5347664222954225), (27, 3.541641824734137), (28, 3.5779513083629726), (29, 3.5586939435567917), (30, 3.639260523067498)]\n"
     ]
    },
    {
     "name": "stderr",
     "output_type": "stream",
     "text": [
      "INFO flwr 2024-03-25 20:55:53,814 | app.py:227 | app_fit: metrics_distributed_fit {}\n"
     ]
    },
    {
     "name": "stdout",
     "output_type": "stream",
     "text": [
      "[2024-03-25 20:55:53,814][flwr][INFO] - app_fit: metrics_distributed_fit {}\n"
     ]
    },
    {
     "name": "stderr",
     "output_type": "stream",
     "text": [
      "INFO flwr 2024-03-25 20:55:53,814 | app.py:228 | app_fit: metrics_distributed {'accuracy': [(1, 0.5138300378210536), (2, 0.5517525515873735), (3, 0.586118256496366), (4, 0.5928355314756186), (5, 0.5987600185760947), (6, 0.6106044805474264), (7, 0.6098158340697621), (8, 0.6188937268037737), (9, 0.623631731113481), (10, 0.6259947212443145), (11, 0.6307370825842703), (12, 0.6338944231863073), (13, 0.6295390095705342), (14, 0.633499673593248), (15, 0.6398172354197906), (16, 0.6354602805064767), (17, 0.638227788636899), (18, 0.6362568099661036), (19, 0.6386272438472304), (20, 0.6488922217764495), (21, 0.6441490121880371), (22, 0.644553689846996), (23, 0.6453397699493701), (24, 0.6477086323180743), (25, 0.6449427042850361), (26, 0.6492917243715852), (27, 0.6469141393574233), (28, 0.651265475515247), (29, 0.6485003699757815), (30, 0.6516645993084773)]}\n"
     ]
    },
    {
     "name": "stdout",
     "output_type": "stream",
     "text": [
      "[2024-03-25 20:55:53,814][flwr][INFO] - app_fit: metrics_distributed {'accuracy': [(1, 0.5138300378210536), (2, 0.5517525515873735), (3, 0.586118256496366), (4, 0.5928355314756186), (5, 0.5987600185760947), (6, 0.6106044805474264), (7, 0.6098158340697621), (8, 0.6188937268037737), (9, 0.623631731113481), (10, 0.6259947212443145), (11, 0.6307370825842703), (12, 0.6338944231863073), (13, 0.6295390095705342), (14, 0.633499673593248), (15, 0.6398172354197906), (16, 0.6354602805064767), (17, 0.638227788636899), (18, 0.6362568099661036), (19, 0.6386272438472304), (20, 0.6488922217764495), (21, 0.6441490121880371), (22, 0.644553689846996), (23, 0.6453397699493701), (24, 0.6477086323180743), (25, 0.6449427042850361), (26, 0.6492917243715852), (27, 0.6469141393574233), (28, 0.651265475515247), (29, 0.6485003699757815), (30, 0.6516645993084773)]}\n"
     ]
    },
    {
     "name": "stderr",
     "output_type": "stream",
     "text": [
      "INFO flwr 2024-03-25 20:55:53,815 | app.py:229 | app_fit: losses_centralized [(0, 1.9979066848754883), (1, 4.513673305511475), (2, 4.43513298034668), (3, 4.353669166564941), (4, 4.18611478805542), (5, 4.234904766082764), (6, 4.112081050872803), (7, 4.016515731811523), (8, 4.0045671463012695), (9, 4.017265319824219), (10, 4.006399631500244), (11, 3.9084255695343018), (12, 3.8905558586120605), (13, 3.7336974143981934), (14, 3.7918174266815186), (15, 3.901406764984131), (16, 3.742762804031372), (17, 3.688689708709717), (18, 3.686884641647339), (19, 3.6999309062957764), (20, 3.707777738571167), (21, 3.6332154273986816), (22, 3.5720221996307373), (23, 3.720076084136963), (24, 3.614856243133545), (25, 3.6215126514434814), (26, 3.5670700073242188), (27, 3.558999538421631), (28, 3.575679063796997), (29, 3.616400957107544), (30, 3.618927001953125)]\n"
     ]
    },
    {
     "name": "stdout",
     "output_type": "stream",
     "text": [
      "[2024-03-25 20:55:53,815][flwr][INFO] - app_fit: losses_centralized [(0, 1.9979066848754883), (1, 4.513673305511475), (2, 4.43513298034668), (3, 4.353669166564941), (4, 4.18611478805542), (5, 4.234904766082764), (6, 4.112081050872803), (7, 4.016515731811523), (8, 4.0045671463012695), (9, 4.017265319824219), (10, 4.006399631500244), (11, 3.9084255695343018), (12, 3.8905558586120605), (13, 3.7336974143981934), (14, 3.7918174266815186), (15, 3.901406764984131), (16, 3.742762804031372), (17, 3.688689708709717), (18, 3.686884641647339), (19, 3.6999309062957764), (20, 3.707777738571167), (21, 3.6332154273986816), (22, 3.5720221996307373), (23, 3.720076084136963), (24, 3.614856243133545), (25, 3.6215126514434814), (26, 3.5670700073242188), (27, 3.558999538421631), (28, 3.575679063796997), (29, 3.616400957107544), (30, 3.618927001953125)]\n"
     ]
    },
    {
     "name": "stderr",
     "output_type": "stream",
     "text": [
      "INFO flwr 2024-03-25 20:55:53,816 | app.py:230 | app_fit: metrics_centralized {'accuracy': [(0, 0.03414923015647072), (1, 0.5067114093159557), (2, 0.5479668376552758), (3, 0.5817212790238104), (4, 0.5911962099342764), (5, 0.6065929726637833), (6, 0.6135017764526647), (7, 0.6117252269069523), (8, 0.6194236082717058), (9, 0.6267272008485233), (10, 0.6269245952424913), (11, 0.6320568494856603), (12, 0.6377812869107334), (13, 0.6298855111520119), (14, 0.6344255822132768), (15, 0.6373864981227974), (16, 0.6371891037288293), (17, 0.6407422028202541), (18, 0.6411369916081902), (19, 0.6442953019116787), (20, 0.6431109355478705), (21, 0.6440979075177107), (22, 0.640544808426286), (23, 0.645479668275487), (24, 0.6442953019116787), (25, 0.6496249505488157), (26, 0.6433083299418385), (27, 0.6474536122151674), (28, 0.6492301617608797), (29, 0.6437031187297746), (30, 0.6490327673669116)]}\n"
     ]
    },
    {
     "name": "stdout",
     "output_type": "stream",
     "text": [
      "[2024-03-25 20:55:53,816][flwr][INFO] - app_fit: metrics_centralized {'accuracy': [(0, 0.03414923015647072), (1, 0.5067114093159557), (2, 0.5479668376552758), (3, 0.5817212790238104), (4, 0.5911962099342764), (5, 0.6065929726637833), (6, 0.6135017764526647), (7, 0.6117252269069523), (8, 0.6194236082717058), (9, 0.6267272008485233), (10, 0.6269245952424913), (11, 0.6320568494856603), (12, 0.6377812869107334), (13, 0.6298855111520119), (14, 0.6344255822132768), (15, 0.6373864981227974), (16, 0.6371891037288293), (17, 0.6407422028202541), (18, 0.6411369916081902), (19, 0.6442953019116787), (20, 0.6431109355478705), (21, 0.6440979075177107), (22, 0.640544808426286), (23, 0.645479668275487), (24, 0.6442953019116787), (25, 0.6496249505488157), (26, 0.6433083299418385), (27, 0.6474536122151674), (28, 0.6492301617608797), (29, 0.6437031187297746), (30, 0.6490327673669116)]}\n",
      "check_main 2\n",
      "\u001b[2m\u001b[36m(DefaultActor pid=1122112)\u001b[0m *************Metrics******************\n",
      "\u001b[2m\u001b[36m(DefaultActor pid=1122112)\u001b[0m Melanoma: 0.45270270239682253, Melanocytic nevus: 0.8897338399658807, Basal cell carcinoma: 0.5783132526636667, Actinic keratosis: 0.21428571275510203, Benign keratosis: 0.2653061219075385, Dermatofibroma: 0.0, Vascular lesion: 0.0, Squamous cell carcinoma: 0.0\n",
      "\u001b[2m\u001b[36m(DefaultActor pid=1122112)\u001b[0m Accuracy: 0.6248108918307889\n",
      "\u001b[2m\u001b[36m(DefaultActor pid=1122112)\u001b[0m loss 1.0654 - accuracy 0.6248\n"
     ]
    }
   ],
   "source": [
    "%run main.py"
   ]
  },
  {
   "cell_type": "code",
   "execution_count": null,
   "id": "6d7c0812",
   "metadata": {},
   "outputs": [],
   "source": [
    "%run dataset.py"
   ]
  },
  {
   "cell_type": "code",
   "execution_count": null,
   "id": "8408758b",
   "metadata": {},
   "outputs": [],
   "source": [
    "from sklearn.datasets import load_iris\n",
    "from sklearn.linear_model import LogisticRegression\n",
    "from sklearn.metrics import roc_auc_score\n",
    "X, y = load_iris(return_X_y=True)\n",
    "clf = LogisticRegression(solver=\"liblinear\").fit(X, y)\n",
    "out = roc_auc_score(y, clf.predict_proba(X), multi_class='ovr') #(150,),(150,3)\n",
    "print(\"y\", print(type(y)))\n",
    "print(\"clf_X\", print(type(out)))\n",
    "print(\"out\", out)"
   ]
  },
  {
   "cell_type": "code",
   "execution_count": null,
   "id": "bd08b0bc",
   "metadata": {},
   "outputs": [],
   "source": [
    "import torch\n",
    "import torch.nn as nn\n",
    "from torchvision import models\n",
    "\n",
    "class Net(nn.Module):\n",
    "    def __init__(self, num_classes: int) -> None:\n",
    "        super(Net, self).__init__()\n",
    "        self.model = models.resnet18(pretrained=True)\n",
    "        for param in self.model.parameters():\n",
    "            param.requires_grad = False\n",
    "\n",
    "        self.input_features = self.model.fc.in_features\n",
    "        self.model.fc = nn.Linear(self.input_features, num_classes)\n",
    "    \n",
    "    def forward(self, x: torch.Tensor) -> torch.Tensor:\n",
    "        x = self.model(x)\n",
    "\n",
    "        return x \n",
    "    \n",
    "a = Net(3)\n",
    "simu_in = torch.randn(4, 3, 224, 224)\n",
    "print(a(simu_in).shape)\n",
    "\n",
    "params_dict = zip(a.state_dict().keys(), parameters)\n",
    "state_dict = OrderedDict({k: torch.Tensor(v) for k, v in params_dict})\n",
    "a.load_state_dict(state_dict, strict=True) "
   ]
  },
  {
   "cell_type": "markdown",
   "id": "e34b1c0e",
   "metadata": {},
   "source": [
    "# Preprocess"
   ]
  },
  {
   "cell_type": "code",
   "execution_count": null,
   "id": "d8e676b6",
   "metadata": {},
   "outputs": [],
   "source": [
    "%run preprocessing/divide_class.py"
   ]
  },
  {
   "cell_type": "code",
   "execution_count": null,
   "id": "ccf97752",
   "metadata": {},
   "outputs": [],
   "source": [
    "%run preprocessing/generate_json.py"
   ]
  },
  {
   "cell_type": "code",
   "execution_count": null,
   "id": "585f8d85",
   "metadata": {},
   "outputs": [],
   "source": [
    "import os\n",
    "import numpy as np\n",
    "import random\n",
    "import json\n",
    "\n",
    "def allocate_data_dirichlet(labels, num_classes, num_clients, alpha, train_ratio, val_ratio, test_ratio):\n",
    "    \"\"\"\n",
    "    Allocate data to clients using Dirichlet distribution.\n",
    "    \n",
    "    :param labels: Array of data labels.\n",
    "    :param num_clients: Number of clients to distribute data across.\n",
    "    :param alpha: Concentration parameter for the Dirichlet distribution.\n",
    "    :return: A list of indices for each client representing their data.\n",
    "    \"\"\"                                  \n",
    "    # Generating proportions for each class across clients\n",
    "    class_proportions = np.random.dirichlet([alpha]*num_clients, num_classes)  #[[0.2 0.8],[0.1 0.9],[0.5 0.5]]\n",
    "    client_data_indices = [[[],[],[]] for _ in range(num_clients)]                     #[[] []]\n",
    "    for class_label in range(num_classes):\n",
    "        sub_dict = labels[class_label]        \n",
    "        sub_dict = list(sub_dict.items())\n",
    "        random.shuffle(sub_dict)\n",
    "        proportions = class_proportions[class_label]                           #[0.2 0.8]\n",
    "        allocations = np.round(proportions * len(sub_dict)).astype(int)\n",
    "        # Ensure that rounding doesn't cause more allocations than available samples\n",
    "        allocations[-1] = len(sub_dict) - np.sum(allocations[:-1])        #[2 3]\n",
    "        print(\"allocations\", allocations)\n",
    "        # Allocate data based on calculated proportions\n",
    "        start = 0\n",
    "        #print(sub_dict)\n",
    "        for client_id, allocation in enumerate(allocations):                   #client_id=0|allocation=2            \n",
    "            client_data_indices[client_id][0].extend(sub_dict[start:(start+round(allocation*train_ratio))])\n",
    "            client_data_indices[client_id][1].extend(sub_dict[(start+round(allocation*train_ratio)):(start+round(allocation*(train_ratio+val_ratio)))])\n",
    "            client_data_indices[client_id][2].extend(sub_dict[(start+round(allocation*(train_ratio+val_ratio))):(start+allocation)])\n",
    "            start += allocation\n",
    "            \n",
    "    return client_data_indices\n",
    "\n",
    "file_list = []\n",
    "num_classes = 3\n",
    "num_clients = 2\n",
    "alpha = 1.5\n",
    "train_ratio = 0.7\n",
    "val_ratio = 0.1\n",
    "test_ratio = 0.2\n",
    "for cls in range(num_classes):\n",
    "    file_dict = {}\n",
    "    files = [s.split(\".\")[0] for s in os.listdir(os.path.join(\"isic2017\",str(cls))) if '.jpg' in s]\n",
    "    for file in files:\n",
    "        file_dict[file] = cls\n",
    "    file_list.append(file_dict)\n",
    "\n",
    "clients = allocate_data_dirichlet(file_list, num_classes, num_clients, alpha, train_ratio, val_ratio, test_ratio)\n",
    "\n",
    "json_data = {}\n",
    "for num in range(num_clients):\n",
    "    json_data[\"client \"+str(num+1)] = {}\n",
    "    json_data[\"client \"+str(num+1)][\"train\"] = []\n",
    "    json_data[\"client \"+str(num+1)][\"val\"] = []\n",
    "    json_data[\"client \"+str(num+1)][\"test\"] = []\n",
    "    \n",
    "    print(\"train_len\", len(clients[num][0]))\n",
    "    print(\"val_len\", len(clients[num][1]))\n",
    "    print(\"test_len\", len(clients[num][2]))\n",
    "    \n",
    "    for (name, _) in clients[num][0]: \n",
    "        json_data[\"client \"+str(num+1)][\"train\"].append(str(name)+\".jpg\")\n",
    "    for (name, _) in clients[num][1]: \n",
    "        json_data[\"client \"+str(num+1)][\"val\"].append(str(name)+\".jpg\")\n",
    "    for (name, _) in clients[num][2]: \n",
    "        json_data[\"client \"+str(num+1)][\"test\"].append(str(name)+\".jpg\")        \n",
    "\n",
    "with open(\"FL_divide.json\", 'w') as file:\n",
    "    json.dump(json_data, file, indent=4)        \n"
   ]
  },
  {
   "cell_type": "code",
   "execution_count": null,
   "id": "d86b8175",
   "metadata": {},
   "outputs": [],
   "source": [
    "import numpy as np \n",
    "  \n",
    "arr = np.array([]) \n",
    "#arr = np.hstack((arr, np.array(['G', 'F', 'G']))) \n",
    "print(arr.size) \n",
    "  \n",
    "arr = np.vstack((arr, np.array(['G', 'F', 'G']))) \n",
    "print(arr.shape) \n",
    "arr = np.vstack((arr, np.array(['G', 'F', 'G']))) \n",
    "print(arr.shape) "
   ]
  },
  {
   "cell_type": "code",
   "execution_count": null,
   "id": "119f3f95",
   "metadata": {},
   "outputs": [],
   "source": [
    "read_csv = open(\"isic2019/ISIC_2019_Training_GroundTruth.csv\").read().splitlines()\n",
    "file_dict = {}\n",
    "for line in read_csv[1:]:\n",
    "    filename,MEL,NV,BCC,AK,BKL,DF,VASC,SCC,UNK = line.strip().split(\",\") \n",
    "    if UNK == \"0.0\":\n",
    "        print(\"!\")"
   ]
  },
  {
   "cell_type": "code",
   "execution_count": null,
   "id": "355baddc",
   "metadata": {},
   "outputs": [],
   "source": []
  }
 ],
 "metadata": {
  "kernelspec": {
   "display_name": "Python 3 (ipykernel)",
   "language": "python",
   "name": "python3"
  },
  "language_info": {
   "codemirror_mode": {
    "name": "ipython",
    "version": 3
   },
   "file_extension": ".py",
   "mimetype": "text/x-python",
   "name": "python",
   "nbconvert_exporter": "python",
   "pygments_lexer": "ipython3",
   "version": "3.8.10"
  }
 },
 "nbformat": 4,
 "nbformat_minor": 5
}
