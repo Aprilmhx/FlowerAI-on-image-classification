{
 "cells": [
  {
   "cell_type": "markdown",
   "id": "a4c0a903",
   "metadata": {},
   "source": [
    "# Federated learning (Client 3)"
   ]
  },
  {
   "cell_type": "code",
   "execution_count": null,
   "id": "da2f96fe",
   "metadata": {},
   "outputs": [],
   "source": [
    "%run CLIENT3/client3.py"
   ]
  },
  {
   "cell_type": "markdown",
   "id": "8e6c0ef7",
   "metadata": {},
   "source": [
    "## Baseline (Client3)"
   ]
  },
  {
   "cell_type": "code",
   "execution_count": null,
   "id": "89b677b1",
   "metadata": {},
   "outputs": [],
   "source": [
    "%run CLIENT3/baseline/client3.py"
   ]
  },
  {
   "cell_type": "markdown",
   "id": "843e7ee0",
   "metadata": {},
   "source": [
    "## Knowledge Distillation (Client3)"
   ]
  },
  {
   "cell_type": "code",
   "execution_count": 1,
   "id": "62022a3c",
   "metadata": {},
   "outputs": [
    {
     "name": "stderr",
     "output_type": "stream",
     "text": [
      "2024-08-14 20:24:40.097342: W tensorflow/stream_executor/platform/default/dso_loader.cc:64] Could not load dynamic library 'libcudart.so.11.0'; dlerror: libcudart.so.11.0: cannot open shared object file: No such file or directory\n",
      "2024-08-14 20:24:40.097384: I tensorflow/stream_executor/cuda/cudart_stub.cc:29] Ignore above cudart dlerror if you do not have a GPU set up on your machine.\n",
      "INFO flwr 2024-08-14 20:24:44,054 | grpc.py:52 | Opened insecure gRPC connection (no certificates were passed)\n"
     ]
    },
    {
     "name": "stdout",
     "output_type": "stream",
     "text": [
      "[2024-08-14 20:24:44,054][flwr][INFO] - Opened insecure gRPC connection (no certificates were passed)\n"
     ]
    },
    {
     "name": "stderr",
     "output_type": "stream",
     "text": [
      "DEBUG flwr 2024-08-14 20:24:44,060 | connection.py:42 | ChannelConnectivity.IDLE\n"
     ]
    },
    {
     "name": "stdout",
     "output_type": "stream",
     "text": [
      "[2024-08-14 20:24:44,060][flwr][DEBUG] - ChannelConnectivity.IDLE\n"
     ]
    },
    {
     "name": "stderr",
     "output_type": "stream",
     "text": [
      "DEBUG flwr 2024-08-14 20:24:44,062 | connection.py:42 | ChannelConnectivity.CONNECTING\n"
     ]
    },
    {
     "name": "stdout",
     "output_type": "stream",
     "text": [
      "[2024-08-14 20:24:44,062][flwr][DEBUG] - ChannelConnectivity.CONNECTING\n"
     ]
    },
    {
     "name": "stderr",
     "output_type": "stream",
     "text": [
      "DEBUG flwr 2024-08-14 20:24:44,064 | connection.py:42 | ChannelConnectivity.READY\n"
     ]
    },
    {
     "name": "stdout",
     "output_type": "stream",
     "text": [
      "[2024-08-14 20:24:44,064][flwr][DEBUG] - ChannelConnectivity.READY\n",
      "client 2\n",
      "client 3\n",
      "*************Metrics******************\n",
      "Melanoma: 0.40944123310120994, Basal cell carcinoma : 0.7261802574483966, Squamous cell carcinoma: 0.0, Benign keratosis: 0.7688149687830015\n",
      "Epoch [1/30] - train loss 0.7846 - train accuracy 0.6726 - train f1_micro 0.6726 - train f1_weighted 0.6655\n",
      "model 2\n",
      "*************Metrics******************\n",
      "Melanoma: 0.5135135131665449, Basal cell carcinoma : 0.8072289151763682, Squamous cell carcinoma: 0.0, Benign keratosis: 0.7900874633265051\n",
      "val loss 0.6455 - val accuracy 0.7277 - val f1_micro 0.7277 - val f1_weighted 0.7218\n",
      "Local best ACC achieved...... 0.7218356494787003\n",
      "*************Metrics******************\n",
      "Melanoma: 0.31984585738729815, Basal cell carcinoma : 0.6360515020913261, Squamous cell carcinoma: 0.0, Benign keratosis: 0.7625779625462547\n",
      "Epoch [2/30] - train loss 0.8289 - train accuracy 0.6266 - train f1_micro 0.6266 - train f1_weighted 0.6114\n",
      "model 2\n",
      "*************Metrics******************\n",
      "Melanoma: 0.3513513511139518, Basal cell carcinoma : 0.7771084332668021, Squamous cell carcinoma: 0.0, Benign keratosis: 0.883381923940705\n",
      "val loss 0.6729 - val accuracy 0.7322 - val f1_micro 0.7322 - val f1_weighted 0.7111\n",
      "*************Metrics******************\n",
      "Melanoma: 0.39017341036703534, Basal cell carcinoma : 0.7682403432816962, Squamous cell carcinoma: 0.0, Benign keratosis: 0.7950103949773385\n",
      "Epoch [3/30] - train loss 0.7063 - train accuracy 0.6924 - train f1_micro 0.6924 - train f1_weighted 0.6791\n",
      "model 2\n",
      "*************Metrics******************\n",
      "Melanoma: 0.4054054051314829, Basal cell carcinoma : 0.7108433730657571, Squamous cell carcinoma: 0.0, Benign keratosis: 0.8629737606813488\n",
      "val loss 0.6739 - val accuracy 0.7171 - val f1_micro 0.7171 - val f1_weighted 0.7020\n",
      "*************Metrics******************\n",
      "Melanoma: 0.4104046242379187, Basal cell carcinoma : 0.8240343346932161, Squamous cell carcinoma: 0.0, Benign keratosis: 0.8257796257452898\n",
      "Epoch [4/30] - train loss 0.6519 - train accuracy 0.7269 - train f1_micro 0.7269 - train f1_weighted 0.7127\n",
      "model 2\n",
      "*************Metrics******************\n",
      "Melanoma: 0.2770270268398466, Basal cell carcinoma : 0.7349397585934098, Squamous cell carcinoma: 0.0, Benign keratosis: 0.930029154247805\n",
      "val loss 0.6454 - val accuracy 0.7292 - val f1_micro 0.7292 - val f1_weighted 0.6992\n",
      "*************Metrics******************\n",
      "Melanoma: 0.45279383425310277, Basal cell carcinoma : 0.8274678110877711, Squamous cell carcinoma: 0.0, Benign keratosis: 0.829521829487338\n",
      "Epoch [5/30] - train loss 0.6309 - train accuracy 0.7392 - train f1_micro 0.7392 - train f1_weighted 0.7275\n",
      "model 2\n",
      "*************Metrics******************\n",
      "Melanoma: 0.567567567184076, Basal cell carcinoma : 0.9397590355784584, Squamous cell carcinoma: 0.0, Benign keratosis: 0.6530612242993992\n",
      "val loss 0.6863 - val accuracy 0.7020 - val f1_micro 0.7020 - val f1_weighted 0.6975\n",
      "*************Metrics******************\n",
      "Melanoma: 0.48073217721765593, Basal cell carcinoma : 0.8669527896251544, Squamous cell carcinoma: 0.0, Benign keratosis: 0.8324324323978199\n",
      "Epoch [6/30] - train loss 0.5901 - train accuracy 0.7568 - train f1_micro 0.7568 - train f1_weighted 0.7461\n",
      "model 2\n",
      "*************Metrics******************\n",
      "Melanoma: 0.12162162153944485, Basal cell carcinoma : 0.7469879513572362, Squamous cell carcinoma: 0.0, Benign keratosis: 0.9446064137187737\n",
      "val loss 0.6982 - val accuracy 0.7050 - val f1_micro 0.7050 - val f1_weighted 0.6485\n",
      "*************Metrics******************\n",
      "Melanoma: 0.49518304426828685, Basal cell carcinoma : 0.875536480611542, Squamous cell carcinoma: 0.0, Benign keratosis: 0.8436590436239644\n",
      "Epoch [7/30] - train loss 0.5533 - train accuracy 0.7681 - train f1_micro 0.7681 - train f1_weighted 0.7579\n",
      "model 2\n",
      "*************Metrics******************\n",
      "Melanoma: 0.18243243230916728, Basal cell carcinoma : 0.7469879513572362, Squamous cell carcinoma: 0.0, Benign keratosis: 0.9591836731897425\n",
      "val loss 0.6352 - val accuracy 0.7262 - val f1_micro 0.7262 - val f1_weighted 0.6799\n",
      "*************Metrics******************\n",
      "Melanoma: 0.4865125240379083, Basal cell carcinoma : 0.875536480611542, Squamous cell carcinoma: 0.0, Benign keratosis: 0.8465696465344462\n",
      "Epoch [8/30] - train loss 0.5613 - train accuracy 0.7676 - train f1_micro 0.7676 - train f1_weighted 0.7565\n",
      "model 2\n",
      "*************Metrics******************\n",
      "Melanoma: 0.43918918889243974, Basal cell carcinoma : 0.7650602405029758, Squamous cell carcinoma: 0.0, Benign keratosis: 0.8571428568929613\n",
      "val loss 0.6445 - val accuracy 0.7352 - val f1_micro 0.7352 - val f1_weighted 0.7237\n",
      "Local best ACC achieved...... 0.7237259864829892\n",
      "*************Metrics******************\n",
      "Melanoma: 0.5163776492758789, Basal cell carcinoma : 0.8995708153734275, Squamous cell carcinoma: 0.0, Benign keratosis: 0.8661122660762531\n",
      "Epoch [9/30] - train loss 0.5171 - train accuracy 0.7905 - train f1_micro 0.7905 - train f1_weighted 0.7803\n",
      "model 2\n",
      "*************Metrics******************\n",
      "Melanoma: 0.6013513509450329, Basal cell carcinoma : 0.7228915658295835, Squamous cell carcinoma: 0.0, Benign keratosis: 0.8046647227974739\n",
      "val loss 0.6178 - val accuracy 0.7337 - val f1_micro 0.7337 - val f1_weighted 0.7319\n",
      "Local best ACC achieved...... 0.7319245533558459\n",
      "*************Metrics******************\n",
      "Melanoma: 0.5578034681543542, Basal cell carcinoma : 0.8935622316829561, Squamous cell carcinoma: 0.0, Benign keratosis: 0.8656964656604701\n",
      "Epoch [10/30] - train loss 0.4872 - train accuracy 0.7980 - train f1_micro 0.7980 - train f1_weighted 0.7897\n",
      "model 2\n",
      "*************Metrics******************\n",
      "Melanoma: 0.33783783760956904, Basal cell carcinoma : 0.7530120477391494, Squamous cell carcinoma: 0.0, Benign keratosis: 0.9125364428826426\n",
      "val loss 0.6282 - val accuracy 0.7383 - val f1_micro 0.7383 - val f1_weighted 0.7147\n",
      "*************Metrics******************\n",
      "Melanoma: 0.5905587668024511, Basal cell carcinoma : 0.9004291844720663, Squamous cell carcinoma: 0.0, Benign keratosis: 0.8781704781339639\n",
      "Epoch [11/30] - train loss 0.4581 - train accuracy 0.8135 - train f1_micro 0.8135 - train f1_weighted 0.8061\n",
      "model 2\n",
      "*************Metrics******************\n",
      "Melanoma: 0.45945945914901387, Basal cell carcinoma : 0.8192771079401946, Squamous cell carcinoma: 0.0, Benign keratosis: 0.8717201163639301\n",
      "val loss 0.6329 - val accuracy 0.7610 - val f1_micro 0.7610 - val f1_weighted 0.7487\n",
      "Local best ACC achieved...... 0.7487019689397135\n",
      "*************Metrics******************\n",
      "Melanoma: 0.6021194604429558, Basal cell carcinoma : 0.9253218883325905, Squamous cell carcinoma: 0.0, Benign keratosis: 0.8790020789655301\n",
      "Epoch [12/30] - train loss 0.4316 - train accuracy 0.8228 - train f1_micro 0.8228 - train f1_weighted 0.8156\n",
      "model 2\n",
      "*************Metrics******************\n",
      "Melanoma: 0.3108108106008035, Basal cell carcinoma : 0.8192771079401946, Squamous cell carcinoma: 0.0, Benign keratosis: 0.906705539094255\n",
      "val loss 0.6283 - val accuracy 0.7458 - val f1_micro 0.7458 - val f1_weighted 0.7192\n",
      "*************Metrics******************\n",
      "Melanoma: 0.6088631983999169, Basal cell carcinoma : 0.9064377681625376, Squamous cell carcinoma: 0.032258064412070755, Benign keratosis: 0.8835758835391445\n",
      "Epoch [13/30] - train loss 0.4417 - train accuracy 0.8222 - train f1_micro 0.8222 - train f1_weighted 0.8155\n",
      "model 2\n",
      "*************Metrics******************\n",
      "Melanoma: 0.3918918916271001, Basal cell carcinoma : 0.8012048187944549, Squamous cell carcinoma: 0.0, Benign keratosis: 0.9271137023536112\n",
      "val loss 0.6380 - val accuracy 0.7700 - val f1_micro 0.7700 - val f1_weighted 0.7503\n",
      "Local best ACC achieved...... 0.7502672206426411\n",
      "*************Metrics******************\n",
      "Melanoma: 0.651252408415101, Basal cell carcinoma : 0.9356223175162557, Squamous cell carcinoma: 0.0, Benign keratosis: 0.9006237005862527\n",
      "Epoch [14/30] - train loss 0.3817 - train accuracy 0.8476 - train f1_micro 0.8476 - train f1_weighted 0.8412\n",
      "model 2\n",
      "*************Metrics******************\n",
      "Melanoma: 0.37162162137052596, Basal cell carcinoma : 0.8493975898497605, Squamous cell carcinoma: 0.0, Benign keratosis: 0.8979591834116738\n",
      "val loss 0.6538 - val accuracy 0.7625 - val f1_micro 0.7625 - val f1_weighted 0.7415\n",
      "*************Metrics******************\n",
      "Melanoma: 0.7061657032074986, Basal cell carcinoma : 0.9424892703053659, Squamous cell carcinoma: 0.0, Benign keratosis: 0.9118503118123972\n",
      "Epoch [15/30] - train loss 0.3496 - train accuracy 0.8674 - train f1_micro 0.8674 - train f1_weighted 0.8625\n",
      "model 2\n"
     ]
    },
    {
     "name": "stdout",
     "output_type": "stream",
     "text": [
      "*************Metrics******************\n",
      "Melanoma: 0.37837837812271735, Basal cell carcinoma : 0.6746987947742779, Squamous cell carcinoma: 0.0, Benign keratosis: 0.9358600580361925\n",
      "val loss 0.6845 - val accuracy 0.7398 - val f1_micro 0.7398 - val f1_weighted 0.7189\n",
      "*************Metrics******************\n",
      "Melanoma: 0.6965317918404113, Basal cell carcinoma : 0.9347639484176169, Squamous cell carcinoma: 0.0, Benign keratosis: 0.9085239084861321\n",
      "Epoch [16/30] - train loss 0.3474 - train accuracy 0.8616 - train f1_micro 0.8616 - train f1_weighted 0.8565\n",
      "model 2\n",
      "*************Metrics******************\n",
      "Melanoma: 0.4121621618836742, Basal cell carcinoma : 0.8313253007040209, Squamous cell carcinoma: 0.0, Benign keratosis: 0.9008746353058675\n",
      "val loss 0.6485 - val accuracy 0.7685 - val f1_micro 0.7685 - val f1_weighted 0.7521\n",
      "Local best ACC achieved...... 0.7521035923998051\n",
      "*************Metrics******************\n",
      "Melanoma: 0.7495183043593914, Basal cell carcinoma : 0.9330472102203394, Squamous cell carcinoma: 0.09677419323621228, Benign keratosis: 0.9259875259490234\n",
      "Epoch [17/30] - train loss 0.3126 - train accuracy 0.8827 - train f1_micro 0.8827 - train f1_weighted 0.8793\n",
      "model 2\n",
      "*************Metrics******************\n",
      "Melanoma: 0.33783783760956904, Basal cell carcinoma : 0.740963854975323, Squamous cell carcinoma: 0.0, Benign keratosis: 0.9475218656129675\n",
      "val loss 0.7001 - val accuracy 0.7534 - val f1_micro 0.7534 - val f1_weighted 0.7292\n",
      "*************Metrics******************\n",
      "Melanoma: 0.7601156068631875, Basal cell carcinoma : 0.9510729612917536, Squamous cell carcinoma: 0.19354838647242456, Benign keratosis: 0.9280665280279391\n",
      "Epoch [18/30] - train loss 0.2861 - train accuracy 0.8914 - train f1_micro 0.8914 - train f1_weighted 0.8886\n",
      "model 2\n",
      "*************Metrics******************\n",
      "Melanoma: 0.5810810806884588, Basal cell carcinoma : 0.7530120477391494, Squamous cell carcinoma: 0.24999999375000015, Benign keratosis: 0.8483965012103801\n",
      "val loss 0.6837 - val accuracy 0.7610 - val f1_micro 0.7610 - val f1_weighted 0.7572\n",
      "Local best ACC achieved...... 0.757185771942814\n",
      "*************Metrics******************\n",
      "Melanoma: 0.8092485548353326, Basal cell carcinoma : 0.9467811157985597, Squamous cell carcinoma: 0.19354838647242456, Benign keratosis: 0.9264033263648066\n",
      "Epoch [19/30] - train loss 0.2609 - train accuracy 0.9004 - train f1_micro 0.9004 - train f1_weighted 0.8984\n",
      "model 2\n",
      "*************Metrics******************\n",
      "Melanoma: 0.533783783423119, Basal cell carcinoma : 0.927710842814632, Squamous cell carcinoma: 0.0, Benign keratosis: 0.7055393583948866\n",
      "val loss 0.8051 - val accuracy 0.7186 - val f1_micro 0.7186 - val f1_weighted 0.7136\n",
      "*************Metrics******************\n",
      "Melanoma: 0.8217726396125461, Basal cell carcinoma : 0.9502145921931148, Squamous cell carcinoma: 0.19354838647242456, Benign keratosis: 0.9355509355120354\n",
      "Epoch [20/30] - train loss 0.2517 - train accuracy 0.9088 - train f1_micro 0.9088 - train f1_weighted 0.9069\n",
      "model 2\n",
      "*************Metrics******************\n",
      "Melanoma: 0.5743243239362674, Basal cell carcinoma : 0.8915662645231529, Squamous cell carcinoma: 0.24999999375000015, Benign keratosis: 0.6851311951355303\n",
      "val loss 0.8571 - val accuracy 0.7095 - val f1_micro 0.7095 - val f1_weighted 0.7100\n",
      "*************Metrics******************\n",
      "Melanoma: 0.8458574180302644, Basal cell carcinoma : 0.9536480685876698, Squamous cell carcinoma: 0.29032257970863684, Benign keratosis: 0.9384615384225172\n",
      "Epoch [21/30] - train loss 0.2389 - train accuracy 0.9172 - train f1_micro 0.9172 - train f1_weighted 0.9158\n",
      "model 2\n",
      "*************Metrics******************\n",
      "Melanoma: 0.533783783423119, Basal cell carcinoma : 0.7951807224125418, Squamous cell carcinoma: 0.0, Benign keratosis: 0.8367346936336051\n",
      "val loss 0.8652 - val accuracy 0.7534 - val f1_micro 0.7534 - val f1_weighted 0.7473\n",
      "*************Metrics******************\n",
      "Melanoma: 0.8680154141745651, Basal cell carcinoma : 0.9690987123631676, Squamous cell carcinoma: 0.25806451529656604, Benign keratosis: 0.9492723492328785\n",
      "Epoch [22/30] - train loss 0.1882 - train accuracy 0.9315 - train f1_micro 0.9315 - train f1_weighted 0.9300\n",
      "model 2\n",
      "*************Metrics******************\n",
      "Melanoma: 0.7567567562454347, Basal cell carcinoma : 0.771084336884889, Squamous cell carcinoma: 0.0, Benign keratosis: 0.7230320697600491\n",
      "val loss 0.8832 - val accuracy 0.7383 - val f1_micro 0.7383 - val f1_weighted 0.7414\n",
      "*************Metrics******************\n",
      "Melanoma: 0.875722543268235, Basal cell carcinoma : 0.9587982831795024, Squamous cell carcinoma: 0.4516129017689906, Benign keratosis: 0.9467775467381798\n",
      "Epoch [23/30] - train loss 0.1961 - train accuracy 0.9306 - train f1_micro 0.9306 - train f1_weighted 0.9300\n",
      "model 2\n",
      "*************Metrics******************\n",
      "Melanoma: 0.6351351347059898, Basal cell carcinoma : 0.8674698789955001, Squamous cell carcinoma: 0.0, Benign keratosis: 0.734693877336824\n",
      "val loss 0.8055 - val accuracy 0.7413 - val f1_micro 0.7413 - val f1_weighted 0.7399\n",
      "*************Metrics******************\n",
      "Melanoma: 0.8892100191821571, Basal cell carcinoma : 0.9742489269550002, Squamous cell carcinoma: 0.677419352653486, Benign keratosis: 0.9563409563011918\n",
      "Epoch [24/30] - train loss 0.1652 - train accuracy 0.9440 - train f1_micro 0.9440 - train f1_weighted 0.9436\n",
      "model 2\n",
      "*************Metrics******************\n",
      "Melanoma: 0.6283783779537985, Basal cell carcinoma : 0.7771084332668021, Squamous cell carcinoma: 0.0, Benign keratosis: 0.793002915220699\n",
      "val loss 0.8371 - val accuracy 0.7474 - val f1_micro 0.7474 - val f1_weighted 0.7468\n",
      "*************Metrics******************\n",
      "Melanoma: 0.9152215798732929, Basal cell carcinoma : 0.9630901286726963, Squamous cell carcinoma: 0.6451612882414152, Benign keratosis: 0.9613305612905892\n",
      "Epoch [25/30] - train loss 0.1514 - train accuracy 0.9493 - train f1_micro 0.9493 - train f1_weighted 0.9491\n",
      "model 2\n",
      "*************Metrics******************\n",
      "Melanoma: 0.4189189186358656, Basal cell carcinoma : 0.7891566260306285, Squamous cell carcinoma: 0.0, Benign keratosis: 0.8338192417394114\n",
      "val loss 0.9709 - val accuracy 0.7247 - val f1_micro 0.7247 - val f1_weighted 0.7123\n",
      "*************Metrics******************\n",
      "Melanoma: 0.8988439305492445, Basal cell carcinoma : 0.9768240342509165, Squamous cell carcinoma: 0.677419352653486, Benign keratosis: 0.9592515592116736\n",
      "Epoch [26/30] - train loss 0.1602 - train accuracy 0.9483 - train f1_micro 0.9483 - train f1_weighted 0.9480\n",
      "model 2\n",
      "*************Metrics******************\n",
      "Melanoma: 0.5472972969275018, Basal cell carcinoma : 0.8192771079401946, Squamous cell carcinoma: 0.0, Benign keratosis: 0.8017492709032802\n",
      "val loss 0.7367 - val accuracy 0.7443 - val f1_micro 0.7443 - val f1_weighted 0.7418\n",
      "*************Metrics******************\n",
      "Melanoma: 0.9036608862327881, Basal cell carcinoma : 0.9648068668699737, Squamous cell carcinoma: 0.677419352653486, Benign keratosis: 0.9575883575485411\n",
      "Epoch [27/30] - train loss 0.1609 - train accuracy 0.9455 - train f1_micro 0.9455 - train f1_weighted 0.9452\n",
      "model 2\n",
      "*************Metrics******************\n",
      "Melanoma: 0.4999999996621622, Basal cell carcinoma : 0.7048192766838438, Squamous cell carcinoma: 0.0, Benign keratosis: 0.8892128277290926\n",
      "val loss 0.9173 - val accuracy 0.7504 - val f1_micro 0.7504 - val f1_weighted 0.7423\n",
      "*************Metrics******************\n",
      "Melanoma: 0.9104046241897492, Basal cell carcinoma : 0.971673819659084, Squamous cell carcinoma: 0.8709677391259105, Benign keratosis: 0.9659043658642036\n",
      "Epoch [28/30] - train loss 0.1230 - train accuracy 0.9543 - train f1_micro 0.9543 - train f1_weighted 0.9542\n",
      "model 2\n",
      "*************Metrics******************\n",
      "Melanoma: 0.5878378374406501, Basal cell carcinoma : 0.7951807224125418, Squamous cell carcinoma: 0.24999999375000015, Benign keratosis: 0.793002915220699\n",
      "val loss 0.9633 - val accuracy 0.7443 - val f1_micro 0.7443 - val f1_weighted 0.7427\n",
      "*************Metrics******************\n",
      "Melanoma: 0.9026974950960793, Basal cell carcinoma : 0.9733905578563614, Squamous cell carcinoma: 0.8064516103017689, Benign keratosis: 0.9646569646168542\n",
      "Epoch [29/30] - train loss 0.1464 - train accuracy 0.9519 - train f1_micro 0.9519 - train f1_weighted 0.9517\n",
      "model 2\n",
      "*************Metrics******************\n",
      "Melanoma: 0.5472972969275018, Basal cell carcinoma : 0.8373493970859341, Squamous cell carcinoma: 0.0, Benign keratosis: 0.8513119531045739\n",
      "val loss 0.7885 - val accuracy 0.7746 - val f1_micro 0.7746 - val f1_weighted 0.7676\n",
      "Local best ACC achieved...... 0.7676178920549028\n"
     ]
    },
    {
     "name": "stdout",
     "output_type": "stream",
     "text": [
      "*************Metrics******************\n",
      "Melanoma: 0.9229287089669627, Basal cell carcinoma : 0.971673819659084, Squamous cell carcinoma: 0.7096774170655566, Benign keratosis: 0.9609147608748061\n",
      "Epoch [30/30] - train loss 0.1427 - train accuracy 0.9534 - train f1_micro 0.9534 - train f1_weighted 0.9533\n",
      "model 2\n",
      "*************Metrics******************\n",
      "Melanoma: 0.6283783779537985, Basal cell carcinoma : 0.5662650598998403, Squamous cell carcinoma: 0.0, Benign keratosis: 0.8658892125755426\n",
      "val loss 0.8863 - val accuracy 0.7322 - val f1_micro 0.7322 - val f1_weighted 0.7261\n",
      "client 1\n"
     ]
    },
    {
     "name": "stderr",
     "output_type": "stream",
     "text": [
      "DEBUG flwr 2024-08-14 21:14:20,246 | connection.py:141 | gRPC channel closed\n"
     ]
    },
    {
     "name": "stdout",
     "output_type": "stream",
     "text": [
      "[2024-08-14 21:14:20,246][flwr][DEBUG] - gRPC channel closed\n"
     ]
    },
    {
     "ename": "KeyboardInterrupt",
     "evalue": "",
     "output_type": "error",
     "traceback": [
      "\u001b[0;31m---------------------------------------------------------------------------\u001b[0m",
      "\u001b[0;31mKeyboardInterrupt\u001b[0m                         Traceback (most recent call last)",
      "\u001b[0;32m~/Federated_learning/CLIENT3/KD_0/client3.py\u001b[0m in \u001b[0;36m<module>\u001b[0;34m\u001b[0m\n\u001b[1;32m    163\u001b[0m \u001b[0;34m\u001b[0m\u001b[0m\n\u001b[1;32m    164\u001b[0m \u001b[0;32mif\u001b[0m \u001b[0m__name__\u001b[0m \u001b[0;34m==\u001b[0m \u001b[0;34m'__main__'\u001b[0m\u001b[0;34m:\u001b[0m\u001b[0;34m\u001b[0m\u001b[0;34m\u001b[0m\u001b[0m\n\u001b[0;32m--> 165\u001b[0;31m     \u001b[0mmain\u001b[0m\u001b[0;34m(\u001b[0m\u001b[0;34m)\u001b[0m\u001b[0;34m\u001b[0m\u001b[0;34m\u001b[0m\u001b[0m\n\u001b[0m\u001b[1;32m    166\u001b[0m \u001b[0;34m\u001b[0m\u001b[0m\n",
      "\u001b[0;32m~/.local/lib/python3.8/site-packages/hydra/main.py\u001b[0m in \u001b[0;36mdecorated_main\u001b[0;34m(cfg_passthrough)\u001b[0m\n\u001b[1;32m     92\u001b[0m                     \u001b[0;31m# no return value from run_hydra() as it may sometime actually run the task_function\u001b[0m\u001b[0;34m\u001b[0m\u001b[0;34m\u001b[0m\u001b[0;34m\u001b[0m\u001b[0m\n\u001b[1;32m     93\u001b[0m                     \u001b[0;31m# multiple times (--multirun)\u001b[0m\u001b[0;34m\u001b[0m\u001b[0;34m\u001b[0m\u001b[0;34m\u001b[0m\u001b[0m\n\u001b[0;32m---> 94\u001b[0;31m                     _run_hydra(\n\u001b[0m\u001b[1;32m     95\u001b[0m                         \u001b[0margs\u001b[0m\u001b[0;34m=\u001b[0m\u001b[0margs\u001b[0m\u001b[0;34m,\u001b[0m\u001b[0;34m\u001b[0m\u001b[0;34m\u001b[0m\u001b[0m\n\u001b[1;32m     96\u001b[0m                         \u001b[0margs_parser\u001b[0m\u001b[0;34m=\u001b[0m\u001b[0margs_parser\u001b[0m\u001b[0;34m,\u001b[0m\u001b[0;34m\u001b[0m\u001b[0;34m\u001b[0m\u001b[0m\n",
      "\u001b[0;32m~/.local/lib/python3.8/site-packages/hydra/_internal/utils.py\u001b[0m in \u001b[0;36m_run_hydra\u001b[0;34m(args, args_parser, task_function, config_path, config_name, caller_stack_depth)\u001b[0m\n\u001b[1;32m    392\u001b[0m         \u001b[0;32mif\u001b[0m \u001b[0margs\u001b[0m\u001b[0;34m.\u001b[0m\u001b[0mrun\u001b[0m \u001b[0;32mor\u001b[0m \u001b[0margs\u001b[0m\u001b[0;34m.\u001b[0m\u001b[0mmultirun\u001b[0m\u001b[0;34m:\u001b[0m\u001b[0;34m\u001b[0m\u001b[0;34m\u001b[0m\u001b[0m\n\u001b[1;32m    393\u001b[0m             \u001b[0mrun_mode\u001b[0m \u001b[0;34m=\u001b[0m \u001b[0mhydra\u001b[0m\u001b[0;34m.\u001b[0m\u001b[0mget_mode\u001b[0m\u001b[0;34m(\u001b[0m\u001b[0mconfig_name\u001b[0m\u001b[0;34m=\u001b[0m\u001b[0mconfig_name\u001b[0m\u001b[0;34m,\u001b[0m \u001b[0moverrides\u001b[0m\u001b[0;34m=\u001b[0m\u001b[0moverrides\u001b[0m\u001b[0;34m)\u001b[0m\u001b[0;34m\u001b[0m\u001b[0;34m\u001b[0m\u001b[0m\n\u001b[0;32m--> 394\u001b[0;31m             _run_app(\n\u001b[0m\u001b[1;32m    395\u001b[0m                 \u001b[0mrun\u001b[0m\u001b[0;34m=\u001b[0m\u001b[0margs\u001b[0m\u001b[0;34m.\u001b[0m\u001b[0mrun\u001b[0m\u001b[0;34m,\u001b[0m\u001b[0;34m\u001b[0m\u001b[0;34m\u001b[0m\u001b[0m\n\u001b[1;32m    396\u001b[0m                 \u001b[0mmultirun\u001b[0m\u001b[0;34m=\u001b[0m\u001b[0margs\u001b[0m\u001b[0;34m.\u001b[0m\u001b[0mmultirun\u001b[0m\u001b[0;34m,\u001b[0m\u001b[0;34m\u001b[0m\u001b[0;34m\u001b[0m\u001b[0m\n",
      "\u001b[0;32m~/.local/lib/python3.8/site-packages/hydra/_internal/utils.py\u001b[0m in \u001b[0;36m_run_app\u001b[0;34m(run, multirun, mode, hydra, config_name, task_function, overrides)\u001b[0m\n\u001b[1;32m    455\u001b[0m \u001b[0;34m\u001b[0m\u001b[0m\n\u001b[1;32m    456\u001b[0m     \u001b[0;32mif\u001b[0m \u001b[0mmode\u001b[0m \u001b[0;34m==\u001b[0m \u001b[0mRunMode\u001b[0m\u001b[0;34m.\u001b[0m\u001b[0mRUN\u001b[0m\u001b[0;34m:\u001b[0m\u001b[0;34m\u001b[0m\u001b[0;34m\u001b[0m\u001b[0m\n\u001b[0;32m--> 457\u001b[0;31m         run_and_report(\n\u001b[0m\u001b[1;32m    458\u001b[0m             lambda: hydra.run(\n\u001b[1;32m    459\u001b[0m                 \u001b[0mconfig_name\u001b[0m\u001b[0;34m=\u001b[0m\u001b[0mconfig_name\u001b[0m\u001b[0;34m,\u001b[0m\u001b[0;34m\u001b[0m\u001b[0;34m\u001b[0m\u001b[0m\n",
      "\u001b[0;32m~/.local/lib/python3.8/site-packages/hydra/_internal/utils.py\u001b[0m in \u001b[0;36mrun_and_report\u001b[0;34m(func)\u001b[0m\n\u001b[1;32m    218\u001b[0m \u001b[0;32mdef\u001b[0m \u001b[0mrun_and_report\u001b[0m\u001b[0;34m(\u001b[0m\u001b[0mfunc\u001b[0m\u001b[0;34m:\u001b[0m \u001b[0mAny\u001b[0m\u001b[0;34m)\u001b[0m \u001b[0;34m->\u001b[0m \u001b[0mAny\u001b[0m\u001b[0;34m:\u001b[0m\u001b[0;34m\u001b[0m\u001b[0;34m\u001b[0m\u001b[0m\n\u001b[1;32m    219\u001b[0m     \u001b[0;32mtry\u001b[0m\u001b[0;34m:\u001b[0m\u001b[0;34m\u001b[0m\u001b[0;34m\u001b[0m\u001b[0m\n\u001b[0;32m--> 220\u001b[0;31m         \u001b[0;32mreturn\u001b[0m \u001b[0mfunc\u001b[0m\u001b[0;34m(\u001b[0m\u001b[0;34m)\u001b[0m\u001b[0;34m\u001b[0m\u001b[0;34m\u001b[0m\u001b[0m\n\u001b[0m\u001b[1;32m    221\u001b[0m     \u001b[0;32mexcept\u001b[0m \u001b[0mException\u001b[0m \u001b[0;32mas\u001b[0m \u001b[0mex\u001b[0m\u001b[0;34m:\u001b[0m\u001b[0;34m\u001b[0m\u001b[0;34m\u001b[0m\u001b[0m\n\u001b[1;32m    222\u001b[0m         \u001b[0;32mif\u001b[0m \u001b[0m_is_env_set\u001b[0m\u001b[0;34m(\u001b[0m\u001b[0;34m\"HYDRA_FULL_ERROR\"\u001b[0m\u001b[0;34m)\u001b[0m \u001b[0;32mor\u001b[0m \u001b[0mis_under_debugger\u001b[0m\u001b[0;34m(\u001b[0m\u001b[0;34m)\u001b[0m\u001b[0;34m:\u001b[0m\u001b[0;34m\u001b[0m\u001b[0;34m\u001b[0m\u001b[0m\n",
      "\u001b[0;32m~/.local/lib/python3.8/site-packages/hydra/_internal/utils.py\u001b[0m in \u001b[0;36m<lambda>\u001b[0;34m()\u001b[0m\n\u001b[1;32m    456\u001b[0m     \u001b[0;32mif\u001b[0m \u001b[0mmode\u001b[0m \u001b[0;34m==\u001b[0m \u001b[0mRunMode\u001b[0m\u001b[0;34m.\u001b[0m\u001b[0mRUN\u001b[0m\u001b[0;34m:\u001b[0m\u001b[0;34m\u001b[0m\u001b[0;34m\u001b[0m\u001b[0m\n\u001b[1;32m    457\u001b[0m         run_and_report(\n\u001b[0;32m--> 458\u001b[0;31m             lambda: hydra.run(\n\u001b[0m\u001b[1;32m    459\u001b[0m                 \u001b[0mconfig_name\u001b[0m\u001b[0;34m=\u001b[0m\u001b[0mconfig_name\u001b[0m\u001b[0;34m,\u001b[0m\u001b[0;34m\u001b[0m\u001b[0;34m\u001b[0m\u001b[0m\n\u001b[1;32m    460\u001b[0m                 \u001b[0mtask_function\u001b[0m\u001b[0;34m=\u001b[0m\u001b[0mtask_function\u001b[0m\u001b[0;34m,\u001b[0m\u001b[0;34m\u001b[0m\u001b[0;34m\u001b[0m\u001b[0m\n",
      "\u001b[0;32m~/.local/lib/python3.8/site-packages/hydra/_internal/hydra.py\u001b[0m in \u001b[0;36mrun\u001b[0;34m(self, config_name, task_function, overrides, with_log_configuration)\u001b[0m\n\u001b[1;32m    117\u001b[0m         \u001b[0mcallbacks\u001b[0m\u001b[0;34m.\u001b[0m\u001b[0mon_run_start\u001b[0m\u001b[0;34m(\u001b[0m\u001b[0mconfig\u001b[0m\u001b[0;34m=\u001b[0m\u001b[0mcfg\u001b[0m\u001b[0;34m,\u001b[0m \u001b[0mconfig_name\u001b[0m\u001b[0;34m=\u001b[0m\u001b[0mconfig_name\u001b[0m\u001b[0;34m)\u001b[0m\u001b[0;34m\u001b[0m\u001b[0;34m\u001b[0m\u001b[0m\n\u001b[1;32m    118\u001b[0m \u001b[0;34m\u001b[0m\u001b[0m\n\u001b[0;32m--> 119\u001b[0;31m         ret = run_job(\n\u001b[0m\u001b[1;32m    120\u001b[0m             hydra_context=HydraContext(\n\u001b[1;32m    121\u001b[0m                 \u001b[0mconfig_loader\u001b[0m\u001b[0;34m=\u001b[0m\u001b[0mself\u001b[0m\u001b[0;34m.\u001b[0m\u001b[0mconfig_loader\u001b[0m\u001b[0;34m,\u001b[0m \u001b[0mcallbacks\u001b[0m\u001b[0;34m=\u001b[0m\u001b[0mcallbacks\u001b[0m\u001b[0;34m\u001b[0m\u001b[0;34m\u001b[0m\u001b[0m\n",
      "\u001b[0;32m~/.local/lib/python3.8/site-packages/hydra/core/utils.py\u001b[0m in \u001b[0;36mrun_job\u001b[0;34m(task_function, config, job_dir_key, job_subdir_key, hydra_context, configure_logging)\u001b[0m\n\u001b[1;32m    184\u001b[0m             \u001b[0mcallbacks\u001b[0m\u001b[0;34m.\u001b[0m\u001b[0mon_job_start\u001b[0m\u001b[0;34m(\u001b[0m\u001b[0mconfig\u001b[0m\u001b[0;34m=\u001b[0m\u001b[0mconfig\u001b[0m\u001b[0;34m,\u001b[0m \u001b[0mtask_function\u001b[0m\u001b[0;34m=\u001b[0m\u001b[0mtask_function\u001b[0m\u001b[0;34m)\u001b[0m\u001b[0;34m\u001b[0m\u001b[0;34m\u001b[0m\u001b[0m\n\u001b[1;32m    185\u001b[0m             \u001b[0;32mtry\u001b[0m\u001b[0;34m:\u001b[0m\u001b[0;34m\u001b[0m\u001b[0;34m\u001b[0m\u001b[0m\n\u001b[0;32m--> 186\u001b[0;31m                 \u001b[0mret\u001b[0m\u001b[0;34m.\u001b[0m\u001b[0mreturn_value\u001b[0m \u001b[0;34m=\u001b[0m \u001b[0mtask_function\u001b[0m\u001b[0;34m(\u001b[0m\u001b[0mtask_cfg\u001b[0m\u001b[0;34m)\u001b[0m\u001b[0;34m\u001b[0m\u001b[0;34m\u001b[0m\u001b[0m\n\u001b[0m\u001b[1;32m    187\u001b[0m                 \u001b[0mret\u001b[0m\u001b[0;34m.\u001b[0m\u001b[0mstatus\u001b[0m \u001b[0;34m=\u001b[0m \u001b[0mJobStatus\u001b[0m\u001b[0;34m.\u001b[0m\u001b[0mCOMPLETED\u001b[0m\u001b[0;34m\u001b[0m\u001b[0;34m\u001b[0m\u001b[0m\n\u001b[1;32m    188\u001b[0m             \u001b[0;32mexcept\u001b[0m \u001b[0mException\u001b[0m \u001b[0;32mas\u001b[0m \u001b[0me\u001b[0m\u001b[0;34m:\u001b[0m\u001b[0;34m\u001b[0m\u001b[0;34m\u001b[0m\u001b[0m\n",
      "\u001b[0;32m~/Federated_learning/CLIENT3/KD_0/client3.py\u001b[0m in \u001b[0;36mmain\u001b[0;34m(cfg)\u001b[0m\n\u001b[1;32m    153\u001b[0m \u001b[0;32mdef\u001b[0m \u001b[0mmain\u001b[0m\u001b[0;34m(\u001b[0m\u001b[0mcfg\u001b[0m\u001b[0;34m:\u001b[0m \u001b[0mDictConfig\u001b[0m\u001b[0;34m)\u001b[0m\u001b[0;34m:\u001b[0m\u001b[0;34m\u001b[0m\u001b[0;34m\u001b[0m\u001b[0m\n\u001b[1;32m    154\u001b[0m     \u001b[0mtrainloader\u001b[0m\u001b[0;34m,\u001b[0m \u001b[0mvalidationloader\u001b[0m\u001b[0;34m,\u001b[0m \u001b[0mtestloader\u001b[0m \u001b[0;34m=\u001b[0m \u001b[0mprepare_dataset_client3\u001b[0m\u001b[0;34m(\u001b[0m\u001b[0mcfg\u001b[0m\u001b[0;34m.\u001b[0m\u001b[0mpath\u001b[0m\u001b[0;34m,\u001b[0m \u001b[0mcfg\u001b[0m\u001b[0;34m.\u001b[0m\u001b[0mnum_clients\u001b[0m\u001b[0;34m,\u001b[0m \u001b[0mcfg\u001b[0m\u001b[0;34m.\u001b[0m\u001b[0mjson_path\u001b[0m\u001b[0;34m,\u001b[0m \u001b[0mcfg\u001b[0m\u001b[0;34m.\u001b[0m\u001b[0mbatch_size\u001b[0m\u001b[0;34m)\u001b[0m\u001b[0;34m\u001b[0m\u001b[0;34m\u001b[0m\u001b[0m\n\u001b[0;32m--> 155\u001b[0;31m     fl.client.start_numpy_client(\n\u001b[0m\u001b[1;32m    156\u001b[0m         \u001b[0mserver_address\u001b[0m\u001b[0;34m=\u001b[0m\u001b[0;34m\"127.0.0.1:8080\"\u001b[0m\u001b[0;34m,\u001b[0m\u001b[0;34m\u001b[0m\u001b[0;34m\u001b[0m\u001b[0m\n\u001b[1;32m    157\u001b[0m         client=FlowerClient(\n",
      "\u001b[0;32m~/.local/lib/python3.8/site-packages/flwr/client/app.py\u001b[0m in \u001b[0;36mstart_numpy_client\u001b[0;34m(server_address, client, grpc_max_message_length, root_certificates, insecure, transport)\u001b[0m\n\u001b[1;32m    399\u001b[0m     \u001b[0mwrp_client\u001b[0m \u001b[0;34m=\u001b[0m \u001b[0mclient\u001b[0m\u001b[0;34m.\u001b[0m\u001b[0mto_client\u001b[0m\u001b[0;34m(\u001b[0m\u001b[0;34m)\u001b[0m\u001b[0;34m\u001b[0m\u001b[0;34m\u001b[0m\u001b[0m\n\u001b[1;32m    400\u001b[0m \u001b[0;34m\u001b[0m\u001b[0m\n\u001b[0;32m--> 401\u001b[0;31m     start_client(\n\u001b[0m\u001b[1;32m    402\u001b[0m         \u001b[0mserver_address\u001b[0m\u001b[0;34m=\u001b[0m\u001b[0mserver_address\u001b[0m\u001b[0;34m,\u001b[0m\u001b[0;34m\u001b[0m\u001b[0;34m\u001b[0m\u001b[0m\n\u001b[1;32m    403\u001b[0m         \u001b[0mclient\u001b[0m\u001b[0;34m=\u001b[0m\u001b[0mwrp_client\u001b[0m\u001b[0;34m,\u001b[0m\u001b[0;34m\u001b[0m\u001b[0;34m\u001b[0m\u001b[0m\n",
      "\u001b[0;32m~/.local/lib/python3.8/site-packages/flwr/client/app.py\u001b[0m in \u001b[0;36mstart_client\u001b[0;34m(server_address, load_callable_fn, client_fn, client, grpc_max_message_length, root_certificates, insecure, transport)\u001b[0m\n\u001b[1;32m    273\u001b[0m             \u001b[0;32mwhile\u001b[0m \u001b[0;32mTrue\u001b[0m\u001b[0;34m:\u001b[0m\u001b[0;34m\u001b[0m\u001b[0;34m\u001b[0m\u001b[0m\n\u001b[1;32m    274\u001b[0m                 \u001b[0;31m# Receive\u001b[0m\u001b[0;34m\u001b[0m\u001b[0;34m\u001b[0m\u001b[0;34m\u001b[0m\u001b[0m\n\u001b[0;32m--> 275\u001b[0;31m                 \u001b[0mtask_ins\u001b[0m \u001b[0;34m=\u001b[0m \u001b[0mreceive\u001b[0m\u001b[0;34m(\u001b[0m\u001b[0;34m)\u001b[0m\u001b[0;34m\u001b[0m\u001b[0;34m\u001b[0m\u001b[0m\n\u001b[0m\u001b[1;32m    276\u001b[0m                 \u001b[0;32mif\u001b[0m \u001b[0mtask_ins\u001b[0m \u001b[0;32mis\u001b[0m \u001b[0;32mNone\u001b[0m\u001b[0;34m:\u001b[0m\u001b[0;34m\u001b[0m\u001b[0;34m\u001b[0m\u001b[0m\n\u001b[1;32m    277\u001b[0m                     \u001b[0mtime\u001b[0m\u001b[0;34m.\u001b[0m\u001b[0msleep\u001b[0m\u001b[0;34m(\u001b[0m\u001b[0;36m3\u001b[0m\u001b[0;34m)\u001b[0m  \u001b[0;31m# Wait for 3s before asking again\u001b[0m\u001b[0;34m\u001b[0m\u001b[0;34m\u001b[0m\u001b[0m\n",
      "\u001b[0;32m~/.local/lib/python3.8/site-packages/flwr/client/grpc_client/connection.py\u001b[0m in \u001b[0;36mreceive\u001b[0;34m()\u001b[0m\n\u001b[1;32m    116\u001b[0m \u001b[0;34m\u001b[0m\u001b[0m\n\u001b[1;32m    117\u001b[0m     \u001b[0;32mdef\u001b[0m \u001b[0mreceive\u001b[0m\u001b[0;34m(\u001b[0m\u001b[0;34m)\u001b[0m \u001b[0;34m->\u001b[0m \u001b[0mTaskIns\u001b[0m\u001b[0;34m:\u001b[0m\u001b[0;34m\u001b[0m\u001b[0;34m\u001b[0m\u001b[0m\n\u001b[0;32m--> 118\u001b[0;31m         \u001b[0mserver_message\u001b[0m \u001b[0;34m=\u001b[0m \u001b[0mnext\u001b[0m\u001b[0;34m(\u001b[0m\u001b[0mserver_message_iterator\u001b[0m\u001b[0;34m)\u001b[0m\u001b[0;34m\u001b[0m\u001b[0;34m\u001b[0m\u001b[0m\n\u001b[0m\u001b[1;32m    119\u001b[0m         return TaskIns(\n\u001b[1;32m    120\u001b[0m             \u001b[0mtask_id\u001b[0m\u001b[0;34m=\u001b[0m\u001b[0mstr\u001b[0m\u001b[0;34m(\u001b[0m\u001b[0muuid\u001b[0m\u001b[0;34m.\u001b[0m\u001b[0muuid4\u001b[0m\u001b[0;34m(\u001b[0m\u001b[0;34m)\u001b[0m\u001b[0;34m)\u001b[0m\u001b[0;34m,\u001b[0m\u001b[0;34m\u001b[0m\u001b[0;34m\u001b[0m\u001b[0m\n",
      "\u001b[0;32m~/.local/lib/python3.8/site-packages/grpc/_channel.py\u001b[0m in \u001b[0;36m__next__\u001b[0;34m(self)\u001b[0m\n\u001b[1;32m    538\u001b[0m \u001b[0;34m\u001b[0m\u001b[0m\n\u001b[1;32m    539\u001b[0m     \u001b[0;32mdef\u001b[0m \u001b[0m__next__\u001b[0m\u001b[0;34m(\u001b[0m\u001b[0mself\u001b[0m\u001b[0;34m)\u001b[0m\u001b[0;34m:\u001b[0m\u001b[0;34m\u001b[0m\u001b[0;34m\u001b[0m\u001b[0m\n\u001b[0;32m--> 540\u001b[0;31m         \u001b[0;32mreturn\u001b[0m \u001b[0mself\u001b[0m\u001b[0;34m.\u001b[0m\u001b[0m_next\u001b[0m\u001b[0;34m(\u001b[0m\u001b[0;34m)\u001b[0m\u001b[0;34m\u001b[0m\u001b[0;34m\u001b[0m\u001b[0m\n\u001b[0m\u001b[1;32m    541\u001b[0m \u001b[0;34m\u001b[0m\u001b[0m\n\u001b[1;32m    542\u001b[0m     \u001b[0;32mdef\u001b[0m \u001b[0m_next\u001b[0m\u001b[0;34m(\u001b[0m\u001b[0mself\u001b[0m\u001b[0;34m)\u001b[0m\u001b[0;34m:\u001b[0m\u001b[0;34m\u001b[0m\u001b[0;34m\u001b[0m\u001b[0m\n",
      "\u001b[0;32m~/.local/lib/python3.8/site-packages/grpc/_channel.py\u001b[0m in \u001b[0;36m_next\u001b[0;34m(self)\u001b[0m\n\u001b[1;32m    955\u001b[0m                 )\n\u001b[1;32m    956\u001b[0m \u001b[0;34m\u001b[0m\u001b[0m\n\u001b[0;32m--> 957\u001b[0;31m             \u001b[0m_common\u001b[0m\u001b[0;34m.\u001b[0m\u001b[0mwait\u001b[0m\u001b[0;34m(\u001b[0m\u001b[0mself\u001b[0m\u001b[0;34m.\u001b[0m\u001b[0m_state\u001b[0m\u001b[0;34m.\u001b[0m\u001b[0mcondition\u001b[0m\u001b[0;34m.\u001b[0m\u001b[0mwait\u001b[0m\u001b[0;34m,\u001b[0m \u001b[0m_response_ready\u001b[0m\u001b[0;34m)\u001b[0m\u001b[0;34m\u001b[0m\u001b[0;34m\u001b[0m\u001b[0m\n\u001b[0m\u001b[1;32m    958\u001b[0m             \u001b[0;32mif\u001b[0m \u001b[0mself\u001b[0m\u001b[0;34m.\u001b[0m\u001b[0m_state\u001b[0m\u001b[0;34m.\u001b[0m\u001b[0mresponse\u001b[0m \u001b[0;32mis\u001b[0m \u001b[0;32mnot\u001b[0m \u001b[0;32mNone\u001b[0m\u001b[0;34m:\u001b[0m\u001b[0;34m\u001b[0m\u001b[0;34m\u001b[0m\u001b[0m\n\u001b[1;32m    959\u001b[0m                 \u001b[0mresponse\u001b[0m \u001b[0;34m=\u001b[0m \u001b[0mself\u001b[0m\u001b[0;34m.\u001b[0m\u001b[0m_state\u001b[0m\u001b[0;34m.\u001b[0m\u001b[0mresponse\u001b[0m\u001b[0;34m\u001b[0m\u001b[0;34m\u001b[0m\u001b[0m\n",
      "\u001b[0;32m~/.local/lib/python3.8/site-packages/grpc/_common.py\u001b[0m in \u001b[0;36mwait\u001b[0;34m(wait_fn, wait_complete_fn, timeout, spin_cb)\u001b[0m\n\u001b[1;32m    154\u001b[0m     \u001b[0;32mif\u001b[0m \u001b[0mtimeout\u001b[0m \u001b[0;32mis\u001b[0m \u001b[0;32mNone\u001b[0m\u001b[0;34m:\u001b[0m\u001b[0;34m\u001b[0m\u001b[0;34m\u001b[0m\u001b[0m\n\u001b[1;32m    155\u001b[0m         \u001b[0;32mwhile\u001b[0m \u001b[0;32mnot\u001b[0m \u001b[0mwait_complete_fn\u001b[0m\u001b[0;34m(\u001b[0m\u001b[0;34m)\u001b[0m\u001b[0;34m:\u001b[0m\u001b[0;34m\u001b[0m\u001b[0;34m\u001b[0m\u001b[0m\n\u001b[0;32m--> 156\u001b[0;31m             \u001b[0m_wait_once\u001b[0m\u001b[0;34m(\u001b[0m\u001b[0mwait_fn\u001b[0m\u001b[0;34m,\u001b[0m \u001b[0mMAXIMUM_WAIT_TIMEOUT\u001b[0m\u001b[0;34m,\u001b[0m \u001b[0mspin_cb\u001b[0m\u001b[0;34m)\u001b[0m\u001b[0;34m\u001b[0m\u001b[0;34m\u001b[0m\u001b[0m\n\u001b[0m\u001b[1;32m    157\u001b[0m     \u001b[0;32melse\u001b[0m\u001b[0;34m:\u001b[0m\u001b[0;34m\u001b[0m\u001b[0;34m\u001b[0m\u001b[0m\n\u001b[1;32m    158\u001b[0m         \u001b[0mend\u001b[0m \u001b[0;34m=\u001b[0m \u001b[0mtime\u001b[0m\u001b[0;34m.\u001b[0m\u001b[0mtime\u001b[0m\u001b[0;34m(\u001b[0m\u001b[0;34m)\u001b[0m \u001b[0;34m+\u001b[0m \u001b[0mtimeout\u001b[0m\u001b[0;34m\u001b[0m\u001b[0;34m\u001b[0m\u001b[0m\n",
      "\u001b[0;32m~/.local/lib/python3.8/site-packages/grpc/_common.py\u001b[0m in \u001b[0;36m_wait_once\u001b[0;34m(wait_fn, timeout, spin_cb)\u001b[0m\n\u001b[1;32m    114\u001b[0m     \u001b[0mspin_cb\u001b[0m\u001b[0;34m:\u001b[0m \u001b[0mOptional\u001b[0m\u001b[0;34m[\u001b[0m\u001b[0mCallable\u001b[0m\u001b[0;34m[\u001b[0m\u001b[0;34m[\u001b[0m\u001b[0;34m]\u001b[0m\u001b[0;34m,\u001b[0m \u001b[0;32mNone\u001b[0m\u001b[0;34m]\u001b[0m\u001b[0;34m]\u001b[0m\u001b[0;34m,\u001b[0m\u001b[0;34m\u001b[0m\u001b[0;34m\u001b[0m\u001b[0m\n\u001b[1;32m    115\u001b[0m ):\n\u001b[0;32m--> 116\u001b[0;31m     \u001b[0mwait_fn\u001b[0m\u001b[0;34m(\u001b[0m\u001b[0mtimeout\u001b[0m\u001b[0;34m=\u001b[0m\u001b[0mtimeout\u001b[0m\u001b[0;34m)\u001b[0m\u001b[0;34m\u001b[0m\u001b[0;34m\u001b[0m\u001b[0m\n\u001b[0m\u001b[1;32m    117\u001b[0m     \u001b[0;32mif\u001b[0m \u001b[0mspin_cb\u001b[0m \u001b[0;32mis\u001b[0m \u001b[0;32mnot\u001b[0m \u001b[0;32mNone\u001b[0m\u001b[0;34m:\u001b[0m\u001b[0;34m\u001b[0m\u001b[0;34m\u001b[0m\u001b[0m\n\u001b[1;32m    118\u001b[0m         \u001b[0mspin_cb\u001b[0m\u001b[0;34m(\u001b[0m\u001b[0;34m)\u001b[0m\u001b[0;34m\u001b[0m\u001b[0;34m\u001b[0m\u001b[0m\n",
      "\u001b[0;32m/usr/lib/python3.8/threading.py\u001b[0m in \u001b[0;36mwait\u001b[0;34m(self, timeout)\u001b[0m\n\u001b[1;32m    304\u001b[0m             \u001b[0;32melse\u001b[0m\u001b[0;34m:\u001b[0m\u001b[0;34m\u001b[0m\u001b[0;34m\u001b[0m\u001b[0m\n\u001b[1;32m    305\u001b[0m                 \u001b[0;32mif\u001b[0m \u001b[0mtimeout\u001b[0m \u001b[0;34m>\u001b[0m \u001b[0;36m0\u001b[0m\u001b[0;34m:\u001b[0m\u001b[0;34m\u001b[0m\u001b[0;34m\u001b[0m\u001b[0m\n\u001b[0;32m--> 306\u001b[0;31m                     \u001b[0mgotit\u001b[0m \u001b[0;34m=\u001b[0m \u001b[0mwaiter\u001b[0m\u001b[0;34m.\u001b[0m\u001b[0macquire\u001b[0m\u001b[0;34m(\u001b[0m\u001b[0;32mTrue\u001b[0m\u001b[0;34m,\u001b[0m \u001b[0mtimeout\u001b[0m\u001b[0;34m)\u001b[0m\u001b[0;34m\u001b[0m\u001b[0;34m\u001b[0m\u001b[0m\n\u001b[0m\u001b[1;32m    307\u001b[0m                 \u001b[0;32melse\u001b[0m\u001b[0;34m:\u001b[0m\u001b[0;34m\u001b[0m\u001b[0;34m\u001b[0m\u001b[0m\n\u001b[1;32m    308\u001b[0m                     \u001b[0mgotit\u001b[0m \u001b[0;34m=\u001b[0m \u001b[0mwaiter\u001b[0m\u001b[0;34m.\u001b[0m\u001b[0macquire\u001b[0m\u001b[0;34m(\u001b[0m\u001b[0;32mFalse\u001b[0m\u001b[0;34m)\u001b[0m\u001b[0;34m\u001b[0m\u001b[0;34m\u001b[0m\u001b[0m\n",
      "\u001b[0;31mKeyboardInterrupt\u001b[0m: "
     ]
    }
   ],
   "source": [
    "%run CLIENT3/KD_0/client3.py"
   ]
  },
  {
   "cell_type": "code",
   "execution_count": null,
   "id": "46017995",
   "metadata": {},
   "outputs": [],
   "source": [
    "%run CLIENT3/KD_1/client3.py"
   ]
  },
  {
   "cell_type": "markdown",
   "id": "551e3c82",
   "metadata": {},
   "source": [
    "## SKD (Client3)"
   ]
  },
  {
   "cell_type": "code",
   "execution_count": null,
   "id": "344baebd",
   "metadata": {},
   "outputs": [],
   "source": [
    "%run CLIENT3/SKD/client3.py"
   ]
  },
  {
   "cell_type": "markdown",
   "id": "e8f620b6",
   "metadata": {},
   "source": [
    "## Analyse baseline (Client3)"
   ]
  },
  {
   "cell_type": "code",
   "execution_count": null,
   "id": "d92669b0",
   "metadata": {},
   "outputs": [],
   "source": [
    "%run CLIENT3/baseline_layers/client3.py"
   ]
  },
  {
   "cell_type": "markdown",
   "id": "69467760",
   "metadata": {},
   "source": [
    "## LowSimilarity (Client3)"
   ]
  },
  {
   "cell_type": "code",
   "execution_count": null,
   "id": "ba96b76b",
   "metadata": {},
   "outputs": [],
   "source": [
    "%run CLIENT3/lowsimilarity/client3.py"
   ]
  },
  {
   "cell_type": "markdown",
   "id": "529252fd",
   "metadata": {},
   "source": [
    "## Ensemble (Client3)"
   ]
  },
  {
   "cell_type": "code",
   "execution_count": null,
   "id": "f7821e9b",
   "metadata": {},
   "outputs": [],
   "source": [
    "%run CLIENT3/ensemble/client3.py"
   ]
  },
  {
   "cell_type": "markdown",
   "id": "eab8db93",
   "metadata": {},
   "source": [
    "## Ensemble dataset (Client3)"
   ]
  },
  {
   "cell_type": "code",
   "execution_count": null,
   "id": "1742a27b",
   "metadata": {},
   "outputs": [],
   "source": [
    "%run CLIENT3/ensemble_dataset/client3.py"
   ]
  },
  {
   "cell_type": "markdown",
   "id": "1e3966f4",
   "metadata": {},
   "source": [
    "## t-SNE (Client3)"
   ]
  },
  {
   "cell_type": "code",
   "execution_count": null,
   "id": "9ee3e297",
   "metadata": {},
   "outputs": [],
   "source": [
    "%run CLIENT3/baseline/test_tSNE.py"
   ]
  },
  {
   "cell_type": "code",
   "execution_count": null,
   "id": "a062ae1a",
   "metadata": {},
   "outputs": [],
   "source": []
  }
 ],
 "metadata": {
  "kernelspec": {
   "display_name": "Python 3 (ipykernel)",
   "language": "python",
   "name": "python3"
  },
  "language_info": {
   "codemirror_mode": {
    "name": "ipython",
    "version": 3
   },
   "file_extension": ".py",
   "mimetype": "text/x-python",
   "name": "python",
   "nbconvert_exporter": "python",
   "pygments_lexer": "ipython3",
   "version": "3.8.10"
  }
 },
 "nbformat": 4,
 "nbformat_minor": 5
}
