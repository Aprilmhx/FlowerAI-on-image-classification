{
 "cells": [
  {
   "cell_type": "markdown",
   "id": "ad98da50",
   "metadata": {},
   "source": [
    "# Federated learning (Client 1)"
   ]
  },
  {
   "cell_type": "code",
   "execution_count": null,
   "id": "bccc1831",
   "metadata": {
    "scrolled": true
   },
   "outputs": [],
   "source": [
    "%run CLIENT1/client1.py"
   ]
  },
  {
   "cell_type": "code",
   "execution_count": null,
   "id": "20219ce0",
   "metadata": {},
   "outputs": [],
   "source": [
    "%run CLIENT1/dataset_client1.py"
   ]
  },
  {
   "cell_type": "markdown",
   "id": "3a391666",
   "metadata": {},
   "source": [
    "## Baseline (Client1)"
   ]
  },
  {
   "cell_type": "code",
   "execution_count": null,
   "id": "763371a2",
   "metadata": {},
   "outputs": [],
   "source": [
    "%run CLIENT1/baseline/client1.py"
   ]
  },
  {
   "cell_type": "markdown",
   "id": "4047a9ea",
   "metadata": {},
   "source": [
    "## Knowledge Distillation (Client1)"
   ]
  },
  {
   "cell_type": "code",
   "execution_count": 1,
   "id": "92d9eec0",
   "metadata": {},
   "outputs": [
    {
     "name": "stderr",
     "output_type": "stream",
     "text": [
      "2024-08-14 20:24:34.531203: W tensorflow/stream_executor/platform/default/dso_loader.cc:64] Could not load dynamic library 'libcudart.so.11.0'; dlerror: libcudart.so.11.0: cannot open shared object file: No such file or directory\n",
      "2024-08-14 20:24:34.531247: I tensorflow/stream_executor/cuda/cudart_stub.cc:29] Ignore above cudart dlerror if you do not have a GPU set up on your machine.\n",
      "INFO flwr 2024-08-14 20:24:39,029 | grpc.py:52 | Opened insecure gRPC connection (no certificates were passed)\n"
     ]
    },
    {
     "name": "stdout",
     "output_type": "stream",
     "text": [
      "[2024-08-14 20:24:39,029][flwr][INFO] - Opened insecure gRPC connection (no certificates were passed)\n"
     ]
    },
    {
     "name": "stderr",
     "output_type": "stream",
     "text": [
      "DEBUG flwr 2024-08-14 20:24:39,032 | connection.py:42 | ChannelConnectivity.IDLE\n"
     ]
    },
    {
     "name": "stdout",
     "output_type": "stream",
     "text": [
      "[2024-08-14 20:24:39,032][flwr][DEBUG] - ChannelConnectivity.IDLE\n"
     ]
    },
    {
     "name": "stderr",
     "output_type": "stream",
     "text": [
      "DEBUG flwr 2024-08-14 20:24:39,034 | connection.py:42 | ChannelConnectivity.CONNECTING\n"
     ]
    },
    {
     "name": "stdout",
     "output_type": "stream",
     "text": [
      "[2024-08-14 20:24:39,034][flwr][DEBUG] - ChannelConnectivity.CONNECTING\n"
     ]
    },
    {
     "name": "stderr",
     "output_type": "stream",
     "text": [
      "DEBUG flwr 2024-08-14 20:24:39,037 | connection.py:42 | ChannelConnectivity.READY\n"
     ]
    },
    {
     "name": "stdout",
     "output_type": "stream",
     "text": [
      "[2024-08-14 20:24:39,037][flwr][DEBUG] - ChannelConnectivity.READY\n",
      "client 1\n",
      "client 2\n",
      "client 3\n",
      "*************Metrics******************\n",
      "Healthy: 0.8008658008311313, Unhealthy: 0.7458646616167487\n",
      "Epoch [1/30] - train loss 0.4809 - train accuracy 0.7754 - train f1_micro 0.7754 - train f1_weighted 0.7752\n",
      "model 2\n",
      "*************Metrics******************\n",
      "Healthy: 0.8545454542865014, Unhealthy: 0.6315789471468145\n",
      "val loss 0.5129 - val accuracy 0.7512 - val f1_micro 0.7512 - val f1_weighted 0.7473\n",
      "Local best ACC achieved...... 0.7472871381433479\n",
      "*************Metrics******************\n",
      "Healthy: 0.7121212120903844, Unhealthy: 0.4536340851902941\n",
      "Epoch [2/30] - train loss 0.6776 - train accuracy 0.5923 - train f1_micro 0.5923 - train f1_weighted 0.5852\n",
      "model 2\n",
      "*************Metrics******************\n",
      "Healthy: 0.3303030302029385, Unhealthy: 0.9438596487916283\n",
      "val loss 0.6450 - val accuracy 0.6146 - val f1_micro 0.6146 - val f1_weighted 0.5788\n",
      "*************Metrics******************\n",
      "Healthy: 0.6329004328730347, Unhealthy: 0.6551378445786898\n",
      "Epoch [3/30] - train loss 0.6070 - train accuracy 0.6432 - train f1_micro 0.6432 - train f1_weighted 0.6437\n",
      "model 2\n",
      "*************Metrics******************\n",
      "Healthy: 0.5303030301423325, Unhealthy: 0.831578947076639\n",
      "val loss 0.6012 - val accuracy 0.6699 - val f1_micro 0.6699 - val f1_weighted 0.6641\n",
      "*************Metrics******************\n",
      "Healthy: 0.6818181817886659, Unhealthy: 0.7197994987107871\n",
      "Epoch [4/30] - train loss 0.5649 - train accuracy 0.6994 - train f1_micro 0.6994 - train f1_weighted 0.6998\n",
      "model 2\n",
      "*************Metrics******************\n",
      "Healthy: 0.9060606057860423, Unhealthy: 0.38947368407386895\n",
      "val loss 0.5933 - val accuracy 0.6667 - val f1_micro 0.6667 - val f1_weighted 0.6405\n",
      "*************Metrics******************\n",
      "Healthy: 0.7298701298385338, Unhealthy: 0.7117794485858757\n",
      "Epoch [5/30] - train loss 0.5430 - train accuracy 0.7215 - train f1_micro 0.7215 - train f1_weighted 0.7217\n",
      "model 2\n",
      "*************Metrics******************\n",
      "Healthy: 0.8030303027869606, Unhealthy: 0.6877192980043091\n",
      "val loss 0.5326 - val accuracy 0.7496 - val f1_micro 0.7496 - val f1_weighted 0.7485\n",
      "Local best ACC achieved...... 0.7484831528477227\n",
      "*************Metrics******************\n",
      "Healthy: 0.7571428571100804, Unhealthy: 0.7468671678823626\n",
      "Epoch [6/30] - train loss 0.5106 - train accuracy 0.7524 - train f1_micro 0.7524 - train f1_weighted 0.7526\n",
      "model 2\n",
      "*************Metrics******************\n",
      "Healthy: 0.748484848258035, Unhealthy: 0.754385964647584\n",
      "val loss 0.5098 - val accuracy 0.7512 - val f1_micro 0.7512 - val f1_weighted 0.7515\n",
      "Local best ACC achieved...... 0.7514938823132469\n",
      "*************Metrics******************\n",
      "Healthy: 0.7463203462880381, Unhealthy: 0.7453634084839418\n",
      "Epoch [7/30] - train loss 0.5143 - train accuracy 0.7459 - train f1_micro 0.7459 - train f1_weighted 0.7461\n",
      "model 2\n",
      "*************Metrics******************\n",
      "Healthy: 0.9090909088154271, Unhealthy: 0.4842105261458911\n",
      "val loss 0.5661 - val accuracy 0.7122 - val f1_micro 0.7122 - val f1_weighted 0.6967\n",
      "*************Metrics******************\n",
      "Healthy: 0.7636363636033058, Unhealthy: 0.7578947368041156\n",
      "Epoch [8/30] - train loss 0.4935 - train accuracy 0.7610 - train f1_micro 0.7610 - train f1_weighted 0.7612\n",
      "model 2\n",
      "*************Metrics******************\n",
      "Healthy: 0.8212121209632691, Unhealthy: 0.6421052629325947\n",
      "val loss 0.5093 - val accuracy 0.7382 - val f1_micro 0.7382 - val f1_weighted 0.7355\n",
      "*************Metrics******************\n",
      "Healthy: 0.7852813852473904, Unhealthy: 0.764411027530606\n",
      "Epoch [9/30] - train loss 0.4763 - train accuracy 0.7756 - train f1_micro 0.7756 - train f1_weighted 0.7757\n",
      "model 2\n",
      "*************Metrics******************\n",
      "Healthy: 0.9090909088154271, Unhealthy: 0.5403508770033857\n",
      "val loss 0.5627 - val accuracy 0.7382 - val f1_micro 0.7382 - val f1_weighted 0.7274\n",
      "*************Metrics******************\n",
      "Healthy: 0.7926406926063793, Unhealthy: 0.7694235588586755\n",
      "Epoch [10/30] - train loss 0.4655 - train accuracy 0.7819 - train f1_micro 0.7819 - train f1_weighted 0.7819\n",
      "model 2\n",
      "*************Metrics******************\n",
      "Healthy: 0.8272727270220387, Unhealthy: 0.6771929822185289\n",
      "val loss 0.4920 - val accuracy 0.7577 - val f1_micro 0.7577 - val f1_weighted 0.7559\n",
      "Local best ACC achieved...... 0.7558991329844718\n",
      "*************Metrics******************\n",
      "Healthy: 0.7909090908748525, Unhealthy: 0.7583959899369226\n",
      "Epoch [11/30] - train loss 0.4579 - train accuracy 0.7758 - train f1_micro 0.7758 - train f1_weighted 0.7758\n",
      "model 2\n",
      "*************Metrics******************\n",
      "Healthy: 0.748484848258035, Unhealthy: 0.7333333330760234\n",
      "val loss 0.4849 - val accuracy 0.7415 - val f1_micro 0.7415 - val f1_weighted 0.7416\n",
      "*************Metrics******************\n",
      "Healthy: 0.7956709956365511, Unhealthy: 0.7709273182570965\n",
      "Epoch [12/30] - train loss 0.4536 - train accuracy 0.7842 - train f1_micro 0.7842 - train f1_weighted 0.7843\n",
      "model 2\n",
      "*************Metrics******************\n",
      "Healthy: 0.8787878785215795, Unhealthy: 0.6280701752182211\n",
      "val loss 0.5018 - val accuracy 0.7626 - val f1_micro 0.7626 - val f1_weighted 0.7578\n",
      "Local best ACC achieved...... 0.7578485200436421\n",
      "*************Metrics******************\n",
      "Healthy: 0.8051948051599483, Unhealthy: 0.7829573934444634\n",
      "Epoch [13/30] - train loss 0.4446 - train accuracy 0.7949 - train f1_micro 0.7949 - train f1_weighted 0.7949\n",
      "model 2\n",
      "*************Metrics******************\n",
      "Healthy: 0.6212121210238751, Unhealthy: 0.8666666663625732\n",
      "val loss 0.5109 - val accuracy 0.7350 - val f1_micro 0.7350 - val f1_weighted 0.7324\n",
      "*************Metrics******************\n",
      "Healthy: 0.7917748917406159, Unhealthy: 0.7784461152492007\n",
      "Epoch [14/30] - train loss 0.4579 - train accuracy 0.7856 - train f1_micro 0.7856 - train f1_weighted 0.7857\n",
      "model 2\n",
      "*************Metrics******************\n",
      "Healthy: 0.8030303027869606, Unhealthy: 0.712280701504463\n",
      "val loss 0.4849 - val accuracy 0.7610 - val f1_micro 0.7610 - val f1_weighted 0.7603\n",
      "Local best ACC achieved...... 0.7603026810889989\n",
      "*************Metrics******************\n",
      "Healthy: 0.7991341990996046, Unhealthy: 0.7824561403116564\n",
      "Epoch [15/30] - train loss 0.4437 - train accuracy 0.7914 - train f1_micro 0.7914 - train f1_weighted 0.7915\n",
      "model 2\n",
      "*************Metrics******************\n",
      "Healthy: 0.8696969694334252, Unhealthy: 0.6140350875038474\n",
      "val loss 0.4889 - val accuracy 0.7512 - val f1_micro 0.7512 - val f1_weighted 0.7461\n",
      "*************Metrics******************\n",
      "Healthy: 0.8099567099216469, Unhealthy: 0.7929824561006025\n",
      "Epoch [16/30] - train loss 0.4317 - train accuracy 0.8021 - train f1_micro 0.8021 - train f1_weighted 0.8022\n",
      "model 2\n",
      "*************Metrics******************\n",
      "Healthy: 0.8393939391395777, Unhealthy: 0.7157894734330564\n",
      "val loss 0.4614 - val accuracy 0.7821 - val f1_micro 0.7821 - val f1_weighted 0.7809\n",
      "Local best ACC achieved...... 0.7809194952414641\n",
      "*************Metrics******************\n",
      "Healthy: 0.8177489177135174, Unhealthy: 0.7939849623662164\n",
      "Epoch [17/30] - train loss 0.4260 - train accuracy 0.8067 - train f1_micro 0.8067 - train f1_weighted 0.8068\n",
      "model 2\n",
      "*************Metrics******************\n",
      "Healthy: 0.8333333330808081, Unhealthy: 0.7438596488618037\n",
      "val loss 0.4455 - val accuracy 0.7919 - val f1_micro 0.7919 - val f1_weighted 0.7912\n",
      "Local best ACC achieved...... 0.7912392821504206\n",
      "*************Metrics******************\n",
      "Healthy: 0.8190476190121625, Unhealthy: 0.7909774435693746\n",
      "Epoch [18/30] - train loss 0.4238 - train accuracy 0.8060 - train f1_micro 0.8060 - train f1_weighted 0.8060\n",
      "model 2\n",
      "*************Metrics******************\n",
      "Healthy: 0.8696969694334252, Unhealthy: 0.6070175436466606\n",
      "val loss 0.5077 - val accuracy 0.7480 - val f1_micro 0.7480 - val f1_weighted 0.7425\n",
      "*************Metrics******************\n",
      "Healthy: 0.815584415549109, Unhealthy: 0.8050125312879693\n",
      "Epoch [19/30] - train loss 0.4223 - train accuracy 0.8107 - train f1_micro 0.8107 - train f1_weighted 0.8108\n",
      "model 2\n",
      "*************Metrics******************\n",
      "Healthy: 0.8272727270220387, Unhealthy: 0.7157894734330564\n",
      "val loss 0.4670 - val accuracy 0.7756 - val f1_micro 0.7756 - val f1_weighted 0.7746\n",
      "*************Metrics******************\n",
      "Healthy: 0.8116883116531737, Unhealthy: 0.8045112781551624\n",
      "Epoch [20/30] - train loss 0.4256 - train accuracy 0.8084 - train f1_micro 0.8084 - train f1_weighted 0.8085\n",
      "model 2\n"
     ]
    },
    {
     "name": "stdout",
     "output_type": "stream",
     "text": [
      "*************Metrics******************\n",
      "Healthy: 0.8212121209632691, Unhealthy: 0.7157894734330564\n",
      "val loss 0.4502 - val accuracy 0.7724 - val f1_micro 0.7724 - val f1_weighted 0.7715\n",
      "*************Metrics******************\n",
      "Healthy: 0.8264069263711513, Unhealthy: 0.7984962405614789\n",
      "Epoch [21/30] - train loss 0.4140 - train accuracy 0.8135 - train f1_micro 0.8135 - train f1_weighted 0.8135\n",
      "model 2\n",
      "*************Metrics******************\n",
      "Healthy: 0.8181818179338843, Unhealthy: 0.7368421050046169\n",
      "val loss 0.4472 - val accuracy 0.7805 - val f1_micro 0.7805 - val f1_weighted 0.7800\n",
      "*************Metrics******************\n",
      "Healthy: 0.832467532431495, Unhealthy: 0.8150375939441085\n",
      "Epoch [22/30] - train loss 0.3983 - train accuracy 0.8244 - train f1_micro 0.8244 - train f1_weighted 0.8244\n",
      "model 2\n",
      "*************Metrics******************\n",
      "Healthy: 0.6696969694940312, Unhealthy: 0.8631578944339798\n",
      "val loss 0.4553 - val accuracy 0.7593 - val f1_micro 0.7593 - val f1_weighted 0.7582\n",
      "*************Metrics******************\n",
      "Healthy: 0.8424242423877739, Unhealthy: 0.8165413533425293\n",
      "Epoch [23/30] - train loss 0.3908 - train accuracy 0.8304 - train f1_micro 0.8304 - train f1_weighted 0.8304\n",
      "model 2\n",
      "*************Metrics******************\n",
      "Healthy: 0.7060606058466484, Unhealthy: 0.8666666663625732\n",
      "val loss 0.4715 - val accuracy 0.7805 - val f1_micro 0.7805 - val f1_weighted 0.7800\n",
      "*************Metrics******************\n",
      "Healthy: 0.8445887445521824, Unhealthy: 0.8165413533425293\n",
      "Epoch [24/30] - train loss 0.3885 - train accuracy 0.8316 - train f1_micro 0.8316 - train f1_weighted 0.8316\n",
      "model 2\n",
      "*************Metrics******************\n",
      "Healthy: 0.8060606058163453, Unhealthy: 0.7649122804333642\n",
      "val loss 0.4412 - val accuracy 0.7870 - val f1_micro 0.7870 - val f1_weighted 0.7869\n",
      "*************Metrics******************\n",
      "Healthy: 0.8393939393576021, Unhealthy: 0.8375939849204214\n",
      "Epoch [25/30] - train loss 0.3767 - train accuracy 0.8386 - train f1_micro 0.8386 - train f1_weighted 0.8387\n",
      "model 2\n",
      "*************Metrics******************\n",
      "Healthy: 0.884848484580349, Unhealthy: 0.6596491225755617\n",
      "val loss 0.4679 - val accuracy 0.7805 - val f1_micro 0.7805 - val f1_weighted 0.7768\n",
      "*************Metrics******************\n",
      "Healthy: 0.845021644985064, Unhealthy: 0.8395989974516492\n",
      "Epoch [26/30] - train loss 0.3643 - train accuracy 0.8425 - train f1_micro 0.8425 - train f1_weighted 0.8426\n",
      "model 2\n",
      "*************Metrics******************\n",
      "Healthy: 0.8181818179338843, Unhealthy: 0.7684210523619576\n",
      "val loss 0.4332 - val accuracy 0.7951 - val f1_micro 0.7951 - val f1_weighted 0.7950\n",
      "Local best ACC achieved...... 0.7949550484579027\n",
      "*************Metrics******************\n",
      "Healthy: 0.8510822510454078, Unhealthy: 0.843107769381298\n",
      "Epoch [27/30] - train loss 0.3518 - train accuracy 0.8474 - train f1_micro 0.8474 - train f1_weighted 0.8475\n",
      "model 2\n",
      "*************Metrics******************\n",
      "Healthy: 0.7454545452286502, Unhealthy: 0.8421052628624193\n",
      "val loss 0.4880 - val accuracy 0.7902 - val f1_micro 0.7902 - val f1_weighted 0.7904\n",
      "*************Metrics******************\n",
      "Healthy: 0.8623376623003317, Unhealthy: 0.8481203007093675\n",
      "Epoch [28/30] - train loss 0.3440 - train accuracy 0.8557 - train f1_micro 0.8557 - train f1_weighted 0.8558\n",
      "model 2\n",
      "*************Metrics******************\n",
      "Healthy: 0.8242424239926539, Unhealthy: 0.7649122804333642\n",
      "val loss 0.4278 - val accuracy 0.7967 - val f1_micro 0.7967 - val f1_weighted 0.7965\n",
      "Local best ACC achieved...... 0.7964847697204821\n",
      "*************Metrics******************\n",
      "Healthy: 0.8580086579715148, Unhealthy: 0.8511278195062092\n",
      "Epoch [29/30] - train loss 0.3361 - train accuracy 0.8548 - train f1_micro 0.8548 - train f1_weighted 0.8549\n",
      "model 2\n",
      "*************Metrics******************\n",
      "Healthy: 0.7363636361404959, Unhealthy: 0.8456140347910127\n",
      "val loss 0.4225 - val accuracy 0.7870 - val f1_micro 0.7870 - val f1_weighted 0.7870\n",
      "*************Metrics******************\n",
      "Healthy: 0.8757575757196643, Unhealthy: 0.8726817042169083\n",
      "Epoch [30/30] - train loss 0.3075 - train accuracy 0.8743 - train f1_micro 0.8743 - train f1_weighted 0.8744\n",
      "model 2\n",
      "*************Metrics******************\n",
      "Healthy: 0.7878787876400368, Unhealthy: 0.7824561400763312\n",
      "val loss 0.4577 - val accuracy 0.7854 - val f1_micro 0.7854 - val f1_weighted 0.7855\n",
      "client 1\n"
     ]
    },
    {
     "name": "stderr",
     "output_type": "stream",
     "text": [
      "DEBUG flwr 2024-08-14 21:14:17,245 | connection.py:141 | gRPC channel closed\n"
     ]
    },
    {
     "name": "stdout",
     "output_type": "stream",
     "text": [
      "[2024-08-14 21:14:17,245][flwr][DEBUG] - gRPC channel closed\n"
     ]
    },
    {
     "ename": "KeyboardInterrupt",
     "evalue": "",
     "output_type": "error",
     "traceback": [
      "\u001b[0;31m---------------------------------------------------------------------------\u001b[0m",
      "\u001b[0;31mKeyboardInterrupt\u001b[0m                         Traceback (most recent call last)",
      "\u001b[0;32m~/Federated_learning/CLIENT1/KD_0/client1.py\u001b[0m in \u001b[0;36m<module>\u001b[0;34m\u001b[0m\n\u001b[1;32m    163\u001b[0m \u001b[0;34m\u001b[0m\u001b[0m\n\u001b[1;32m    164\u001b[0m \u001b[0;32mif\u001b[0m \u001b[0m__name__\u001b[0m \u001b[0;34m==\u001b[0m \u001b[0;34m'__main__'\u001b[0m\u001b[0;34m:\u001b[0m\u001b[0;34m\u001b[0m\u001b[0;34m\u001b[0m\u001b[0m\n\u001b[0;32m--> 165\u001b[0;31m     \u001b[0mmain\u001b[0m\u001b[0;34m(\u001b[0m\u001b[0;34m)\u001b[0m\u001b[0;34m\u001b[0m\u001b[0;34m\u001b[0m\u001b[0m\n\u001b[0m\u001b[1;32m    166\u001b[0m \u001b[0;34m\u001b[0m\u001b[0m\n\u001b[1;32m    167\u001b[0m \u001b[0;34m\u001b[0m\u001b[0m\n",
      "\u001b[0;32m~/.local/lib/python3.8/site-packages/hydra/main.py\u001b[0m in \u001b[0;36mdecorated_main\u001b[0;34m(cfg_passthrough)\u001b[0m\n\u001b[1;32m     92\u001b[0m                     \u001b[0;31m# no return value from run_hydra() as it may sometime actually run the task_function\u001b[0m\u001b[0;34m\u001b[0m\u001b[0;34m\u001b[0m\u001b[0;34m\u001b[0m\u001b[0m\n\u001b[1;32m     93\u001b[0m                     \u001b[0;31m# multiple times (--multirun)\u001b[0m\u001b[0;34m\u001b[0m\u001b[0;34m\u001b[0m\u001b[0;34m\u001b[0m\u001b[0m\n\u001b[0;32m---> 94\u001b[0;31m                     _run_hydra(\n\u001b[0m\u001b[1;32m     95\u001b[0m                         \u001b[0margs\u001b[0m\u001b[0;34m=\u001b[0m\u001b[0margs\u001b[0m\u001b[0;34m,\u001b[0m\u001b[0;34m\u001b[0m\u001b[0;34m\u001b[0m\u001b[0m\n\u001b[1;32m     96\u001b[0m                         \u001b[0margs_parser\u001b[0m\u001b[0;34m=\u001b[0m\u001b[0margs_parser\u001b[0m\u001b[0;34m,\u001b[0m\u001b[0;34m\u001b[0m\u001b[0;34m\u001b[0m\u001b[0m\n",
      "\u001b[0;32m~/.local/lib/python3.8/site-packages/hydra/_internal/utils.py\u001b[0m in \u001b[0;36m_run_hydra\u001b[0;34m(args, args_parser, task_function, config_path, config_name, caller_stack_depth)\u001b[0m\n\u001b[1;32m    392\u001b[0m         \u001b[0;32mif\u001b[0m \u001b[0margs\u001b[0m\u001b[0;34m.\u001b[0m\u001b[0mrun\u001b[0m \u001b[0;32mor\u001b[0m \u001b[0margs\u001b[0m\u001b[0;34m.\u001b[0m\u001b[0mmultirun\u001b[0m\u001b[0;34m:\u001b[0m\u001b[0;34m\u001b[0m\u001b[0;34m\u001b[0m\u001b[0m\n\u001b[1;32m    393\u001b[0m             \u001b[0mrun_mode\u001b[0m \u001b[0;34m=\u001b[0m \u001b[0mhydra\u001b[0m\u001b[0;34m.\u001b[0m\u001b[0mget_mode\u001b[0m\u001b[0;34m(\u001b[0m\u001b[0mconfig_name\u001b[0m\u001b[0;34m=\u001b[0m\u001b[0mconfig_name\u001b[0m\u001b[0;34m,\u001b[0m \u001b[0moverrides\u001b[0m\u001b[0;34m=\u001b[0m\u001b[0moverrides\u001b[0m\u001b[0;34m)\u001b[0m\u001b[0;34m\u001b[0m\u001b[0;34m\u001b[0m\u001b[0m\n\u001b[0;32m--> 394\u001b[0;31m             _run_app(\n\u001b[0m\u001b[1;32m    395\u001b[0m                 \u001b[0mrun\u001b[0m\u001b[0;34m=\u001b[0m\u001b[0margs\u001b[0m\u001b[0;34m.\u001b[0m\u001b[0mrun\u001b[0m\u001b[0;34m,\u001b[0m\u001b[0;34m\u001b[0m\u001b[0;34m\u001b[0m\u001b[0m\n\u001b[1;32m    396\u001b[0m                 \u001b[0mmultirun\u001b[0m\u001b[0;34m=\u001b[0m\u001b[0margs\u001b[0m\u001b[0;34m.\u001b[0m\u001b[0mmultirun\u001b[0m\u001b[0;34m,\u001b[0m\u001b[0;34m\u001b[0m\u001b[0;34m\u001b[0m\u001b[0m\n",
      "\u001b[0;32m~/.local/lib/python3.8/site-packages/hydra/_internal/utils.py\u001b[0m in \u001b[0;36m_run_app\u001b[0;34m(run, multirun, mode, hydra, config_name, task_function, overrides)\u001b[0m\n\u001b[1;32m    455\u001b[0m \u001b[0;34m\u001b[0m\u001b[0m\n\u001b[1;32m    456\u001b[0m     \u001b[0;32mif\u001b[0m \u001b[0mmode\u001b[0m \u001b[0;34m==\u001b[0m \u001b[0mRunMode\u001b[0m\u001b[0;34m.\u001b[0m\u001b[0mRUN\u001b[0m\u001b[0;34m:\u001b[0m\u001b[0;34m\u001b[0m\u001b[0;34m\u001b[0m\u001b[0m\n\u001b[0;32m--> 457\u001b[0;31m         run_and_report(\n\u001b[0m\u001b[1;32m    458\u001b[0m             lambda: hydra.run(\n\u001b[1;32m    459\u001b[0m                 \u001b[0mconfig_name\u001b[0m\u001b[0;34m=\u001b[0m\u001b[0mconfig_name\u001b[0m\u001b[0;34m,\u001b[0m\u001b[0;34m\u001b[0m\u001b[0;34m\u001b[0m\u001b[0m\n",
      "\u001b[0;32m~/.local/lib/python3.8/site-packages/hydra/_internal/utils.py\u001b[0m in \u001b[0;36mrun_and_report\u001b[0;34m(func)\u001b[0m\n\u001b[1;32m    218\u001b[0m \u001b[0;32mdef\u001b[0m \u001b[0mrun_and_report\u001b[0m\u001b[0;34m(\u001b[0m\u001b[0mfunc\u001b[0m\u001b[0;34m:\u001b[0m \u001b[0mAny\u001b[0m\u001b[0;34m)\u001b[0m \u001b[0;34m->\u001b[0m \u001b[0mAny\u001b[0m\u001b[0;34m:\u001b[0m\u001b[0;34m\u001b[0m\u001b[0;34m\u001b[0m\u001b[0m\n\u001b[1;32m    219\u001b[0m     \u001b[0;32mtry\u001b[0m\u001b[0;34m:\u001b[0m\u001b[0;34m\u001b[0m\u001b[0;34m\u001b[0m\u001b[0m\n\u001b[0;32m--> 220\u001b[0;31m         \u001b[0;32mreturn\u001b[0m \u001b[0mfunc\u001b[0m\u001b[0;34m(\u001b[0m\u001b[0;34m)\u001b[0m\u001b[0;34m\u001b[0m\u001b[0;34m\u001b[0m\u001b[0m\n\u001b[0m\u001b[1;32m    221\u001b[0m     \u001b[0;32mexcept\u001b[0m \u001b[0mException\u001b[0m \u001b[0;32mas\u001b[0m \u001b[0mex\u001b[0m\u001b[0;34m:\u001b[0m\u001b[0;34m\u001b[0m\u001b[0;34m\u001b[0m\u001b[0m\n\u001b[1;32m    222\u001b[0m         \u001b[0;32mif\u001b[0m \u001b[0m_is_env_set\u001b[0m\u001b[0;34m(\u001b[0m\u001b[0;34m\"HYDRA_FULL_ERROR\"\u001b[0m\u001b[0;34m)\u001b[0m \u001b[0;32mor\u001b[0m \u001b[0mis_under_debugger\u001b[0m\u001b[0;34m(\u001b[0m\u001b[0;34m)\u001b[0m\u001b[0;34m:\u001b[0m\u001b[0;34m\u001b[0m\u001b[0;34m\u001b[0m\u001b[0m\n",
      "\u001b[0;32m~/.local/lib/python3.8/site-packages/hydra/_internal/utils.py\u001b[0m in \u001b[0;36m<lambda>\u001b[0;34m()\u001b[0m\n\u001b[1;32m    456\u001b[0m     \u001b[0;32mif\u001b[0m \u001b[0mmode\u001b[0m \u001b[0;34m==\u001b[0m \u001b[0mRunMode\u001b[0m\u001b[0;34m.\u001b[0m\u001b[0mRUN\u001b[0m\u001b[0;34m:\u001b[0m\u001b[0;34m\u001b[0m\u001b[0;34m\u001b[0m\u001b[0m\n\u001b[1;32m    457\u001b[0m         run_and_report(\n\u001b[0;32m--> 458\u001b[0;31m             lambda: hydra.run(\n\u001b[0m\u001b[1;32m    459\u001b[0m                 \u001b[0mconfig_name\u001b[0m\u001b[0;34m=\u001b[0m\u001b[0mconfig_name\u001b[0m\u001b[0;34m,\u001b[0m\u001b[0;34m\u001b[0m\u001b[0;34m\u001b[0m\u001b[0m\n\u001b[1;32m    460\u001b[0m                 \u001b[0mtask_function\u001b[0m\u001b[0;34m=\u001b[0m\u001b[0mtask_function\u001b[0m\u001b[0;34m,\u001b[0m\u001b[0;34m\u001b[0m\u001b[0;34m\u001b[0m\u001b[0m\n",
      "\u001b[0;32m~/.local/lib/python3.8/site-packages/hydra/_internal/hydra.py\u001b[0m in \u001b[0;36mrun\u001b[0;34m(self, config_name, task_function, overrides, with_log_configuration)\u001b[0m\n\u001b[1;32m    117\u001b[0m         \u001b[0mcallbacks\u001b[0m\u001b[0;34m.\u001b[0m\u001b[0mon_run_start\u001b[0m\u001b[0;34m(\u001b[0m\u001b[0mconfig\u001b[0m\u001b[0;34m=\u001b[0m\u001b[0mcfg\u001b[0m\u001b[0;34m,\u001b[0m \u001b[0mconfig_name\u001b[0m\u001b[0;34m=\u001b[0m\u001b[0mconfig_name\u001b[0m\u001b[0;34m)\u001b[0m\u001b[0;34m\u001b[0m\u001b[0;34m\u001b[0m\u001b[0m\n\u001b[1;32m    118\u001b[0m \u001b[0;34m\u001b[0m\u001b[0m\n\u001b[0;32m--> 119\u001b[0;31m         ret = run_job(\n\u001b[0m\u001b[1;32m    120\u001b[0m             hydra_context=HydraContext(\n\u001b[1;32m    121\u001b[0m                 \u001b[0mconfig_loader\u001b[0m\u001b[0;34m=\u001b[0m\u001b[0mself\u001b[0m\u001b[0;34m.\u001b[0m\u001b[0mconfig_loader\u001b[0m\u001b[0;34m,\u001b[0m \u001b[0mcallbacks\u001b[0m\u001b[0;34m=\u001b[0m\u001b[0mcallbacks\u001b[0m\u001b[0;34m\u001b[0m\u001b[0;34m\u001b[0m\u001b[0m\n",
      "\u001b[0;32m~/.local/lib/python3.8/site-packages/hydra/core/utils.py\u001b[0m in \u001b[0;36mrun_job\u001b[0;34m(task_function, config, job_dir_key, job_subdir_key, hydra_context, configure_logging)\u001b[0m\n\u001b[1;32m    184\u001b[0m             \u001b[0mcallbacks\u001b[0m\u001b[0;34m.\u001b[0m\u001b[0mon_job_start\u001b[0m\u001b[0;34m(\u001b[0m\u001b[0mconfig\u001b[0m\u001b[0;34m=\u001b[0m\u001b[0mconfig\u001b[0m\u001b[0;34m,\u001b[0m \u001b[0mtask_function\u001b[0m\u001b[0;34m=\u001b[0m\u001b[0mtask_function\u001b[0m\u001b[0;34m)\u001b[0m\u001b[0;34m\u001b[0m\u001b[0;34m\u001b[0m\u001b[0m\n\u001b[1;32m    185\u001b[0m             \u001b[0;32mtry\u001b[0m\u001b[0;34m:\u001b[0m\u001b[0;34m\u001b[0m\u001b[0;34m\u001b[0m\u001b[0m\n\u001b[0;32m--> 186\u001b[0;31m                 \u001b[0mret\u001b[0m\u001b[0;34m.\u001b[0m\u001b[0mreturn_value\u001b[0m \u001b[0;34m=\u001b[0m \u001b[0mtask_function\u001b[0m\u001b[0;34m(\u001b[0m\u001b[0mtask_cfg\u001b[0m\u001b[0;34m)\u001b[0m\u001b[0;34m\u001b[0m\u001b[0;34m\u001b[0m\u001b[0m\n\u001b[0m\u001b[1;32m    187\u001b[0m                 \u001b[0mret\u001b[0m\u001b[0;34m.\u001b[0m\u001b[0mstatus\u001b[0m \u001b[0;34m=\u001b[0m \u001b[0mJobStatus\u001b[0m\u001b[0;34m.\u001b[0m\u001b[0mCOMPLETED\u001b[0m\u001b[0;34m\u001b[0m\u001b[0;34m\u001b[0m\u001b[0m\n\u001b[1;32m    188\u001b[0m             \u001b[0;32mexcept\u001b[0m \u001b[0mException\u001b[0m \u001b[0;32mas\u001b[0m \u001b[0me\u001b[0m\u001b[0;34m:\u001b[0m\u001b[0;34m\u001b[0m\u001b[0;34m\u001b[0m\u001b[0m\n",
      "\u001b[0;32m~/Federated_learning/CLIENT1/KD_0/client1.py\u001b[0m in \u001b[0;36mmain\u001b[0;34m(cfg)\u001b[0m\n\u001b[1;32m    153\u001b[0m \u001b[0;32mdef\u001b[0m \u001b[0mmain\u001b[0m\u001b[0;34m(\u001b[0m\u001b[0mcfg\u001b[0m\u001b[0;34m:\u001b[0m \u001b[0mDictConfig\u001b[0m\u001b[0;34m)\u001b[0m\u001b[0;34m:\u001b[0m\u001b[0;34m\u001b[0m\u001b[0;34m\u001b[0m\u001b[0m\n\u001b[1;32m    154\u001b[0m     \u001b[0mtrainloader\u001b[0m\u001b[0;34m,\u001b[0m \u001b[0mvalidationloader\u001b[0m\u001b[0;34m,\u001b[0m \u001b[0mtestloader\u001b[0m \u001b[0;34m=\u001b[0m \u001b[0mprepare_dataset_client1\u001b[0m\u001b[0;34m(\u001b[0m\u001b[0mcfg\u001b[0m\u001b[0;34m.\u001b[0m\u001b[0mpath\u001b[0m\u001b[0;34m,\u001b[0m \u001b[0mcfg\u001b[0m\u001b[0;34m.\u001b[0m\u001b[0mnum_clients\u001b[0m\u001b[0;34m,\u001b[0m \u001b[0mcfg\u001b[0m\u001b[0;34m.\u001b[0m\u001b[0mjson_path\u001b[0m\u001b[0;34m,\u001b[0m \u001b[0mcfg\u001b[0m\u001b[0;34m.\u001b[0m\u001b[0mbatch_size\u001b[0m\u001b[0;34m)\u001b[0m\u001b[0;34m\u001b[0m\u001b[0;34m\u001b[0m\u001b[0m\n\u001b[0;32m--> 155\u001b[0;31m     fl.client.start_numpy_client(\n\u001b[0m\u001b[1;32m    156\u001b[0m         \u001b[0mserver_address\u001b[0m\u001b[0;34m=\u001b[0m\u001b[0;34m\"127.0.0.1:8080\"\u001b[0m\u001b[0;34m,\u001b[0m\u001b[0;34m\u001b[0m\u001b[0;34m\u001b[0m\u001b[0m\n\u001b[1;32m    157\u001b[0m         client=FlowerClient(\n",
      "\u001b[0;32m~/.local/lib/python3.8/site-packages/flwr/client/app.py\u001b[0m in \u001b[0;36mstart_numpy_client\u001b[0;34m(server_address, client, grpc_max_message_length, root_certificates, insecure, transport)\u001b[0m\n\u001b[1;32m    399\u001b[0m     \u001b[0mwrp_client\u001b[0m \u001b[0;34m=\u001b[0m \u001b[0mclient\u001b[0m\u001b[0;34m.\u001b[0m\u001b[0mto_client\u001b[0m\u001b[0;34m(\u001b[0m\u001b[0;34m)\u001b[0m\u001b[0;34m\u001b[0m\u001b[0;34m\u001b[0m\u001b[0m\n\u001b[1;32m    400\u001b[0m \u001b[0;34m\u001b[0m\u001b[0m\n\u001b[0;32m--> 401\u001b[0;31m     start_client(\n\u001b[0m\u001b[1;32m    402\u001b[0m         \u001b[0mserver_address\u001b[0m\u001b[0;34m=\u001b[0m\u001b[0mserver_address\u001b[0m\u001b[0;34m,\u001b[0m\u001b[0;34m\u001b[0m\u001b[0;34m\u001b[0m\u001b[0m\n\u001b[1;32m    403\u001b[0m         \u001b[0mclient\u001b[0m\u001b[0;34m=\u001b[0m\u001b[0mwrp_client\u001b[0m\u001b[0;34m,\u001b[0m\u001b[0;34m\u001b[0m\u001b[0;34m\u001b[0m\u001b[0m\n",
      "\u001b[0;32m~/.local/lib/python3.8/site-packages/flwr/client/app.py\u001b[0m in \u001b[0;36mstart_client\u001b[0;34m(server_address, load_callable_fn, client_fn, client, grpc_max_message_length, root_certificates, insecure, transport)\u001b[0m\n\u001b[1;32m    273\u001b[0m             \u001b[0;32mwhile\u001b[0m \u001b[0;32mTrue\u001b[0m\u001b[0;34m:\u001b[0m\u001b[0;34m\u001b[0m\u001b[0;34m\u001b[0m\u001b[0m\n\u001b[1;32m    274\u001b[0m                 \u001b[0;31m# Receive\u001b[0m\u001b[0;34m\u001b[0m\u001b[0;34m\u001b[0m\u001b[0;34m\u001b[0m\u001b[0m\n\u001b[0;32m--> 275\u001b[0;31m                 \u001b[0mtask_ins\u001b[0m \u001b[0;34m=\u001b[0m \u001b[0mreceive\u001b[0m\u001b[0;34m(\u001b[0m\u001b[0;34m)\u001b[0m\u001b[0;34m\u001b[0m\u001b[0;34m\u001b[0m\u001b[0m\n\u001b[0m\u001b[1;32m    276\u001b[0m                 \u001b[0;32mif\u001b[0m \u001b[0mtask_ins\u001b[0m \u001b[0;32mis\u001b[0m \u001b[0;32mNone\u001b[0m\u001b[0;34m:\u001b[0m\u001b[0;34m\u001b[0m\u001b[0;34m\u001b[0m\u001b[0m\n\u001b[1;32m    277\u001b[0m                     \u001b[0mtime\u001b[0m\u001b[0;34m.\u001b[0m\u001b[0msleep\u001b[0m\u001b[0;34m(\u001b[0m\u001b[0;36m3\u001b[0m\u001b[0;34m)\u001b[0m  \u001b[0;31m# Wait for 3s before asking again\u001b[0m\u001b[0;34m\u001b[0m\u001b[0;34m\u001b[0m\u001b[0m\n",
      "\u001b[0;32m~/.local/lib/python3.8/site-packages/flwr/client/grpc_client/connection.py\u001b[0m in \u001b[0;36mreceive\u001b[0;34m()\u001b[0m\n\u001b[1;32m    116\u001b[0m \u001b[0;34m\u001b[0m\u001b[0m\n\u001b[1;32m    117\u001b[0m     \u001b[0;32mdef\u001b[0m \u001b[0mreceive\u001b[0m\u001b[0;34m(\u001b[0m\u001b[0;34m)\u001b[0m \u001b[0;34m->\u001b[0m \u001b[0mTaskIns\u001b[0m\u001b[0;34m:\u001b[0m\u001b[0;34m\u001b[0m\u001b[0;34m\u001b[0m\u001b[0m\n\u001b[0;32m--> 118\u001b[0;31m         \u001b[0mserver_message\u001b[0m \u001b[0;34m=\u001b[0m \u001b[0mnext\u001b[0m\u001b[0;34m(\u001b[0m\u001b[0mserver_message_iterator\u001b[0m\u001b[0;34m)\u001b[0m\u001b[0;34m\u001b[0m\u001b[0;34m\u001b[0m\u001b[0m\n\u001b[0m\u001b[1;32m    119\u001b[0m         return TaskIns(\n\u001b[1;32m    120\u001b[0m             \u001b[0mtask_id\u001b[0m\u001b[0;34m=\u001b[0m\u001b[0mstr\u001b[0m\u001b[0;34m(\u001b[0m\u001b[0muuid\u001b[0m\u001b[0;34m.\u001b[0m\u001b[0muuid4\u001b[0m\u001b[0;34m(\u001b[0m\u001b[0;34m)\u001b[0m\u001b[0;34m)\u001b[0m\u001b[0;34m,\u001b[0m\u001b[0;34m\u001b[0m\u001b[0;34m\u001b[0m\u001b[0m\n",
      "\u001b[0;32m~/.local/lib/python3.8/site-packages/grpc/_channel.py\u001b[0m in \u001b[0;36m__next__\u001b[0;34m(self)\u001b[0m\n\u001b[1;32m    538\u001b[0m \u001b[0;34m\u001b[0m\u001b[0m\n\u001b[1;32m    539\u001b[0m     \u001b[0;32mdef\u001b[0m \u001b[0m__next__\u001b[0m\u001b[0;34m(\u001b[0m\u001b[0mself\u001b[0m\u001b[0;34m)\u001b[0m\u001b[0;34m:\u001b[0m\u001b[0;34m\u001b[0m\u001b[0;34m\u001b[0m\u001b[0m\n\u001b[0;32m--> 540\u001b[0;31m         \u001b[0;32mreturn\u001b[0m \u001b[0mself\u001b[0m\u001b[0;34m.\u001b[0m\u001b[0m_next\u001b[0m\u001b[0;34m(\u001b[0m\u001b[0;34m)\u001b[0m\u001b[0;34m\u001b[0m\u001b[0;34m\u001b[0m\u001b[0m\n\u001b[0m\u001b[1;32m    541\u001b[0m \u001b[0;34m\u001b[0m\u001b[0m\n\u001b[1;32m    542\u001b[0m     \u001b[0;32mdef\u001b[0m \u001b[0m_next\u001b[0m\u001b[0;34m(\u001b[0m\u001b[0mself\u001b[0m\u001b[0;34m)\u001b[0m\u001b[0;34m:\u001b[0m\u001b[0;34m\u001b[0m\u001b[0;34m\u001b[0m\u001b[0m\n",
      "\u001b[0;32m~/.local/lib/python3.8/site-packages/grpc/_channel.py\u001b[0m in \u001b[0;36m_next\u001b[0;34m(self)\u001b[0m\n\u001b[1;32m    955\u001b[0m                 )\n\u001b[1;32m    956\u001b[0m \u001b[0;34m\u001b[0m\u001b[0m\n\u001b[0;32m--> 957\u001b[0;31m             \u001b[0m_common\u001b[0m\u001b[0;34m.\u001b[0m\u001b[0mwait\u001b[0m\u001b[0;34m(\u001b[0m\u001b[0mself\u001b[0m\u001b[0;34m.\u001b[0m\u001b[0m_state\u001b[0m\u001b[0;34m.\u001b[0m\u001b[0mcondition\u001b[0m\u001b[0;34m.\u001b[0m\u001b[0mwait\u001b[0m\u001b[0;34m,\u001b[0m \u001b[0m_response_ready\u001b[0m\u001b[0;34m)\u001b[0m\u001b[0;34m\u001b[0m\u001b[0;34m\u001b[0m\u001b[0m\n\u001b[0m\u001b[1;32m    958\u001b[0m             \u001b[0;32mif\u001b[0m \u001b[0mself\u001b[0m\u001b[0;34m.\u001b[0m\u001b[0m_state\u001b[0m\u001b[0;34m.\u001b[0m\u001b[0mresponse\u001b[0m \u001b[0;32mis\u001b[0m \u001b[0;32mnot\u001b[0m \u001b[0;32mNone\u001b[0m\u001b[0;34m:\u001b[0m\u001b[0;34m\u001b[0m\u001b[0;34m\u001b[0m\u001b[0m\n\u001b[1;32m    959\u001b[0m                 \u001b[0mresponse\u001b[0m \u001b[0;34m=\u001b[0m \u001b[0mself\u001b[0m\u001b[0;34m.\u001b[0m\u001b[0m_state\u001b[0m\u001b[0;34m.\u001b[0m\u001b[0mresponse\u001b[0m\u001b[0;34m\u001b[0m\u001b[0;34m\u001b[0m\u001b[0m\n",
      "\u001b[0;32m~/.local/lib/python3.8/site-packages/grpc/_common.py\u001b[0m in \u001b[0;36mwait\u001b[0;34m(wait_fn, wait_complete_fn, timeout, spin_cb)\u001b[0m\n\u001b[1;32m    154\u001b[0m     \u001b[0;32mif\u001b[0m \u001b[0mtimeout\u001b[0m \u001b[0;32mis\u001b[0m \u001b[0;32mNone\u001b[0m\u001b[0;34m:\u001b[0m\u001b[0;34m\u001b[0m\u001b[0;34m\u001b[0m\u001b[0m\n\u001b[1;32m    155\u001b[0m         \u001b[0;32mwhile\u001b[0m \u001b[0;32mnot\u001b[0m \u001b[0mwait_complete_fn\u001b[0m\u001b[0;34m(\u001b[0m\u001b[0;34m)\u001b[0m\u001b[0;34m:\u001b[0m\u001b[0;34m\u001b[0m\u001b[0;34m\u001b[0m\u001b[0m\n\u001b[0;32m--> 156\u001b[0;31m             \u001b[0m_wait_once\u001b[0m\u001b[0;34m(\u001b[0m\u001b[0mwait_fn\u001b[0m\u001b[0;34m,\u001b[0m \u001b[0mMAXIMUM_WAIT_TIMEOUT\u001b[0m\u001b[0;34m,\u001b[0m \u001b[0mspin_cb\u001b[0m\u001b[0;34m)\u001b[0m\u001b[0;34m\u001b[0m\u001b[0;34m\u001b[0m\u001b[0m\n\u001b[0m\u001b[1;32m    157\u001b[0m     \u001b[0;32melse\u001b[0m\u001b[0;34m:\u001b[0m\u001b[0;34m\u001b[0m\u001b[0;34m\u001b[0m\u001b[0m\n\u001b[1;32m    158\u001b[0m         \u001b[0mend\u001b[0m \u001b[0;34m=\u001b[0m \u001b[0mtime\u001b[0m\u001b[0;34m.\u001b[0m\u001b[0mtime\u001b[0m\u001b[0;34m(\u001b[0m\u001b[0;34m)\u001b[0m \u001b[0;34m+\u001b[0m \u001b[0mtimeout\u001b[0m\u001b[0;34m\u001b[0m\u001b[0;34m\u001b[0m\u001b[0m\n",
      "\u001b[0;32m~/.local/lib/python3.8/site-packages/grpc/_common.py\u001b[0m in \u001b[0;36m_wait_once\u001b[0;34m(wait_fn, timeout, spin_cb)\u001b[0m\n\u001b[1;32m    114\u001b[0m     \u001b[0mspin_cb\u001b[0m\u001b[0;34m:\u001b[0m \u001b[0mOptional\u001b[0m\u001b[0;34m[\u001b[0m\u001b[0mCallable\u001b[0m\u001b[0;34m[\u001b[0m\u001b[0;34m[\u001b[0m\u001b[0;34m]\u001b[0m\u001b[0;34m,\u001b[0m \u001b[0;32mNone\u001b[0m\u001b[0;34m]\u001b[0m\u001b[0;34m]\u001b[0m\u001b[0;34m,\u001b[0m\u001b[0;34m\u001b[0m\u001b[0;34m\u001b[0m\u001b[0m\n\u001b[1;32m    115\u001b[0m ):\n\u001b[0;32m--> 116\u001b[0;31m     \u001b[0mwait_fn\u001b[0m\u001b[0;34m(\u001b[0m\u001b[0mtimeout\u001b[0m\u001b[0;34m=\u001b[0m\u001b[0mtimeout\u001b[0m\u001b[0;34m)\u001b[0m\u001b[0;34m\u001b[0m\u001b[0;34m\u001b[0m\u001b[0m\n\u001b[0m\u001b[1;32m    117\u001b[0m     \u001b[0;32mif\u001b[0m \u001b[0mspin_cb\u001b[0m \u001b[0;32mis\u001b[0m \u001b[0;32mnot\u001b[0m \u001b[0;32mNone\u001b[0m\u001b[0;34m:\u001b[0m\u001b[0;34m\u001b[0m\u001b[0;34m\u001b[0m\u001b[0m\n\u001b[1;32m    118\u001b[0m         \u001b[0mspin_cb\u001b[0m\u001b[0;34m(\u001b[0m\u001b[0;34m)\u001b[0m\u001b[0;34m\u001b[0m\u001b[0;34m\u001b[0m\u001b[0m\n",
      "\u001b[0;32m/usr/lib/python3.8/threading.py\u001b[0m in \u001b[0;36mwait\u001b[0;34m(self, timeout)\u001b[0m\n\u001b[1;32m    304\u001b[0m             \u001b[0;32melse\u001b[0m\u001b[0;34m:\u001b[0m\u001b[0;34m\u001b[0m\u001b[0;34m\u001b[0m\u001b[0m\n\u001b[1;32m    305\u001b[0m                 \u001b[0;32mif\u001b[0m \u001b[0mtimeout\u001b[0m \u001b[0;34m>\u001b[0m \u001b[0;36m0\u001b[0m\u001b[0;34m:\u001b[0m\u001b[0;34m\u001b[0m\u001b[0;34m\u001b[0m\u001b[0m\n\u001b[0;32m--> 306\u001b[0;31m                     \u001b[0mgotit\u001b[0m \u001b[0;34m=\u001b[0m \u001b[0mwaiter\u001b[0m\u001b[0;34m.\u001b[0m\u001b[0macquire\u001b[0m\u001b[0;34m(\u001b[0m\u001b[0;32mTrue\u001b[0m\u001b[0;34m,\u001b[0m \u001b[0mtimeout\u001b[0m\u001b[0;34m)\u001b[0m\u001b[0;34m\u001b[0m\u001b[0;34m\u001b[0m\u001b[0m\n\u001b[0m\u001b[1;32m    307\u001b[0m                 \u001b[0;32melse\u001b[0m\u001b[0;34m:\u001b[0m\u001b[0;34m\u001b[0m\u001b[0;34m\u001b[0m\u001b[0m\n\u001b[1;32m    308\u001b[0m                     \u001b[0mgotit\u001b[0m \u001b[0;34m=\u001b[0m \u001b[0mwaiter\u001b[0m\u001b[0;34m.\u001b[0m\u001b[0macquire\u001b[0m\u001b[0;34m(\u001b[0m\u001b[0;32mFalse\u001b[0m\u001b[0;34m)\u001b[0m\u001b[0;34m\u001b[0m\u001b[0;34m\u001b[0m\u001b[0m\n",
      "\u001b[0;31mKeyboardInterrupt\u001b[0m: "
     ]
    }
   ],
   "source": [
    "%run CLIENT1/KD_0/client1.py"
   ]
  },
  {
   "cell_type": "code",
   "execution_count": null,
   "id": "8bfb081f",
   "metadata": {},
   "outputs": [],
   "source": [
    "%run CLIENT1/KD_1_s2/client1.py"
   ]
  },
  {
   "cell_type": "markdown",
   "id": "7eab6a6d",
   "metadata": {},
   "source": [
    "## SKD (Client1)"
   ]
  },
  {
   "cell_type": "code",
   "execution_count": null,
   "id": "068e797f",
   "metadata": {},
   "outputs": [],
   "source": [
    "%run CLIENT1/SKD/client1.py"
   ]
  },
  {
   "cell_type": "markdown",
   "id": "1afe25eb",
   "metadata": {},
   "source": [
    "## Analyse baseline (Client1)"
   ]
  },
  {
   "cell_type": "code",
   "execution_count": null,
   "id": "fc9f978a",
   "metadata": {},
   "outputs": [],
   "source": [
    "%run CLIENT1/baseline_layers/client1.py"
   ]
  },
  {
   "cell_type": "markdown",
   "id": "db9b4ce1",
   "metadata": {},
   "source": [
    "## LowSimilarity (Client1)"
   ]
  },
  {
   "cell_type": "code",
   "execution_count": null,
   "id": "99b61cde",
   "metadata": {},
   "outputs": [],
   "source": [
    "%run CLIENT1/lowsimilarity/client1.py"
   ]
  },
  {
   "cell_type": "markdown",
   "id": "6f0e43dd",
   "metadata": {},
   "source": [
    "## Ensemble (Client1)"
   ]
  },
  {
   "cell_type": "code",
   "execution_count": null,
   "id": "3308b937",
   "metadata": {},
   "outputs": [],
   "source": [
    "%run CLIENT1/ensemble/client1.py"
   ]
  },
  {
   "cell_type": "markdown",
   "id": "eb4e4451",
   "metadata": {},
   "source": [
    "## t-SNE (Client1)"
   ]
  },
  {
   "cell_type": "code",
   "execution_count": null,
   "id": "71c60de4",
   "metadata": {},
   "outputs": [],
   "source": [
    "%run CLIENT1/baseline/test_tSNE.py"
   ]
  },
  {
   "cell_type": "markdown",
   "id": "d1ca8af4",
   "metadata": {},
   "source": [
    "## Ensemble dataset (Client1)"
   ]
  },
  {
   "cell_type": "code",
   "execution_count": null,
   "id": "cf3f167e",
   "metadata": {},
   "outputs": [],
   "source": [
    "%run CLIENT1/ensemble_dataset/client1.py"
   ]
  },
  {
   "cell_type": "code",
   "execution_count": null,
   "id": "9a6e0a74",
   "metadata": {},
   "outputs": [],
   "source": [
    "a = ['', 'model', 'model.conv1', 'model.bn1', 'model.relu', 'model.maxpool', 'model.layer1', 'model.layer1.0', 'model.layer1.0.conv1', 'model.layer1.0.bn1', 'model.layer1.0.relu', 'model.layer1.0.conv2', 'model.layer1.0.bn2', 'model.layer1.1', 'model.layer1.1.conv1', 'model.layer1.1.bn1', 'model.layer1.1.relu', 'model.layer1.1.conv2', 'model.layer1.1.bn2', 'model.layer2', 'model.layer2.0', 'model.layer2.0.conv1', 'model.layer2.0.bn1', 'model.layer2.0.relu', 'model.layer2.0.conv2', 'model.layer2.0.bn2', 'model.layer2.0.downsample', 'model.layer2.0.downsample.0', 'model.layer2.0.downsample.1', 'model.layer2.1', 'model.layer2.1.conv1', 'model.layer2.1.bn1', 'model.layer2.1.relu', 'model.layer2.1.conv2', 'model.layer2.1.bn2', 'model.layer3', 'model.layer3.0', 'model.layer3.0.conv1', 'model.layer3.0.bn1', 'model.layer3.0.relu', 'model.layer3.0.conv2', 'model.layer3.0.bn2', 'model.layer3.0.downsample', 'model.layer3.0.downsample.0', 'model.layer3.0.downsample.1', 'model.layer3.1', 'model.layer3.1.conv1', 'model.layer3.1.bn1', 'model.layer3.1.relu', 'model.layer3.1.conv2', 'model.layer3.1.bn2', 'model.layer4', 'model.layer4.0', 'model.layer4.0.conv1', 'model.layer4.0.bn1', 'model.layer4.0.relu', 'model.layer4.0.conv2', 'model.layer4.0.bn2', 'model.layer4.0.downsample', 'model.layer4.0.downsample.0', 'model.layer4.0.downsample.1', 'model.layer4.1', 'model.layer4.1.conv1', 'model.layer4.1.bn1', 'model.layer4.1.relu', 'model.layer4.1.conv2', 'model.layer4.1.bn2', 'model.avgpool', 'model.fc']\n",
    "b = ['model.conv1', 'model.bn1', 'model.maxpool', 'model.layer1.0.conv1', 'model.layer1.0.bn1', 'model.layer1.0.conv2', 'model.layer1.0.bn2', 'model.layer1.0', 'model.layer1.1.conv1', 'model.layer1.1.bn1', 'model.layer1.1.conv2', 'model.layer1.1.bn2', 'model.layer1.1', 'model.layer2.0.conv1', 'model.layer2.0.bn1', 'model.layer2.0.conv2', 'model.layer2.0.bn2', 'model.layer2.0.downsample.0', 'model.layer2.0.downsample.1', 'model.layer2.0', 'model.layer2.1.conv1', 'model.layer2.1.bn1', 'model.layer2.1.conv2', 'model.layer2.1.bn2', 'model.layer2.1', 'model.layer3.0.conv1', 'model.layer3.0.bn1', 'model.layer3.0.conv2', 'model.layer3.0.bn2', 'model.layer3.0.downsample.0', 'model.layer3.0.downsample.1', 'model.layer3.0', 'model.layer3.1.conv1', 'model.layer3.1.bn1', 'model.layer3.1.conv2', 'model.layer3.1.bn2', 'model.layer3.1', 'model.layer4.0.conv1', 'model.layer4.0.bn1', 'model.layer4.0.conv2', 'model.layer4.0.bn2', 'model.layer4.0.downsample.0', 'model.layer4.0.downsample.1', 'model.layer4.0', 'model.layer4.1.conv1', 'model.layer4.1.bn1', 'model.layer4.1.conv2', 'model.layer4.1.bn2', 'model.layer4.1', 'model.avgpool']\n",
    "c = set(a).symmetric_difference(set(b))\n",
    "print(c)\n",
    "\"conv1\", \"bn1\", \"maxpool\", \"conv2\", \"bn2\", \"downsample.0\", \"downsample.1\", \"avgpool\", \"fc\""
   ]
  },
  {
   "cell_type": "code",
   "execution_count": null,
   "id": "027737f2",
   "metadata": {},
   "outputs": [],
   "source": [
    "import json\n",
    "\n",
    "# Example dictionary\n",
    "data = {\n",
    "    \"name\": \"John\",\n",
    "    \"age\": 30,\n",
    "    \"city\": \"New York\"\n",
    "}\n",
    "\n",
    "# Save the dictionary into a text file\n",
    "with open('data.txt', 'w') as file:\n",
    "    json.dump(data, file)"
   ]
  },
  {
   "cell_type": "code",
   "execution_count": null,
   "id": "b67465c2",
   "metadata": {},
   "outputs": [],
   "source": [
    "if \"fc\" in \"model.fc.weight\":\n",
    "    print(\"aa\")"
   ]
  },
  {
   "cell_type": "code",
   "execution_count": null,
   "id": "8e63e949",
   "metadata": {},
   "outputs": [],
   "source": [
    "from PIL import Image\n",
    "import numpy as np\n",
    "from pathlib import Path\n",
    "\n",
    "def load_and_preprocess_image(file_path):\n",
    "    with Image.open(file_path) as img:\n",
    "        img = img.convert('RGB')  # Ensure it's in RGB format\n",
    "        im = np.asarray(img).astype(float) / 255.  # Convert to numpy array and scale\n",
    "    return im\n",
    "\n",
    "image_files_dir = Path(r\"isic2019_all\")\n",
    "files = list(image_files_dir.rglob(\"*.jpg\"))\n",
    "num_samples = len(files)\n",
    "if num_samples == 0:\n",
    "    raise ValueError(\"No image files found in the specified directory.\")\n",
    "\n",
    "# Calculating mean\n",
    "mean = np.zeros(3)\n",
    "std = np.zeros(3)\n",
    "for file in files:\n",
    "    im = load_and_preprocess_image(file)    #(450, 600, 3),...\n",
    "    mean_temp = np.mean(im, axis=(0, 1))\n",
    "    mean += mean_temp  # Average over height and width\n",
    "    \n",
    "    std_temp = np.sqrt(np.sum((im - mean_temp)**2, axis=(0, 1))/(im.shape[0] * im.shape[1]))\n",
    "    std += std_temp\n",
    "mean /= num_samples    \n",
    "std = std / num_samples  # Normalize by total number of pixels\n",
    "\n",
    "print(\"Mean of the images:\", mean)\n",
    "print(\"Standard deviation of the images:\", std)"
   ]
  },
  {
   "cell_type": "code",
   "execution_count": null,
   "id": "83c97748",
   "metadata": {},
   "outputs": [],
   "source": []
  },
  {
   "cell_type": "code",
   "execution_count": null,
   "id": "b59de92a",
   "metadata": {},
   "outputs": [],
   "source": []
  }
 ],
 "metadata": {
  "kernelspec": {
   "display_name": "Python 3 (ipykernel)",
   "language": "python",
   "name": "python3"
  },
  "language_info": {
   "codemirror_mode": {
    "name": "ipython",
    "version": 3
   },
   "file_extension": ".py",
   "mimetype": "text/x-python",
   "name": "python",
   "nbconvert_exporter": "python",
   "pygments_lexer": "ipython3",
   "version": "3.8.10"
  }
 },
 "nbformat": 4,
 "nbformat_minor": 5
}
