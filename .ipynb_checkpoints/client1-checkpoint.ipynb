{
 "cells": [
  {
   "cell_type": "markdown",
   "id": "ad98da50",
   "metadata": {},
   "source": [
    "# Federated learning (Client 1)"
   ]
  },
  {
   "cell_type": "code",
   "execution_count": null,
   "id": "bccc1831",
   "metadata": {},
   "outputs": [],
   "source": [
    "%run CLIENT1/client1.py"
   ]
  },
  {
   "cell_type": "code",
   "execution_count": null,
   "id": "20219ce0",
   "metadata": {},
   "outputs": [],
   "source": [
    "%run CLIENT1/dataset_client1.py"
   ]
  },
  {
   "cell_type": "code",
   "execution_count": null,
   "id": "9a6e0a74",
   "metadata": {},
   "outputs": [],
   "source": []
  }
 ],
 "metadata": {
  "kernelspec": {
   "display_name": "Python 3 (ipykernel)",
   "language": "python",
   "name": "python3"
  },
  "language_info": {
   "codemirror_mode": {
    "name": "ipython",
    "version": 3
   },
   "file_extension": ".py",
   "mimetype": "text/x-python",
   "name": "python",
   "nbconvert_exporter": "python",
   "pygments_lexer": "ipython3",
   "version": "3.8.10"
  }
 },
 "nbformat": 4,
 "nbformat_minor": 5
}
