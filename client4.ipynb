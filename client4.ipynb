{
 "cells": [
  {
   "cell_type": "markdown",
   "id": "a4c0a903",
   "metadata": {},
   "source": [
    "# Federated learning (Client 4)"
   ]
  },
  {
   "cell_type": "code",
   "execution_count": null,
   "id": "da2f96fe",
   "metadata": {
    "scrolled": true
   },
   "outputs": [],
   "source": [
    "%run CLIENT4/client4.py"
   ]
  },
  {
   "cell_type": "markdown",
   "id": "6183a67d",
   "metadata": {},
   "source": [
    "## Baseline (Client4)"
   ]
  },
  {
   "cell_type": "code",
   "execution_count": null,
   "id": "89b677b1",
   "metadata": {},
   "outputs": [],
   "source": [
    "%run CLIENT4/baseline/client4.py"
   ]
  },
  {
   "cell_type": "markdown",
   "id": "b9060a8f",
   "metadata": {},
   "source": [
    "## Knowledge Distillation (Client4)"
   ]
  },
  {
   "cell_type": "code",
   "execution_count": 1,
   "id": "eef95914",
   "metadata": {},
   "outputs": [
    {
     "name": "stderr",
     "output_type": "stream",
     "text": [
      "2024-08-14 20:24:43.041457: W tensorflow/stream_executor/platform/default/dso_loader.cc:64] Could not load dynamic library 'libcudart.so.11.0'; dlerror: libcudart.so.11.0: cannot open shared object file: No such file or directory\n",
      "2024-08-14 20:24:43.041502: I tensorflow/stream_executor/cuda/cudart_stub.cc:29] Ignore above cudart dlerror if you do not have a GPU set up on your machine.\n",
      "INFO flwr 2024-08-14 20:24:46,780 | grpc.py:52 | Opened insecure gRPC connection (no certificates were passed)\n"
     ]
    },
    {
     "name": "stdout",
     "output_type": "stream",
     "text": [
      "[2024-08-14 20:24:46,780][flwr][INFO] - Opened insecure gRPC connection (no certificates were passed)\n"
     ]
    },
    {
     "name": "stderr",
     "output_type": "stream",
     "text": [
      "DEBUG flwr 2024-08-14 20:24:46,783 | connection.py:42 | ChannelConnectivity.IDLE\n"
     ]
    },
    {
     "name": "stdout",
     "output_type": "stream",
     "text": [
      "[2024-08-14 20:24:46,783][flwr][DEBUG] - ChannelConnectivity.IDLE\n"
     ]
    },
    {
     "name": "stderr",
     "output_type": "stream",
     "text": [
      "DEBUG flwr 2024-08-14 20:24:46,786 | connection.py:42 | ChannelConnectivity.CONNECTING\n"
     ]
    },
    {
     "name": "stdout",
     "output_type": "stream",
     "text": [
      "[2024-08-14 20:24:46,786][flwr][DEBUG] - ChannelConnectivity.CONNECTING\n"
     ]
    },
    {
     "name": "stderr",
     "output_type": "stream",
     "text": [
      "DEBUG flwr 2024-08-14 20:24:46,788 | connection.py:42 | ChannelConnectivity.READY\n"
     ]
    },
    {
     "name": "stdout",
     "output_type": "stream",
     "text": [
      "[2024-08-14 20:24:46,788][flwr][DEBUG] - ChannelConnectivity.READY\n",
      "client 2\n",
      "client 3\n",
      "*************Metrics******************\n",
      "Melanoma: 0.4402515722874887, Melanocytic nevus: 0.8954194260238572, Basal cell carcinoma: 0.15422885564466227, Actinic keratosis: 0.1707317072129685, Benign keratosis: 0.14031180397765886, Dermatofibroma: 0.0, Vascular lesion: 0.0, Squamous cell carcinoma: 0.0\n",
      "Epoch [1/30] - train loss 0.8785 - train accuracy 0.6876 - train f1_micro 0.6876 - train f1_weighted 0.6618\n",
      "model 2\n",
      "*************Metrics******************\n",
      "Melanoma: 0.3081761004351094, Melanocytic nevus: 0.9633204631344942, Basal cell carcinoma: 0.4482758605231867, Actinic keratosis: 0.0434782606805293, Benign keratosis: 0.07692307680473373, Dermatofibroma: 0.0, Vascular lesion: 0.0, Squamous cell carcinoma: 0.0\n",
      "val loss 0.8747 - val accuracy 0.7079 - val f1_micro 0.7079 - val f1_weighted 0.6572\n",
      "Local best ACC achieved...... 0.6572394904145408\n",
      "*************Metrics******************\n",
      "Melanoma: 0.2857142856886151, Melanocytic nevus: 0.9373620308792119, Basal cell carcinoma: 0.0447761193807084, Actinic keratosis: 0.024390243887566925, Benign keratosis: 0.04231625834246854, Dermatofibroma: 0.0, Vascular lesion: 0.0, Squamous cell carcinoma: 0.0\n",
      "Epoch [2/30] - train loss 0.9149 - train accuracy 0.6680 - train f1_micro 0.6680 - train f1_weighted 0.6034\n",
      "model 2\n",
      "*************Metrics******************\n",
      "Melanoma: 0.6729559744195246, Melanocytic nevus: 0.8803088801389366, Basal cell carcinoma: 0.10344827550535077, Actinic keratosis: 0.0, Benign keratosis: 0.06153846144378699, Dermatofibroma: 0.0, Vascular lesion: 0.0, Squamous cell carcinoma: 0.0\n",
      "val loss 0.9931 - val accuracy 0.7116 - val f1_micro 0.7116 - val f1_weighted 0.6801\n",
      "Local best ACC achieved...... 0.6801162071272805\n",
      "*************Metrics******************\n",
      "Melanoma: 0.387241689093689, Melanocytic nevus: 0.9337748344113197, Basal cell carcinoma: 0.16915422877156505, Actinic keratosis: 0.21951219498810232, Benign keratosis: 0.15367483292791206, Dermatofibroma: 0.0, Vascular lesion: 0.0, Squamous cell carcinoma: 0.0\n",
      "Epoch [3/30] - train loss 0.8072 - train accuracy 0.7049 - train f1_micro 0.7049 - train f1_weighted 0.6671\n",
      "model 2\n",
      "*************Metrics******************\n",
      "Melanoma: 0.6603773580752343, Melanocytic nevus: 0.9189189187415215, Basal cell carcinoma: 0.20689655101070153, Actinic keratosis: 0.0, Benign keratosis: 0.0, Dermatofibroma: 0.0, Vascular lesion: 0.0, Squamous cell carcinoma: 0.0\n",
      "val loss 0.8610 - val accuracy 0.7328 - val f1_micro 0.7328 - val f1_weighted 0.6854\n",
      "Local best ACC achieved...... 0.6854280055253753\n",
      "*************Metrics******************\n",
      "Melanoma: 0.4384546270944785, Melanocytic nevus: 0.927152317855211, Basal cell carcinoma: 0.2686567162842504, Actinic keratosis: 0.18902439012864367, Benign keratosis: 0.19821826276208948, Dermatofibroma: 0.0, Vascular lesion: 0.0, Squamous cell carcinoma: 0.0\n",
      "Epoch [4/30] - train loss 0.7557 - train accuracy 0.7171 - train f1_micro 0.7171 - train f1_weighted 0.6880\n",
      "model 2\n",
      "*************Metrics******************\n",
      "Melanoma: 0.1761006288200625, Melanocytic nevus: 0.9710424708550112, Basal cell carcinoma: 0.31034482651605233, Actinic keratosis: 0.434782606805293, Benign keratosis: 0.35384615330177516, Dermatofibroma: 0.0, Vascular lesion: 0.0, Squamous cell carcinoma: 0.0\n",
      "val loss 0.8538 - val accuracy 0.7154 - val f1_micro 0.7154 - val f1_weighted 0.6624\n",
      "*************Metrics******************\n",
      "Melanoma: 0.4312668463224379, Melanocytic nevus: 0.9387417218284012, Basal cell carcinoma: 0.21393034815227346, Actinic keratosis: 0.28658536567891135, Benign keratosis: 0.21603563469576045, Dermatofibroma: 0.0, Vascular lesion: 0.0, Squamous cell carcinoma: 0.0\n",
      "Epoch [5/30] - train loss 0.7583 - train accuracy 0.7254 - train f1_micro 0.7254 - train f1_weighted 0.6945\n",
      "model 2\n",
      "*************Metrics******************\n",
      "Melanoma: 0.10062893075432143, Melanocytic nevus: 0.9942084940165621, Basal cell carcinoma: 0.41379310202140307, Actinic keratosis: 0.2608695640831758, Benign keratosis: 0.09230769216568048, Dermatofibroma: 0.0, Vascular lesion: 0.0, Squamous cell carcinoma: 0.0\n",
      "val loss 0.8986 - val accuracy 0.6929 - val f1_micro 0.6929 - val f1_weighted 0.6086\n",
      "*************Metrics******************\n",
      "Melanoma: 0.47079964056866136, Melanocytic nevus: 0.933222958031644, Basal cell carcinoma: 0.3034825869136903, Actinic keratosis: 0.18292682915675193, Benign keratosis: 0.2739420934801911, Dermatofibroma: 0.0, Vascular lesion: 0.0, Squamous cell carcinoma: 0.0\n",
      "Epoch [6/30] - train loss 0.7115 - train accuracy 0.7345 - train f1_micro 0.7345 - train f1_weighted 0.7096\n",
      "model 2\n",
      "*************Metrics******************\n",
      "Melanoma: 0.4716981129108817, Melanocytic nevus: 0.8938223936498413, Basal cell carcinoma: 0.06896551700356718, Actinic keratosis: 0.3043478247637051, Benign keratosis: 0.5999999990769231, Dermatofibroma: 0.0, Vascular lesion: 0.0, Squamous cell carcinoma: 0.0\n",
      "val loss 0.8305 - val accuracy 0.7316 - val f1_micro 0.7316 - val f1_weighted 0.7235\n",
      "Local best ACC achieved...... 0.7235301513185731\n",
      "*************Metrics******************\n",
      "Melanoma: 0.5031446540428443, Melanocytic nevus: 0.9357064017401847, Basal cell carcinoma: 0.42786069630454693, Actinic keratosis: 0.30487804859458656, Benign keratosis: 0.32516703778949513, Dermatofibroma: 0.0, Vascular lesion: 0.0, Squamous cell carcinoma: 0.0\n",
      "Epoch [7/30] - train loss 0.6746 - train accuracy 0.7547 - train f1_micro 0.7547 - train f1_weighted 0.7345\n",
      "model 2\n",
      "*************Metrics******************\n",
      "Melanoma: 0.6289308172145089, Melanocytic nevus: 0.9208494206716508, Basal cell carcinoma: 0.17241379250891795, Actinic keratosis: 0.39130434612476367, Benign keratosis: 0.3230769225798817, Dermatofibroma: 0.0, Vascular lesion: 0.0, Squamous cell carcinoma: 0.0\n",
      "val loss 0.7947 - val accuracy 0.7640 - val f1_micro 0.7640 - val f1_weighted 0.7443\n",
      "Local best ACC achieved...... 0.744256503333603\n",
      "*************Metrics******************\n",
      "Melanoma: 0.5489667564646032, Melanocytic nevus: 0.9368101544995362, Basal cell carcinoma: 0.39303482567510706, Actinic keratosis: 0.35365853636972044, Benign keratosis: 0.32516703778949513, Dermatofibroma: 0.032258064412070755, Vascular lesion: 0.0, Squamous cell carcinoma: 0.0\n",
      "Epoch [8/30] - train loss 0.6342 - train accuracy 0.7648 - train f1_micro 0.7648 - train f1_weighted 0.7475\n",
      "model 2\n",
      "*************Metrics******************\n",
      "Melanoma: 0.6352201253866541, Melanocytic nevus: 0.8532818531171271, Basal cell carcinoma: 0.31034482651605233, Actinic keratosis: 0.5217391281663516, Benign keratosis: 0.39999999938461545, Dermatofibroma: 0.24999999375000015, Vascular lesion: 0.0, Squamous cell carcinoma: 0.0\n",
      "val loss 0.8293 - val accuracy 0.7378 - val f1_micro 0.7378 - val f1_weighted 0.7410\n",
      "*************Metrics******************\n",
      "Melanoma: 0.6001796944653928, Melanocytic nevus: 0.9334988962214819, Basal cell carcinoma: 0.5124378106903295, Actinic keratosis: 0.3292682924821535, Benign keratosis: 0.4387527838666475, Dermatofibroma: 0.12903225764828302, Vascular lesion: 0.0, Squamous cell carcinoma: 0.0\n",
      "Epoch [9/30] - train loss 0.5830 - train accuracy 0.7861 - train f1_micro 0.7861 - train f1_weighted 0.7743\n",
      "model 2\n",
      "*************Metrics******************\n",
      "Melanoma: 0.6855345907638147, Melanocytic nevus: 0.9343629341825554, Basal cell carcinoma: 0.2758620680142687, Actinic keratosis: 0.2173913034026465, Benign keratosis: 0.16923076897041422, Dermatofibroma: 0.0, Vascular lesion: 0.0, Squamous cell carcinoma: 0.0\n",
      "val loss 0.7828 - val accuracy 0.7703 - val f1_micro 0.7703 - val f1_weighted 0.7421\n",
      "*************Metrics******************\n",
      "Melanoma: 0.6118598382199588, Melanocytic nevus: 0.9387417218284012, Basal cell carcinoma: 0.5572139300710378, Actinic keratosis: 0.39634146317296254, Benign keratosis: 0.4320712693915209, Dermatofibroma: 0.25806451529656604, Vascular lesion: 0.0, Squamous cell carcinoma: 0.0\n",
      "Epoch [10/30] - train loss 0.5562 - train accuracy 0.7955 - train f1_micro 0.7955 - train f1_weighted 0.7848\n",
      "model 2\n",
      "*************Metrics******************\n",
      "Melanoma: 0.6163522008702188, Melanocytic nevus: 0.8976833975100997, Basal cell carcinoma: 0.3793103435196195, Actinic keratosis: 0.4782608674858223, Benign keratosis: 0.3846153840236687, Dermatofibroma: 0.0, Vascular lesion: 0.0, Squamous cell carcinoma: 0.0\n",
      "val loss 0.7737 - val accuracy 0.7615 - val f1_micro 0.7615 - val f1_weighted 0.7552\n",
      "Local best ACC achieved...... 0.7552267274681704\n"
     ]
    },
    {
     "name": "stdout",
     "output_type": "stream",
     "text": [
      "*************Metrics******************\n",
      "Melanoma: 0.6235399819745248, Melanocytic nevus: 0.9409492273471041, Basal cell carcinoma: 0.5572139300710378, Actinic keratosis: 0.499999999695122, Benign keratosis: 0.4320712693915209, Dermatofibroma: 0.29032257970863684, Vascular lesion: 0.11111110987654321, Squamous cell carcinoma: 0.0\n",
      "Epoch [11/30] - train loss 0.5360 - train accuracy 0.8026 - train f1_micro 0.8026 - train f1_weighted 0.7928\n",
      "model 2\n",
      "*************Metrics******************\n",
      "Melanoma: 0.46540880473873664, Melanocytic nevus: 0.9498069496235895, Basal cell carcinoma: 0.24137930951248512, Actinic keratosis: 0.2608695640831758, Benign keratosis: 0.4461538454674557, Dermatofibroma: 0.0, Vascular lesion: 0.0, Squamous cell carcinoma: 0.0\n",
      "val loss 0.7720 - val accuracy 0.7591 - val f1_micro 0.7591 - val f1_weighted 0.7395\n",
      "*************Metrics******************\n",
      "Melanoma: 0.6594788858347279, Melanocytic nevus: 0.9403973509674284, Basal cell carcinoma: 0.6268656713299176, Actinic keratosis: 0.4695121948356633, Benign keratosis: 0.5300668150267113, Dermatofibroma: 0.29032257970863684, Vascular lesion: 0.11111110987654321, Squamous cell carcinoma: 0.0\n",
      "Epoch [12/30] - train loss 0.4988 - train accuracy 0.8189 - train f1_micro 0.8189 - train f1_weighted 0.8109\n",
      "model 2\n",
      "*************Metrics******************\n",
      "Melanoma: 0.26415094323009375, Melanocytic nevus: 0.8474903473267393, Basal cell carcinoma: 0.13793103400713436, Actinic keratosis: 0.3043478247637051, Benign keratosis: 0.7999999987692309, Dermatofibroma: 0.0, Vascular lesion: 0.0, Squamous cell carcinoma: 0.0\n",
      "val loss 0.9771 - val accuracy 0.6792 - val f1_micro 0.6792 - val f1_weighted 0.6800\n",
      "*************Metrics******************\n",
      "Melanoma: 0.7070979334494971, Melanocytic nevus: 0.9472958057133749, Basal cell carcinoma: 0.6616915419593574, Actinic keratosis: 0.5792682923297144, Benign keratosis: 0.5746102448608886, Dermatofibroma: 0.3225806441207076, Vascular lesion: 0.11111110987654321, Squamous cell carcinoma: 0.0\n",
      "Epoch [13/30] - train loss 0.4472 - train accuracy 0.8410 - train f1_micro 0.8410 - train f1_weighted 0.8352\n",
      "model 2\n",
      "*************Metrics******************\n",
      "Melanoma: 0.5094339619437522, Melanocytic nevus: 0.9034749033004875, Basal cell carcinoma: 0.5172413775267538, Actinic keratosis: 0.3043478247637051, Benign keratosis: 0.4461538454674557, Dermatofibroma: 0.0, Vascular lesion: 0.0, Squamous cell carcinoma: 0.0\n",
      "val loss 0.7842 - val accuracy 0.7491 - val f1_micro 0.7491 - val f1_weighted 0.7399\n",
      "*************Metrics******************\n",
      "Melanoma: 0.7349505839411545, Melanocytic nevus: 0.9558498895983486, Basal cell carcinoma: 0.7412935319695058, Actinic keratosis: 0.5487804874702559, Benign keratosis: 0.6146993317116483, Dermatofibroma: 0.3225806441207076, Vascular lesion: 0.0, Squamous cell carcinoma: 0.0\n",
      "Epoch [14/30] - train loss 0.4091 - train accuracy 0.8570 - train f1_micro 0.8570 - train f1_weighted 0.8512\n",
      "model 2\n",
      "*************Metrics******************\n",
      "Melanoma: 0.421383647533721, Melanocytic nevus: 0.9498069496235895, Basal cell carcinoma: 0.3793103435196195, Actinic keratosis: 0.3478260854442344, Benign keratosis: 0.47692307618934915, Dermatofibroma: 0.24999999375000015, Vascular lesion: 0.0, Squamous cell carcinoma: 0.0\n",
      "val loss 0.8109 - val accuracy 0.7615 - val f1_micro 0.7615 - val f1_weighted 0.7460\n",
      "*************Metrics******************\n",
      "Melanoma: 0.73944294692368, Melanocytic nevus: 0.9569536423577, Basal cell carcinoma: 0.6865671638375288, Actinic keratosis: 0.658536584964307, Benign keratosis: 0.6659242760209523, Dermatofibroma: 0.4516129017689906, Vascular lesion: 0.22222221975308643, Squamous cell carcinoma: 0.0\n",
      "Epoch [15/30] - train loss 0.3842 - train accuracy 0.8650 - train f1_micro 0.8650 - train f1_weighted 0.8603\n",
      "model 2\n",
      "*************Metrics******************\n",
      "Melanoma: 0.5723270436652032, Melanocytic nevus: 0.8803088801389366, Basal cell carcinoma: 0.31034482651605233, Actinic keratosis: 0.3043478247637051, Benign keratosis: 0.4923076915502959, Dermatofibroma: 0.24999999375000015, Vascular lesion: 0.0, Squamous cell carcinoma: 0.0\n",
      "val loss 0.7761 - val accuracy 0.7441 - val f1_micro 0.7441 - val f1_weighted 0.7436\n",
      "*************Metrics******************\n",
      "Melanoma: 0.7942497753104898, Melanocytic nevus: 0.9613686533951058, Basal cell carcinoma: 0.7711442782233113, Actinic keratosis: 0.6524390239924153, Benign keratosis: 0.6948775054131676, Dermatofibroma: 0.41935483735691986, Vascular lesion: 0.22222221975308643, Squamous cell carcinoma: 0.0\n",
      "Epoch [16/30] - train loss 0.3317 - train accuracy 0.8838 - train f1_micro 0.8838 - train f1_weighted 0.8801\n",
      "model 2\n",
      "*************Metrics******************\n",
      "Melanoma: 0.6352201253866541, Melanocytic nevus: 0.8861003859293243, Basal cell carcinoma: 0.5172413775267538, Actinic keratosis: 0.1304347820415879, Benign keratosis: 0.27692307649704145, Dermatofibroma: 0.24999999375000015, Vascular lesion: 0.0, Squamous cell carcinoma: 0.0\n",
      "val loss 0.9277 - val accuracy 0.7453 - val f1_micro 0.7453 - val f1_weighted 0.7347\n",
      "*************Metrics******************\n",
      "Melanoma: 0.8319856243637032, Melanocytic nevus: 0.966887417191863, Basal cell carcinoma: 0.7810945269745798, Actinic keratosis: 0.7499999995426829, Benign keratosis: 0.7394209352473451, Dermatofibroma: 0.5161290305931321, Vascular lesion: 0.11111110987654321, Squamous cell carcinoma: 0.0\n",
      "Epoch [17/30] - train loss 0.2996 - train accuracy 0.9019 - train f1_micro 0.9019 - train f1_weighted 0.8989\n",
      "model 2\n",
      "*************Metrics******************\n",
      "Melanoma: 0.5534591191487679, Melanocytic nevus: 0.9285714283921678, Basal cell carcinoma: 0.3448275850178359, Actinic keratosis: 0.4782608674858223, Benign keratosis: 0.3692307686627219, Dermatofibroma: 0.0, Vascular lesion: 0.0, Squamous cell carcinoma: 0.0\n",
      "val loss 0.8845 - val accuracy 0.7665 - val f1_micro 0.7665 - val f1_weighted 0.7532\n",
      "*************Metrics******************\n",
      "Melanoma: 0.8265947887846726, Melanocytic nevus: 0.9671633553817008, Basal cell carcinoma: 0.7910447757258484, Actinic keratosis: 0.7682926824583581, Benign keratosis: 0.7327394207722184, Dermatofibroma: 0.5161290305931321, Vascular lesion: 0.44444443950617285, Squamous cell carcinoma: 0.0\n",
      "Epoch [18/30] - train loss 0.2771 - train accuracy 0.9019 - train f1_micro 0.9019 - train f1_weighted 0.8992\n",
      "model 2\n",
      "*************Metrics******************\n",
      "Melanoma: 0.6540880499030893, Melanocytic nevus: 0.8918918917197121, Basal cell carcinoma: 0.48275861902497025, Actinic keratosis: 0.3478260854442344, Benign keratosis: 0.2923076918579882, Dermatofibroma: 0.24999999375000015, Vascular lesion: 0.0, Squamous cell carcinoma: 0.0\n",
      "val loss 0.8790 - val accuracy 0.7591 - val f1_micro 0.7591 - val f1_weighted 0.7540\n",
      "*************Metrics******************\n",
      "Melanoma: 0.8562443844693403, Melanocytic nevus: 0.9696467990902415, Basal cell carcinoma: 0.8109452732283855, Actinic keratosis: 0.7987804873178168, Benign keratosis: 0.7861915365732314, Dermatofibroma: 0.6451612882414152, Vascular lesion: 0.44444443950617285, Squamous cell carcinoma: 0.05555555524691358\n",
      "Epoch [19/30] - train loss 0.2524 - train accuracy 0.9162 - train f1_micro 0.9162 - train f1_weighted 0.9142\n",
      "model 2\n",
      "*************Metrics******************\n",
      "Melanoma: 0.6163522008702188, Melanocytic nevus: 0.9247104245319092, Basal cell carcinoma: 0.10344827550535077, Actinic keratosis: 0.6086956495274102, Benign keratosis: 0.33846153794082845, Dermatofibroma: 0.24999999375000015, Vascular lesion: 0.9999999000000099, Squamous cell carcinoma: 0.0\n",
      "val loss 0.9503 - val accuracy 0.7715 - val f1_micro 0.7715 - val f1_weighted 0.7579\n",
      "Local best ACC achieved...... 0.7578953912664587\n",
      "*************Metrics******************\n",
      "Melanoma: 0.8760107815924519, Melanocytic nevus: 0.9790286975447289, Basal cell carcinoma: 0.8606965169847282, Actinic keratosis: 0.7926829263459251, Benign keratosis: 0.7973273940317757, Dermatofibroma: 0.6451612882414152, Vascular lesion: 0.6666666592592593, Squamous cell carcinoma: 0.05555555524691358\n",
      "Epoch [20/30] - train loss 0.2230 - train accuracy 0.9290 - train f1_micro 0.9290 - train f1_weighted 0.9270\n",
      "model 2\n",
      "*************Metrics******************\n",
      "Melanoma: 0.7169811316245402, Melanocytic nevus: 0.8513513511869979, Basal cell carcinoma: 0.24137930951248512, Actinic keratosis: 0.3043478247637051, Benign keratosis: 0.27692307649704145, Dermatofibroma: 0.24999999375000015, Vascular lesion: 0.0, Squamous cell carcinoma: 0.0\n",
      "val loss 1.0257 - val accuracy 0.7341 - val f1_micro 0.7341 - val f1_weighted 0.7255\n"
     ]
    },
    {
     "name": "stdout",
     "output_type": "stream",
     "text": [
      "*************Metrics******************\n",
      "Melanoma: 0.8751123089959469, Melanocytic nevus: 0.9740618101276474, Basal cell carcinoma: 0.8805970144872652, Actinic keratosis: 0.7682926824583581, Benign keratosis: 0.844097995357662, Dermatofibroma: 0.7096774170655566, Vascular lesion: 0.7777777691358024, Squamous cell carcinoma: 0.11111111049382716\n",
      "Epoch [21/30] - train loss 0.2305 - train accuracy 0.9301 - train f1_micro 0.9301 - train f1_weighted 0.9284\n",
      "model 2\n",
      "*************Metrics******************\n",
      "Melanoma: 0.5471698109766228, Melanocytic nevus: 0.8938223936498413, Basal cell carcinoma: 0.48275861902497025, Actinic keratosis: 0.739130431568998, Benign keratosis: 0.41538461474556215, Dermatofibroma: 0.0, Vascular lesion: 0.9999999000000099, Squamous cell carcinoma: 0.0\n",
      "val loss 0.9669 - val accuracy 0.7603 - val f1_micro 0.7603 - val f1_weighted 0.7604\n",
      "Local best ACC achieved...... 0.7603503249714043\n",
      "*************Metrics******************\n",
      "Melanoma: 0.9002695416980891, Melanocytic nevus: 0.9806843266837559, Basal cell carcinoma: 0.8407960194821911, Actinic keratosis: 0.8658536580086259, Benign keratosis: 0.8685968817664595, Dermatofibroma: 0.7096774170655566, Vascular lesion: 0.6666666592592593, Squamous cell carcinoma: 0.38888888672839506\n",
      "Epoch [22/30] - train loss 0.1868 - train accuracy 0.9435 - train f1_micro 0.9435 - train f1_weighted 0.9427\n",
      "model 2\n",
      "*************Metrics******************\n",
      "Melanoma: 0.6792452825916696, Melanocytic nevus: 0.8996138994402291, Basal cell carcinoma: 0.20689655101070153, Actinic keratosis: 0.39130434612476367, Benign keratosis: 0.3692307686627219, Dermatofibroma: 0.0, Vascular lesion: 0.0, Squamous cell carcinoma: 0.0\n",
      "val loss 1.0230 - val accuracy 0.7653 - val f1_micro 0.7653 - val f1_weighted 0.7517\n",
      "*************Metrics******************\n",
      "Melanoma: 0.9083557950666348, Melanocytic nevus: 0.9793046357345667, Basal cell carcinoma: 0.8308457707309225, Actinic keratosis: 0.8536585360648424, Benign keratosis: 0.8485523383410797, Dermatofibroma: 0.677419352653486, Vascular lesion: 0.555555549382716, Squamous cell carcinoma: 0.22222222098765432\n",
      "Epoch [23/30] - train loss 0.1960 - train accuracy 0.9410 - train f1_micro 0.9410 - train f1_weighted 0.9398\n",
      "model 2\n",
      "*************Metrics******************\n",
      "Melanoma: 0.7295597479688304, Melanocytic nevus: 0.8610038608376441, Basal cell carcinoma: 0.4482758605231867, Actinic keratosis: 0.3478260854442344, Benign keratosis: 0.3230769225798817, Dermatofibroma: 0.0, Vascular lesion: 0.0, Squamous cell carcinoma: 0.0\n",
      "val loss 0.9814 - val accuracy 0.7541 - val f1_micro 0.7541 - val f1_weighted 0.7512\n",
      "*************Metrics******************\n",
      "Melanoma: 0.8930817609260485, Melanocytic nevus: 0.9804083884939181, Basal cell carcinoma: 0.895522387614168, Actinic keratosis: 0.8719512189805175, Benign keratosis: 0.8752783962415862, Dermatofibroma: 0.7741935458896982, Vascular lesion: 0.44444443950617285, Squamous cell carcinoma: 0.2777777762345679\n",
      "Epoch [24/30] - train loss 0.1787 - train accuracy 0.9442 - train f1_micro 0.9442 - train f1_weighted 0.9432\n",
      "model 2\n",
      "*************Metrics******************\n",
      "Melanoma: 0.5534591191487679, Melanocytic nevus: 0.92277992260178, Basal cell carcinoma: 0.41379310202140307, Actinic keratosis: 0.2608695640831758, Benign keratosis: 0.4615384608284024, Dermatofibroma: 0.0, Vascular lesion: 0.9999999000000099, Squamous cell carcinoma: 0.0\n",
      "val loss 0.8065 - val accuracy 0.7678 - val f1_micro 0.7678 - val f1_weighted 0.7595\n",
      "*************Metrics******************\n",
      "Melanoma: 0.9074573224701298, Melanocytic nevus: 0.9804083884939181, Basal cell carcinoma: 0.8805970144872652, Actinic keratosis: 0.884146340924301, Benign keratosis: 0.8552338528162063, Dermatofibroma: 0.7741935458896982, Vascular lesion: 0.7777777691358024, Squamous cell carcinoma: 0.38888888672839506\n",
      "Epoch [25/30] - train loss 0.1696 - train accuracy 0.9462 - train f1_micro 0.9462 - train f1_weighted 0.9455\n",
      "model 2\n",
      "*************Metrics******************\n",
      "Melanoma: 0.5345911946323326, Melanocytic nevus: 0.930501930322297, Basal cell carcinoma: 0.5517241360285374, Actinic keratosis: 0.3478260854442344, Benign keratosis: 0.35384615330177516, Dermatofibroma: 0.0, Vascular lesion: 0.0, Squamous cell carcinoma: 0.0\n",
      "val loss 1.0934 - val accuracy 0.7665 - val f1_micro 0.7665 - val f1_weighted 0.7538\n",
      "*************Metrics******************\n",
      "Melanoma: 0.9281221921897466, Melanocytic nevus: 0.9842715231516482, Basal cell carcinoma: 0.8507462682334596, Actinic keratosis: 0.8902439018961927, Benign keratosis: 0.913140311600637, Dermatofibroma: 0.677419352653486, Vascular lesion: 0.8888888790123457, Squamous cell carcinoma: 0.38888888672839506\n",
      "Epoch [26/30] - train loss 0.1467 - train accuracy 0.9561 - train f1_micro 0.9561 - train f1_weighted 0.9557\n",
      "model 2\n",
      "*************Metrics******************\n",
      "Melanoma: 0.5031446537716071, Melanocytic nevus: 0.8803088801389366, Basal cell carcinoma: 0.5172413775267538, Actinic keratosis: 0.2608695640831758, Benign keratosis: 0.5692307683550296, Dermatofibroma: 0.0, Vascular lesion: 0.9999999000000099, Squamous cell carcinoma: 0.0\n",
      "val loss 0.8812 - val accuracy 0.7428 - val f1_micro 0.7428 - val f1_weighted 0.7408\n",
      "*************Metrics******************\n",
      "Melanoma: 0.9299191373827567, Melanocytic nevus: 0.9828918322024589, Basal cell carcinoma: 0.9004975119898022, Actinic keratosis: 0.8475609750929507, Benign keratosis: 0.895322939666966, Dermatofibroma: 0.8064516103017689, Vascular lesion: 0.6666666592592593, Squamous cell carcinoma: 0.2777777762345679\n",
      "Epoch [27/30] - train loss 0.1455 - train accuracy 0.9547 - train f1_micro 0.9547 - train f1_weighted 0.9539\n",
      "model 2\n",
      "*************Metrics******************\n",
      "Melanoma: 0.5786163518373483, Melanocytic nevus: 0.8378378376760931, Basal cell carcinoma: 0.41379310202140307, Actinic keratosis: 0.4782608674858223, Benign keratosis: 0.4615384608284024, Dermatofibroma: 0.0, Vascular lesion: 0.9999999000000099, Squamous cell carcinoma: 0.0\n",
      "val loss 1.0297 - val accuracy 0.7241 - val f1_micro 0.7241 - val f1_weighted 0.7343\n",
      "*************Metrics******************\n",
      "Melanoma: 0.9083557950666348, Melanocytic nevus: 0.9817880794431074, Basal cell carcinoma: 0.9154228851167051, Actinic keratosis: 0.9024390238399762, Benign keratosis: 0.9020044541420926, Dermatofibroma: 0.8709677391259105, Vascular lesion: 0.6666666592592593, Squamous cell carcinoma: 0.6111111077160494\n",
      "Epoch [28/30] - train loss 0.1418 - train accuracy 0.9538 - train f1_micro 0.9538 - train f1_weighted 0.9535\n",
      "model 2\n",
      "*************Metrics******************\n",
      "Melanoma: 0.6415094335587991, Melanocytic nevus: 0.8957528955799705, Basal cell carcinoma: 0.17241379250891795, Actinic keratosis: 0.6086956495274102, Benign keratosis: 0.35384615330177516, Dermatofibroma: 0.0, Vascular lesion: 0.0, Squamous cell carcinoma: 0.0\n",
      "val loss 0.9080 - val accuracy 0.7591 - val f1_micro 0.7591 - val f1_weighted 0.7490\n",
      "*************Metrics******************\n",
      "Melanoma: 0.9173405210316856, Melanocytic nevus: 0.9826158940126211, Basal cell carcinoma: 0.8855721388628994, Actinic keratosis: 0.9329268286994349, Benign keratosis: 0.8997772826503837, Dermatofibroma: 0.8064516103017689, Vascular lesion: 0.555555549382716, Squamous cell carcinoma: 0.5555555524691358\n",
      "Epoch [29/30] - train loss 0.1425 - train accuracy 0.9551 - train f1_micro 0.9551 - train f1_weighted 0.9546\n",
      "model 2\n",
      "*************Metrics******************\n",
      "Melanoma: 0.5723270436652032, Melanocytic nevus: 0.8822393820690658, Basal cell carcinoma: 0.48275861902497025, Actinic keratosis: 0.1739130427221172, Benign keratosis: 0.5846153837159764, Dermatofibroma: 0.0, Vascular lesion: 0.9999999000000099, Squamous cell carcinoma: 0.0\n",
      "val loss 1.0479 - val accuracy 0.7553 - val f1_micro 0.7553 - val f1_weighted 0.7545\n"
     ]
    },
    {
     "name": "stderr",
     "output_type": "stream",
     "text": [
      "DEBUG flwr 2024-08-14 21:14:21,763 | connection.py:141 | gRPC channel closed\n"
     ]
    },
    {
     "name": "stdout",
     "output_type": "stream",
     "text": [
      "[2024-08-14 21:14:21,763][flwr][DEBUG] - gRPC channel closed\n"
     ]
    },
    {
     "ename": "KeyboardInterrupt",
     "evalue": "",
     "output_type": "error",
     "traceback": [
      "\u001b[0;31m---------------------------------------------------------------------------\u001b[0m",
      "\u001b[0;31mKeyboardInterrupt\u001b[0m                         Traceback (most recent call last)",
      "\u001b[0;32m~/Federated_learning/CLIENT4/KD_0/client4.py\u001b[0m in \u001b[0;36m<module>\u001b[0;34m\u001b[0m\n\u001b[1;32m    163\u001b[0m \u001b[0;34m\u001b[0m\u001b[0m\n\u001b[1;32m    164\u001b[0m \u001b[0;32mif\u001b[0m \u001b[0m__name__\u001b[0m \u001b[0;34m==\u001b[0m \u001b[0;34m'__main__'\u001b[0m\u001b[0;34m:\u001b[0m\u001b[0;34m\u001b[0m\u001b[0;34m\u001b[0m\u001b[0m\n\u001b[0;32m--> 165\u001b[0;31m     \u001b[0mmain\u001b[0m\u001b[0;34m(\u001b[0m\u001b[0;34m)\u001b[0m\u001b[0;34m\u001b[0m\u001b[0;34m\u001b[0m\u001b[0m\n\u001b[0m",
      "\u001b[0;32m~/.local/lib/python3.8/site-packages/hydra/main.py\u001b[0m in \u001b[0;36mdecorated_main\u001b[0;34m(cfg_passthrough)\u001b[0m\n\u001b[1;32m     92\u001b[0m                     \u001b[0;31m# no return value from run_hydra() as it may sometime actually run the task_function\u001b[0m\u001b[0;34m\u001b[0m\u001b[0;34m\u001b[0m\u001b[0;34m\u001b[0m\u001b[0m\n\u001b[1;32m     93\u001b[0m                     \u001b[0;31m# multiple times (--multirun)\u001b[0m\u001b[0;34m\u001b[0m\u001b[0;34m\u001b[0m\u001b[0;34m\u001b[0m\u001b[0m\n\u001b[0;32m---> 94\u001b[0;31m                     _run_hydra(\n\u001b[0m\u001b[1;32m     95\u001b[0m                         \u001b[0margs\u001b[0m\u001b[0;34m=\u001b[0m\u001b[0margs\u001b[0m\u001b[0;34m,\u001b[0m\u001b[0;34m\u001b[0m\u001b[0;34m\u001b[0m\u001b[0m\n\u001b[1;32m     96\u001b[0m                         \u001b[0margs_parser\u001b[0m\u001b[0;34m=\u001b[0m\u001b[0margs_parser\u001b[0m\u001b[0;34m,\u001b[0m\u001b[0;34m\u001b[0m\u001b[0;34m\u001b[0m\u001b[0m\n",
      "\u001b[0;32m~/.local/lib/python3.8/site-packages/hydra/_internal/utils.py\u001b[0m in \u001b[0;36m_run_hydra\u001b[0;34m(args, args_parser, task_function, config_path, config_name, caller_stack_depth)\u001b[0m\n\u001b[1;32m    392\u001b[0m         \u001b[0;32mif\u001b[0m \u001b[0margs\u001b[0m\u001b[0;34m.\u001b[0m\u001b[0mrun\u001b[0m \u001b[0;32mor\u001b[0m \u001b[0margs\u001b[0m\u001b[0;34m.\u001b[0m\u001b[0mmultirun\u001b[0m\u001b[0;34m:\u001b[0m\u001b[0;34m\u001b[0m\u001b[0;34m\u001b[0m\u001b[0m\n\u001b[1;32m    393\u001b[0m             \u001b[0mrun_mode\u001b[0m \u001b[0;34m=\u001b[0m \u001b[0mhydra\u001b[0m\u001b[0;34m.\u001b[0m\u001b[0mget_mode\u001b[0m\u001b[0;34m(\u001b[0m\u001b[0mconfig_name\u001b[0m\u001b[0;34m=\u001b[0m\u001b[0mconfig_name\u001b[0m\u001b[0;34m,\u001b[0m \u001b[0moverrides\u001b[0m\u001b[0;34m=\u001b[0m\u001b[0moverrides\u001b[0m\u001b[0;34m)\u001b[0m\u001b[0;34m\u001b[0m\u001b[0;34m\u001b[0m\u001b[0m\n\u001b[0;32m--> 394\u001b[0;31m             _run_app(\n\u001b[0m\u001b[1;32m    395\u001b[0m                 \u001b[0mrun\u001b[0m\u001b[0;34m=\u001b[0m\u001b[0margs\u001b[0m\u001b[0;34m.\u001b[0m\u001b[0mrun\u001b[0m\u001b[0;34m,\u001b[0m\u001b[0;34m\u001b[0m\u001b[0;34m\u001b[0m\u001b[0m\n\u001b[1;32m    396\u001b[0m                 \u001b[0mmultirun\u001b[0m\u001b[0;34m=\u001b[0m\u001b[0margs\u001b[0m\u001b[0;34m.\u001b[0m\u001b[0mmultirun\u001b[0m\u001b[0;34m,\u001b[0m\u001b[0;34m\u001b[0m\u001b[0;34m\u001b[0m\u001b[0m\n",
      "\u001b[0;32m~/.local/lib/python3.8/site-packages/hydra/_internal/utils.py\u001b[0m in \u001b[0;36m_run_app\u001b[0;34m(run, multirun, mode, hydra, config_name, task_function, overrides)\u001b[0m\n\u001b[1;32m    455\u001b[0m \u001b[0;34m\u001b[0m\u001b[0m\n\u001b[1;32m    456\u001b[0m     \u001b[0;32mif\u001b[0m \u001b[0mmode\u001b[0m \u001b[0;34m==\u001b[0m \u001b[0mRunMode\u001b[0m\u001b[0;34m.\u001b[0m\u001b[0mRUN\u001b[0m\u001b[0;34m:\u001b[0m\u001b[0;34m\u001b[0m\u001b[0;34m\u001b[0m\u001b[0m\n\u001b[0;32m--> 457\u001b[0;31m         run_and_report(\n\u001b[0m\u001b[1;32m    458\u001b[0m             lambda: hydra.run(\n\u001b[1;32m    459\u001b[0m                 \u001b[0mconfig_name\u001b[0m\u001b[0;34m=\u001b[0m\u001b[0mconfig_name\u001b[0m\u001b[0;34m,\u001b[0m\u001b[0;34m\u001b[0m\u001b[0;34m\u001b[0m\u001b[0m\n",
      "\u001b[0;32m~/.local/lib/python3.8/site-packages/hydra/_internal/utils.py\u001b[0m in \u001b[0;36mrun_and_report\u001b[0;34m(func)\u001b[0m\n\u001b[1;32m    218\u001b[0m \u001b[0;32mdef\u001b[0m \u001b[0mrun_and_report\u001b[0m\u001b[0;34m(\u001b[0m\u001b[0mfunc\u001b[0m\u001b[0;34m:\u001b[0m \u001b[0mAny\u001b[0m\u001b[0;34m)\u001b[0m \u001b[0;34m->\u001b[0m \u001b[0mAny\u001b[0m\u001b[0;34m:\u001b[0m\u001b[0;34m\u001b[0m\u001b[0;34m\u001b[0m\u001b[0m\n\u001b[1;32m    219\u001b[0m     \u001b[0;32mtry\u001b[0m\u001b[0;34m:\u001b[0m\u001b[0;34m\u001b[0m\u001b[0;34m\u001b[0m\u001b[0m\n\u001b[0;32m--> 220\u001b[0;31m         \u001b[0;32mreturn\u001b[0m \u001b[0mfunc\u001b[0m\u001b[0;34m(\u001b[0m\u001b[0;34m)\u001b[0m\u001b[0;34m\u001b[0m\u001b[0;34m\u001b[0m\u001b[0m\n\u001b[0m\u001b[1;32m    221\u001b[0m     \u001b[0;32mexcept\u001b[0m \u001b[0mException\u001b[0m \u001b[0;32mas\u001b[0m \u001b[0mex\u001b[0m\u001b[0;34m:\u001b[0m\u001b[0;34m\u001b[0m\u001b[0;34m\u001b[0m\u001b[0m\n\u001b[1;32m    222\u001b[0m         \u001b[0;32mif\u001b[0m \u001b[0m_is_env_set\u001b[0m\u001b[0;34m(\u001b[0m\u001b[0;34m\"HYDRA_FULL_ERROR\"\u001b[0m\u001b[0;34m)\u001b[0m \u001b[0;32mor\u001b[0m \u001b[0mis_under_debugger\u001b[0m\u001b[0;34m(\u001b[0m\u001b[0;34m)\u001b[0m\u001b[0;34m:\u001b[0m\u001b[0;34m\u001b[0m\u001b[0;34m\u001b[0m\u001b[0m\n",
      "\u001b[0;32m~/.local/lib/python3.8/site-packages/hydra/_internal/utils.py\u001b[0m in \u001b[0;36m<lambda>\u001b[0;34m()\u001b[0m\n\u001b[1;32m    456\u001b[0m     \u001b[0;32mif\u001b[0m \u001b[0mmode\u001b[0m \u001b[0;34m==\u001b[0m \u001b[0mRunMode\u001b[0m\u001b[0;34m.\u001b[0m\u001b[0mRUN\u001b[0m\u001b[0;34m:\u001b[0m\u001b[0;34m\u001b[0m\u001b[0;34m\u001b[0m\u001b[0m\n\u001b[1;32m    457\u001b[0m         run_and_report(\n\u001b[0;32m--> 458\u001b[0;31m             lambda: hydra.run(\n\u001b[0m\u001b[1;32m    459\u001b[0m                 \u001b[0mconfig_name\u001b[0m\u001b[0;34m=\u001b[0m\u001b[0mconfig_name\u001b[0m\u001b[0;34m,\u001b[0m\u001b[0;34m\u001b[0m\u001b[0;34m\u001b[0m\u001b[0m\n\u001b[1;32m    460\u001b[0m                 \u001b[0mtask_function\u001b[0m\u001b[0;34m=\u001b[0m\u001b[0mtask_function\u001b[0m\u001b[0;34m,\u001b[0m\u001b[0;34m\u001b[0m\u001b[0;34m\u001b[0m\u001b[0m\n",
      "\u001b[0;32m~/.local/lib/python3.8/site-packages/hydra/_internal/hydra.py\u001b[0m in \u001b[0;36mrun\u001b[0;34m(self, config_name, task_function, overrides, with_log_configuration)\u001b[0m\n\u001b[1;32m    117\u001b[0m         \u001b[0mcallbacks\u001b[0m\u001b[0;34m.\u001b[0m\u001b[0mon_run_start\u001b[0m\u001b[0;34m(\u001b[0m\u001b[0mconfig\u001b[0m\u001b[0;34m=\u001b[0m\u001b[0mcfg\u001b[0m\u001b[0;34m,\u001b[0m \u001b[0mconfig_name\u001b[0m\u001b[0;34m=\u001b[0m\u001b[0mconfig_name\u001b[0m\u001b[0;34m)\u001b[0m\u001b[0;34m\u001b[0m\u001b[0;34m\u001b[0m\u001b[0m\n\u001b[1;32m    118\u001b[0m \u001b[0;34m\u001b[0m\u001b[0m\n\u001b[0;32m--> 119\u001b[0;31m         ret = run_job(\n\u001b[0m\u001b[1;32m    120\u001b[0m             hydra_context=HydraContext(\n\u001b[1;32m    121\u001b[0m                 \u001b[0mconfig_loader\u001b[0m\u001b[0;34m=\u001b[0m\u001b[0mself\u001b[0m\u001b[0;34m.\u001b[0m\u001b[0mconfig_loader\u001b[0m\u001b[0;34m,\u001b[0m \u001b[0mcallbacks\u001b[0m\u001b[0;34m=\u001b[0m\u001b[0mcallbacks\u001b[0m\u001b[0;34m\u001b[0m\u001b[0;34m\u001b[0m\u001b[0m\n",
      "\u001b[0;32m~/.local/lib/python3.8/site-packages/hydra/core/utils.py\u001b[0m in \u001b[0;36mrun_job\u001b[0;34m(task_function, config, job_dir_key, job_subdir_key, hydra_context, configure_logging)\u001b[0m\n\u001b[1;32m    184\u001b[0m             \u001b[0mcallbacks\u001b[0m\u001b[0;34m.\u001b[0m\u001b[0mon_job_start\u001b[0m\u001b[0;34m(\u001b[0m\u001b[0mconfig\u001b[0m\u001b[0;34m=\u001b[0m\u001b[0mconfig\u001b[0m\u001b[0;34m,\u001b[0m \u001b[0mtask_function\u001b[0m\u001b[0;34m=\u001b[0m\u001b[0mtask_function\u001b[0m\u001b[0;34m)\u001b[0m\u001b[0;34m\u001b[0m\u001b[0;34m\u001b[0m\u001b[0m\n\u001b[1;32m    185\u001b[0m             \u001b[0;32mtry\u001b[0m\u001b[0;34m:\u001b[0m\u001b[0;34m\u001b[0m\u001b[0;34m\u001b[0m\u001b[0m\n\u001b[0;32m--> 186\u001b[0;31m                 \u001b[0mret\u001b[0m\u001b[0;34m.\u001b[0m\u001b[0mreturn_value\u001b[0m \u001b[0;34m=\u001b[0m \u001b[0mtask_function\u001b[0m\u001b[0;34m(\u001b[0m\u001b[0mtask_cfg\u001b[0m\u001b[0;34m)\u001b[0m\u001b[0;34m\u001b[0m\u001b[0;34m\u001b[0m\u001b[0m\n\u001b[0m\u001b[1;32m    187\u001b[0m                 \u001b[0mret\u001b[0m\u001b[0;34m.\u001b[0m\u001b[0mstatus\u001b[0m \u001b[0;34m=\u001b[0m \u001b[0mJobStatus\u001b[0m\u001b[0;34m.\u001b[0m\u001b[0mCOMPLETED\u001b[0m\u001b[0;34m\u001b[0m\u001b[0;34m\u001b[0m\u001b[0m\n\u001b[1;32m    188\u001b[0m             \u001b[0;32mexcept\u001b[0m \u001b[0mException\u001b[0m \u001b[0;32mas\u001b[0m \u001b[0me\u001b[0m\u001b[0;34m:\u001b[0m\u001b[0;34m\u001b[0m\u001b[0;34m\u001b[0m\u001b[0m\n",
      "\u001b[0;32m~/Federated_learning/CLIENT4/KD_0/client4.py\u001b[0m in \u001b[0;36mmain\u001b[0;34m(cfg)\u001b[0m\n\u001b[1;32m    153\u001b[0m \u001b[0;32mdef\u001b[0m \u001b[0mmain\u001b[0m\u001b[0;34m(\u001b[0m\u001b[0mcfg\u001b[0m\u001b[0;34m:\u001b[0m \u001b[0mDictConfig\u001b[0m\u001b[0;34m)\u001b[0m\u001b[0;34m:\u001b[0m\u001b[0;34m\u001b[0m\u001b[0;34m\u001b[0m\u001b[0m\n\u001b[1;32m    154\u001b[0m     \u001b[0mtrainloader\u001b[0m\u001b[0;34m,\u001b[0m \u001b[0mvalidationloader\u001b[0m\u001b[0;34m,\u001b[0m \u001b[0mtestloader\u001b[0m \u001b[0;34m=\u001b[0m \u001b[0mprepare_dataset_client4\u001b[0m\u001b[0;34m(\u001b[0m\u001b[0mcfg\u001b[0m\u001b[0;34m.\u001b[0m\u001b[0mpath\u001b[0m\u001b[0;34m,\u001b[0m \u001b[0mcfg\u001b[0m\u001b[0;34m.\u001b[0m\u001b[0mnum_clients\u001b[0m\u001b[0;34m,\u001b[0m \u001b[0mcfg\u001b[0m\u001b[0;34m.\u001b[0m\u001b[0mjson_path\u001b[0m\u001b[0;34m,\u001b[0m \u001b[0mcfg\u001b[0m\u001b[0;34m.\u001b[0m\u001b[0mbatch_size\u001b[0m\u001b[0;34m)\u001b[0m\u001b[0;34m\u001b[0m\u001b[0;34m\u001b[0m\u001b[0m\n\u001b[0;32m--> 155\u001b[0;31m     fl.client.start_numpy_client(\n\u001b[0m\u001b[1;32m    156\u001b[0m         \u001b[0mserver_address\u001b[0m\u001b[0;34m=\u001b[0m\u001b[0;34m\"127.0.0.1:8080\"\u001b[0m\u001b[0;34m,\u001b[0m\u001b[0;34m\u001b[0m\u001b[0;34m\u001b[0m\u001b[0m\n\u001b[1;32m    157\u001b[0m         client=FlowerClient(\n",
      "\u001b[0;32m~/.local/lib/python3.8/site-packages/flwr/client/app.py\u001b[0m in \u001b[0;36mstart_numpy_client\u001b[0;34m(server_address, client, grpc_max_message_length, root_certificates, insecure, transport)\u001b[0m\n\u001b[1;32m    399\u001b[0m     \u001b[0mwrp_client\u001b[0m \u001b[0;34m=\u001b[0m \u001b[0mclient\u001b[0m\u001b[0;34m.\u001b[0m\u001b[0mto_client\u001b[0m\u001b[0;34m(\u001b[0m\u001b[0;34m)\u001b[0m\u001b[0;34m\u001b[0m\u001b[0;34m\u001b[0m\u001b[0m\n\u001b[1;32m    400\u001b[0m \u001b[0;34m\u001b[0m\u001b[0m\n\u001b[0;32m--> 401\u001b[0;31m     start_client(\n\u001b[0m\u001b[1;32m    402\u001b[0m         \u001b[0mserver_address\u001b[0m\u001b[0;34m=\u001b[0m\u001b[0mserver_address\u001b[0m\u001b[0;34m,\u001b[0m\u001b[0;34m\u001b[0m\u001b[0;34m\u001b[0m\u001b[0m\n\u001b[1;32m    403\u001b[0m         \u001b[0mclient\u001b[0m\u001b[0;34m=\u001b[0m\u001b[0mwrp_client\u001b[0m\u001b[0;34m,\u001b[0m\u001b[0;34m\u001b[0m\u001b[0;34m\u001b[0m\u001b[0m\n",
      "\u001b[0;32m~/.local/lib/python3.8/site-packages/flwr/client/app.py\u001b[0m in \u001b[0;36mstart_client\u001b[0;34m(server_address, load_callable_fn, client_fn, client, grpc_max_message_length, root_certificates, insecure, transport)\u001b[0m\n\u001b[1;32m    292\u001b[0m                     \u001b[0mstate\u001b[0m\u001b[0;34m=\u001b[0m\u001b[0mWorkloadState\u001b[0m\u001b[0;34m(\u001b[0m\u001b[0mstate\u001b[0m\u001b[0;34m=\u001b[0m\u001b[0;34m{\u001b[0m\u001b[0;34m}\u001b[0m\u001b[0;34m)\u001b[0m\u001b[0;34m,\u001b[0m\u001b[0;34m\u001b[0m\u001b[0;34m\u001b[0m\u001b[0m\n\u001b[1;32m    293\u001b[0m                 )\n\u001b[0;32m--> 294\u001b[0;31m                 \u001b[0mbwd_msg\u001b[0m\u001b[0;34m:\u001b[0m \u001b[0mBwd\u001b[0m \u001b[0;34m=\u001b[0m \u001b[0mapp\u001b[0m\u001b[0;34m(\u001b[0m\u001b[0mfwd\u001b[0m\u001b[0;34m=\u001b[0m\u001b[0mfwd_msg\u001b[0m\u001b[0;34m)\u001b[0m\u001b[0;34m\u001b[0m\u001b[0;34m\u001b[0m\u001b[0m\n\u001b[0m\u001b[1;32m    295\u001b[0m \u001b[0;34m\u001b[0m\u001b[0m\n\u001b[1;32m    296\u001b[0m                 \u001b[0;31m# Send\u001b[0m\u001b[0;34m\u001b[0m\u001b[0;34m\u001b[0m\u001b[0;34m\u001b[0m\u001b[0m\n",
      "\u001b[0;32m~/.local/lib/python3.8/site-packages/flwr/client/flower.py\u001b[0m in \u001b[0;36m__call__\u001b[0;34m(self, fwd)\u001b[0m\n\u001b[1;32m     80\u001b[0m         \u001b[0;34m\"\"\".\"\"\"\u001b[0m\u001b[0;34m\u001b[0m\u001b[0;34m\u001b[0m\u001b[0m\n\u001b[1;32m     81\u001b[0m         \u001b[0;31m# Execute the task\u001b[0m\u001b[0;34m\u001b[0m\u001b[0;34m\u001b[0m\u001b[0;34m\u001b[0m\u001b[0m\n\u001b[0;32m---> 82\u001b[0;31m         task_res = handle(\n\u001b[0m\u001b[1;32m     83\u001b[0m             \u001b[0mclient_fn\u001b[0m\u001b[0;34m=\u001b[0m\u001b[0mself\u001b[0m\u001b[0;34m.\u001b[0m\u001b[0mclient_fn\u001b[0m\u001b[0;34m,\u001b[0m\u001b[0;34m\u001b[0m\u001b[0;34m\u001b[0m\u001b[0m\n\u001b[1;32m     84\u001b[0m             \u001b[0mtask_ins\u001b[0m\u001b[0;34m=\u001b[0m\u001b[0mfwd\u001b[0m\u001b[0;34m.\u001b[0m\u001b[0mtask_ins\u001b[0m\u001b[0;34m,\u001b[0m\u001b[0;34m\u001b[0m\u001b[0;34m\u001b[0m\u001b[0m\n",
      "\u001b[0;32m~/.local/lib/python3.8/site-packages/flwr/client/message_handler/message_handler.py\u001b[0m in \u001b[0;36mhandle\u001b[0;34m(client_fn, task_ins)\u001b[0m\n\u001b[1;32m    115\u001b[0m             \u001b[0;32mreturn\u001b[0m \u001b[0mtask_res\u001b[0m\u001b[0;34m\u001b[0m\u001b[0;34m\u001b[0m\u001b[0m\n\u001b[1;32m    116\u001b[0m         \u001b[0;32mraise\u001b[0m \u001b[0mNotImplementedError\u001b[0m\u001b[0;34m(\u001b[0m\u001b[0;34m)\u001b[0m\u001b[0;34m\u001b[0m\u001b[0;34m\u001b[0m\u001b[0m\n\u001b[0;32m--> 117\u001b[0;31m     \u001b[0mclient_msg\u001b[0m \u001b[0;34m=\u001b[0m \u001b[0mhandle_legacy_message\u001b[0m\u001b[0;34m(\u001b[0m\u001b[0mclient_fn\u001b[0m\u001b[0;34m,\u001b[0m \u001b[0mserver_msg\u001b[0m\u001b[0;34m)\u001b[0m\u001b[0;34m\u001b[0m\u001b[0;34m\u001b[0m\u001b[0m\n\u001b[0m\u001b[1;32m    118\u001b[0m     \u001b[0mtask_res\u001b[0m \u001b[0;34m=\u001b[0m \u001b[0mwrap_client_message_in_task_res\u001b[0m\u001b[0;34m(\u001b[0m\u001b[0mclient_msg\u001b[0m\u001b[0;34m)\u001b[0m\u001b[0;34m\u001b[0m\u001b[0;34m\u001b[0m\u001b[0m\n\u001b[1;32m    119\u001b[0m     \u001b[0;32mreturn\u001b[0m \u001b[0mtask_res\u001b[0m\u001b[0;34m\u001b[0m\u001b[0;34m\u001b[0m\u001b[0m\n",
      "\u001b[0;32m~/.local/lib/python3.8/site-packages/flwr/client/message_handler/message_handler.py\u001b[0m in \u001b[0;36mhandle_legacy_message\u001b[0;34m(client_fn, server_msg)\u001b[0m\n\u001b[1;32m    151\u001b[0m         \u001b[0;32mreturn\u001b[0m \u001b[0m_get_parameters\u001b[0m\u001b[0;34m(\u001b[0m\u001b[0mclient\u001b[0m\u001b[0;34m,\u001b[0m \u001b[0mserver_msg\u001b[0m\u001b[0;34m.\u001b[0m\u001b[0mget_parameters_ins\u001b[0m\u001b[0;34m)\u001b[0m\u001b[0;34m\u001b[0m\u001b[0;34m\u001b[0m\u001b[0m\n\u001b[1;32m    152\u001b[0m     \u001b[0;32mif\u001b[0m \u001b[0mfield\u001b[0m \u001b[0;34m==\u001b[0m \u001b[0;34m\"fit_ins\"\u001b[0m\u001b[0;34m:\u001b[0m\u001b[0;34m\u001b[0m\u001b[0;34m\u001b[0m\u001b[0m\n\u001b[0;32m--> 153\u001b[0;31m         \u001b[0;32mreturn\u001b[0m \u001b[0m_fit\u001b[0m\u001b[0;34m(\u001b[0m\u001b[0mclient\u001b[0m\u001b[0;34m,\u001b[0m \u001b[0mserver_msg\u001b[0m\u001b[0;34m.\u001b[0m\u001b[0mfit_ins\u001b[0m\u001b[0;34m)\u001b[0m\u001b[0;34m\u001b[0m\u001b[0;34m\u001b[0m\u001b[0m\n\u001b[0m\u001b[1;32m    154\u001b[0m     \u001b[0;32mif\u001b[0m \u001b[0mfield\u001b[0m \u001b[0;34m==\u001b[0m \u001b[0;34m\"evaluate_ins\"\u001b[0m\u001b[0;34m:\u001b[0m\u001b[0;34m\u001b[0m\u001b[0;34m\u001b[0m\u001b[0m\n\u001b[1;32m    155\u001b[0m         \u001b[0;32mreturn\u001b[0m \u001b[0m_evaluate\u001b[0m\u001b[0;34m(\u001b[0m\u001b[0mclient\u001b[0m\u001b[0;34m,\u001b[0m \u001b[0mserver_msg\u001b[0m\u001b[0;34m.\u001b[0m\u001b[0mevaluate_ins\u001b[0m\u001b[0;34m)\u001b[0m\u001b[0;34m\u001b[0m\u001b[0;34m\u001b[0m\u001b[0m\n",
      "\u001b[0;32m~/.local/lib/python3.8/site-packages/flwr/client/message_handler/message_handler.py\u001b[0m in \u001b[0;36m_fit\u001b[0;34m(client, fit_msg)\u001b[0m\n\u001b[1;32m    210\u001b[0m \u001b[0;34m\u001b[0m\u001b[0m\n\u001b[1;32m    211\u001b[0m     \u001b[0;31m# Perform fit\u001b[0m\u001b[0;34m\u001b[0m\u001b[0;34m\u001b[0m\u001b[0;34m\u001b[0m\u001b[0m\n\u001b[0;32m--> 212\u001b[0;31m     fit_res = maybe_call_fit(\n\u001b[0m\u001b[1;32m    213\u001b[0m         \u001b[0mclient\u001b[0m\u001b[0;34m=\u001b[0m\u001b[0mclient\u001b[0m\u001b[0;34m,\u001b[0m\u001b[0;34m\u001b[0m\u001b[0;34m\u001b[0m\u001b[0m\n\u001b[1;32m    214\u001b[0m         \u001b[0mfit_ins\u001b[0m\u001b[0;34m=\u001b[0m\u001b[0mfit_ins\u001b[0m\u001b[0;34m,\u001b[0m\u001b[0;34m\u001b[0m\u001b[0;34m\u001b[0m\u001b[0m\n",
      "\u001b[0;32m~/.local/lib/python3.8/site-packages/flwr/client/client.py\u001b[0m in \u001b[0;36mmaybe_call_fit\u001b[0;34m(client, fit_ins)\u001b[0m\n\u001b[1;32m    221\u001b[0m \u001b[0;34m\u001b[0m\u001b[0m\n\u001b[1;32m    222\u001b[0m     \u001b[0;31m# If the client implements `fit`, call it\u001b[0m\u001b[0;34m\u001b[0m\u001b[0;34m\u001b[0m\u001b[0;34m\u001b[0m\u001b[0m\n\u001b[0;32m--> 223\u001b[0;31m     \u001b[0;32mreturn\u001b[0m \u001b[0mclient\u001b[0m\u001b[0;34m.\u001b[0m\u001b[0mfit\u001b[0m\u001b[0;34m(\u001b[0m\u001b[0mfit_ins\u001b[0m\u001b[0;34m)\u001b[0m\u001b[0;34m\u001b[0m\u001b[0;34m\u001b[0m\u001b[0m\n\u001b[0m\u001b[1;32m    224\u001b[0m \u001b[0;34m\u001b[0m\u001b[0m\n\u001b[1;32m    225\u001b[0m \u001b[0;34m\u001b[0m\u001b[0m\n",
      "\u001b[0;32m~/.local/lib/python3.8/site-packages/flwr/client/numpy_client.py\u001b[0m in \u001b[0;36m_fit\u001b[0;34m(self, ins)\u001b[0m\n\u001b[1;32m    225\u001b[0m \u001b[0;34m\u001b[0m\u001b[0m\n\u001b[1;32m    226\u001b[0m     \u001b[0;31m# Train\u001b[0m\u001b[0;34m\u001b[0m\u001b[0;34m\u001b[0m\u001b[0;34m\u001b[0m\u001b[0m\n\u001b[0;32m--> 227\u001b[0;31m     \u001b[0mresults\u001b[0m \u001b[0;34m=\u001b[0m \u001b[0mself\u001b[0m\u001b[0;34m.\u001b[0m\u001b[0mnumpy_client\u001b[0m\u001b[0;34m.\u001b[0m\u001b[0mfit\u001b[0m\u001b[0;34m(\u001b[0m\u001b[0mparameters\u001b[0m\u001b[0;34m,\u001b[0m \u001b[0mins\u001b[0m\u001b[0;34m.\u001b[0m\u001b[0mconfig\u001b[0m\u001b[0;34m)\u001b[0m  \u001b[0;31m# type: ignore\u001b[0m\u001b[0;34m\u001b[0m\u001b[0;34m\u001b[0m\u001b[0m\n\u001b[0m\u001b[1;32m    228\u001b[0m     if not (\n\u001b[1;32m    229\u001b[0m         \u001b[0mlen\u001b[0m\u001b[0;34m(\u001b[0m\u001b[0mresults\u001b[0m\u001b[0;34m)\u001b[0m \u001b[0;34m==\u001b[0m \u001b[0;36m3\u001b[0m\u001b[0;34m\u001b[0m\u001b[0;34m\u001b[0m\u001b[0m\n",
      "\u001b[0;32m~/Federated_learning/CLIENT4/KD_0/client4.py\u001b[0m in \u001b[0;36mfit\u001b[0;34m(self, parameters, config)\u001b[0m\n\u001b[1;32m     72\u001b[0m         \u001b[0moptim\u001b[0m \u001b[0;34m=\u001b[0m \u001b[0mtorch\u001b[0m\u001b[0;34m.\u001b[0m\u001b[0moptim\u001b[0m\u001b[0;34m.\u001b[0m\u001b[0mAdam\u001b[0m\u001b[0;34m(\u001b[0m\u001b[0mself\u001b[0m\u001b[0;34m.\u001b[0m\u001b[0mmodel_l\u001b[0m\u001b[0;34m.\u001b[0m\u001b[0mparameters\u001b[0m\u001b[0;34m(\u001b[0m\u001b[0;34m)\u001b[0m\u001b[0;34m,\u001b[0m \u001b[0mlr\u001b[0m\u001b[0;34m=\u001b[0m\u001b[0mlr\u001b[0m\u001b[0;34m)\u001b[0m\u001b[0;34m\u001b[0m\u001b[0;34m\u001b[0m\u001b[0m\n\u001b[1;32m     73\u001b[0m \u001b[0;34m\u001b[0m\u001b[0m\n\u001b[0;32m---> 74\u001b[0;31m         \u001b[0mtrain\u001b[0m\u001b[0;34m(\u001b[0m\u001b[0mself\u001b[0m\u001b[0;34m.\u001b[0m\u001b[0mmodel_l\u001b[0m\u001b[0;34m,\u001b[0m \u001b[0mself\u001b[0m\u001b[0;34m.\u001b[0m\u001b[0mtrainloader\u001b[0m\u001b[0;34m,\u001b[0m \u001b[0mself\u001b[0m\u001b[0;34m.\u001b[0m\u001b[0mvalloader\u001b[0m\u001b[0;34m,\u001b[0m \u001b[0moptim\u001b[0m\u001b[0;34m,\u001b[0m \u001b[0mepochs\u001b[0m\u001b[0;34m,\u001b[0m \u001b[0mself\u001b[0m\u001b[0;34m.\u001b[0m\u001b[0mcurrent_round\u001b[0m\u001b[0;34m,\u001b[0m \u001b[0mself\u001b[0m\u001b[0;34m.\u001b[0m\u001b[0mdevice\u001b[0m\u001b[0;34m)\u001b[0m\u001b[0;34m\u001b[0m\u001b[0;34m\u001b[0m\u001b[0m\n\u001b[0m\u001b[1;32m     75\u001b[0m         \u001b[0;31m#self.model_l.load_state_dict(best_model_params)\u001b[0m\u001b[0;34m\u001b[0m\u001b[0;34m\u001b[0m\u001b[0;34m\u001b[0m\u001b[0m\n\u001b[1;32m     76\u001b[0m \u001b[0;34m\u001b[0m\u001b[0m\n",
      "\u001b[0;32m~/Federated_learning/CLIENT4/KD_0/model_client4.py\u001b[0m in \u001b[0;36mtrain\u001b[0;34m(net, trainloader, valloader, optimizer, epochs, current_round, device)\u001b[0m\n\u001b[1;32m     55\u001b[0m         \u001b[0;31m##auc_pred = np.array([])\u001b[0m\u001b[0;34m\u001b[0m\u001b[0;34m\u001b[0m\u001b[0;34m\u001b[0m\u001b[0m\n\u001b[1;32m     56\u001b[0m         \u001b[0;31m##auc_label = np.array([])\u001b[0m\u001b[0;34m\u001b[0m\u001b[0;34m\u001b[0m\u001b[0;34m\u001b[0m\u001b[0m\n\u001b[0;32m---> 57\u001b[0;31m         \u001b[0;32mfor\u001b[0m \u001b[0mimages\u001b[0m\u001b[0;34m,\u001b[0m \u001b[0mlabels\u001b[0m \u001b[0;32min\u001b[0m \u001b[0mtrainloader\u001b[0m\u001b[0;34m:\u001b[0m\u001b[0;34m\u001b[0m\u001b[0;34m\u001b[0m\u001b[0m\n\u001b[0m\u001b[1;32m     58\u001b[0m             \u001b[0mimages\u001b[0m\u001b[0;34m,\u001b[0m \u001b[0mlabels\u001b[0m \u001b[0;34m=\u001b[0m \u001b[0mimages\u001b[0m\u001b[0;34m.\u001b[0m\u001b[0mto\u001b[0m\u001b[0;34m(\u001b[0m\u001b[0mdevice\u001b[0m\u001b[0;34m)\u001b[0m\u001b[0;34m,\u001b[0m \u001b[0mlabels\u001b[0m\u001b[0;34m.\u001b[0m\u001b[0mto\u001b[0m\u001b[0;34m(\u001b[0m\u001b[0mdevice\u001b[0m\u001b[0;34m)\u001b[0m\u001b[0;34m\u001b[0m\u001b[0;34m\u001b[0m\u001b[0m\n\u001b[1;32m     59\u001b[0m             \u001b[0moutputs\u001b[0m \u001b[0;34m=\u001b[0m \u001b[0mnet\u001b[0m\u001b[0;34m(\u001b[0m\u001b[0mimages\u001b[0m\u001b[0;34m)\u001b[0m\u001b[0;34m\u001b[0m\u001b[0;34m\u001b[0m\u001b[0m\n",
      "\u001b[0;32m~/.local/lib/python3.8/site-packages/torch/utils/data/dataloader.py\u001b[0m in \u001b[0;36m__next__\u001b[0;34m(self)\u001b[0m\n\u001b[1;32m    519\u001b[0m             \u001b[0;32mif\u001b[0m \u001b[0mself\u001b[0m\u001b[0;34m.\u001b[0m\u001b[0m_sampler_iter\u001b[0m \u001b[0;32mis\u001b[0m \u001b[0;32mNone\u001b[0m\u001b[0;34m:\u001b[0m\u001b[0;34m\u001b[0m\u001b[0;34m\u001b[0m\u001b[0m\n\u001b[1;32m    520\u001b[0m                 \u001b[0mself\u001b[0m\u001b[0;34m.\u001b[0m\u001b[0m_reset\u001b[0m\u001b[0;34m(\u001b[0m\u001b[0;34m)\u001b[0m\u001b[0;34m\u001b[0m\u001b[0;34m\u001b[0m\u001b[0m\n\u001b[0;32m--> 521\u001b[0;31m             \u001b[0mdata\u001b[0m \u001b[0;34m=\u001b[0m \u001b[0mself\u001b[0m\u001b[0;34m.\u001b[0m\u001b[0m_next_data\u001b[0m\u001b[0;34m(\u001b[0m\u001b[0;34m)\u001b[0m\u001b[0;34m\u001b[0m\u001b[0;34m\u001b[0m\u001b[0m\n\u001b[0m\u001b[1;32m    522\u001b[0m             \u001b[0mself\u001b[0m\u001b[0;34m.\u001b[0m\u001b[0m_num_yielded\u001b[0m \u001b[0;34m+=\u001b[0m \u001b[0;36m1\u001b[0m\u001b[0;34m\u001b[0m\u001b[0;34m\u001b[0m\u001b[0m\n\u001b[1;32m    523\u001b[0m             \u001b[0;32mif\u001b[0m \u001b[0mself\u001b[0m\u001b[0;34m.\u001b[0m\u001b[0m_dataset_kind\u001b[0m \u001b[0;34m==\u001b[0m \u001b[0m_DatasetKind\u001b[0m\u001b[0;34m.\u001b[0m\u001b[0mIterable\u001b[0m \u001b[0;32mand\u001b[0m\u001b[0;31m \u001b[0m\u001b[0;31m\\\u001b[0m\u001b[0;34m\u001b[0m\u001b[0;34m\u001b[0m\u001b[0m\n",
      "\u001b[0;32m~/.local/lib/python3.8/site-packages/torch/utils/data/dataloader.py\u001b[0m in \u001b[0;36m_next_data\u001b[0;34m(self)\u001b[0m\n\u001b[1;32m    559\u001b[0m     \u001b[0;32mdef\u001b[0m \u001b[0m_next_data\u001b[0m\u001b[0;34m(\u001b[0m\u001b[0mself\u001b[0m\u001b[0;34m)\u001b[0m\u001b[0;34m:\u001b[0m\u001b[0;34m\u001b[0m\u001b[0;34m\u001b[0m\u001b[0m\n\u001b[1;32m    560\u001b[0m         \u001b[0mindex\u001b[0m \u001b[0;34m=\u001b[0m \u001b[0mself\u001b[0m\u001b[0;34m.\u001b[0m\u001b[0m_next_index\u001b[0m\u001b[0;34m(\u001b[0m\u001b[0;34m)\u001b[0m  \u001b[0;31m# may raise StopIteration\u001b[0m\u001b[0;34m\u001b[0m\u001b[0;34m\u001b[0m\u001b[0m\n\u001b[0;32m--> 561\u001b[0;31m         \u001b[0mdata\u001b[0m \u001b[0;34m=\u001b[0m \u001b[0mself\u001b[0m\u001b[0;34m.\u001b[0m\u001b[0m_dataset_fetcher\u001b[0m\u001b[0;34m.\u001b[0m\u001b[0mfetch\u001b[0m\u001b[0;34m(\u001b[0m\u001b[0mindex\u001b[0m\u001b[0;34m)\u001b[0m  \u001b[0;31m# may raise StopIteration\u001b[0m\u001b[0;34m\u001b[0m\u001b[0;34m\u001b[0m\u001b[0m\n\u001b[0m\u001b[1;32m    562\u001b[0m         \u001b[0;32mif\u001b[0m \u001b[0mself\u001b[0m\u001b[0;34m.\u001b[0m\u001b[0m_pin_memory\u001b[0m\u001b[0;34m:\u001b[0m\u001b[0;34m\u001b[0m\u001b[0;34m\u001b[0m\u001b[0m\n\u001b[1;32m    563\u001b[0m             \u001b[0mdata\u001b[0m \u001b[0;34m=\u001b[0m \u001b[0m_utils\u001b[0m\u001b[0;34m.\u001b[0m\u001b[0mpin_memory\u001b[0m\u001b[0;34m.\u001b[0m\u001b[0mpin_memory\u001b[0m\u001b[0;34m(\u001b[0m\u001b[0mdata\u001b[0m\u001b[0;34m)\u001b[0m\u001b[0;34m\u001b[0m\u001b[0;34m\u001b[0m\u001b[0m\n",
      "\u001b[0;32m~/.local/lib/python3.8/site-packages/torch/utils/data/_utils/fetch.py\u001b[0m in \u001b[0;36mfetch\u001b[0;34m(self, possibly_batched_index)\u001b[0m\n\u001b[1;32m     50\u001b[0m         \u001b[0;32melse\u001b[0m\u001b[0;34m:\u001b[0m\u001b[0;34m\u001b[0m\u001b[0;34m\u001b[0m\u001b[0m\n\u001b[1;32m     51\u001b[0m             \u001b[0mdata\u001b[0m \u001b[0;34m=\u001b[0m \u001b[0mself\u001b[0m\u001b[0;34m.\u001b[0m\u001b[0mdataset\u001b[0m\u001b[0;34m[\u001b[0m\u001b[0mpossibly_batched_index\u001b[0m\u001b[0;34m]\u001b[0m\u001b[0;34m\u001b[0m\u001b[0;34m\u001b[0m\u001b[0m\n\u001b[0;32m---> 52\u001b[0;31m         \u001b[0;32mreturn\u001b[0m \u001b[0mself\u001b[0m\u001b[0;34m.\u001b[0m\u001b[0mcollate_fn\u001b[0m\u001b[0;34m(\u001b[0m\u001b[0mdata\u001b[0m\u001b[0;34m)\u001b[0m\u001b[0;34m\u001b[0m\u001b[0;34m\u001b[0m\u001b[0m\n\u001b[0m",
      "\u001b[0;32m~/.local/lib/python3.8/site-packages/torch/utils/data/_utils/collate.py\u001b[0m in \u001b[0;36mdefault_collate\u001b[0;34m(batch)\u001b[0m\n\u001b[1;32m     82\u001b[0m             \u001b[0;32mraise\u001b[0m \u001b[0mRuntimeError\u001b[0m\u001b[0;34m(\u001b[0m\u001b[0;34m'each element in list of batch should be of equal size'\u001b[0m\u001b[0;34m)\u001b[0m\u001b[0;34m\u001b[0m\u001b[0;34m\u001b[0m\u001b[0m\n\u001b[1;32m     83\u001b[0m         \u001b[0mtransposed\u001b[0m \u001b[0;34m=\u001b[0m \u001b[0mzip\u001b[0m\u001b[0;34m(\u001b[0m\u001b[0;34m*\u001b[0m\u001b[0mbatch\u001b[0m\u001b[0;34m)\u001b[0m\u001b[0;34m\u001b[0m\u001b[0;34m\u001b[0m\u001b[0m\n\u001b[0;32m---> 84\u001b[0;31m         \u001b[0;32mreturn\u001b[0m \u001b[0;34m[\u001b[0m\u001b[0mdefault_collate\u001b[0m\u001b[0;34m(\u001b[0m\u001b[0msamples\u001b[0m\u001b[0;34m)\u001b[0m \u001b[0;32mfor\u001b[0m \u001b[0msamples\u001b[0m \u001b[0;32min\u001b[0m \u001b[0mtransposed\u001b[0m\u001b[0;34m]\u001b[0m\u001b[0;34m\u001b[0m\u001b[0;34m\u001b[0m\u001b[0m\n\u001b[0m\u001b[1;32m     85\u001b[0m \u001b[0;34m\u001b[0m\u001b[0m\n\u001b[1;32m     86\u001b[0m     \u001b[0;32mraise\u001b[0m \u001b[0mTypeError\u001b[0m\u001b[0;34m(\u001b[0m\u001b[0mdefault_collate_err_msg_format\u001b[0m\u001b[0;34m.\u001b[0m\u001b[0mformat\u001b[0m\u001b[0;34m(\u001b[0m\u001b[0melem_type\u001b[0m\u001b[0;34m)\u001b[0m\u001b[0;34m)\u001b[0m\u001b[0;34m\u001b[0m\u001b[0;34m\u001b[0m\u001b[0m\n",
      "\u001b[0;32m~/.local/lib/python3.8/site-packages/torch/utils/data/_utils/collate.py\u001b[0m in \u001b[0;36m<listcomp>\u001b[0;34m(.0)\u001b[0m\n\u001b[1;32m     82\u001b[0m             \u001b[0;32mraise\u001b[0m \u001b[0mRuntimeError\u001b[0m\u001b[0;34m(\u001b[0m\u001b[0;34m'each element in list of batch should be of equal size'\u001b[0m\u001b[0;34m)\u001b[0m\u001b[0;34m\u001b[0m\u001b[0;34m\u001b[0m\u001b[0m\n\u001b[1;32m     83\u001b[0m         \u001b[0mtransposed\u001b[0m \u001b[0;34m=\u001b[0m \u001b[0mzip\u001b[0m\u001b[0;34m(\u001b[0m\u001b[0;34m*\u001b[0m\u001b[0mbatch\u001b[0m\u001b[0;34m)\u001b[0m\u001b[0;34m\u001b[0m\u001b[0;34m\u001b[0m\u001b[0m\n\u001b[0;32m---> 84\u001b[0;31m         \u001b[0;32mreturn\u001b[0m \u001b[0;34m[\u001b[0m\u001b[0mdefault_collate\u001b[0m\u001b[0;34m(\u001b[0m\u001b[0msamples\u001b[0m\u001b[0;34m)\u001b[0m \u001b[0;32mfor\u001b[0m \u001b[0msamples\u001b[0m \u001b[0;32min\u001b[0m \u001b[0mtransposed\u001b[0m\u001b[0;34m]\u001b[0m\u001b[0;34m\u001b[0m\u001b[0;34m\u001b[0m\u001b[0m\n\u001b[0m\u001b[1;32m     85\u001b[0m \u001b[0;34m\u001b[0m\u001b[0m\n\u001b[1;32m     86\u001b[0m     \u001b[0;32mraise\u001b[0m \u001b[0mTypeError\u001b[0m\u001b[0;34m(\u001b[0m\u001b[0mdefault_collate_err_msg_format\u001b[0m\u001b[0;34m.\u001b[0m\u001b[0mformat\u001b[0m\u001b[0;34m(\u001b[0m\u001b[0melem_type\u001b[0m\u001b[0;34m)\u001b[0m\u001b[0;34m)\u001b[0m\u001b[0;34m\u001b[0m\u001b[0;34m\u001b[0m\u001b[0m\n",
      "\u001b[0;32m~/.local/lib/python3.8/site-packages/torch/utils/data/_utils/collate.py\u001b[0m in \u001b[0;36mdefault_collate\u001b[0;34m(batch)\u001b[0m\n\u001b[1;32m     54\u001b[0m             \u001b[0mstorage\u001b[0m \u001b[0;34m=\u001b[0m \u001b[0melem\u001b[0m\u001b[0;34m.\u001b[0m\u001b[0mstorage\u001b[0m\u001b[0;34m(\u001b[0m\u001b[0;34m)\u001b[0m\u001b[0;34m.\u001b[0m\u001b[0m_new_shared\u001b[0m\u001b[0;34m(\u001b[0m\u001b[0mnumel\u001b[0m\u001b[0;34m)\u001b[0m\u001b[0;34m\u001b[0m\u001b[0;34m\u001b[0m\u001b[0m\n\u001b[1;32m     55\u001b[0m             \u001b[0mout\u001b[0m \u001b[0;34m=\u001b[0m \u001b[0melem\u001b[0m\u001b[0;34m.\u001b[0m\u001b[0mnew\u001b[0m\u001b[0;34m(\u001b[0m\u001b[0mstorage\u001b[0m\u001b[0;34m)\u001b[0m\u001b[0;34m\u001b[0m\u001b[0;34m\u001b[0m\u001b[0m\n\u001b[0;32m---> 56\u001b[0;31m         \u001b[0;32mreturn\u001b[0m \u001b[0mtorch\u001b[0m\u001b[0;34m.\u001b[0m\u001b[0mstack\u001b[0m\u001b[0;34m(\u001b[0m\u001b[0mbatch\u001b[0m\u001b[0;34m,\u001b[0m \u001b[0;36m0\u001b[0m\u001b[0;34m,\u001b[0m \u001b[0mout\u001b[0m\u001b[0;34m=\u001b[0m\u001b[0mout\u001b[0m\u001b[0;34m)\u001b[0m\u001b[0;34m\u001b[0m\u001b[0;34m\u001b[0m\u001b[0m\n\u001b[0m\u001b[1;32m     57\u001b[0m     \u001b[0;32melif\u001b[0m \u001b[0melem_type\u001b[0m\u001b[0;34m.\u001b[0m\u001b[0m__module__\u001b[0m \u001b[0;34m==\u001b[0m \u001b[0;34m'numpy'\u001b[0m \u001b[0;32mand\u001b[0m \u001b[0melem_type\u001b[0m\u001b[0;34m.\u001b[0m\u001b[0m__name__\u001b[0m \u001b[0;34m!=\u001b[0m \u001b[0;34m'str_'\u001b[0m\u001b[0;31m \u001b[0m\u001b[0;31m\\\u001b[0m\u001b[0;34m\u001b[0m\u001b[0;34m\u001b[0m\u001b[0m\n\u001b[1;32m     58\u001b[0m             \u001b[0;32mand\u001b[0m \u001b[0melem_type\u001b[0m\u001b[0;34m.\u001b[0m\u001b[0m__name__\u001b[0m \u001b[0;34m!=\u001b[0m \u001b[0;34m'string_'\u001b[0m\u001b[0;34m:\u001b[0m\u001b[0;34m\u001b[0m\u001b[0;34m\u001b[0m\u001b[0m\n",
      "\u001b[0;31mKeyboardInterrupt\u001b[0m: "
     ]
    }
   ],
   "source": [
    "%run CLIENT4/KD_0/client4.py"
   ]
  },
  {
   "cell_type": "code",
   "execution_count": null,
   "id": "9784a2cd",
   "metadata": {},
   "outputs": [],
   "source": [
    "%run CLIENT4/KD_1/client4.py"
   ]
  },
  {
   "cell_type": "code",
   "execution_count": null,
   "id": "e74fc617",
   "metadata": {},
   "outputs": [],
   "source": [
    "%run CLIENT4/KD_1_s1/client4.py"
   ]
  },
  {
   "cell_type": "code",
   "execution_count": null,
   "id": "c257129c",
   "metadata": {},
   "outputs": [],
   "source": [
    "%run CLIENT4/KD_1_s12/client4.py"
   ]
  },
  {
   "cell_type": "markdown",
   "id": "c35a6481",
   "metadata": {},
   "source": [
    "## SKD (Client4)"
   ]
  },
  {
   "cell_type": "code",
   "execution_count": null,
   "id": "3c0b57f7",
   "metadata": {},
   "outputs": [],
   "source": [
    "%run CLIENT4/SKD/client4.py"
   ]
  },
  {
   "cell_type": "markdown",
   "id": "369969e3",
   "metadata": {},
   "source": [
    "## Analyse baseline (Client4)"
   ]
  },
  {
   "cell_type": "code",
   "execution_count": null,
   "id": "4fe4fa2e",
   "metadata": {},
   "outputs": [],
   "source": [
    "%run CLIENT4/baseline_layers/client4.py"
   ]
  },
  {
   "cell_type": "markdown",
   "id": "4e7efb21",
   "metadata": {},
   "source": [
    "## LowSimilarity (Client4)"
   ]
  },
  {
   "cell_type": "code",
   "execution_count": null,
   "id": "351a2b4d",
   "metadata": {},
   "outputs": [],
   "source": [
    "%run CLIENT4/lowsimilarity/client4.py"
   ]
  },
  {
   "cell_type": "markdown",
   "id": "fae6f64a",
   "metadata": {},
   "source": [
    "## Ensemble (Client4)"
   ]
  },
  {
   "cell_type": "code",
   "execution_count": null,
   "id": "7f96d4e7",
   "metadata": {},
   "outputs": [],
   "source": [
    "%run CLIENT4/ensemble/client4.py"
   ]
  },
  {
   "cell_type": "markdown",
   "id": "16e99c13",
   "metadata": {},
   "source": [
    "## Ensemble dataset (Client4)"
   ]
  },
  {
   "cell_type": "code",
   "execution_count": null,
   "id": "45e7d2fd",
   "metadata": {},
   "outputs": [],
   "source": [
    "%run CLIENT4/ensemble_dataset/client4.py"
   ]
  },
  {
   "cell_type": "markdown",
   "id": "e1fe0146",
   "metadata": {},
   "source": [
    "## t-SNE (Client4)"
   ]
  },
  {
   "cell_type": "code",
   "execution_count": null,
   "id": "637a1be7",
   "metadata": {},
   "outputs": [],
   "source": [
    "%run CLIENT4/baseline/test_tSNE.py"
   ]
  },
  {
   "cell_type": "code",
   "execution_count": null,
   "id": "fc457ee9",
   "metadata": {},
   "outputs": [],
   "source": []
  }
 ],
 "metadata": {
  "kernelspec": {
   "display_name": "Python 3 (ipykernel)",
   "language": "python",
   "name": "python3"
  },
  "language_info": {
   "codemirror_mode": {
    "name": "ipython",
    "version": 3
   },
   "file_extension": ".py",
   "mimetype": "text/x-python",
   "name": "python",
   "nbconvert_exporter": "python",
   "pygments_lexer": "ipython3",
   "version": "3.8.10"
  }
 },
 "nbformat": 4,
 "nbformat_minor": 5
}
