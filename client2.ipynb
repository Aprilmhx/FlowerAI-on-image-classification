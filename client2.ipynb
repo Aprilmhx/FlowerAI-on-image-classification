{
 "cells": [
  {
   "cell_type": "markdown",
   "id": "6df8a81c",
   "metadata": {},
   "source": [
    "# Federated learning (Client 2)"
   ]
  },
  {
   "cell_type": "code",
   "execution_count": null,
   "id": "1b4c8006",
   "metadata": {
    "scrolled": true
   },
   "outputs": [],
   "source": [
    "%run CLIENT2/client2.py"
   ]
  },
  {
   "cell_type": "markdown",
   "id": "a825dc43",
   "metadata": {},
   "source": [
    "## Baseline (Client2)"
   ]
  },
  {
   "cell_type": "code",
   "execution_count": null,
   "id": "a43b6eae",
   "metadata": {},
   "outputs": [],
   "source": [
    "%run CLIENT2/baseline/client2.py"
   ]
  },
  {
   "cell_type": "markdown",
   "id": "8fab8f11",
   "metadata": {},
   "source": [
    "## Knowledge Distillation (Client2)"
   ]
  },
  {
   "cell_type": "code",
   "execution_count": 1,
   "id": "8d716b2e",
   "metadata": {},
   "outputs": [
    {
     "name": "stderr",
     "output_type": "stream",
     "text": [
      "2024-08-14 20:24:36.538124: W tensorflow/stream_executor/platform/default/dso_loader.cc:64] Could not load dynamic library 'libcudart.so.11.0'; dlerror: libcudart.so.11.0: cannot open shared object file: No such file or directory\n",
      "2024-08-14 20:24:36.538169: I tensorflow/stream_executor/cuda/cudart_stub.cc:29] Ignore above cudart dlerror if you do not have a GPU set up on your machine.\n",
      "INFO flwr 2024-08-14 20:24:40,557 | grpc.py:52 | Opened insecure gRPC connection (no certificates were passed)\n"
     ]
    },
    {
     "name": "stdout",
     "output_type": "stream",
     "text": [
      "[2024-08-14 20:24:40,557][flwr][INFO] - Opened insecure gRPC connection (no certificates were passed)\n"
     ]
    },
    {
     "name": "stderr",
     "output_type": "stream",
     "text": [
      "DEBUG flwr 2024-08-14 20:24:40,559 | connection.py:42 | ChannelConnectivity.IDLE\n"
     ]
    },
    {
     "name": "stdout",
     "output_type": "stream",
     "text": [
      "[2024-08-14 20:24:40,559][flwr][DEBUG] - ChannelConnectivity.IDLE\n"
     ]
    },
    {
     "name": "stderr",
     "output_type": "stream",
     "text": [
      "DEBUG flwr 2024-08-14 20:24:40,560 | connection.py:42 | ChannelConnectivity.CONNECTING\n"
     ]
    },
    {
     "name": "stdout",
     "output_type": "stream",
     "text": [
      "[2024-08-14 20:24:40,560][flwr][DEBUG] - ChannelConnectivity.CONNECTING\n"
     ]
    },
    {
     "name": "stderr",
     "output_type": "stream",
     "text": [
      "DEBUG flwr 2024-08-14 20:24:40,563 | connection.py:42 | ChannelConnectivity.READY\n"
     ]
    },
    {
     "name": "stdout",
     "output_type": "stream",
     "text": [
      "[2024-08-14 20:24:40,563][flwr][DEBUG] - ChannelConnectivity.READY\n",
      "client 2\n",
      "client 3\n",
      "*************Metrics******************\n",
      "Healthy: 0.7724696355649823, Benign disease: 0.30338733427048786, Malignant disease: 0.692733017322849\n",
      "Epoch [1/30] - train loss 0.8309 - train accuracy 0.6406 - train f1_micro 0.6406 - train f1_weighted 0.6299\n",
      "model 2\n",
      "*************Metrics******************\n",
      "Healthy: 0.5568181815018078, Benign disease: 0.6494845354129026, Malignant disease: 0.5879120875890593\n",
      "val loss 0.9035 - val accuracy 0.5890 - val f1_micro 0.5890 - val f1_weighted 0.6095\n",
      "Local best ACC achieved...... 0.6095135101914124\n",
      "*************Metrics******************\n",
      "Healthy: 0.4089068825579833, Benign disease: 0.02209131074785106, Malignant disease: 0.5963665086416773\n",
      "Epoch [2/30] - train loss 1.1688 - train accuracy 0.4009 - train f1_micro 0.4009 - train f1_weighted 0.3592\n",
      "model 2\n",
      "*************Metrics******************\n",
      "Healthy: 0.9999999994318182, Benign disease: 0.0, Malignant disease: 0.0\n",
      "val loss 1.0626 - val accuracy 0.3868 - val f1_micro 0.3868 - val f1_weighted 0.2158\n",
      "*************Metrics******************\n",
      "Healthy: 0.5651821861890541, Benign disease: 0.0, Malignant disease: 0.5315955765772832\n",
      "Epoch [3/30] - train loss 1.0592 - train accuracy 0.4311 - train f1_micro 0.4311 - train f1_weighted 0.3795\n",
      "model 2\n",
      "*************Metrics******************\n",
      "Healthy: 0.687499999609375, Benign disease: 0.0, Malignant disease: 0.6428571425039247\n",
      "val loss 1.0201 - val accuracy 0.5231 - val f1_micro 0.5231 - val f1_weighted 0.4605\n",
      "*************Metrics******************\n",
      "Healthy: 0.6485829958989002, Benign disease: 0.0, Malignant disease: 0.6745655607682018\n",
      "Epoch [4/30] - train loss 1.0138 - train accuracy 0.5204 - train f1_micro 0.5204 - train f1_weighted 0.4583\n",
      "model 2\n",
      "*************Metrics******************\n",
      "Healthy: 0.7272727268595042, Benign disease: 0.0, Malignant disease: 0.5769230766060862\n",
      "val loss 0.9685 - val accuracy 0.5121 - val f1_micro 0.5121 - val f1_weighted 0.4495\n",
      "*************Metrics******************\n",
      "Healthy: 0.6218623481277845, Benign disease: 0.0, Malignant disease: 0.6816745655069768\n",
      "Epoch [5/30] - train loss 0.9918 - train accuracy 0.5129 - train f1_micro 0.5129 - train f1_weighted 0.4518\n",
      "model 2\n",
      "*************Metrics******************\n",
      "Healthy: 0.5454545451446281, Benign disease: 0.0, Malignant disease: 0.8901098896208187\n",
      "val loss 0.9322 - val accuracy 0.5670 - val f1_micro 0.5670 - val f1_weighted 0.4972\n",
      "*************Metrics******************\n",
      "Healthy: 0.5781376517750496, Benign disease: 0.0014727540498567374, Malignant disease: 0.8009478672353123\n",
      "Epoch [6/30] - train loss 0.9451 - train accuracy 0.5437 - train f1_micro 0.5437 - train f1_weighted 0.4788\n",
      "model 2\n",
      "*************Metrics******************\n",
      "Healthy: 0.40340909067988123, Benign disease: 0.0, Malignant disease: 0.9395604390441976\n",
      "val loss 0.9387 - val accuracy 0.5319 - val f1_micro 0.5319 - val f1_weighted 0.4563\n",
      "*************Metrics******************\n",
      "Healthy: 0.6307692307181564, Benign disease: 0.0, Malignant disease: 0.7977883095736346\n",
      "Epoch [7/30] - train loss 0.9143 - train accuracy 0.5626 - train f1_micro 0.5626 - train f1_weighted 0.4969\n",
      "model 2\n",
      "*************Metrics******************\n",
      "Healthy: 0.6534090905378358, Benign disease: 0.0, Malignant disease: 0.8571428566718996\n",
      "val loss 0.8925 - val accuracy 0.5956 - val f1_micro 0.5956 - val f1_weighted 0.5274\n",
      "*************Metrics******************\n",
      "Healthy: 0.6939271254498846, Benign disease: 0.0014727540498567374, Malignant disease: 0.8056872037278289\n",
      "Epoch [8/30] - train loss 0.8992 - train accuracy 0.5906 - train f1_micro 0.5906 - train f1_weighted 0.5229\n",
      "model 2\n",
      "*************Metrics******************\n",
      "Healthy: 0.7443181813952738, Benign disease: 0.0, Malignant disease: 0.7582417578251419\n",
      "val loss 0.8585 - val accuracy 0.5912 - val f1_micro 0.5912 - val f1_weighted 0.5231\n",
      "*************Metrics******************\n",
      "Healthy: 0.7238866396174991, Benign disease: 0.0, Malignant disease: 0.8017377566507317\n",
      "Epoch [9/30] - train loss 0.8689 - train accuracy 0.6003 - train f1_micro 0.6003 - train f1_weighted 0.5311\n",
      "model 2\n",
      "*************Metrics******************\n",
      "Healthy: 0.8749999995028409, Benign disease: 0.0, Malignant disease: 0.7197802193847361\n",
      "val loss 0.8154 - val accuracy 0.6264 - val f1_micro 0.6264 - val f1_weighted 0.5509\n",
      "*************Metrics******************\n",
      "Healthy: 0.7862348177501025, Benign disease: 0.0014727540498567374, Malignant disease: 0.7922590836656984\n",
      "Epoch [10/30] - train loss 0.8453 - train accuracy 0.6211 - train f1_micro 0.6211 - train f1_weighted 0.5492\n",
      "model 2\n",
      "*************Metrics******************\n",
      "Healthy: 0.823863635895532, Benign disease: 0.010309278339887342, Malignant disease: 0.8461538456889265\n",
      "val loss 0.7605 - val accuracy 0.6593 - val f1_micro 0.6593 - val f1_weighted 0.5875\n",
      "*************Metrics******************\n",
      "Healthy: 0.8032388663317216, Benign disease: 0.007363770249283687, Malignant disease: 0.7946287519119567\n",
      "Epoch [11/30] - train loss 0.8208 - train accuracy 0.6299 - train f1_micro 0.6299 - train f1_weighted 0.5601\n",
      "model 2\n",
      "*************Metrics******************\n",
      "Healthy: 0.7840909086454029, Benign disease: 0.0, Malignant disease: 0.9010989006037918\n",
      "val loss 0.7656 - val accuracy 0.6637 - val f1_micro 0.6637 - val f1_weighted 0.5895\n",
      "*************Metrics******************\n",
      "Healthy: 0.8145748987194678, Benign disease: 0.0353460971965617, Malignant disease: 0.7946287519119567\n",
      "Epoch [12/30] - train loss 0.8107 - train accuracy 0.6403 - train f1_micro 0.6403 - train f1_weighted 0.5781\n",
      "model 2\n",
      "*************Metrics******************\n",
      "Healthy: 0.8693181813242511, Benign disease: 0.0, Malignant disease: 0.780219779791088\n",
      "val loss 0.7814 - val accuracy 0.6484 - val f1_micro 0.6484 - val f1_weighted 0.5712\n",
      "*************Metrics******************\n",
      "Healthy: 0.8291497975037126, Benign disease: 0.01767304859828085, Malignant disease: 0.8064770931432483\n",
      "Epoch [13/30] - train loss 0.7919 - train accuracy 0.6469 - train f1_micro 0.6469 - train f1_weighted 0.5778\n",
      "model 2\n",
      "*************Metrics******************\n",
      "Healthy: 0.8465909086098916, Benign disease: 0.010309278339887342, Malignant disease: 0.8351648347059534\n",
      "val loss 0.7657 - val accuracy 0.6637 - val f1_micro 0.6637 - val f1_weighted 0.5890\n",
      "*************Metrics******************\n",
      "Healthy: 0.834008097098461, Benign disease: 0.032400589096848224, Malignant disease: 0.7930489730811179\n",
      "Epoch [14/30] - train loss 0.7948 - train accuracy 0.6465 - train f1_micro 0.6465 - train f1_weighted 0.5829\n",
      "model 2\n",
      "*************Metrics******************\n",
      "Healthy: 0.8579545449670714, Benign disease: 0.010309278339887342, Malignant disease: 0.8241758237229804\n",
      "val loss 0.7343 - val accuracy 0.6637 - val f1_micro 0.6637 - val f1_weighted 0.5894\n",
      "*************Metrics******************\n",
      "Healthy: 0.8364372468958351, Benign disease: 0.04565537554555886, Malignant disease: 0.8064770931432483\n",
      "Epoch [15/30] - train loss 0.7825 - train accuracy 0.6557 - train f1_micro 0.6557 - train f1_weighted 0.5947\n",
      "model 2\n",
      "*************Metrics******************\n",
      "Healthy: 0.8749999995028409, Benign disease: 0.020618556679774684, Malignant disease: 0.8791208786378457\n",
      "val loss 0.7262 - val accuracy 0.6945 - val f1_micro 0.6945 - val f1_weighted 0.6196\n",
      "Local best ACC achieved...... 0.6195616235489599\n",
      "*************Metrics******************\n",
      "Healthy: 0.8469635626844565, Benign disease: 0.04860088364527233, Malignant disease: 0.8096366508049261\n",
      "Epoch [16/30] - train loss 0.7663 - train accuracy 0.6616 - train f1_micro 0.6616 - train f1_weighted 0.6012\n",
      "model 2\n",
      "*************Metrics******************\n",
      "Healthy: 0.8579545449670714, Benign disease: 0.25773195849718356, Malignant disease: 0.7362637358591958\n",
      "val loss 0.7585 - val accuracy 0.6813 - val f1_micro 0.6813 - val f1_weighted 0.6609\n",
      "Local best ACC achieved...... 0.6609139973501675\n",
      "*************Metrics******************\n",
      "Healthy: 0.8518218622792048, Benign disease: 0.07952871869226381, Malignant disease: 0.80410742489699\n",
      "Epoch [17/30] - train loss 0.7557 - train accuracy 0.6679 - train f1_micro 0.6679 - train f1_weighted 0.6157\n",
      "model 2\n",
      "*************Metrics******************\n",
      "Healthy: 0.829545454074122, Benign disease: 0.020618556679774684, Malignant disease: 0.862637362163386\n",
      "val loss 0.7155 - val accuracy 0.6703 - val f1_micro 0.6703 - val f1_weighted 0.6004\n"
     ]
    },
    {
     "name": "stdout",
     "output_type": "stream",
     "text": [
      "*************Metrics******************\n",
      "Healthy: 0.8445344128870823, Benign disease: 0.0706921943931234, Malignant disease: 0.7969984201582151\n",
      "Epoch [18/30] - train loss 0.7565 - train accuracy 0.6604 - train f1_micro 0.6604 - train f1_weighted 0.6052\n",
      "model 2\n",
      "*************Metrics******************\n",
      "Healthy: 0.7784090904668131, Benign disease: 0.10309278339887343, Malignant disease: 0.8571428566718996\n",
      "val loss 0.7411 - val accuracy 0.6659 - val f1_micro 0.6659 - val f1_weighted 0.6223\n",
      "*************Metrics******************\n",
      "Healthy: 0.8591093116713273, Benign disease: 0.0868924889415475, Malignant disease: 0.7922590836656984\n",
      "Epoch [19/30] - train loss 0.7523 - train accuracy 0.6676 - train f1_micro 0.6676 - train f1_weighted 0.6164\n",
      "model 2\n",
      "*************Metrics******************\n",
      "Healthy: 0.9034090903957903, Benign disease: 0.030927835019662026, Malignant disease: 0.6813186809443305\n",
      "val loss 0.8017 - val accuracy 0.6286 - val f1_micro 0.6286 - val f1_weighted 0.5610\n",
      "*************Metrics******************\n",
      "Healthy: 0.8574898784730779, Benign disease: 0.08100147274212055, Malignant disease: 0.80410742489699\n",
      "Epoch [20/30] - train loss 0.7355 - train accuracy 0.6704 - train f1_micro 0.6704 - train f1_weighted 0.6178\n",
      "model 2\n",
      "*************Metrics******************\n",
      "Healthy: 0.8806818176814308, Benign disease: 0.06185567003932405, Malignant disease: 0.8351648347059534\n",
      "val loss 0.7036 - val accuracy 0.6879 - val f1_micro 0.6879 - val f1_weighted 0.6256\n",
      "*************Metrics******************\n",
      "Healthy: 0.868825910860824, Benign disease: 0.11929307803839573, Malignant disease: 0.7867298577577624\n",
      "Epoch [21/30] - train loss 0.7327 - train accuracy 0.6761 - train f1_micro 0.6761 - train f1_weighted 0.6309\n",
      "model 2\n",
      "*************Metrics******************\n",
      "Healthy: 0.8124999995383523, Benign disease: 0.051546391699436714, Malignant disease: 0.9010989006037918\n",
      "val loss 0.7182 - val accuracy 0.6857 - val f1_micro 0.6857 - val f1_weighted 0.6239\n",
      "*************Metrics******************\n",
      "Healthy: 0.8631578946669509, Benign disease: 0.1575846833346709, Malignant disease: 0.7701421800339541\n",
      "Epoch [22/30] - train loss 0.7258 - train accuracy 0.6755 - train f1_micro 0.6755 - train f1_weighted 0.6385\n",
      "model 2\n",
      "*************Metrics******************\n",
      "Healthy: 0.8522727267884814, Benign disease: 0.030927835019662026, Malignant disease: 0.8791208786378457\n",
      "val loss 0.7062 - val accuracy 0.6879 - val f1_micro 0.6879 - val f1_weighted 0.6183\n",
      "*************Metrics******************\n",
      "Healthy: 0.8542510120765789, Benign disease: 0.15169366713524393, Malignant disease: 0.8056872037278289\n",
      "Epoch [23/30] - train loss 0.7130 - train accuracy 0.6849 - train f1_micro 0.6849 - train f1_weighted 0.6469\n",
      "model 2\n",
      "*************Metrics******************\n",
      "Healthy: 0.9034090903957903, Benign disease: 0.17525773177808482, Malignant disease: 0.769230768808115\n",
      "val loss 0.6903 - val accuracy 0.6945 - val f1_micro 0.6945 - val f1_weighted 0.6566\n",
      "*************Metrics******************\n",
      "Healthy: 0.8728744938564476, Benign disease: 0.16642120763381132, Malignant disease: 0.7938388624965373\n",
      "Epoch [24/30] - train loss 0.7020 - train accuracy 0.6906 - train f1_micro 0.6906 - train f1_weighted 0.6537\n",
      "model 2\n",
      "*************Metrics******************\n",
      "Healthy: 0.8352272722527118, Benign disease: 0.20618556679774686, Malignant disease: 0.8241758237229804\n",
      "val loss 0.7052 - val accuracy 0.6967 - val f1_micro 0.6967 - val f1_weighted 0.6674\n",
      "Local best ACC achieved...... 0.667394222522862\n",
      "*************Metrics******************\n",
      "Healthy: 0.8736842104555722, Benign disease: 0.17083946978338152, Malignant disease: 0.7946287519119567\n",
      "Epoch [25/30] - train loss 0.7077 - train accuracy 0.6921 - train f1_micro 0.6921 - train f1_weighted 0.6558\n",
      "model 2\n",
      "*************Metrics******************\n",
      "Healthy: 0.8636363631456612, Benign disease: 0.30927835019662026, Malignant disease: 0.6593406589783842\n",
      "val loss 0.7012 - val accuracy 0.6637 - val f1_micro 0.6637 - val f1_weighted 0.6511\n",
      "*************Metrics******************\n",
      "Healthy: 0.8761133602529464, Benign disease: 0.20618556697994322, Malignant disease: 0.8135860978820233\n",
      "Epoch [26/30] - train loss 0.6765 - train accuracy 0.7082 - train f1_micro 0.7082 - train f1_weighted 0.6763\n",
      "model 2\n",
      "*************Metrics******************\n",
      "Healthy: 0.8579545449670714, Benign disease: 0.3814432985758317, Malignant disease: 0.5934065930805459\n",
      "val loss 0.7249 - val accuracy 0.6505 - val f1_micro 0.6505 - val f1_weighted 0.6433\n",
      "*************Metrics******************\n",
      "Healthy: 0.8647773278652003, Benign disease: 0.26509572897421274, Malignant disease: 0.7693522906185347\n",
      "Epoch [27/30] - train loss 0.6778 - train accuracy 0.6987 - train f1_micro 0.6987 - train f1_weighted 0.6772\n",
      "model 2\n",
      "*************Metrics******************\n",
      "Healthy: 0.8806818176814308, Benign disease: 0.5154639169943671, Malignant disease: 0.5714285711145997\n",
      "val loss 0.7245 - val accuracy 0.6791 - val f1_micro 0.6791 - val f1_weighted 0.6740\n",
      "Local best ACC achieved...... 0.6740302727304072\n",
      "*************Metrics******************\n",
      "Healthy: 0.8769230768520712, Benign disease: 0.22974963177765104, Malignant disease: 0.7938388624965373\n",
      "Epoch [28/30] - train loss 0.6723 - train accuracy 0.7057 - train f1_micro 0.7057 - train f1_weighted 0.6783\n",
      "model 2\n",
      "*************Metrics******************\n",
      "Healthy: 0.8124999995383523, Benign disease: 0.32989690687639495, Malignant disease: 0.7967032962655477\n",
      "val loss 0.6983 - val accuracy 0.7033 - val f1_micro 0.7033 - val f1_weighted 0.6884\n",
      "Local best ACC achieved...... 0.6883940955207358\n",
      "*************Metrics******************\n",
      "Healthy: 0.891497975636316, Benign disease: 0.30338733427048786, Malignant disease: 0.7875197471731817\n",
      "Epoch [29/30] - train loss 0.6459 - train accuracy 0.7245 - train f1_micro 0.7245 - train f1_weighted 0.7043\n",
      "model 2\n",
      "*************Metrics******************\n",
      "Healthy: 0.8636363631456612, Benign disease: 0.15463917509831013, Malignant disease: 0.8186813182314938\n",
      "val loss 0.7053 - val accuracy 0.6945 - val f1_micro 0.6945 - val f1_weighted 0.6545\n",
      "*************Metrics******************\n",
      "Healthy: 0.8882591092398172, Benign disease: 0.28424153162235033, Malignant disease: 0.7898894154194401\n",
      "Epoch [30/30] - train loss 0.6426 - train accuracy 0.7201 - train f1_micro 0.7201 - train f1_weighted 0.6986\n",
      "model 2\n",
      "*************Metrics******************\n",
      "Healthy: 0.8068181813597625, Benign disease: 0.16494845343819747, Malignant disease: 0.8461538456889265\n",
      "val loss 0.7236 - val accuracy 0.6857 - val f1_micro 0.6857 - val f1_weighted 0.6489\n",
      "client 1\n"
     ]
    },
    {
     "name": "stderr",
     "output_type": "stream",
     "text": [
      "DEBUG flwr 2024-08-14 21:14:18,857 | connection.py:141 | gRPC channel closed\n"
     ]
    },
    {
     "name": "stdout",
     "output_type": "stream",
     "text": [
      "[2024-08-14 21:14:18,857][flwr][DEBUG] - gRPC channel closed\n"
     ]
    },
    {
     "ename": "KeyboardInterrupt",
     "evalue": "",
     "output_type": "error",
     "traceback": [
      "\u001b[0;31m---------------------------------------------------------------------------\u001b[0m",
      "\u001b[0;31mKeyboardInterrupt\u001b[0m                         Traceback (most recent call last)",
      "\u001b[0;32m~/Federated_learning/CLIENT2/KD_0/client2.py\u001b[0m in \u001b[0;36m<module>\u001b[0;34m\u001b[0m\n\u001b[1;32m    163\u001b[0m \u001b[0;34m\u001b[0m\u001b[0m\n\u001b[1;32m    164\u001b[0m \u001b[0;32mif\u001b[0m \u001b[0m__name__\u001b[0m \u001b[0;34m==\u001b[0m \u001b[0;34m'__main__'\u001b[0m\u001b[0;34m:\u001b[0m\u001b[0;34m\u001b[0m\u001b[0;34m\u001b[0m\u001b[0m\n\u001b[0;32m--> 165\u001b[0;31m     \u001b[0mmain\u001b[0m\u001b[0;34m(\u001b[0m\u001b[0;34m)\u001b[0m\u001b[0;34m\u001b[0m\u001b[0;34m\u001b[0m\u001b[0m\n\u001b[0m\u001b[1;32m    166\u001b[0m \u001b[0;34m\u001b[0m\u001b[0m\n\u001b[1;32m    167\u001b[0m \u001b[0;34m\u001b[0m\u001b[0m\n",
      "\u001b[0;32m~/.local/lib/python3.8/site-packages/hydra/main.py\u001b[0m in \u001b[0;36mdecorated_main\u001b[0;34m(cfg_passthrough)\u001b[0m\n\u001b[1;32m     92\u001b[0m                     \u001b[0;31m# no return value from run_hydra() as it may sometime actually run the task_function\u001b[0m\u001b[0;34m\u001b[0m\u001b[0;34m\u001b[0m\u001b[0;34m\u001b[0m\u001b[0m\n\u001b[1;32m     93\u001b[0m                     \u001b[0;31m# multiple times (--multirun)\u001b[0m\u001b[0;34m\u001b[0m\u001b[0;34m\u001b[0m\u001b[0;34m\u001b[0m\u001b[0m\n\u001b[0;32m---> 94\u001b[0;31m                     _run_hydra(\n\u001b[0m\u001b[1;32m     95\u001b[0m                         \u001b[0margs\u001b[0m\u001b[0;34m=\u001b[0m\u001b[0margs\u001b[0m\u001b[0;34m,\u001b[0m\u001b[0;34m\u001b[0m\u001b[0;34m\u001b[0m\u001b[0m\n\u001b[1;32m     96\u001b[0m                         \u001b[0margs_parser\u001b[0m\u001b[0;34m=\u001b[0m\u001b[0margs_parser\u001b[0m\u001b[0;34m,\u001b[0m\u001b[0;34m\u001b[0m\u001b[0;34m\u001b[0m\u001b[0m\n",
      "\u001b[0;32m~/.local/lib/python3.8/site-packages/hydra/_internal/utils.py\u001b[0m in \u001b[0;36m_run_hydra\u001b[0;34m(args, args_parser, task_function, config_path, config_name, caller_stack_depth)\u001b[0m\n\u001b[1;32m    392\u001b[0m         \u001b[0;32mif\u001b[0m \u001b[0margs\u001b[0m\u001b[0;34m.\u001b[0m\u001b[0mrun\u001b[0m \u001b[0;32mor\u001b[0m \u001b[0margs\u001b[0m\u001b[0;34m.\u001b[0m\u001b[0mmultirun\u001b[0m\u001b[0;34m:\u001b[0m\u001b[0;34m\u001b[0m\u001b[0;34m\u001b[0m\u001b[0m\n\u001b[1;32m    393\u001b[0m             \u001b[0mrun_mode\u001b[0m \u001b[0;34m=\u001b[0m \u001b[0mhydra\u001b[0m\u001b[0;34m.\u001b[0m\u001b[0mget_mode\u001b[0m\u001b[0;34m(\u001b[0m\u001b[0mconfig_name\u001b[0m\u001b[0;34m=\u001b[0m\u001b[0mconfig_name\u001b[0m\u001b[0;34m,\u001b[0m \u001b[0moverrides\u001b[0m\u001b[0;34m=\u001b[0m\u001b[0moverrides\u001b[0m\u001b[0;34m)\u001b[0m\u001b[0;34m\u001b[0m\u001b[0;34m\u001b[0m\u001b[0m\n\u001b[0;32m--> 394\u001b[0;31m             _run_app(\n\u001b[0m\u001b[1;32m    395\u001b[0m                 \u001b[0mrun\u001b[0m\u001b[0;34m=\u001b[0m\u001b[0margs\u001b[0m\u001b[0;34m.\u001b[0m\u001b[0mrun\u001b[0m\u001b[0;34m,\u001b[0m\u001b[0;34m\u001b[0m\u001b[0;34m\u001b[0m\u001b[0m\n\u001b[1;32m    396\u001b[0m                 \u001b[0mmultirun\u001b[0m\u001b[0;34m=\u001b[0m\u001b[0margs\u001b[0m\u001b[0;34m.\u001b[0m\u001b[0mmultirun\u001b[0m\u001b[0;34m,\u001b[0m\u001b[0;34m\u001b[0m\u001b[0;34m\u001b[0m\u001b[0m\n",
      "\u001b[0;32m~/.local/lib/python3.8/site-packages/hydra/_internal/utils.py\u001b[0m in \u001b[0;36m_run_app\u001b[0;34m(run, multirun, mode, hydra, config_name, task_function, overrides)\u001b[0m\n\u001b[1;32m    455\u001b[0m \u001b[0;34m\u001b[0m\u001b[0m\n\u001b[1;32m    456\u001b[0m     \u001b[0;32mif\u001b[0m \u001b[0mmode\u001b[0m \u001b[0;34m==\u001b[0m \u001b[0mRunMode\u001b[0m\u001b[0;34m.\u001b[0m\u001b[0mRUN\u001b[0m\u001b[0;34m:\u001b[0m\u001b[0;34m\u001b[0m\u001b[0;34m\u001b[0m\u001b[0m\n\u001b[0;32m--> 457\u001b[0;31m         run_and_report(\n\u001b[0m\u001b[1;32m    458\u001b[0m             lambda: hydra.run(\n\u001b[1;32m    459\u001b[0m                 \u001b[0mconfig_name\u001b[0m\u001b[0;34m=\u001b[0m\u001b[0mconfig_name\u001b[0m\u001b[0;34m,\u001b[0m\u001b[0;34m\u001b[0m\u001b[0;34m\u001b[0m\u001b[0m\n",
      "\u001b[0;32m~/.local/lib/python3.8/site-packages/hydra/_internal/utils.py\u001b[0m in \u001b[0;36mrun_and_report\u001b[0;34m(func)\u001b[0m\n\u001b[1;32m    218\u001b[0m \u001b[0;32mdef\u001b[0m \u001b[0mrun_and_report\u001b[0m\u001b[0;34m(\u001b[0m\u001b[0mfunc\u001b[0m\u001b[0;34m:\u001b[0m \u001b[0mAny\u001b[0m\u001b[0;34m)\u001b[0m \u001b[0;34m->\u001b[0m \u001b[0mAny\u001b[0m\u001b[0;34m:\u001b[0m\u001b[0;34m\u001b[0m\u001b[0;34m\u001b[0m\u001b[0m\n\u001b[1;32m    219\u001b[0m     \u001b[0;32mtry\u001b[0m\u001b[0;34m:\u001b[0m\u001b[0;34m\u001b[0m\u001b[0;34m\u001b[0m\u001b[0m\n\u001b[0;32m--> 220\u001b[0;31m         \u001b[0;32mreturn\u001b[0m \u001b[0mfunc\u001b[0m\u001b[0;34m(\u001b[0m\u001b[0;34m)\u001b[0m\u001b[0;34m\u001b[0m\u001b[0;34m\u001b[0m\u001b[0m\n\u001b[0m\u001b[1;32m    221\u001b[0m     \u001b[0;32mexcept\u001b[0m \u001b[0mException\u001b[0m \u001b[0;32mas\u001b[0m \u001b[0mex\u001b[0m\u001b[0;34m:\u001b[0m\u001b[0;34m\u001b[0m\u001b[0;34m\u001b[0m\u001b[0m\n\u001b[1;32m    222\u001b[0m         \u001b[0;32mif\u001b[0m \u001b[0m_is_env_set\u001b[0m\u001b[0;34m(\u001b[0m\u001b[0;34m\"HYDRA_FULL_ERROR\"\u001b[0m\u001b[0;34m)\u001b[0m \u001b[0;32mor\u001b[0m \u001b[0mis_under_debugger\u001b[0m\u001b[0;34m(\u001b[0m\u001b[0;34m)\u001b[0m\u001b[0;34m:\u001b[0m\u001b[0;34m\u001b[0m\u001b[0;34m\u001b[0m\u001b[0m\n",
      "\u001b[0;32m~/.local/lib/python3.8/site-packages/hydra/_internal/utils.py\u001b[0m in \u001b[0;36m<lambda>\u001b[0;34m()\u001b[0m\n\u001b[1;32m    456\u001b[0m     \u001b[0;32mif\u001b[0m \u001b[0mmode\u001b[0m \u001b[0;34m==\u001b[0m \u001b[0mRunMode\u001b[0m\u001b[0;34m.\u001b[0m\u001b[0mRUN\u001b[0m\u001b[0;34m:\u001b[0m\u001b[0;34m\u001b[0m\u001b[0;34m\u001b[0m\u001b[0m\n\u001b[1;32m    457\u001b[0m         run_and_report(\n\u001b[0;32m--> 458\u001b[0;31m             lambda: hydra.run(\n\u001b[0m\u001b[1;32m    459\u001b[0m                 \u001b[0mconfig_name\u001b[0m\u001b[0;34m=\u001b[0m\u001b[0mconfig_name\u001b[0m\u001b[0;34m,\u001b[0m\u001b[0;34m\u001b[0m\u001b[0;34m\u001b[0m\u001b[0m\n\u001b[1;32m    460\u001b[0m                 \u001b[0mtask_function\u001b[0m\u001b[0;34m=\u001b[0m\u001b[0mtask_function\u001b[0m\u001b[0;34m,\u001b[0m\u001b[0;34m\u001b[0m\u001b[0;34m\u001b[0m\u001b[0m\n",
      "\u001b[0;32m~/.local/lib/python3.8/site-packages/hydra/_internal/hydra.py\u001b[0m in \u001b[0;36mrun\u001b[0;34m(self, config_name, task_function, overrides, with_log_configuration)\u001b[0m\n\u001b[1;32m    117\u001b[0m         \u001b[0mcallbacks\u001b[0m\u001b[0;34m.\u001b[0m\u001b[0mon_run_start\u001b[0m\u001b[0;34m(\u001b[0m\u001b[0mconfig\u001b[0m\u001b[0;34m=\u001b[0m\u001b[0mcfg\u001b[0m\u001b[0;34m,\u001b[0m \u001b[0mconfig_name\u001b[0m\u001b[0;34m=\u001b[0m\u001b[0mconfig_name\u001b[0m\u001b[0;34m)\u001b[0m\u001b[0;34m\u001b[0m\u001b[0;34m\u001b[0m\u001b[0m\n\u001b[1;32m    118\u001b[0m \u001b[0;34m\u001b[0m\u001b[0m\n\u001b[0;32m--> 119\u001b[0;31m         ret = run_job(\n\u001b[0m\u001b[1;32m    120\u001b[0m             hydra_context=HydraContext(\n\u001b[1;32m    121\u001b[0m                 \u001b[0mconfig_loader\u001b[0m\u001b[0;34m=\u001b[0m\u001b[0mself\u001b[0m\u001b[0;34m.\u001b[0m\u001b[0mconfig_loader\u001b[0m\u001b[0;34m,\u001b[0m \u001b[0mcallbacks\u001b[0m\u001b[0;34m=\u001b[0m\u001b[0mcallbacks\u001b[0m\u001b[0;34m\u001b[0m\u001b[0;34m\u001b[0m\u001b[0m\n",
      "\u001b[0;32m~/.local/lib/python3.8/site-packages/hydra/core/utils.py\u001b[0m in \u001b[0;36mrun_job\u001b[0;34m(task_function, config, job_dir_key, job_subdir_key, hydra_context, configure_logging)\u001b[0m\n\u001b[1;32m    184\u001b[0m             \u001b[0mcallbacks\u001b[0m\u001b[0;34m.\u001b[0m\u001b[0mon_job_start\u001b[0m\u001b[0;34m(\u001b[0m\u001b[0mconfig\u001b[0m\u001b[0;34m=\u001b[0m\u001b[0mconfig\u001b[0m\u001b[0;34m,\u001b[0m \u001b[0mtask_function\u001b[0m\u001b[0;34m=\u001b[0m\u001b[0mtask_function\u001b[0m\u001b[0;34m)\u001b[0m\u001b[0;34m\u001b[0m\u001b[0;34m\u001b[0m\u001b[0m\n\u001b[1;32m    185\u001b[0m             \u001b[0;32mtry\u001b[0m\u001b[0;34m:\u001b[0m\u001b[0;34m\u001b[0m\u001b[0;34m\u001b[0m\u001b[0m\n\u001b[0;32m--> 186\u001b[0;31m                 \u001b[0mret\u001b[0m\u001b[0;34m.\u001b[0m\u001b[0mreturn_value\u001b[0m \u001b[0;34m=\u001b[0m \u001b[0mtask_function\u001b[0m\u001b[0;34m(\u001b[0m\u001b[0mtask_cfg\u001b[0m\u001b[0;34m)\u001b[0m\u001b[0;34m\u001b[0m\u001b[0;34m\u001b[0m\u001b[0m\n\u001b[0m\u001b[1;32m    187\u001b[0m                 \u001b[0mret\u001b[0m\u001b[0;34m.\u001b[0m\u001b[0mstatus\u001b[0m \u001b[0;34m=\u001b[0m \u001b[0mJobStatus\u001b[0m\u001b[0;34m.\u001b[0m\u001b[0mCOMPLETED\u001b[0m\u001b[0;34m\u001b[0m\u001b[0;34m\u001b[0m\u001b[0m\n\u001b[1;32m    188\u001b[0m             \u001b[0;32mexcept\u001b[0m \u001b[0mException\u001b[0m \u001b[0;32mas\u001b[0m \u001b[0me\u001b[0m\u001b[0;34m:\u001b[0m\u001b[0;34m\u001b[0m\u001b[0;34m\u001b[0m\u001b[0m\n",
      "\u001b[0;32m~/Federated_learning/CLIENT2/KD_0/client2.py\u001b[0m in \u001b[0;36mmain\u001b[0;34m(cfg)\u001b[0m\n\u001b[1;32m    153\u001b[0m \u001b[0;32mdef\u001b[0m \u001b[0mmain\u001b[0m\u001b[0;34m(\u001b[0m\u001b[0mcfg\u001b[0m\u001b[0;34m:\u001b[0m \u001b[0mDictConfig\u001b[0m\u001b[0;34m)\u001b[0m\u001b[0;34m:\u001b[0m\u001b[0;34m\u001b[0m\u001b[0;34m\u001b[0m\u001b[0m\n\u001b[1;32m    154\u001b[0m     \u001b[0mtrainloader\u001b[0m\u001b[0;34m,\u001b[0m \u001b[0mvalidationloader\u001b[0m\u001b[0;34m,\u001b[0m \u001b[0mtestloader\u001b[0m \u001b[0;34m=\u001b[0m \u001b[0mprepare_dataset_client2\u001b[0m\u001b[0;34m(\u001b[0m\u001b[0mcfg\u001b[0m\u001b[0;34m.\u001b[0m\u001b[0mpath\u001b[0m\u001b[0;34m,\u001b[0m \u001b[0mcfg\u001b[0m\u001b[0;34m.\u001b[0m\u001b[0mnum_clients\u001b[0m\u001b[0;34m,\u001b[0m \u001b[0mcfg\u001b[0m\u001b[0;34m.\u001b[0m\u001b[0mjson_path\u001b[0m\u001b[0;34m,\u001b[0m \u001b[0mcfg\u001b[0m\u001b[0;34m.\u001b[0m\u001b[0mbatch_size\u001b[0m\u001b[0;34m)\u001b[0m\u001b[0;34m\u001b[0m\u001b[0;34m\u001b[0m\u001b[0m\n\u001b[0;32m--> 155\u001b[0;31m     fl.client.start_numpy_client(\n\u001b[0m\u001b[1;32m    156\u001b[0m         \u001b[0mserver_address\u001b[0m\u001b[0;34m=\u001b[0m\u001b[0;34m\"127.0.0.1:8080\"\u001b[0m\u001b[0;34m,\u001b[0m\u001b[0;34m\u001b[0m\u001b[0;34m\u001b[0m\u001b[0m\n\u001b[1;32m    157\u001b[0m         client=FlowerClient(\n",
      "\u001b[0;32m~/.local/lib/python3.8/site-packages/flwr/client/app.py\u001b[0m in \u001b[0;36mstart_numpy_client\u001b[0;34m(server_address, client, grpc_max_message_length, root_certificates, insecure, transport)\u001b[0m\n\u001b[1;32m    399\u001b[0m     \u001b[0mwrp_client\u001b[0m \u001b[0;34m=\u001b[0m \u001b[0mclient\u001b[0m\u001b[0;34m.\u001b[0m\u001b[0mto_client\u001b[0m\u001b[0;34m(\u001b[0m\u001b[0;34m)\u001b[0m\u001b[0;34m\u001b[0m\u001b[0;34m\u001b[0m\u001b[0m\n\u001b[1;32m    400\u001b[0m \u001b[0;34m\u001b[0m\u001b[0m\n\u001b[0;32m--> 401\u001b[0;31m     start_client(\n\u001b[0m\u001b[1;32m    402\u001b[0m         \u001b[0mserver_address\u001b[0m\u001b[0;34m=\u001b[0m\u001b[0mserver_address\u001b[0m\u001b[0;34m,\u001b[0m\u001b[0;34m\u001b[0m\u001b[0;34m\u001b[0m\u001b[0m\n\u001b[1;32m    403\u001b[0m         \u001b[0mclient\u001b[0m\u001b[0;34m=\u001b[0m\u001b[0mwrp_client\u001b[0m\u001b[0;34m,\u001b[0m\u001b[0;34m\u001b[0m\u001b[0;34m\u001b[0m\u001b[0m\n",
      "\u001b[0;32m~/.local/lib/python3.8/site-packages/flwr/client/app.py\u001b[0m in \u001b[0;36mstart_client\u001b[0;34m(server_address, load_callable_fn, client_fn, client, grpc_max_message_length, root_certificates, insecure, transport)\u001b[0m\n\u001b[1;32m    273\u001b[0m             \u001b[0;32mwhile\u001b[0m \u001b[0;32mTrue\u001b[0m\u001b[0;34m:\u001b[0m\u001b[0;34m\u001b[0m\u001b[0;34m\u001b[0m\u001b[0m\n\u001b[1;32m    274\u001b[0m                 \u001b[0;31m# Receive\u001b[0m\u001b[0;34m\u001b[0m\u001b[0;34m\u001b[0m\u001b[0;34m\u001b[0m\u001b[0m\n\u001b[0;32m--> 275\u001b[0;31m                 \u001b[0mtask_ins\u001b[0m \u001b[0;34m=\u001b[0m \u001b[0mreceive\u001b[0m\u001b[0;34m(\u001b[0m\u001b[0;34m)\u001b[0m\u001b[0;34m\u001b[0m\u001b[0;34m\u001b[0m\u001b[0m\n\u001b[0m\u001b[1;32m    276\u001b[0m                 \u001b[0;32mif\u001b[0m \u001b[0mtask_ins\u001b[0m \u001b[0;32mis\u001b[0m \u001b[0;32mNone\u001b[0m\u001b[0;34m:\u001b[0m\u001b[0;34m\u001b[0m\u001b[0;34m\u001b[0m\u001b[0m\n\u001b[1;32m    277\u001b[0m                     \u001b[0mtime\u001b[0m\u001b[0;34m.\u001b[0m\u001b[0msleep\u001b[0m\u001b[0;34m(\u001b[0m\u001b[0;36m3\u001b[0m\u001b[0;34m)\u001b[0m  \u001b[0;31m# Wait for 3s before asking again\u001b[0m\u001b[0;34m\u001b[0m\u001b[0;34m\u001b[0m\u001b[0m\n",
      "\u001b[0;32m~/.local/lib/python3.8/site-packages/flwr/client/grpc_client/connection.py\u001b[0m in \u001b[0;36mreceive\u001b[0;34m()\u001b[0m\n\u001b[1;32m    116\u001b[0m \u001b[0;34m\u001b[0m\u001b[0m\n\u001b[1;32m    117\u001b[0m     \u001b[0;32mdef\u001b[0m \u001b[0mreceive\u001b[0m\u001b[0;34m(\u001b[0m\u001b[0;34m)\u001b[0m \u001b[0;34m->\u001b[0m \u001b[0mTaskIns\u001b[0m\u001b[0;34m:\u001b[0m\u001b[0;34m\u001b[0m\u001b[0;34m\u001b[0m\u001b[0m\n\u001b[0;32m--> 118\u001b[0;31m         \u001b[0mserver_message\u001b[0m \u001b[0;34m=\u001b[0m \u001b[0mnext\u001b[0m\u001b[0;34m(\u001b[0m\u001b[0mserver_message_iterator\u001b[0m\u001b[0;34m)\u001b[0m\u001b[0;34m\u001b[0m\u001b[0;34m\u001b[0m\u001b[0m\n\u001b[0m\u001b[1;32m    119\u001b[0m         return TaskIns(\n\u001b[1;32m    120\u001b[0m             \u001b[0mtask_id\u001b[0m\u001b[0;34m=\u001b[0m\u001b[0mstr\u001b[0m\u001b[0;34m(\u001b[0m\u001b[0muuid\u001b[0m\u001b[0;34m.\u001b[0m\u001b[0muuid4\u001b[0m\u001b[0;34m(\u001b[0m\u001b[0;34m)\u001b[0m\u001b[0;34m)\u001b[0m\u001b[0;34m,\u001b[0m\u001b[0;34m\u001b[0m\u001b[0;34m\u001b[0m\u001b[0m\n",
      "\u001b[0;32m~/.local/lib/python3.8/site-packages/grpc/_channel.py\u001b[0m in \u001b[0;36m__next__\u001b[0;34m(self)\u001b[0m\n\u001b[1;32m    538\u001b[0m \u001b[0;34m\u001b[0m\u001b[0m\n\u001b[1;32m    539\u001b[0m     \u001b[0;32mdef\u001b[0m \u001b[0m__next__\u001b[0m\u001b[0;34m(\u001b[0m\u001b[0mself\u001b[0m\u001b[0;34m)\u001b[0m\u001b[0;34m:\u001b[0m\u001b[0;34m\u001b[0m\u001b[0;34m\u001b[0m\u001b[0m\n\u001b[0;32m--> 540\u001b[0;31m         \u001b[0;32mreturn\u001b[0m \u001b[0mself\u001b[0m\u001b[0;34m.\u001b[0m\u001b[0m_next\u001b[0m\u001b[0;34m(\u001b[0m\u001b[0;34m)\u001b[0m\u001b[0;34m\u001b[0m\u001b[0;34m\u001b[0m\u001b[0m\n\u001b[0m\u001b[1;32m    541\u001b[0m \u001b[0;34m\u001b[0m\u001b[0m\n\u001b[1;32m    542\u001b[0m     \u001b[0;32mdef\u001b[0m \u001b[0m_next\u001b[0m\u001b[0;34m(\u001b[0m\u001b[0mself\u001b[0m\u001b[0;34m)\u001b[0m\u001b[0;34m:\u001b[0m\u001b[0;34m\u001b[0m\u001b[0;34m\u001b[0m\u001b[0m\n",
      "\u001b[0;32m~/.local/lib/python3.8/site-packages/grpc/_channel.py\u001b[0m in \u001b[0;36m_next\u001b[0;34m(self)\u001b[0m\n\u001b[1;32m    955\u001b[0m                 )\n\u001b[1;32m    956\u001b[0m \u001b[0;34m\u001b[0m\u001b[0m\n\u001b[0;32m--> 957\u001b[0;31m             \u001b[0m_common\u001b[0m\u001b[0;34m.\u001b[0m\u001b[0mwait\u001b[0m\u001b[0;34m(\u001b[0m\u001b[0mself\u001b[0m\u001b[0;34m.\u001b[0m\u001b[0m_state\u001b[0m\u001b[0;34m.\u001b[0m\u001b[0mcondition\u001b[0m\u001b[0;34m.\u001b[0m\u001b[0mwait\u001b[0m\u001b[0;34m,\u001b[0m \u001b[0m_response_ready\u001b[0m\u001b[0;34m)\u001b[0m\u001b[0;34m\u001b[0m\u001b[0;34m\u001b[0m\u001b[0m\n\u001b[0m\u001b[1;32m    958\u001b[0m             \u001b[0;32mif\u001b[0m \u001b[0mself\u001b[0m\u001b[0;34m.\u001b[0m\u001b[0m_state\u001b[0m\u001b[0;34m.\u001b[0m\u001b[0mresponse\u001b[0m \u001b[0;32mis\u001b[0m \u001b[0;32mnot\u001b[0m \u001b[0;32mNone\u001b[0m\u001b[0;34m:\u001b[0m\u001b[0;34m\u001b[0m\u001b[0;34m\u001b[0m\u001b[0m\n\u001b[1;32m    959\u001b[0m                 \u001b[0mresponse\u001b[0m \u001b[0;34m=\u001b[0m \u001b[0mself\u001b[0m\u001b[0;34m.\u001b[0m\u001b[0m_state\u001b[0m\u001b[0;34m.\u001b[0m\u001b[0mresponse\u001b[0m\u001b[0;34m\u001b[0m\u001b[0;34m\u001b[0m\u001b[0m\n",
      "\u001b[0;32m~/.local/lib/python3.8/site-packages/grpc/_common.py\u001b[0m in \u001b[0;36mwait\u001b[0;34m(wait_fn, wait_complete_fn, timeout, spin_cb)\u001b[0m\n\u001b[1;32m    154\u001b[0m     \u001b[0;32mif\u001b[0m \u001b[0mtimeout\u001b[0m \u001b[0;32mis\u001b[0m \u001b[0;32mNone\u001b[0m\u001b[0;34m:\u001b[0m\u001b[0;34m\u001b[0m\u001b[0;34m\u001b[0m\u001b[0m\n\u001b[1;32m    155\u001b[0m         \u001b[0;32mwhile\u001b[0m \u001b[0;32mnot\u001b[0m \u001b[0mwait_complete_fn\u001b[0m\u001b[0;34m(\u001b[0m\u001b[0;34m)\u001b[0m\u001b[0;34m:\u001b[0m\u001b[0;34m\u001b[0m\u001b[0;34m\u001b[0m\u001b[0m\n\u001b[0;32m--> 156\u001b[0;31m             \u001b[0m_wait_once\u001b[0m\u001b[0;34m(\u001b[0m\u001b[0mwait_fn\u001b[0m\u001b[0;34m,\u001b[0m \u001b[0mMAXIMUM_WAIT_TIMEOUT\u001b[0m\u001b[0;34m,\u001b[0m \u001b[0mspin_cb\u001b[0m\u001b[0;34m)\u001b[0m\u001b[0;34m\u001b[0m\u001b[0;34m\u001b[0m\u001b[0m\n\u001b[0m\u001b[1;32m    157\u001b[0m     \u001b[0;32melse\u001b[0m\u001b[0;34m:\u001b[0m\u001b[0;34m\u001b[0m\u001b[0;34m\u001b[0m\u001b[0m\n\u001b[1;32m    158\u001b[0m         \u001b[0mend\u001b[0m \u001b[0;34m=\u001b[0m \u001b[0mtime\u001b[0m\u001b[0;34m.\u001b[0m\u001b[0mtime\u001b[0m\u001b[0;34m(\u001b[0m\u001b[0;34m)\u001b[0m \u001b[0;34m+\u001b[0m \u001b[0mtimeout\u001b[0m\u001b[0;34m\u001b[0m\u001b[0;34m\u001b[0m\u001b[0m\n",
      "\u001b[0;32m~/.local/lib/python3.8/site-packages/grpc/_common.py\u001b[0m in \u001b[0;36m_wait_once\u001b[0;34m(wait_fn, timeout, spin_cb)\u001b[0m\n\u001b[1;32m    114\u001b[0m     \u001b[0mspin_cb\u001b[0m\u001b[0;34m:\u001b[0m \u001b[0mOptional\u001b[0m\u001b[0;34m[\u001b[0m\u001b[0mCallable\u001b[0m\u001b[0;34m[\u001b[0m\u001b[0;34m[\u001b[0m\u001b[0;34m]\u001b[0m\u001b[0;34m,\u001b[0m \u001b[0;32mNone\u001b[0m\u001b[0;34m]\u001b[0m\u001b[0;34m]\u001b[0m\u001b[0;34m,\u001b[0m\u001b[0;34m\u001b[0m\u001b[0;34m\u001b[0m\u001b[0m\n\u001b[1;32m    115\u001b[0m ):\n\u001b[0;32m--> 116\u001b[0;31m     \u001b[0mwait_fn\u001b[0m\u001b[0;34m(\u001b[0m\u001b[0mtimeout\u001b[0m\u001b[0;34m=\u001b[0m\u001b[0mtimeout\u001b[0m\u001b[0;34m)\u001b[0m\u001b[0;34m\u001b[0m\u001b[0;34m\u001b[0m\u001b[0m\n\u001b[0m\u001b[1;32m    117\u001b[0m     \u001b[0;32mif\u001b[0m \u001b[0mspin_cb\u001b[0m \u001b[0;32mis\u001b[0m \u001b[0;32mnot\u001b[0m \u001b[0;32mNone\u001b[0m\u001b[0;34m:\u001b[0m\u001b[0;34m\u001b[0m\u001b[0;34m\u001b[0m\u001b[0m\n\u001b[1;32m    118\u001b[0m         \u001b[0mspin_cb\u001b[0m\u001b[0;34m(\u001b[0m\u001b[0;34m)\u001b[0m\u001b[0;34m\u001b[0m\u001b[0;34m\u001b[0m\u001b[0m\n",
      "\u001b[0;32m/usr/lib/python3.8/threading.py\u001b[0m in \u001b[0;36mwait\u001b[0;34m(self, timeout)\u001b[0m\n\u001b[1;32m    304\u001b[0m             \u001b[0;32melse\u001b[0m\u001b[0;34m:\u001b[0m\u001b[0;34m\u001b[0m\u001b[0;34m\u001b[0m\u001b[0m\n\u001b[1;32m    305\u001b[0m                 \u001b[0;32mif\u001b[0m \u001b[0mtimeout\u001b[0m \u001b[0;34m>\u001b[0m \u001b[0;36m0\u001b[0m\u001b[0;34m:\u001b[0m\u001b[0;34m\u001b[0m\u001b[0;34m\u001b[0m\u001b[0m\n\u001b[0;32m--> 306\u001b[0;31m                     \u001b[0mgotit\u001b[0m \u001b[0;34m=\u001b[0m \u001b[0mwaiter\u001b[0m\u001b[0;34m.\u001b[0m\u001b[0macquire\u001b[0m\u001b[0;34m(\u001b[0m\u001b[0;32mTrue\u001b[0m\u001b[0;34m,\u001b[0m \u001b[0mtimeout\u001b[0m\u001b[0;34m)\u001b[0m\u001b[0;34m\u001b[0m\u001b[0;34m\u001b[0m\u001b[0m\n\u001b[0m\u001b[1;32m    307\u001b[0m                 \u001b[0;32melse\u001b[0m\u001b[0;34m:\u001b[0m\u001b[0;34m\u001b[0m\u001b[0;34m\u001b[0m\u001b[0m\n\u001b[1;32m    308\u001b[0m                     \u001b[0mgotit\u001b[0m \u001b[0;34m=\u001b[0m \u001b[0mwaiter\u001b[0m\u001b[0;34m.\u001b[0m\u001b[0macquire\u001b[0m\u001b[0;34m(\u001b[0m\u001b[0;32mFalse\u001b[0m\u001b[0;34m)\u001b[0m\u001b[0;34m\u001b[0m\u001b[0;34m\u001b[0m\u001b[0m\n",
      "\u001b[0;31mKeyboardInterrupt\u001b[0m: "
     ]
    }
   ],
   "source": [
    "%run CLIENT2/KD_0/client2.py"
   ]
  },
  {
   "cell_type": "code",
   "execution_count": null,
   "id": "19868759",
   "metadata": {},
   "outputs": [],
   "source": [
    "%run CLIENT2/KD_1/client2.py"
   ]
  },
  {
   "cell_type": "markdown",
   "id": "4788a6b0",
   "metadata": {},
   "source": [
    "## SKD (Client2)"
   ]
  },
  {
   "cell_type": "code",
   "execution_count": null,
   "id": "051fd2c5",
   "metadata": {},
   "outputs": [],
   "source": [
    "%run CLIENT2/SKD/client2.py"
   ]
  },
  {
   "cell_type": "markdown",
   "id": "38111bf7",
   "metadata": {},
   "source": [
    "## Analyse baseline (Client2)"
   ]
  },
  {
   "cell_type": "code",
   "execution_count": null,
   "id": "964d7895",
   "metadata": {},
   "outputs": [],
   "source": [
    "%run CLIENT2/baseline_layers/client2.py"
   ]
  },
  {
   "cell_type": "markdown",
   "id": "f73b4803",
   "metadata": {},
   "source": [
    "## LowSimilarity (Client2)"
   ]
  },
  {
   "cell_type": "code",
   "execution_count": null,
   "id": "17e8ada9",
   "metadata": {},
   "outputs": [],
   "source": [
    "%run CLIENT2/lowsimilarity/client2.py"
   ]
  },
  {
   "cell_type": "markdown",
   "id": "72dccf63",
   "metadata": {},
   "source": [
    "## Ensemble (Client2)"
   ]
  },
  {
   "cell_type": "code",
   "execution_count": null,
   "id": "cd15a963",
   "metadata": {},
   "outputs": [],
   "source": [
    "%run CLIENT2/ensemble/client2.py"
   ]
  },
  {
   "cell_type": "markdown",
   "id": "d321a5ea",
   "metadata": {},
   "source": [
    "## Ensemble dataset (Client2)"
   ]
  },
  {
   "cell_type": "code",
   "execution_count": null,
   "id": "3f1837a4",
   "metadata": {},
   "outputs": [],
   "source": [
    "%run CLIENT2/ensemble_dataset/client2.py"
   ]
  },
  {
   "cell_type": "markdown",
   "id": "9bae6d05",
   "metadata": {},
   "source": [
    "## t-SNE (Client2)"
   ]
  },
  {
   "cell_type": "code",
   "execution_count": null,
   "id": "a63ca4bd",
   "metadata": {},
   "outputs": [],
   "source": [
    "%run CLIENT2/baseline/test_tSNE.py"
   ]
  },
  {
   "cell_type": "code",
   "execution_count": null,
   "id": "27e5516d",
   "metadata": {},
   "outputs": [],
   "source": [
    "import os\n",
    "import torch\n",
    "from torch.utils.data import DataLoader\n",
    "from glob import glob\n",
    "import cv2\n",
    "import numpy as np\n",
    "\n",
    "class Dataset(torch.utils.data.Dataset):\n",
    "    def __init__(self, img_ids, img_dir, img_ext):\n",
    "        self.img_ids = img_ids\n",
    "        self.img_dir = img_dir\n",
    "        self.img_ext = img_ext\n",
    "\n",
    "    def __len__(self):\n",
    "        return len(self.img_ids)\n",
    "\n",
    "    def __getitem__(self, idx):\n",
    "        img_id = self.img_ids[idx]                                                                                                 \n",
    "        img = cv2.imdecode(np.fromfile(os.path.join(self.img_dir, img_id + '.jpg'), dtype=np.uint8), cv2.IMREAD_COLOR)\n",
    "        \n",
    "               \n",
    "        img = img.astype('float32') #/ 255\n",
    "        img = img.transpose(2, 0, 1)\n",
    "\n",
    "        #mask = mask.transpose(2, 0, 1)\n",
    "\n",
    "        return torch.from_numpy(img).to(torch.float32)\n",
    "\n",
    "def getStat(train_data):\n",
    "    '''\n",
    "    Compute mean and variance for training data\n",
    "    :param train_data: Self dataset / folder\n",
    "    :return: (mean, std)\n",
    "    '''\n",
    "    print('Compute mean and variance for training data.')\n",
    "    print(len(train_data))\n",
    "    train_loader = torch.utils.data.DataLoader(\n",
    "        train_data, batch_size=1, shuffle=False, num_workers=0,\n",
    "        pin_memory=True)\n",
    "    mean = torch.zeros(3)\n",
    "    std = torch.zeros(3)\n",
    "    for X  in train_loader:  #torch.Size([1, 3, 1038, 1388]) [1, 574, 765, 3]\n",
    "        X = (X.detach().numpy())/255\n",
    "        for d in range(3):\n",
    "            mean[d] += X[:, d, :, :].mean()\n",
    "            std[d] += X[:, d, :, :].std()\n",
    "    mean.div_(len(train_data))\n",
    "    std.div_(len(train_data))\n",
    "    return list(mean.numpy()), list(std.numpy())\n",
    " \n",
    "if __name__ == '__main__':\n",
    "    img_ids = glob(os.path.join(\"isic2019_all\", '*' + '.jpg'))\n",
    "    img_ids = [os.path.splitext(os.path.basename(p))[0] for p in img_ids]\n",
    "\n",
    "    sum_dataset = Dataset(\n",
    "        img_ids=img_ids,\n",
    "        img_dir=os.path.join(\"isic2019_all\"),\n",
    "        img_ext='.jpg')\n",
    "\n",
    "    print(getStat(sum_dataset))"
   ]
  },
  {
   "cell_type": "code",
   "execution_count": null,
   "id": "4fe7ac6c",
   "metadata": {},
   "outputs": [],
   "source": [
    "if \"fc\" in \"model.fc.bias\":\n",
    "    print(\"1\")\n",
    "else:\n",
    "    print(\"2\")"
   ]
  },
  {
   "cell_type": "code",
   "execution_count": null,
   "id": "b9b883b0",
   "metadata": {},
   "outputs": [],
   "source": []
  }
 ],
 "metadata": {
  "kernelspec": {
   "display_name": "Python 3 (ipykernel)",
   "language": "python",
   "name": "python3"
  },
  "language_info": {
   "codemirror_mode": {
    "name": "ipython",
    "version": 3
   },
   "file_extension": ".py",
   "mimetype": "text/x-python",
   "name": "python",
   "nbconvert_exporter": "python",
   "pygments_lexer": "ipython3",
   "version": "3.8.10"
  }
 },
 "nbformat": 4,
 "nbformat_minor": 5
}
